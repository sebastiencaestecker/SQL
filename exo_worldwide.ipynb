{
    "metadata": {
        "kernelspec": {
            "name": "SQL",
            "display_name": "SQL",
            "language": "sql"
        },
        "language_info": {
            "name": "sql",
            "version": ""
        }
    },
    "nbformat_minor": 2,
    "nbformat": 4,
    "cells": [
        {
            "cell_type": "markdown",
            "source": [
                "### Part 1: DDL (Data Definition Language) 💾\n",
                "\n",
                "Create a new table named SalesAnalysis with the following columns:\n",
                "\n",
                "- ID as an auto-incrementing primary key\n",
                "- Country (varchar, size 50)\n",
                "- Region (varchar, size 50)\n",
                "- City (varchar, size 50)\n",
                "- SalesAmount (decimal)\n",
                "- OrderDate (date)\n",
                "\n",
                "Constraints ⚠️\n",
                "\n",
                "- The SalesAmount column must be greater than or equal to -1000 ensuring that negative sales amounts are not allowed.\n",
                "- The OrderDate column must be between '2000-01-01' and '2099-12-31', restricting the allowed date range for orders. You can adjust these dates according to your specific requirements."
            ],
            "metadata": {
                "azdata_cell_guid": "84c90391-ede9-4fb9-98e7-e04650c08732"
            },
            "attachments": {}
        },
        {
            "cell_type": "code",
            "source": [
                "CREATE TABLE SalesAnalysis1(\r\n",
                "     ID INT IDENTITY(1,1) PRIMARY KEY,\r\n",
                "     Country NVARCHAR(50),\r\n",
                "     Region NVARCHAR(50),\r\n",
                "     City NVARCHAR(50),\r\n",
                "     SalesAmount DECIMAL(18,2) CHECK (SalesAmount >= -1000),\r\n",
                "     OrderDate DATE CHECK (OrderDate >= '2000-01-01' AND OrderDate <= '2099-12-31')\r\n",
                "\r\n",
                ")"
            ],
            "metadata": {
                "azdata_cell_guid": "27ac5de3-5a07-485a-bac8-153119f90e8c",
                "language": "sql"
            },
            "outputs": [
                {
                    "output_type": "error",
                    "ename": "",
                    "evalue": "Msg 2714, Level 16, State 6, Line 1\r\nThere is already an object named 'SalesAnalysis1' in the database.",
                    "traceback": []
                },
                {
                    "output_type": "display_data",
                    "data": {
                        "text/html": "Total execution time: 00:00:00.020"
                    },
                    "metadata": {}
                }
            ],
            "execution_count": 14
        },
        {
            "cell_type": "markdown",
            "source": [
                "<span style=\"color: rgb(31, 33, 35); font-family: Inter, ui-sans-serif, system-ui, sans-serif, &quot;Apple Color Emoji&quot;, &quot;Segoe UI Emoji&quot;, &quot;Segoe UI Symbol&quot;, &quot;Noto Color Emoji&quot;; font-size: 16px; background-color: rgb(251, 253, 255);\">Insert data into the SalesAnalysis table by extracting relevant information from existing tables (Invoices, Customers, Cities, StateProvinces, and Countries). This can be done using the INSERT INTO...SELECT query.</span>\n",
                "\n",
                "<span style=\"color: var(--tw-prose-bold); box-sizing: border-box; border: 0px solid rgb(237, 242, 246); --tw-border-spacing-x: 0; --tw-border-spacing-y: 0; --tw-translate-x: 0; --tw-translate-y: 0; --tw-rotate: 0; --tw-skew-x: 0; --tw-skew-y: 0; --tw-scale-x: 1; --tw-scale-y: 1; --tw-pan-x: ; --tw-pan-y: ; --tw-pinch-zoom: ; --tw-scroll-snap-strictness: proximity; --tw-gradient-from-position: ; --tw-gradient-via-position: ; --tw-gradient-to-position: ; --tw-ordinal: ; --tw-slashed-zero: ; --tw-numeric-figure: ; --tw-numeric-spacing: ; --tw-numeric-fraction: ; --tw-ring-inset: ; --tw-ring-offset-width: 0px; --tw-ring-offset-color: #fff; --tw-ring-color: rgba(75,154,199,.5); --tw-ring-offset-shadow: 0 0 #0000; --tw-ring-shadow: 0 0 #0000; --tw-shadow: 0 0 #0000; --tw-shadow-colored: 0 0 #0000; --tw-blur: ; --tw-brightness: ; --tw-contrast: ; --tw-grayscale: ; --tw-hue-rotate: ; --tw-invert: ; --tw-saturate: ; --tw-sepia: ; --tw-drop-shadow: ; --tw-backdrop-blur: ; --tw-backdrop-brightness: ; --tw-backdrop-contrast: ; --tw-backdrop-grayscale: ; --tw-backdrop-hue-rotate: ; --tw-backdrop-invert: ; --tw-backdrop-opacity: ; --tw-backdrop-saturate: ; --tw-backdrop-sepia: ; --tw-contain-size: ; --tw-contain-layout: ; --tw-contain-paint: ; --tw-contain-style: ; font-weight: 600; font-family: Inter, ui-sans-serif, system-ui, sans-serif, &quot;Apple Color Emoji&quot;, &quot;Segoe UI Emoji&quot;, &quot;Segoe UI Symbol&quot;, &quot;Noto Color Emoji&quot;; font-size: 16px; background-color: rgb(251, 253, 255);\">Help 💡</span> _Sales.Invoices i JOIN Sales.Customers c ON i.CustomerID = c.CustomerID JOIN Application.Cities ci ON c.DeliveryCityID = ci.CityID JOIN Application.StateProvinces sp ON ci.StateProvinceID = sp.StateProvinceID JOIN Application.Countries co ON sp.CountryID = co.CountryID JOIN Sales.Orders o ON i.OrderID = o.OrderID JOIN Sales.InvoiceLines il ON i.InvoiceID = il.InvoiceID_"
            ],
            "metadata": {
                "language": "sql",
                "azdata_cell_guid": "676fd179-047f-42f9-a966-ccb6add7050e"
            },
            "attachments": {}
        },
        {
            "cell_type": "code",
            "source": [
                "INSERT INTO SalesAnalysis1 (Country,Region,City,SalesAmount,OrderDate)\r\n",
                "    SELECT\r\n",
                "        co.CountryName AS Country,\r\n",
                "        asp.StateProvinceName AS Region,\r\n",
                "        ci.CityName AS City,\r\n",
                "        SUM(si.LineProfit) AS SalesAmount,\r\n",
                "        o.OrderDate\r\n",
                "    FROM Sales.Customers  as c\r\n",
                "    JOIN Sales.Invoices i On i.CustomerID=c.CustomerID\r\n",
                "    JOIN Application.Cities ci ON c.CustomerID=ci.CityID\r\n",
                "    JOIN Application.StateProvinces asp ON ci.StateProvinceID= asp.StateProvinceID\r\n",
                "    JOIN Application.Countries co ON asp.CountryID=co.CountryID\r\n",
                "    JOIN Sales.Orders o ON i.OrderID = o.OrderID\r\n",
                "    JOIN Sales.InvoiceLines si ON i.InvoiceID = si.InvoiceID\r\n",
                "    GROUP BY co.CountryName, asp.StateProvinceName, ci.CityName, o.OrderDate;\r\n",
                ""
            ],
            "metadata": {
                "language": "sql",
                "azdata_cell_guid": "b8c61ea8-cbcc-4d89-836b-c35499a0d965"
            },
            "outputs": [
                {
                    "output_type": "display_data",
                    "data": {
                        "text/html": "(62322 rows affected)"
                    },
                    "metadata": {}
                },
                {
                    "output_type": "display_data",
                    "data": {
                        "text/html": "Total execution time: 00:00:15.017"
                    },
                    "metadata": {}
                }
            ],
            "execution_count": 15
        },
        {
            "cell_type": "markdown",
            "source": [
                "3.1 Calculate the total sales amount, number of orders, and average order value per customer category.\n",
                "\n",
                "<span style=\"box-sizing: border-box; border: 0px solid rgb(237, 242, 246); --tw-border-spacing-x: 0; --tw-border-spacing-y: 0; --tw-translate-x: 0; --tw-translate-y: 0; --tw-rotate: 0; --tw-skew-x: 0; --tw-skew-y: 0; --tw-scale-x: 1; --tw-scale-y: 1; --tw-pan-x: ; --tw-pan-y: ; --tw-pinch-zoom: ; --tw-scroll-snap-strictness: proximity; --tw-gradient-from-position: ; --tw-gradient-via-position: ; --tw-gradient-to-position: ; --tw-ordinal: ; --tw-slashed-zero: ; --tw-numeric-figure: ; --tw-numeric-spacing: ; --tw-numeric-fraction: ; --tw-ring-inset: ; --tw-ring-offset-width: 0px; --tw-ring-offset-color: #fff; --tw-ring-color: rgba(75,154,199,.5); --tw-ring-offset-shadow: 0 0 #0000; --tw-ring-shadow: 0 0 #0000; --tw-shadow: 0 0 #0000; --tw-shadow-colored: 0 0 #0000; --tw-blur: ; --tw-brightness: ; --tw-contrast: ; --tw-grayscale: ; --tw-hue-rotate: ; --tw-invert: ; --tw-saturate: ; --tw-sepia: ; --tw-drop-shadow: ; --tw-backdrop-blur: ; --tw-backdrop-brightness: ; --tw-backdrop-contrast: ; --tw-backdrop-grayscale: ; --tw-backdrop-hue-rotate: ; --tw-backdrop-invert: ; --tw-backdrop-opacity: ; --tw-backdrop-saturate: ; --tw-backdrop-sepia: ; --tw-contain-size: ; --tw-contain-layout: ; --tw-contain-paint: ; --tw-contain-style: ; font-weight: 600; color: var(--tw-prose-bold);\">Help 💡</span> _FROM Sales.CustomerCategories cc JOIN Sales.Customers c ON cc.CustomerCategoryID = c.CustomerCategoryID JOIN Sales.Orders o ON c.CustomerID = o.CustomerID JOIN Sales.OrderLines ol ON o.OrderID = ol.OrderID_"
            ],
            "metadata": {
                "language": "sql",
                "azdata_cell_guid": "5323b4d3-70e6-4d2d-9188-57dbeb91c759"
            },
            "attachments": {}
        },
        {
            "cell_type": "code",
            "source": [
                "SELECT \r\n",
                "    cc.CustomerCategoryID,\r\n",
                "    cc.CustomerCategoryName,\r\n",
                "    COUNT(DISTINCT o.OrderID) as NbOrders,\r\n",
                "    AVG(si.LineProfit) as AvgSalesByCategorie,\r\n",
                "    SUM(si.LineProfit) AS TotalSalesAmount\r\n",
                "\r\n",
                "FROM Sales.CustomerCategories cc\r\n",
                "  JOIN Sales.Customers c ON cc.CustomerCategoryID = c.CustomerCategoryID\r\n",
                "  JOIN Sales.Orders o ON c.CustomerID = o.CustomerID\r\n",
                "  JOIN Sales.OrderLines ol ON o.OrderID = ol.OrderID\r\n",
                "  JOIN Sales.Invoices i On i.CustomerID=c.CustomerID\r\n",
                "  JOIN Sales.InvoiceLines si ON i.InvoiceID = si.InvoiceID\r\n",
                "Group BY cc.CustomerCategoryID,\r\n",
                "    cc.CustomerCategoryName"
            ],
            "metadata": {
                "language": "sql",
                "azdata_cell_guid": "78f28294-2288-43b9-82f2-3adda3b191a8"
            },
            "outputs": [
                {
                    "output_type": "display_data",
                    "data": {
                        "text/html": "(5 rows affected)"
                    },
                    "metadata": {}
                },
                {
                    "output_type": "display_data",
                    "data": {
                        "text/html": "Total execution time: 00:08:43.618"
                    },
                    "metadata": {}
                },
                {
                    "output_type": "execute_result",
                    "metadata": {},
                    "execution_count": 7,
                    "data": {
                        "application/vnd.dataresource+json": {
                            "schema": {
                                "fields": [
                                    {
                                        "name": "CustomerCategoryID"
                                    },
                                    {
                                        "name": "CustomerCategoryName"
                                    },
                                    {
                                        "name": "NbOrders"
                                    },
                                    {
                                        "name": "AvgSalesByCategorie"
                                    },
                                    {
                                        "name": "TotalSalesAmount"
                                    }
                                ]
                            },
                            "data": [
                                {
                                    "CustomerCategoryID": "3",
                                    "CustomerCategoryName": "Novelty Shop",
                                    "NbOrders": "52547",
                                    "AvgSalesByCategorie": "375.745130",
                                    "TotalSalesAmount": "22337382918.95"
                                },
                                {
                                    "CustomerCategoryID": "6",
                                    "CustomerCategoryName": "Gift Store",
                                    "NbOrders": "5089",
                                    "AvgSalesByCategorie": "376.711249",
                                    "TotalSalesAmount": "2088949390.95"
                                },
                                {
                                    "CustomerCategoryID": "7",
                                    "CustomerCategoryName": "Corporate",
                                    "NbOrders": "4896",
                                    "AvgSalesByCategorie": "375.881899",
                                    "TotalSalesAmount": "2035810948.60"
                                },
                                {
                                    "CustomerCategoryID": "4",
                                    "CustomerCategoryName": "Supermarket",
                                    "NbOrders": "6022",
                                    "AvgSalesByCategorie": "379.986579",
                                    "TotalSalesAmount": "2505920293.55"
                                },
                                {
                                    "CustomerCategoryID": "5",
                                    "CustomerCategoryName": "Computer Store",
                                    "NbOrders": "5041",
                                    "AvgSalesByCategorie": "369.712080",
                                    "TotalSalesAmount": "2006443360.45"
                                }
                            ]
                        },
                        "text/html": [
                            "<table>",
                            "<tr><th>CustomerCategoryID</th><th>CustomerCategoryName</th><th>NbOrders</th><th>AvgSalesByCategorie</th><th>TotalSalesAmount</th></tr>",
                            "<tr><td>3</td><td>Novelty Shop</td><td>52547</td><td>375.745130</td><td>22337382918.95</td></tr>",
                            "<tr><td>6</td><td>Gift Store</td><td>5089</td><td>376.711249</td><td>2088949390.95</td></tr>",
                            "<tr><td>7</td><td>Corporate</td><td>4896</td><td>375.881899</td><td>2035810948.60</td></tr>",
                            "<tr><td>4</td><td>Supermarket</td><td>6022</td><td>379.986579</td><td>2505920293.55</td></tr>",
                            "<tr><td>5</td><td>Computer Store</td><td>5041</td><td>369.712080</td><td>2006443360.45</td></tr>",
                            "</table>"
                        ]
                    }
                }
            ],
            "execution_count": 7
        },
        {
            "cell_type": "code",
            "source": [
                "SELECT * FROM Sales.CustomerCategories"
            ],
            "metadata": {
                "language": "sql",
                "azdata_cell_guid": "2bd7e3ff-ea27-4353-b286-b4f231c41593"
            },
            "outputs": [
                {
                    "output_type": "display_data",
                    "data": {
                        "text/html": "(8 rows affected)"
                    },
                    "metadata": {}
                },
                {
                    "output_type": "display_data",
                    "data": {
                        "text/html": "Total execution time: 00:00:00.020"
                    },
                    "metadata": {}
                },
                {
                    "output_type": "execute_result",
                    "metadata": {},
                    "execution_count": 5,
                    "data": {
                        "application/vnd.dataresource+json": {
                            "schema": {
                                "fields": [
                                    {
                                        "name": "CustomerCategoryID"
                                    },
                                    {
                                        "name": "CustomerCategoryName"
                                    },
                                    {
                                        "name": "LastEditedBy"
                                    },
                                    {
                                        "name": "ValidFrom"
                                    },
                                    {
                                        "name": "ValidTo"
                                    }
                                ]
                            },
                            "data": [
                                {
                                    "CustomerCategoryID": "1",
                                    "CustomerCategoryName": "Agent",
                                    "LastEditedBy": "1",
                                    "ValidFrom": "2013-01-01 00:00:00.0000000",
                                    "ValidTo": "9999-12-31 23:59:59.9999999"
                                },
                                {
                                    "CustomerCategoryID": "2",
                                    "CustomerCategoryName": "Wholesaler",
                                    "LastEditedBy": "1",
                                    "ValidFrom": "2013-01-01 00:00:00.0000000",
                                    "ValidTo": "9999-12-31 23:59:59.9999999"
                                },
                                {
                                    "CustomerCategoryID": "3",
                                    "CustomerCategoryName": "Novelty Shop",
                                    "LastEditedBy": "1",
                                    "ValidFrom": "2013-01-01 00:00:00.0000000",
                                    "ValidTo": "9999-12-31 23:59:59.9999999"
                                },
                                {
                                    "CustomerCategoryID": "4",
                                    "CustomerCategoryName": "Supermarket",
                                    "LastEditedBy": "1",
                                    "ValidFrom": "2013-01-01 00:00:00.0000000",
                                    "ValidTo": "9999-12-31 23:59:59.9999999"
                                },
                                {
                                    "CustomerCategoryID": "5",
                                    "CustomerCategoryName": "Computer Store",
                                    "LastEditedBy": "1",
                                    "ValidFrom": "2013-01-01 00:00:00.0000000",
                                    "ValidTo": "9999-12-31 23:59:59.9999999"
                                },
                                {
                                    "CustomerCategoryID": "6",
                                    "CustomerCategoryName": "Gift Store",
                                    "LastEditedBy": "1",
                                    "ValidFrom": "2013-01-01 00:00:00.0000000",
                                    "ValidTo": "9999-12-31 23:59:59.9999999"
                                },
                                {
                                    "CustomerCategoryID": "7",
                                    "CustomerCategoryName": "Corporate",
                                    "LastEditedBy": "1",
                                    "ValidFrom": "2013-01-01 00:00:00.0000000",
                                    "ValidTo": "9999-12-31 23:59:59.9999999"
                                },
                                {
                                    "CustomerCategoryID": "8",
                                    "CustomerCategoryName": "General Retailer",
                                    "LastEditedBy": "9",
                                    "ValidFrom": "2014-01-01 16:15:00.0000000",
                                    "ValidTo": "9999-12-31 23:59:59.9999999"
                                }
                            ]
                        },
                        "text/html": [
                            "<table>",
                            "<tr><th>CustomerCategoryID</th><th>CustomerCategoryName</th><th>LastEditedBy</th><th>ValidFrom</th><th>ValidTo</th></tr>",
                            "<tr><td>1</td><td>Agent</td><td>1</td><td>2013-01-01 00:00:00.0000000</td><td>9999-12-31 23:59:59.9999999</td></tr>",
                            "<tr><td>2</td><td>Wholesaler</td><td>1</td><td>2013-01-01 00:00:00.0000000</td><td>9999-12-31 23:59:59.9999999</td></tr>",
                            "<tr><td>3</td><td>Novelty Shop</td><td>1</td><td>2013-01-01 00:00:00.0000000</td><td>9999-12-31 23:59:59.9999999</td></tr>",
                            "<tr><td>4</td><td>Supermarket</td><td>1</td><td>2013-01-01 00:00:00.0000000</td><td>9999-12-31 23:59:59.9999999</td></tr>",
                            "<tr><td>5</td><td>Computer Store</td><td>1</td><td>2013-01-01 00:00:00.0000000</td><td>9999-12-31 23:59:59.9999999</td></tr>",
                            "<tr><td>6</td><td>Gift Store</td><td>1</td><td>2013-01-01 00:00:00.0000000</td><td>9999-12-31 23:59:59.9999999</td></tr>",
                            "<tr><td>7</td><td>Corporate</td><td>1</td><td>2013-01-01 00:00:00.0000000</td><td>9999-12-31 23:59:59.9999999</td></tr>",
                            "<tr><td>8</td><td>General Retailer</td><td>9</td><td>2014-01-01 16:15:00.0000000</td><td>9999-12-31 23:59:59.9999999</td></tr>",
                            "</table>"
                        ]
                    }
                }
            ],
            "execution_count": 5
        },
        {
            "cell_type": "code",
            "source": [
                "SELECT \r\n",
                "    CustomerCategoryID\r\n",
                "   \r\n",
                "\r\n",
                "FROM Sales.Customers\r\n",
                "  \r\n",
                ""
            ],
            "metadata": {
                "language": "sql",
                "azdata_cell_guid": "973de83c-3f77-476a-baed-eb99f2803d04"
            },
            "outputs": [
                {
                    "output_type": "display_data",
                    "data": {
                        "text/html": "(663 rows affected)"
                    },
                    "metadata": {}
                },
                {
                    "output_type": "display_data",
                    "data": {
                        "text/html": "Total execution time: 00:00:00.017"
                    },
                    "metadata": {}
                },
                {
                    "output_type": "execute_result",
                    "metadata": {},
                    "execution_count": 44,
                    "data": {
                        "application/vnd.dataresource+json": {
                            "schema": {
                                "fields": [
                                    {
                                        "name": "CustomerCategoryID"
                                    }
                                ]
                            },
                            "data": [
                                {
                                    "CustomerCategoryID": "3"
                                },
                                {
                                    "CustomerCategoryID": "3"
                                },
                                {
                                    "CustomerCategoryID": "3"
                                },
                                {
                                    "CustomerCategoryID": "3"
                                },
                                {
                                    "CustomerCategoryID": "3"
                                },
                                {
                                    "CustomerCategoryID": "3"
                                },
                                {
                                    "CustomerCategoryID": "3"
                                },
                                {
                                    "CustomerCategoryID": "3"
                                },
                                {
                                    "CustomerCategoryID": "3"
                                },
                                {
                                    "CustomerCategoryID": "3"
                                },
                                {
                                    "CustomerCategoryID": "3"
                                },
                                {
                                    "CustomerCategoryID": "3"
                                },
                                {
                                    "CustomerCategoryID": "3"
                                },
                                {
                                    "CustomerCategoryID": "3"
                                },
                                {
                                    "CustomerCategoryID": "3"
                                },
                                {
                                    "CustomerCategoryID": "3"
                                },
                                {
                                    "CustomerCategoryID": "3"
                                },
                                {
                                    "CustomerCategoryID": "3"
                                },
                                {
                                    "CustomerCategoryID": "3"
                                },
                                {
                                    "CustomerCategoryID": "3"
                                },
                                {
                                    "CustomerCategoryID": "3"
                                },
                                {
                                    "CustomerCategoryID": "3"
                                },
                                {
                                    "CustomerCategoryID": "3"
                                },
                                {
                                    "CustomerCategoryID": "3"
                                },
                                {
                                    "CustomerCategoryID": "3"
                                },
                                {
                                    "CustomerCategoryID": "3"
                                },
                                {
                                    "CustomerCategoryID": "3"
                                },
                                {
                                    "CustomerCategoryID": "3"
                                },
                                {
                                    "CustomerCategoryID": "3"
                                },
                                {
                                    "CustomerCategoryID": "3"
                                },
                                {
                                    "CustomerCategoryID": "3"
                                },
                                {
                                    "CustomerCategoryID": "3"
                                },
                                {
                                    "CustomerCategoryID": "3"
                                },
                                {
                                    "CustomerCategoryID": "3"
                                },
                                {
                                    "CustomerCategoryID": "3"
                                },
                                {
                                    "CustomerCategoryID": "3"
                                },
                                {
                                    "CustomerCategoryID": "3"
                                },
                                {
                                    "CustomerCategoryID": "3"
                                },
                                {
                                    "CustomerCategoryID": "3"
                                },
                                {
                                    "CustomerCategoryID": "3"
                                },
                                {
                                    "CustomerCategoryID": "3"
                                },
                                {
                                    "CustomerCategoryID": "3"
                                },
                                {
                                    "CustomerCategoryID": "3"
                                },
                                {
                                    "CustomerCategoryID": "3"
                                },
                                {
                                    "CustomerCategoryID": "3"
                                },
                                {
                                    "CustomerCategoryID": "3"
                                },
                                {
                                    "CustomerCategoryID": "3"
                                },
                                {
                                    "CustomerCategoryID": "3"
                                },
                                {
                                    "CustomerCategoryID": "3"
                                },
                                {
                                    "CustomerCategoryID": "3"
                                },
                                {
                                    "CustomerCategoryID": "3"
                                },
                                {
                                    "CustomerCategoryID": "3"
                                },
                                {
                                    "CustomerCategoryID": "3"
                                },
                                {
                                    "CustomerCategoryID": "3"
                                },
                                {
                                    "CustomerCategoryID": "3"
                                },
                                {
                                    "CustomerCategoryID": "3"
                                },
                                {
                                    "CustomerCategoryID": "3"
                                },
                                {
                                    "CustomerCategoryID": "3"
                                },
                                {
                                    "CustomerCategoryID": "3"
                                },
                                {
                                    "CustomerCategoryID": "3"
                                },
                                {
                                    "CustomerCategoryID": "3"
                                },
                                {
                                    "CustomerCategoryID": "3"
                                },
                                {
                                    "CustomerCategoryID": "3"
                                },
                                {
                                    "CustomerCategoryID": "3"
                                },
                                {
                                    "CustomerCategoryID": "3"
                                },
                                {
                                    "CustomerCategoryID": "3"
                                },
                                {
                                    "CustomerCategoryID": "3"
                                },
                                {
                                    "CustomerCategoryID": "3"
                                },
                                {
                                    "CustomerCategoryID": "3"
                                },
                                {
                                    "CustomerCategoryID": "3"
                                },
                                {
                                    "CustomerCategoryID": "3"
                                },
                                {
                                    "CustomerCategoryID": "3"
                                },
                                {
                                    "CustomerCategoryID": "3"
                                },
                                {
                                    "CustomerCategoryID": "3"
                                },
                                {
                                    "CustomerCategoryID": "3"
                                },
                                {
                                    "CustomerCategoryID": "3"
                                },
                                {
                                    "CustomerCategoryID": "3"
                                },
                                {
                                    "CustomerCategoryID": "3"
                                },
                                {
                                    "CustomerCategoryID": "3"
                                },
                                {
                                    "CustomerCategoryID": "3"
                                },
                                {
                                    "CustomerCategoryID": "3"
                                },
                                {
                                    "CustomerCategoryID": "3"
                                },
                                {
                                    "CustomerCategoryID": "3"
                                },
                                {
                                    "CustomerCategoryID": "3"
                                },
                                {
                                    "CustomerCategoryID": "3"
                                },
                                {
                                    "CustomerCategoryID": "3"
                                },
                                {
                                    "CustomerCategoryID": "3"
                                },
                                {
                                    "CustomerCategoryID": "3"
                                },
                                {
                                    "CustomerCategoryID": "3"
                                },
                                {
                                    "CustomerCategoryID": "3"
                                },
                                {
                                    "CustomerCategoryID": "3"
                                },
                                {
                                    "CustomerCategoryID": "3"
                                },
                                {
                                    "CustomerCategoryID": "3"
                                },
                                {
                                    "CustomerCategoryID": "3"
                                },
                                {
                                    "CustomerCategoryID": "3"
                                },
                                {
                                    "CustomerCategoryID": "3"
                                },
                                {
                                    "CustomerCategoryID": "3"
                                },
                                {
                                    "CustomerCategoryID": "3"
                                },
                                {
                                    "CustomerCategoryID": "3"
                                },
                                {
                                    "CustomerCategoryID": "3"
                                },
                                {
                                    "CustomerCategoryID": "3"
                                },
                                {
                                    "CustomerCategoryID": "3"
                                },
                                {
                                    "CustomerCategoryID": "3"
                                },
                                {
                                    "CustomerCategoryID": "3"
                                },
                                {
                                    "CustomerCategoryID": "3"
                                },
                                {
                                    "CustomerCategoryID": "3"
                                },
                                {
                                    "CustomerCategoryID": "3"
                                },
                                {
                                    "CustomerCategoryID": "3"
                                },
                                {
                                    "CustomerCategoryID": "3"
                                },
                                {
                                    "CustomerCategoryID": "3"
                                },
                                {
                                    "CustomerCategoryID": "3"
                                },
                                {
                                    "CustomerCategoryID": "3"
                                },
                                {
                                    "CustomerCategoryID": "3"
                                },
                                {
                                    "CustomerCategoryID": "3"
                                },
                                {
                                    "CustomerCategoryID": "3"
                                },
                                {
                                    "CustomerCategoryID": "3"
                                },
                                {
                                    "CustomerCategoryID": "3"
                                },
                                {
                                    "CustomerCategoryID": "3"
                                },
                                {
                                    "CustomerCategoryID": "3"
                                },
                                {
                                    "CustomerCategoryID": "3"
                                },
                                {
                                    "CustomerCategoryID": "3"
                                },
                                {
                                    "CustomerCategoryID": "3"
                                },
                                {
                                    "CustomerCategoryID": "3"
                                },
                                {
                                    "CustomerCategoryID": "3"
                                },
                                {
                                    "CustomerCategoryID": "3"
                                },
                                {
                                    "CustomerCategoryID": "3"
                                },
                                {
                                    "CustomerCategoryID": "3"
                                },
                                {
                                    "CustomerCategoryID": "3"
                                },
                                {
                                    "CustomerCategoryID": "3"
                                },
                                {
                                    "CustomerCategoryID": "3"
                                },
                                {
                                    "CustomerCategoryID": "3"
                                },
                                {
                                    "CustomerCategoryID": "3"
                                },
                                {
                                    "CustomerCategoryID": "3"
                                },
                                {
                                    "CustomerCategoryID": "3"
                                },
                                {
                                    "CustomerCategoryID": "3"
                                },
                                {
                                    "CustomerCategoryID": "3"
                                },
                                {
                                    "CustomerCategoryID": "3"
                                },
                                {
                                    "CustomerCategoryID": "3"
                                },
                                {
                                    "CustomerCategoryID": "3"
                                },
                                {
                                    "CustomerCategoryID": "3"
                                },
                                {
                                    "CustomerCategoryID": "3"
                                },
                                {
                                    "CustomerCategoryID": "3"
                                },
                                {
                                    "CustomerCategoryID": "3"
                                },
                                {
                                    "CustomerCategoryID": "3"
                                },
                                {
                                    "CustomerCategoryID": "3"
                                },
                                {
                                    "CustomerCategoryID": "3"
                                },
                                {
                                    "CustomerCategoryID": "3"
                                },
                                {
                                    "CustomerCategoryID": "3"
                                },
                                {
                                    "CustomerCategoryID": "3"
                                },
                                {
                                    "CustomerCategoryID": "3"
                                },
                                {
                                    "CustomerCategoryID": "3"
                                },
                                {
                                    "CustomerCategoryID": "3"
                                },
                                {
                                    "CustomerCategoryID": "3"
                                },
                                {
                                    "CustomerCategoryID": "3"
                                },
                                {
                                    "CustomerCategoryID": "3"
                                },
                                {
                                    "CustomerCategoryID": "3"
                                },
                                {
                                    "CustomerCategoryID": "3"
                                },
                                {
                                    "CustomerCategoryID": "3"
                                },
                                {
                                    "CustomerCategoryID": "3"
                                },
                                {
                                    "CustomerCategoryID": "3"
                                },
                                {
                                    "CustomerCategoryID": "3"
                                },
                                {
                                    "CustomerCategoryID": "3"
                                },
                                {
                                    "CustomerCategoryID": "3"
                                },
                                {
                                    "CustomerCategoryID": "3"
                                },
                                {
                                    "CustomerCategoryID": "3"
                                },
                                {
                                    "CustomerCategoryID": "3"
                                },
                                {
                                    "CustomerCategoryID": "3"
                                },
                                {
                                    "CustomerCategoryID": "3"
                                },
                                {
                                    "CustomerCategoryID": "3"
                                },
                                {
                                    "CustomerCategoryID": "3"
                                },
                                {
                                    "CustomerCategoryID": "3"
                                },
                                {
                                    "CustomerCategoryID": "3"
                                },
                                {
                                    "CustomerCategoryID": "3"
                                },
                                {
                                    "CustomerCategoryID": "3"
                                },
                                {
                                    "CustomerCategoryID": "3"
                                },
                                {
                                    "CustomerCategoryID": "3"
                                },
                                {
                                    "CustomerCategoryID": "3"
                                },
                                {
                                    "CustomerCategoryID": "3"
                                },
                                {
                                    "CustomerCategoryID": "3"
                                },
                                {
                                    "CustomerCategoryID": "3"
                                },
                                {
                                    "CustomerCategoryID": "3"
                                },
                                {
                                    "CustomerCategoryID": "3"
                                },
                                {
                                    "CustomerCategoryID": "3"
                                },
                                {
                                    "CustomerCategoryID": "3"
                                },
                                {
                                    "CustomerCategoryID": "3"
                                },
                                {
                                    "CustomerCategoryID": "3"
                                },
                                {
                                    "CustomerCategoryID": "3"
                                },
                                {
                                    "CustomerCategoryID": "3"
                                },
                                {
                                    "CustomerCategoryID": "3"
                                },
                                {
                                    "CustomerCategoryID": "3"
                                },
                                {
                                    "CustomerCategoryID": "3"
                                },
                                {
                                    "CustomerCategoryID": "3"
                                },
                                {
                                    "CustomerCategoryID": "3"
                                },
                                {
                                    "CustomerCategoryID": "3"
                                },
                                {
                                    "CustomerCategoryID": "3"
                                },
                                {
                                    "CustomerCategoryID": "3"
                                },
                                {
                                    "CustomerCategoryID": "3"
                                },
                                {
                                    "CustomerCategoryID": "3"
                                },
                                {
                                    "CustomerCategoryID": "3"
                                },
                                {
                                    "CustomerCategoryID": "3"
                                },
                                {
                                    "CustomerCategoryID": "3"
                                },
                                {
                                    "CustomerCategoryID": "3"
                                },
                                {
                                    "CustomerCategoryID": "3"
                                },
                                {
                                    "CustomerCategoryID": "3"
                                },
                                {
                                    "CustomerCategoryID": "3"
                                },
                                {
                                    "CustomerCategoryID": "3"
                                },
                                {
                                    "CustomerCategoryID": "3"
                                },
                                {
                                    "CustomerCategoryID": "3"
                                },
                                {
                                    "CustomerCategoryID": "3"
                                },
                                {
                                    "CustomerCategoryID": "3"
                                },
                                {
                                    "CustomerCategoryID": "3"
                                },
                                {
                                    "CustomerCategoryID": "3"
                                },
                                {
                                    "CustomerCategoryID": "3"
                                },
                                {
                                    "CustomerCategoryID": "3"
                                },
                                {
                                    "CustomerCategoryID": "3"
                                },
                                {
                                    "CustomerCategoryID": "3"
                                },
                                {
                                    "CustomerCategoryID": "3"
                                },
                                {
                                    "CustomerCategoryID": "3"
                                },
                                {
                                    "CustomerCategoryID": "3"
                                },
                                {
                                    "CustomerCategoryID": "3"
                                },
                                {
                                    "CustomerCategoryID": "3"
                                },
                                {
                                    "CustomerCategoryID": "3"
                                },
                                {
                                    "CustomerCategoryID": "3"
                                },
                                {
                                    "CustomerCategoryID": "3"
                                },
                                {
                                    "CustomerCategoryID": "3"
                                },
                                {
                                    "CustomerCategoryID": "3"
                                },
                                {
                                    "CustomerCategoryID": "3"
                                },
                                {
                                    "CustomerCategoryID": "3"
                                },
                                {
                                    "CustomerCategoryID": "3"
                                },
                                {
                                    "CustomerCategoryID": "3"
                                },
                                {
                                    "CustomerCategoryID": "3"
                                },
                                {
                                    "CustomerCategoryID": "3"
                                },
                                {
                                    "CustomerCategoryID": "3"
                                },
                                {
                                    "CustomerCategoryID": "3"
                                },
                                {
                                    "CustomerCategoryID": "3"
                                },
                                {
                                    "CustomerCategoryID": "3"
                                },
                                {
                                    "CustomerCategoryID": "3"
                                },
                                {
                                    "CustomerCategoryID": "3"
                                },
                                {
                                    "CustomerCategoryID": "3"
                                },
                                {
                                    "CustomerCategoryID": "3"
                                },
                                {
                                    "CustomerCategoryID": "3"
                                },
                                {
                                    "CustomerCategoryID": "3"
                                },
                                {
                                    "CustomerCategoryID": "3"
                                },
                                {
                                    "CustomerCategoryID": "3"
                                },
                                {
                                    "CustomerCategoryID": "3"
                                },
                                {
                                    "CustomerCategoryID": "3"
                                },
                                {
                                    "CustomerCategoryID": "3"
                                },
                                {
                                    "CustomerCategoryID": "3"
                                },
                                {
                                    "CustomerCategoryID": "3"
                                },
                                {
                                    "CustomerCategoryID": "3"
                                },
                                {
                                    "CustomerCategoryID": "3"
                                },
                                {
                                    "CustomerCategoryID": "3"
                                },
                                {
                                    "CustomerCategoryID": "3"
                                },
                                {
                                    "CustomerCategoryID": "3"
                                },
                                {
                                    "CustomerCategoryID": "3"
                                },
                                {
                                    "CustomerCategoryID": "3"
                                },
                                {
                                    "CustomerCategoryID": "3"
                                },
                                {
                                    "CustomerCategoryID": "3"
                                },
                                {
                                    "CustomerCategoryID": "3"
                                },
                                {
                                    "CustomerCategoryID": "3"
                                },
                                {
                                    "CustomerCategoryID": "3"
                                },
                                {
                                    "CustomerCategoryID": "3"
                                },
                                {
                                    "CustomerCategoryID": "3"
                                },
                                {
                                    "CustomerCategoryID": "3"
                                },
                                {
                                    "CustomerCategoryID": "3"
                                },
                                {
                                    "CustomerCategoryID": "3"
                                },
                                {
                                    "CustomerCategoryID": "3"
                                },
                                {
                                    "CustomerCategoryID": "3"
                                },
                                {
                                    "CustomerCategoryID": "3"
                                },
                                {
                                    "CustomerCategoryID": "3"
                                },
                                {
                                    "CustomerCategoryID": "3"
                                },
                                {
                                    "CustomerCategoryID": "3"
                                },
                                {
                                    "CustomerCategoryID": "3"
                                },
                                {
                                    "CustomerCategoryID": "3"
                                },
                                {
                                    "CustomerCategoryID": "3"
                                },
                                {
                                    "CustomerCategoryID": "3"
                                },
                                {
                                    "CustomerCategoryID": "3"
                                },
                                {
                                    "CustomerCategoryID": "3"
                                },
                                {
                                    "CustomerCategoryID": "3"
                                },
                                {
                                    "CustomerCategoryID": "3"
                                },
                                {
                                    "CustomerCategoryID": "3"
                                },
                                {
                                    "CustomerCategoryID": "3"
                                },
                                {
                                    "CustomerCategoryID": "3"
                                },
                                {
                                    "CustomerCategoryID": "3"
                                },
                                {
                                    "CustomerCategoryID": "3"
                                },
                                {
                                    "CustomerCategoryID": "3"
                                },
                                {
                                    "CustomerCategoryID": "3"
                                },
                                {
                                    "CustomerCategoryID": "3"
                                },
                                {
                                    "CustomerCategoryID": "3"
                                },
                                {
                                    "CustomerCategoryID": "3"
                                },
                                {
                                    "CustomerCategoryID": "3"
                                },
                                {
                                    "CustomerCategoryID": "3"
                                },
                                {
                                    "CustomerCategoryID": "3"
                                },
                                {
                                    "CustomerCategoryID": "3"
                                },
                                {
                                    "CustomerCategoryID": "3"
                                },
                                {
                                    "CustomerCategoryID": "3"
                                },
                                {
                                    "CustomerCategoryID": "3"
                                },
                                {
                                    "CustomerCategoryID": "3"
                                },
                                {
                                    "CustomerCategoryID": "3"
                                },
                                {
                                    "CustomerCategoryID": "3"
                                },
                                {
                                    "CustomerCategoryID": "3"
                                },
                                {
                                    "CustomerCategoryID": "3"
                                },
                                {
                                    "CustomerCategoryID": "3"
                                },
                                {
                                    "CustomerCategoryID": "3"
                                },
                                {
                                    "CustomerCategoryID": "3"
                                },
                                {
                                    "CustomerCategoryID": "3"
                                },
                                {
                                    "CustomerCategoryID": "3"
                                },
                                {
                                    "CustomerCategoryID": "3"
                                },
                                {
                                    "CustomerCategoryID": "3"
                                },
                                {
                                    "CustomerCategoryID": "3"
                                },
                                {
                                    "CustomerCategoryID": "3"
                                },
                                {
                                    "CustomerCategoryID": "3"
                                },
                                {
                                    "CustomerCategoryID": "3"
                                },
                                {
                                    "CustomerCategoryID": "3"
                                },
                                {
                                    "CustomerCategoryID": "3"
                                },
                                {
                                    "CustomerCategoryID": "3"
                                },
                                {
                                    "CustomerCategoryID": "3"
                                },
                                {
                                    "CustomerCategoryID": "3"
                                },
                                {
                                    "CustomerCategoryID": "3"
                                },
                                {
                                    "CustomerCategoryID": "3"
                                },
                                {
                                    "CustomerCategoryID": "3"
                                },
                                {
                                    "CustomerCategoryID": "3"
                                },
                                {
                                    "CustomerCategoryID": "3"
                                },
                                {
                                    "CustomerCategoryID": "3"
                                },
                                {
                                    "CustomerCategoryID": "3"
                                },
                                {
                                    "CustomerCategoryID": "3"
                                },
                                {
                                    "CustomerCategoryID": "3"
                                },
                                {
                                    "CustomerCategoryID": "3"
                                },
                                {
                                    "CustomerCategoryID": "3"
                                },
                                {
                                    "CustomerCategoryID": "3"
                                },
                                {
                                    "CustomerCategoryID": "3"
                                },
                                {
                                    "CustomerCategoryID": "3"
                                },
                                {
                                    "CustomerCategoryID": "3"
                                },
                                {
                                    "CustomerCategoryID": "3"
                                },
                                {
                                    "CustomerCategoryID": "3"
                                },
                                {
                                    "CustomerCategoryID": "3"
                                },
                                {
                                    "CustomerCategoryID": "3"
                                },
                                {
                                    "CustomerCategoryID": "3"
                                },
                                {
                                    "CustomerCategoryID": "3"
                                },
                                {
                                    "CustomerCategoryID": "3"
                                },
                                {
                                    "CustomerCategoryID": "3"
                                },
                                {
                                    "CustomerCategoryID": "3"
                                },
                                {
                                    "CustomerCategoryID": "3"
                                },
                                {
                                    "CustomerCategoryID": "3"
                                },
                                {
                                    "CustomerCategoryID": "3"
                                },
                                {
                                    "CustomerCategoryID": "3"
                                },
                                {
                                    "CustomerCategoryID": "3"
                                },
                                {
                                    "CustomerCategoryID": "3"
                                },
                                {
                                    "CustomerCategoryID": "3"
                                },
                                {
                                    "CustomerCategoryID": "3"
                                },
                                {
                                    "CustomerCategoryID": "3"
                                },
                                {
                                    "CustomerCategoryID": "3"
                                },
                                {
                                    "CustomerCategoryID": "3"
                                },
                                {
                                    "CustomerCategoryID": "3"
                                },
                                {
                                    "CustomerCategoryID": "3"
                                },
                                {
                                    "CustomerCategoryID": "3"
                                },
                                {
                                    "CustomerCategoryID": "3"
                                },
                                {
                                    "CustomerCategoryID": "3"
                                },
                                {
                                    "CustomerCategoryID": "3"
                                },
                                {
                                    "CustomerCategoryID": "3"
                                },
                                {
                                    "CustomerCategoryID": "3"
                                },
                                {
                                    "CustomerCategoryID": "3"
                                },
                                {
                                    "CustomerCategoryID": "3"
                                },
                                {
                                    "CustomerCategoryID": "3"
                                },
                                {
                                    "CustomerCategoryID": "3"
                                },
                                {
                                    "CustomerCategoryID": "3"
                                },
                                {
                                    "CustomerCategoryID": "3"
                                },
                                {
                                    "CustomerCategoryID": "3"
                                },
                                {
                                    "CustomerCategoryID": "3"
                                },
                                {
                                    "CustomerCategoryID": "3"
                                },
                                {
                                    "CustomerCategoryID": "3"
                                },
                                {
                                    "CustomerCategoryID": "3"
                                },
                                {
                                    "CustomerCategoryID": "3"
                                },
                                {
                                    "CustomerCategoryID": "3"
                                },
                                {
                                    "CustomerCategoryID": "3"
                                },
                                {
                                    "CustomerCategoryID": "3"
                                },
                                {
                                    "CustomerCategoryID": "3"
                                },
                                {
                                    "CustomerCategoryID": "3"
                                },
                                {
                                    "CustomerCategoryID": "3"
                                },
                                {
                                    "CustomerCategoryID": "3"
                                },
                                {
                                    "CustomerCategoryID": "3"
                                },
                                {
                                    "CustomerCategoryID": "3"
                                },
                                {
                                    "CustomerCategoryID": "3"
                                },
                                {
                                    "CustomerCategoryID": "3"
                                },
                                {
                                    "CustomerCategoryID": "3"
                                },
                                {
                                    "CustomerCategoryID": "3"
                                },
                                {
                                    "CustomerCategoryID": "3"
                                },
                                {
                                    "CustomerCategoryID": "3"
                                },
                                {
                                    "CustomerCategoryID": "3"
                                },
                                {
                                    "CustomerCategoryID": "3"
                                },
                                {
                                    "CustomerCategoryID": "3"
                                },
                                {
                                    "CustomerCategoryID": "3"
                                },
                                {
                                    "CustomerCategoryID": "3"
                                },
                                {
                                    "CustomerCategoryID": "3"
                                },
                                {
                                    "CustomerCategoryID": "3"
                                },
                                {
                                    "CustomerCategoryID": "3"
                                },
                                {
                                    "CustomerCategoryID": "3"
                                },
                                {
                                    "CustomerCategoryID": "3"
                                },
                                {
                                    "CustomerCategoryID": "3"
                                },
                                {
                                    "CustomerCategoryID": "3"
                                },
                                {
                                    "CustomerCategoryID": "3"
                                },
                                {
                                    "CustomerCategoryID": "3"
                                },
                                {
                                    "CustomerCategoryID": "3"
                                },
                                {
                                    "CustomerCategoryID": "3"
                                },
                                {
                                    "CustomerCategoryID": "3"
                                },
                                {
                                    "CustomerCategoryID": "3"
                                },
                                {
                                    "CustomerCategoryID": "3"
                                },
                                {
                                    "CustomerCategoryID": "3"
                                },
                                {
                                    "CustomerCategoryID": "3"
                                },
                                {
                                    "CustomerCategoryID": "3"
                                },
                                {
                                    "CustomerCategoryID": "3"
                                },
                                {
                                    "CustomerCategoryID": "3"
                                },
                                {
                                    "CustomerCategoryID": "3"
                                },
                                {
                                    "CustomerCategoryID": "3"
                                },
                                {
                                    "CustomerCategoryID": "3"
                                },
                                {
                                    "CustomerCategoryID": "3"
                                },
                                {
                                    "CustomerCategoryID": "3"
                                },
                                {
                                    "CustomerCategoryID": "3"
                                },
                                {
                                    "CustomerCategoryID": "3"
                                },
                                {
                                    "CustomerCategoryID": "3"
                                },
                                {
                                    "CustomerCategoryID": "3"
                                },
                                {
                                    "CustomerCategoryID": "3"
                                },
                                {
                                    "CustomerCategoryID": "3"
                                },
                                {
                                    "CustomerCategoryID": "3"
                                },
                                {
                                    "CustomerCategoryID": "3"
                                },
                                {
                                    "CustomerCategoryID": "3"
                                },
                                {
                                    "CustomerCategoryID": "3"
                                },
                                {
                                    "CustomerCategoryID": "3"
                                },
                                {
                                    "CustomerCategoryID": "3"
                                },
                                {
                                    "CustomerCategoryID": "3"
                                },
                                {
                                    "CustomerCategoryID": "3"
                                },
                                {
                                    "CustomerCategoryID": "3"
                                },
                                {
                                    "CustomerCategoryID": "3"
                                },
                                {
                                    "CustomerCategoryID": "3"
                                },
                                {
                                    "CustomerCategoryID": "3"
                                },
                                {
                                    "CustomerCategoryID": "3"
                                },
                                {
                                    "CustomerCategoryID": "3"
                                },
                                {
                                    "CustomerCategoryID": "3"
                                },
                                {
                                    "CustomerCategoryID": "3"
                                },
                                {
                                    "CustomerCategoryID": "3"
                                },
                                {
                                    "CustomerCategoryID": "3"
                                },
                                {
                                    "CustomerCategoryID": "3"
                                },
                                {
                                    "CustomerCategoryID": "3"
                                },
                                {
                                    "CustomerCategoryID": "3"
                                },
                                {
                                    "CustomerCategoryID": "3"
                                },
                                {
                                    "CustomerCategoryID": "3"
                                },
                                {
                                    "CustomerCategoryID": "3"
                                },
                                {
                                    "CustomerCategoryID": "3"
                                },
                                {
                                    "CustomerCategoryID": "3"
                                },
                                {
                                    "CustomerCategoryID": "3"
                                },
                                {
                                    "CustomerCategoryID": "3"
                                },
                                {
                                    "CustomerCategoryID": "3"
                                },
                                {
                                    "CustomerCategoryID": "3"
                                },
                                {
                                    "CustomerCategoryID": "3"
                                },
                                {
                                    "CustomerCategoryID": "3"
                                },
                                {
                                    "CustomerCategoryID": "3"
                                },
                                {
                                    "CustomerCategoryID": "3"
                                },
                                {
                                    "CustomerCategoryID": "3"
                                },
                                {
                                    "CustomerCategoryID": "3"
                                },
                                {
                                    "CustomerCategoryID": "4"
                                },
                                {
                                    "CustomerCategoryID": "4"
                                },
                                {
                                    "CustomerCategoryID": "4"
                                },
                                {
                                    "CustomerCategoryID": "4"
                                },
                                {
                                    "CustomerCategoryID": "4"
                                },
                                {
                                    "CustomerCategoryID": "4"
                                },
                                {
                                    "CustomerCategoryID": "4"
                                },
                                {
                                    "CustomerCategoryID": "4"
                                },
                                {
                                    "CustomerCategoryID": "4"
                                },
                                {
                                    "CustomerCategoryID": "4"
                                },
                                {
                                    "CustomerCategoryID": "4"
                                },
                                {
                                    "CustomerCategoryID": "4"
                                },
                                {
                                    "CustomerCategoryID": "4"
                                },
                                {
                                    "CustomerCategoryID": "4"
                                },
                                {
                                    "CustomerCategoryID": "4"
                                },
                                {
                                    "CustomerCategoryID": "4"
                                },
                                {
                                    "CustomerCategoryID": "4"
                                },
                                {
                                    "CustomerCategoryID": "4"
                                },
                                {
                                    "CustomerCategoryID": "4"
                                },
                                {
                                    "CustomerCategoryID": "4"
                                },
                                {
                                    "CustomerCategoryID": "4"
                                },
                                {
                                    "CustomerCategoryID": "4"
                                },
                                {
                                    "CustomerCategoryID": "4"
                                },
                                {
                                    "CustomerCategoryID": "4"
                                },
                                {
                                    "CustomerCategoryID": "4"
                                },
                                {
                                    "CustomerCategoryID": "4"
                                },
                                {
                                    "CustomerCategoryID": "4"
                                },
                                {
                                    "CustomerCategoryID": "4"
                                },
                                {
                                    "CustomerCategoryID": "4"
                                },
                                {
                                    "CustomerCategoryID": "4"
                                },
                                {
                                    "CustomerCategoryID": "4"
                                },
                                {
                                    "CustomerCategoryID": "4"
                                },
                                {
                                    "CustomerCategoryID": "4"
                                },
                                {
                                    "CustomerCategoryID": "4"
                                },
                                {
                                    "CustomerCategoryID": "4"
                                },
                                {
                                    "CustomerCategoryID": "4"
                                },
                                {
                                    "CustomerCategoryID": "4"
                                },
                                {
                                    "CustomerCategoryID": "4"
                                },
                                {
                                    "CustomerCategoryID": "4"
                                },
                                {
                                    "CustomerCategoryID": "4"
                                },
                                {
                                    "CustomerCategoryID": "4"
                                },
                                {
                                    "CustomerCategoryID": "4"
                                },
                                {
                                    "CustomerCategoryID": "4"
                                },
                                {
                                    "CustomerCategoryID": "4"
                                },
                                {
                                    "CustomerCategoryID": "4"
                                },
                                {
                                    "CustomerCategoryID": "4"
                                },
                                {
                                    "CustomerCategoryID": "4"
                                },
                                {
                                    "CustomerCategoryID": "4"
                                },
                                {
                                    "CustomerCategoryID": "4"
                                },
                                {
                                    "CustomerCategoryID": "4"
                                },
                                {
                                    "CustomerCategoryID": "4"
                                },
                                {
                                    "CustomerCategoryID": "4"
                                },
                                {
                                    "CustomerCategoryID": "4"
                                },
                                {
                                    "CustomerCategoryID": "4"
                                },
                                {
                                    "CustomerCategoryID": "4"
                                },
                                {
                                    "CustomerCategoryID": "4"
                                },
                                {
                                    "CustomerCategoryID": "4"
                                },
                                {
                                    "CustomerCategoryID": "4"
                                },
                                {
                                    "CustomerCategoryID": "5"
                                },
                                {
                                    "CustomerCategoryID": "5"
                                },
                                {
                                    "CustomerCategoryID": "5"
                                },
                                {
                                    "CustomerCategoryID": "5"
                                },
                                {
                                    "CustomerCategoryID": "5"
                                },
                                {
                                    "CustomerCategoryID": "5"
                                },
                                {
                                    "CustomerCategoryID": "5"
                                },
                                {
                                    "CustomerCategoryID": "5"
                                },
                                {
                                    "CustomerCategoryID": "5"
                                },
                                {
                                    "CustomerCategoryID": "5"
                                },
                                {
                                    "CustomerCategoryID": "5"
                                },
                                {
                                    "CustomerCategoryID": "5"
                                },
                                {
                                    "CustomerCategoryID": "5"
                                },
                                {
                                    "CustomerCategoryID": "5"
                                },
                                {
                                    "CustomerCategoryID": "5"
                                },
                                {
                                    "CustomerCategoryID": "5"
                                },
                                {
                                    "CustomerCategoryID": "5"
                                },
                                {
                                    "CustomerCategoryID": "5"
                                },
                                {
                                    "CustomerCategoryID": "5"
                                },
                                {
                                    "CustomerCategoryID": "5"
                                },
                                {
                                    "CustomerCategoryID": "5"
                                },
                                {
                                    "CustomerCategoryID": "5"
                                },
                                {
                                    "CustomerCategoryID": "5"
                                },
                                {
                                    "CustomerCategoryID": "5"
                                },
                                {
                                    "CustomerCategoryID": "5"
                                },
                                {
                                    "CustomerCategoryID": "5"
                                },
                                {
                                    "CustomerCategoryID": "5"
                                },
                                {
                                    "CustomerCategoryID": "5"
                                },
                                {
                                    "CustomerCategoryID": "5"
                                },
                                {
                                    "CustomerCategoryID": "5"
                                },
                                {
                                    "CustomerCategoryID": "5"
                                },
                                {
                                    "CustomerCategoryID": "5"
                                },
                                {
                                    "CustomerCategoryID": "5"
                                },
                                {
                                    "CustomerCategoryID": "5"
                                },
                                {
                                    "CustomerCategoryID": "5"
                                },
                                {
                                    "CustomerCategoryID": "5"
                                },
                                {
                                    "CustomerCategoryID": "5"
                                },
                                {
                                    "CustomerCategoryID": "5"
                                },
                                {
                                    "CustomerCategoryID": "5"
                                },
                                {
                                    "CustomerCategoryID": "5"
                                },
                                {
                                    "CustomerCategoryID": "5"
                                },
                                {
                                    "CustomerCategoryID": "5"
                                },
                                {
                                    "CustomerCategoryID": "5"
                                },
                                {
                                    "CustomerCategoryID": "5"
                                },
                                {
                                    "CustomerCategoryID": "5"
                                },
                                {
                                    "CustomerCategoryID": "5"
                                },
                                {
                                    "CustomerCategoryID": "5"
                                },
                                {
                                    "CustomerCategoryID": "5"
                                },
                                {
                                    "CustomerCategoryID": "5"
                                },
                                {
                                    "CustomerCategoryID": "5"
                                },
                                {
                                    "CustomerCategoryID": "5"
                                },
                                {
                                    "CustomerCategoryID": "6"
                                },
                                {
                                    "CustomerCategoryID": "6"
                                },
                                {
                                    "CustomerCategoryID": "6"
                                },
                                {
                                    "CustomerCategoryID": "6"
                                },
                                {
                                    "CustomerCategoryID": "6"
                                },
                                {
                                    "CustomerCategoryID": "6"
                                },
                                {
                                    "CustomerCategoryID": "6"
                                },
                                {
                                    "CustomerCategoryID": "6"
                                },
                                {
                                    "CustomerCategoryID": "6"
                                },
                                {
                                    "CustomerCategoryID": "6"
                                },
                                {
                                    "CustomerCategoryID": "6"
                                },
                                {
                                    "CustomerCategoryID": "6"
                                },
                                {
                                    "CustomerCategoryID": "6"
                                },
                                {
                                    "CustomerCategoryID": "6"
                                },
                                {
                                    "CustomerCategoryID": "6"
                                },
                                {
                                    "CustomerCategoryID": "6"
                                },
                                {
                                    "CustomerCategoryID": "6"
                                },
                                {
                                    "CustomerCategoryID": "6"
                                },
                                {
                                    "CustomerCategoryID": "6"
                                },
                                {
                                    "CustomerCategoryID": "6"
                                },
                                {
                                    "CustomerCategoryID": "6"
                                },
                                {
                                    "CustomerCategoryID": "6"
                                },
                                {
                                    "CustomerCategoryID": "6"
                                },
                                {
                                    "CustomerCategoryID": "6"
                                },
                                {
                                    "CustomerCategoryID": "6"
                                },
                                {
                                    "CustomerCategoryID": "6"
                                },
                                {
                                    "CustomerCategoryID": "6"
                                },
                                {
                                    "CustomerCategoryID": "6"
                                },
                                {
                                    "CustomerCategoryID": "6"
                                },
                                {
                                    "CustomerCategoryID": "6"
                                },
                                {
                                    "CustomerCategoryID": "6"
                                },
                                {
                                    "CustomerCategoryID": "6"
                                },
                                {
                                    "CustomerCategoryID": "6"
                                },
                                {
                                    "CustomerCategoryID": "6"
                                },
                                {
                                    "CustomerCategoryID": "6"
                                },
                                {
                                    "CustomerCategoryID": "6"
                                },
                                {
                                    "CustomerCategoryID": "6"
                                },
                                {
                                    "CustomerCategoryID": "6"
                                },
                                {
                                    "CustomerCategoryID": "6"
                                },
                                {
                                    "CustomerCategoryID": "6"
                                },
                                {
                                    "CustomerCategoryID": "6"
                                },
                                {
                                    "CustomerCategoryID": "6"
                                },
                                {
                                    "CustomerCategoryID": "6"
                                },
                                {
                                    "CustomerCategoryID": "6"
                                },
                                {
                                    "CustomerCategoryID": "6"
                                },
                                {
                                    "CustomerCategoryID": "6"
                                },
                                {
                                    "CustomerCategoryID": "6"
                                },
                                {
                                    "CustomerCategoryID": "6"
                                },
                                {
                                    "CustomerCategoryID": "7"
                                },
                                {
                                    "CustomerCategoryID": "7"
                                },
                                {
                                    "CustomerCategoryID": "7"
                                },
                                {
                                    "CustomerCategoryID": "7"
                                },
                                {
                                    "CustomerCategoryID": "7"
                                },
                                {
                                    "CustomerCategoryID": "7"
                                },
                                {
                                    "CustomerCategoryID": "7"
                                },
                                {
                                    "CustomerCategoryID": "7"
                                },
                                {
                                    "CustomerCategoryID": "7"
                                },
                                {
                                    "CustomerCategoryID": "7"
                                },
                                {
                                    "CustomerCategoryID": "7"
                                },
                                {
                                    "CustomerCategoryID": "7"
                                },
                                {
                                    "CustomerCategoryID": "7"
                                },
                                {
                                    "CustomerCategoryID": "7"
                                },
                                {
                                    "CustomerCategoryID": "7"
                                },
                                {
                                    "CustomerCategoryID": "7"
                                },
                                {
                                    "CustomerCategoryID": "7"
                                },
                                {
                                    "CustomerCategoryID": "7"
                                },
                                {
                                    "CustomerCategoryID": "7"
                                },
                                {
                                    "CustomerCategoryID": "7"
                                },
                                {
                                    "CustomerCategoryID": "7"
                                },
                                {
                                    "CustomerCategoryID": "7"
                                },
                                {
                                    "CustomerCategoryID": "7"
                                },
                                {
                                    "CustomerCategoryID": "7"
                                },
                                {
                                    "CustomerCategoryID": "7"
                                },
                                {
                                    "CustomerCategoryID": "7"
                                },
                                {
                                    "CustomerCategoryID": "7"
                                },
                                {
                                    "CustomerCategoryID": "7"
                                },
                                {
                                    "CustomerCategoryID": "7"
                                },
                                {
                                    "CustomerCategoryID": "7"
                                },
                                {
                                    "CustomerCategoryID": "7"
                                },
                                {
                                    "CustomerCategoryID": "7"
                                },
                                {
                                    "CustomerCategoryID": "7"
                                },
                                {
                                    "CustomerCategoryID": "7"
                                },
                                {
                                    "CustomerCategoryID": "7"
                                },
                                {
                                    "CustomerCategoryID": "7"
                                },
                                {
                                    "CustomerCategoryID": "7"
                                },
                                {
                                    "CustomerCategoryID": "7"
                                },
                                {
                                    "CustomerCategoryID": "7"
                                },
                                {
                                    "CustomerCategoryID": "7"
                                },
                                {
                                    "CustomerCategoryID": "7"
                                },
                                {
                                    "CustomerCategoryID": "7"
                                },
                                {
                                    "CustomerCategoryID": "7"
                                },
                                {
                                    "CustomerCategoryID": "7"
                                },
                                {
                                    "CustomerCategoryID": "7"
                                },
                                {
                                    "CustomerCategoryID": "7"
                                },
                                {
                                    "CustomerCategoryID": "7"
                                }
                            ]
                        },
                        "text/html": [
                            "<table>",
                            "<tr><th>CustomerCategoryID</th></tr>",
                            "<tr><td>3</td></tr>",
                            "<tr><td>3</td></tr>",
                            "<tr><td>3</td></tr>",
                            "<tr><td>3</td></tr>",
                            "<tr><td>3</td></tr>",
                            "<tr><td>3</td></tr>",
                            "<tr><td>3</td></tr>",
                            "<tr><td>3</td></tr>",
                            "<tr><td>3</td></tr>",
                            "<tr><td>3</td></tr>",
                            "<tr><td>3</td></tr>",
                            "<tr><td>3</td></tr>",
                            "<tr><td>3</td></tr>",
                            "<tr><td>3</td></tr>",
                            "<tr><td>3</td></tr>",
                            "<tr><td>3</td></tr>",
                            "<tr><td>3</td></tr>",
                            "<tr><td>3</td></tr>",
                            "<tr><td>3</td></tr>",
                            "<tr><td>3</td></tr>",
                            "<tr><td>3</td></tr>",
                            "<tr><td>3</td></tr>",
                            "<tr><td>3</td></tr>",
                            "<tr><td>3</td></tr>",
                            "<tr><td>3</td></tr>",
                            "<tr><td>3</td></tr>",
                            "<tr><td>3</td></tr>",
                            "<tr><td>3</td></tr>",
                            "<tr><td>3</td></tr>",
                            "<tr><td>3</td></tr>",
                            "<tr><td>3</td></tr>",
                            "<tr><td>3</td></tr>",
                            "<tr><td>3</td></tr>",
                            "<tr><td>3</td></tr>",
                            "<tr><td>3</td></tr>",
                            "<tr><td>3</td></tr>",
                            "<tr><td>3</td></tr>",
                            "<tr><td>3</td></tr>",
                            "<tr><td>3</td></tr>",
                            "<tr><td>3</td></tr>",
                            "<tr><td>3</td></tr>",
                            "<tr><td>3</td></tr>",
                            "<tr><td>3</td></tr>",
                            "<tr><td>3</td></tr>",
                            "<tr><td>3</td></tr>",
                            "<tr><td>3</td></tr>",
                            "<tr><td>3</td></tr>",
                            "<tr><td>3</td></tr>",
                            "<tr><td>3</td></tr>",
                            "<tr><td>3</td></tr>",
                            "<tr><td>3</td></tr>",
                            "<tr><td>3</td></tr>",
                            "<tr><td>3</td></tr>",
                            "<tr><td>3</td></tr>",
                            "<tr><td>3</td></tr>",
                            "<tr><td>3</td></tr>",
                            "<tr><td>3</td></tr>",
                            "<tr><td>3</td></tr>",
                            "<tr><td>3</td></tr>",
                            "<tr><td>3</td></tr>",
                            "<tr><td>3</td></tr>",
                            "<tr><td>3</td></tr>",
                            "<tr><td>3</td></tr>",
                            "<tr><td>3</td></tr>",
                            "<tr><td>3</td></tr>",
                            "<tr><td>3</td></tr>",
                            "<tr><td>3</td></tr>",
                            "<tr><td>3</td></tr>",
                            "<tr><td>3</td></tr>",
                            "<tr><td>3</td></tr>",
                            "<tr><td>3</td></tr>",
                            "<tr><td>3</td></tr>",
                            "<tr><td>3</td></tr>",
                            "<tr><td>3</td></tr>",
                            "<tr><td>3</td></tr>",
                            "<tr><td>3</td></tr>",
                            "<tr><td>3</td></tr>",
                            "<tr><td>3</td></tr>",
                            "<tr><td>3</td></tr>",
                            "<tr><td>3</td></tr>",
                            "<tr><td>3</td></tr>",
                            "<tr><td>3</td></tr>",
                            "<tr><td>3</td></tr>",
                            "<tr><td>3</td></tr>",
                            "<tr><td>3</td></tr>",
                            "<tr><td>3</td></tr>",
                            "<tr><td>3</td></tr>",
                            "<tr><td>3</td></tr>",
                            "<tr><td>3</td></tr>",
                            "<tr><td>3</td></tr>",
                            "<tr><td>3</td></tr>",
                            "<tr><td>3</td></tr>",
                            "<tr><td>3</td></tr>",
                            "<tr><td>3</td></tr>",
                            "<tr><td>3</td></tr>",
                            "<tr><td>3</td></tr>",
                            "<tr><td>3</td></tr>",
                            "<tr><td>3</td></tr>",
                            "<tr><td>3</td></tr>",
                            "<tr><td>3</td></tr>",
                            "<tr><td>3</td></tr>",
                            "<tr><td>3</td></tr>",
                            "<tr><td>3</td></tr>",
                            "<tr><td>3</td></tr>",
                            "<tr><td>3</td></tr>",
                            "<tr><td>3</td></tr>",
                            "<tr><td>3</td></tr>",
                            "<tr><td>3</td></tr>",
                            "<tr><td>3</td></tr>",
                            "<tr><td>3</td></tr>",
                            "<tr><td>3</td></tr>",
                            "<tr><td>3</td></tr>",
                            "<tr><td>3</td></tr>",
                            "<tr><td>3</td></tr>",
                            "<tr><td>3</td></tr>",
                            "<tr><td>3</td></tr>",
                            "<tr><td>3</td></tr>",
                            "<tr><td>3</td></tr>",
                            "<tr><td>3</td></tr>",
                            "<tr><td>3</td></tr>",
                            "<tr><td>3</td></tr>",
                            "<tr><td>3</td></tr>",
                            "<tr><td>3</td></tr>",
                            "<tr><td>3</td></tr>",
                            "<tr><td>3</td></tr>",
                            "<tr><td>3</td></tr>",
                            "<tr><td>3</td></tr>",
                            "<tr><td>3</td></tr>",
                            "<tr><td>3</td></tr>",
                            "<tr><td>3</td></tr>",
                            "<tr><td>3</td></tr>",
                            "<tr><td>3</td></tr>",
                            "<tr><td>3</td></tr>",
                            "<tr><td>3</td></tr>",
                            "<tr><td>3</td></tr>",
                            "<tr><td>3</td></tr>",
                            "<tr><td>3</td></tr>",
                            "<tr><td>3</td></tr>",
                            "<tr><td>3</td></tr>",
                            "<tr><td>3</td></tr>",
                            "<tr><td>3</td></tr>",
                            "<tr><td>3</td></tr>",
                            "<tr><td>3</td></tr>",
                            "<tr><td>3</td></tr>",
                            "<tr><td>3</td></tr>",
                            "<tr><td>3</td></tr>",
                            "<tr><td>3</td></tr>",
                            "<tr><td>3</td></tr>",
                            "<tr><td>3</td></tr>",
                            "<tr><td>3</td></tr>",
                            "<tr><td>3</td></tr>",
                            "<tr><td>3</td></tr>",
                            "<tr><td>3</td></tr>",
                            "<tr><td>3</td></tr>",
                            "<tr><td>3</td></tr>",
                            "<tr><td>3</td></tr>",
                            "<tr><td>3</td></tr>",
                            "<tr><td>3</td></tr>",
                            "<tr><td>3</td></tr>",
                            "<tr><td>3</td></tr>",
                            "<tr><td>3</td></tr>",
                            "<tr><td>3</td></tr>",
                            "<tr><td>3</td></tr>",
                            "<tr><td>3</td></tr>",
                            "<tr><td>3</td></tr>",
                            "<tr><td>3</td></tr>",
                            "<tr><td>3</td></tr>",
                            "<tr><td>3</td></tr>",
                            "<tr><td>3</td></tr>",
                            "<tr><td>3</td></tr>",
                            "<tr><td>3</td></tr>",
                            "<tr><td>3</td></tr>",
                            "<tr><td>3</td></tr>",
                            "<tr><td>3</td></tr>",
                            "<tr><td>3</td></tr>",
                            "<tr><td>3</td></tr>",
                            "<tr><td>3</td></tr>",
                            "<tr><td>3</td></tr>",
                            "<tr><td>3</td></tr>",
                            "<tr><td>3</td></tr>",
                            "<tr><td>3</td></tr>",
                            "<tr><td>3</td></tr>",
                            "<tr><td>3</td></tr>",
                            "<tr><td>3</td></tr>",
                            "<tr><td>3</td></tr>",
                            "<tr><td>3</td></tr>",
                            "<tr><td>3</td></tr>",
                            "<tr><td>3</td></tr>",
                            "<tr><td>3</td></tr>",
                            "<tr><td>3</td></tr>",
                            "<tr><td>3</td></tr>",
                            "<tr><td>3</td></tr>",
                            "<tr><td>3</td></tr>",
                            "<tr><td>3</td></tr>",
                            "<tr><td>3</td></tr>",
                            "<tr><td>3</td></tr>",
                            "<tr><td>3</td></tr>",
                            "<tr><td>3</td></tr>",
                            "<tr><td>3</td></tr>",
                            "<tr><td>3</td></tr>",
                            "<tr><td>3</td></tr>",
                            "<tr><td>3</td></tr>",
                            "<tr><td>3</td></tr>",
                            "<tr><td>3</td></tr>",
                            "<tr><td>3</td></tr>",
                            "<tr><td>3</td></tr>",
                            "<tr><td>3</td></tr>",
                            "<tr><td>3</td></tr>",
                            "<tr><td>3</td></tr>",
                            "<tr><td>3</td></tr>",
                            "<tr><td>3</td></tr>",
                            "<tr><td>3</td></tr>",
                            "<tr><td>3</td></tr>",
                            "<tr><td>3</td></tr>",
                            "<tr><td>3</td></tr>",
                            "<tr><td>3</td></tr>",
                            "<tr><td>3</td></tr>",
                            "<tr><td>3</td></tr>",
                            "<tr><td>3</td></tr>",
                            "<tr><td>3</td></tr>",
                            "<tr><td>3</td></tr>",
                            "<tr><td>3</td></tr>",
                            "<tr><td>3</td></tr>",
                            "<tr><td>3</td></tr>",
                            "<tr><td>3</td></tr>",
                            "<tr><td>3</td></tr>",
                            "<tr><td>3</td></tr>",
                            "<tr><td>3</td></tr>",
                            "<tr><td>3</td></tr>",
                            "<tr><td>3</td></tr>",
                            "<tr><td>3</td></tr>",
                            "<tr><td>3</td></tr>",
                            "<tr><td>3</td></tr>",
                            "<tr><td>3</td></tr>",
                            "<tr><td>3</td></tr>",
                            "<tr><td>3</td></tr>",
                            "<tr><td>3</td></tr>",
                            "<tr><td>3</td></tr>",
                            "<tr><td>3</td></tr>",
                            "<tr><td>3</td></tr>",
                            "<tr><td>3</td></tr>",
                            "<tr><td>3</td></tr>",
                            "<tr><td>3</td></tr>",
                            "<tr><td>3</td></tr>",
                            "<tr><td>3</td></tr>",
                            "<tr><td>3</td></tr>",
                            "<tr><td>3</td></tr>",
                            "<tr><td>3</td></tr>",
                            "<tr><td>3</td></tr>",
                            "<tr><td>3</td></tr>",
                            "<tr><td>3</td></tr>",
                            "<tr><td>3</td></tr>",
                            "<tr><td>3</td></tr>",
                            "<tr><td>3</td></tr>",
                            "<tr><td>3</td></tr>",
                            "<tr><td>3</td></tr>",
                            "<tr><td>3</td></tr>",
                            "<tr><td>3</td></tr>",
                            "<tr><td>3</td></tr>",
                            "<tr><td>3</td></tr>",
                            "<tr><td>3</td></tr>",
                            "<tr><td>3</td></tr>",
                            "<tr><td>3</td></tr>",
                            "<tr><td>3</td></tr>",
                            "<tr><td>3</td></tr>",
                            "<tr><td>3</td></tr>",
                            "<tr><td>3</td></tr>",
                            "<tr><td>3</td></tr>",
                            "<tr><td>3</td></tr>",
                            "<tr><td>3</td></tr>",
                            "<tr><td>3</td></tr>",
                            "<tr><td>3</td></tr>",
                            "<tr><td>3</td></tr>",
                            "<tr><td>3</td></tr>",
                            "<tr><td>3</td></tr>",
                            "<tr><td>3</td></tr>",
                            "<tr><td>3</td></tr>",
                            "<tr><td>3</td></tr>",
                            "<tr><td>3</td></tr>",
                            "<tr><td>3</td></tr>",
                            "<tr><td>3</td></tr>",
                            "<tr><td>3</td></tr>",
                            "<tr><td>3</td></tr>",
                            "<tr><td>3</td></tr>",
                            "<tr><td>3</td></tr>",
                            "<tr><td>3</td></tr>",
                            "<tr><td>3</td></tr>",
                            "<tr><td>3</td></tr>",
                            "<tr><td>3</td></tr>",
                            "<tr><td>3</td></tr>",
                            "<tr><td>3</td></tr>",
                            "<tr><td>3</td></tr>",
                            "<tr><td>3</td></tr>",
                            "<tr><td>3</td></tr>",
                            "<tr><td>3</td></tr>",
                            "<tr><td>3</td></tr>",
                            "<tr><td>3</td></tr>",
                            "<tr><td>3</td></tr>",
                            "<tr><td>3</td></tr>",
                            "<tr><td>3</td></tr>",
                            "<tr><td>3</td></tr>",
                            "<tr><td>3</td></tr>",
                            "<tr><td>3</td></tr>",
                            "<tr><td>3</td></tr>",
                            "<tr><td>3</td></tr>",
                            "<tr><td>3</td></tr>",
                            "<tr><td>3</td></tr>",
                            "<tr><td>3</td></tr>",
                            "<tr><td>3</td></tr>",
                            "<tr><td>3</td></tr>",
                            "<tr><td>3</td></tr>",
                            "<tr><td>3</td></tr>",
                            "<tr><td>3</td></tr>",
                            "<tr><td>3</td></tr>",
                            "<tr><td>3</td></tr>",
                            "<tr><td>3</td></tr>",
                            "<tr><td>3</td></tr>",
                            "<tr><td>3</td></tr>",
                            "<tr><td>3</td></tr>",
                            "<tr><td>3</td></tr>",
                            "<tr><td>3</td></tr>",
                            "<tr><td>3</td></tr>",
                            "<tr><td>3</td></tr>",
                            "<tr><td>3</td></tr>",
                            "<tr><td>3</td></tr>",
                            "<tr><td>3</td></tr>",
                            "<tr><td>3</td></tr>",
                            "<tr><td>3</td></tr>",
                            "<tr><td>3</td></tr>",
                            "<tr><td>3</td></tr>",
                            "<tr><td>3</td></tr>",
                            "<tr><td>3</td></tr>",
                            "<tr><td>3</td></tr>",
                            "<tr><td>3</td></tr>",
                            "<tr><td>3</td></tr>",
                            "<tr><td>3</td></tr>",
                            "<tr><td>3</td></tr>",
                            "<tr><td>3</td></tr>",
                            "<tr><td>3</td></tr>",
                            "<tr><td>3</td></tr>",
                            "<tr><td>3</td></tr>",
                            "<tr><td>3</td></tr>",
                            "<tr><td>3</td></tr>",
                            "<tr><td>3</td></tr>",
                            "<tr><td>3</td></tr>",
                            "<tr><td>3</td></tr>",
                            "<tr><td>3</td></tr>",
                            "<tr><td>3</td></tr>",
                            "<tr><td>3</td></tr>",
                            "<tr><td>3</td></tr>",
                            "<tr><td>3</td></tr>",
                            "<tr><td>3</td></tr>",
                            "<tr><td>3</td></tr>",
                            "<tr><td>3</td></tr>",
                            "<tr><td>3</td></tr>",
                            "<tr><td>3</td></tr>",
                            "<tr><td>3</td></tr>",
                            "<tr><td>3</td></tr>",
                            "<tr><td>3</td></tr>",
                            "<tr><td>3</td></tr>",
                            "<tr><td>3</td></tr>",
                            "<tr><td>3</td></tr>",
                            "<tr><td>3</td></tr>",
                            "<tr><td>3</td></tr>",
                            "<tr><td>3</td></tr>",
                            "<tr><td>3</td></tr>",
                            "<tr><td>3</td></tr>",
                            "<tr><td>3</td></tr>",
                            "<tr><td>3</td></tr>",
                            "<tr><td>3</td></tr>",
                            "<tr><td>3</td></tr>",
                            "<tr><td>3</td></tr>",
                            "<tr><td>3</td></tr>",
                            "<tr><td>3</td></tr>",
                            "<tr><td>3</td></tr>",
                            "<tr><td>3</td></tr>",
                            "<tr><td>3</td></tr>",
                            "<tr><td>3</td></tr>",
                            "<tr><td>3</td></tr>",
                            "<tr><td>3</td></tr>",
                            "<tr><td>3</td></tr>",
                            "<tr><td>3</td></tr>",
                            "<tr><td>3</td></tr>",
                            "<tr><td>3</td></tr>",
                            "<tr><td>3</td></tr>",
                            "<tr><td>3</td></tr>",
                            "<tr><td>3</td></tr>",
                            "<tr><td>3</td></tr>",
                            "<tr><td>3</td></tr>",
                            "<tr><td>3</td></tr>",
                            "<tr><td>3</td></tr>",
                            "<tr><td>3</td></tr>",
                            "<tr><td>3</td></tr>",
                            "<tr><td>3</td></tr>",
                            "<tr><td>3</td></tr>",
                            "<tr><td>3</td></tr>",
                            "<tr><td>3</td></tr>",
                            "<tr><td>3</td></tr>",
                            "<tr><td>3</td></tr>",
                            "<tr><td>3</td></tr>",
                            "<tr><td>3</td></tr>",
                            "<tr><td>3</td></tr>",
                            "<tr><td>3</td></tr>",
                            "<tr><td>3</td></tr>",
                            "<tr><td>3</td></tr>",
                            "<tr><td>3</td></tr>",
                            "<tr><td>3</td></tr>",
                            "<tr><td>3</td></tr>",
                            "<tr><td>3</td></tr>",
                            "<tr><td>3</td></tr>",
                            "<tr><td>3</td></tr>",
                            "<tr><td>3</td></tr>",
                            "<tr><td>3</td></tr>",
                            "<tr><td>3</td></tr>",
                            "<tr><td>3</td></tr>",
                            "<tr><td>3</td></tr>",
                            "<tr><td>3</td></tr>",
                            "<tr><td>3</td></tr>",
                            "<tr><td>3</td></tr>",
                            "<tr><td>3</td></tr>",
                            "<tr><td>3</td></tr>",
                            "<tr><td>3</td></tr>",
                            "<tr><td>3</td></tr>",
                            "<tr><td>3</td></tr>",
                            "<tr><td>3</td></tr>",
                            "<tr><td>3</td></tr>",
                            "<tr><td>3</td></tr>",
                            "<tr><td>3</td></tr>",
                            "<tr><td>3</td></tr>",
                            "<tr><td>3</td></tr>",
                            "<tr><td>3</td></tr>",
                            "<tr><td>3</td></tr>",
                            "<tr><td>3</td></tr>",
                            "<tr><td>3</td></tr>",
                            "<tr><td>3</td></tr>",
                            "<tr><td>3</td></tr>",
                            "<tr><td>3</td></tr>",
                            "<tr><td>3</td></tr>",
                            "<tr><td>3</td></tr>",
                            "<tr><td>3</td></tr>",
                            "<tr><td>3</td></tr>",
                            "<tr><td>3</td></tr>",
                            "<tr><td>3</td></tr>",
                            "<tr><td>3</td></tr>",
                            "<tr><td>3</td></tr>",
                            "<tr><td>3</td></tr>",
                            "<tr><td>3</td></tr>",
                            "<tr><td>3</td></tr>",
                            "<tr><td>3</td></tr>",
                            "<tr><td>3</td></tr>",
                            "<tr><td>3</td></tr>",
                            "<tr><td>3</td></tr>",
                            "<tr><td>3</td></tr>",
                            "<tr><td>3</td></tr>",
                            "<tr><td>3</td></tr>",
                            "<tr><td>3</td></tr>",
                            "<tr><td>3</td></tr>",
                            "<tr><td>3</td></tr>",
                            "<tr><td>3</td></tr>",
                            "<tr><td>4</td></tr>",
                            "<tr><td>4</td></tr>",
                            "<tr><td>4</td></tr>",
                            "<tr><td>4</td></tr>",
                            "<tr><td>4</td></tr>",
                            "<tr><td>4</td></tr>",
                            "<tr><td>4</td></tr>",
                            "<tr><td>4</td></tr>",
                            "<tr><td>4</td></tr>",
                            "<tr><td>4</td></tr>",
                            "<tr><td>4</td></tr>",
                            "<tr><td>4</td></tr>",
                            "<tr><td>4</td></tr>",
                            "<tr><td>4</td></tr>",
                            "<tr><td>4</td></tr>",
                            "<tr><td>4</td></tr>",
                            "<tr><td>4</td></tr>",
                            "<tr><td>4</td></tr>",
                            "<tr><td>4</td></tr>",
                            "<tr><td>4</td></tr>",
                            "<tr><td>4</td></tr>",
                            "<tr><td>4</td></tr>",
                            "<tr><td>4</td></tr>",
                            "<tr><td>4</td></tr>",
                            "<tr><td>4</td></tr>",
                            "<tr><td>4</td></tr>",
                            "<tr><td>4</td></tr>",
                            "<tr><td>4</td></tr>",
                            "<tr><td>4</td></tr>",
                            "<tr><td>4</td></tr>",
                            "<tr><td>4</td></tr>",
                            "<tr><td>4</td></tr>",
                            "<tr><td>4</td></tr>",
                            "<tr><td>4</td></tr>",
                            "<tr><td>4</td></tr>",
                            "<tr><td>4</td></tr>",
                            "<tr><td>4</td></tr>",
                            "<tr><td>4</td></tr>",
                            "<tr><td>4</td></tr>",
                            "<tr><td>4</td></tr>",
                            "<tr><td>4</td></tr>",
                            "<tr><td>4</td></tr>",
                            "<tr><td>4</td></tr>",
                            "<tr><td>4</td></tr>",
                            "<tr><td>4</td></tr>",
                            "<tr><td>4</td></tr>",
                            "<tr><td>4</td></tr>",
                            "<tr><td>4</td></tr>",
                            "<tr><td>4</td></tr>",
                            "<tr><td>4</td></tr>",
                            "<tr><td>4</td></tr>",
                            "<tr><td>4</td></tr>",
                            "<tr><td>4</td></tr>",
                            "<tr><td>4</td></tr>",
                            "<tr><td>4</td></tr>",
                            "<tr><td>4</td></tr>",
                            "<tr><td>4</td></tr>",
                            "<tr><td>4</td></tr>",
                            "<tr><td>5</td></tr>",
                            "<tr><td>5</td></tr>",
                            "<tr><td>5</td></tr>",
                            "<tr><td>5</td></tr>",
                            "<tr><td>5</td></tr>",
                            "<tr><td>5</td></tr>",
                            "<tr><td>5</td></tr>",
                            "<tr><td>5</td></tr>",
                            "<tr><td>5</td></tr>",
                            "<tr><td>5</td></tr>",
                            "<tr><td>5</td></tr>",
                            "<tr><td>5</td></tr>",
                            "<tr><td>5</td></tr>",
                            "<tr><td>5</td></tr>",
                            "<tr><td>5</td></tr>",
                            "<tr><td>5</td></tr>",
                            "<tr><td>5</td></tr>",
                            "<tr><td>5</td></tr>",
                            "<tr><td>5</td></tr>",
                            "<tr><td>5</td></tr>",
                            "<tr><td>5</td></tr>",
                            "<tr><td>5</td></tr>",
                            "<tr><td>5</td></tr>",
                            "<tr><td>5</td></tr>",
                            "<tr><td>5</td></tr>",
                            "<tr><td>5</td></tr>",
                            "<tr><td>5</td></tr>",
                            "<tr><td>5</td></tr>",
                            "<tr><td>5</td></tr>",
                            "<tr><td>5</td></tr>",
                            "<tr><td>5</td></tr>",
                            "<tr><td>5</td></tr>",
                            "<tr><td>5</td></tr>",
                            "<tr><td>5</td></tr>",
                            "<tr><td>5</td></tr>",
                            "<tr><td>5</td></tr>",
                            "<tr><td>5</td></tr>",
                            "<tr><td>5</td></tr>",
                            "<tr><td>5</td></tr>",
                            "<tr><td>5</td></tr>",
                            "<tr><td>5</td></tr>",
                            "<tr><td>5</td></tr>",
                            "<tr><td>5</td></tr>",
                            "<tr><td>5</td></tr>",
                            "<tr><td>5</td></tr>",
                            "<tr><td>5</td></tr>",
                            "<tr><td>5</td></tr>",
                            "<tr><td>5</td></tr>",
                            "<tr><td>5</td></tr>",
                            "<tr><td>5</td></tr>",
                            "<tr><td>5</td></tr>",
                            "<tr><td>6</td></tr>",
                            "<tr><td>6</td></tr>",
                            "<tr><td>6</td></tr>",
                            "<tr><td>6</td></tr>",
                            "<tr><td>6</td></tr>",
                            "<tr><td>6</td></tr>",
                            "<tr><td>6</td></tr>",
                            "<tr><td>6</td></tr>",
                            "<tr><td>6</td></tr>",
                            "<tr><td>6</td></tr>",
                            "<tr><td>6</td></tr>",
                            "<tr><td>6</td></tr>",
                            "<tr><td>6</td></tr>",
                            "<tr><td>6</td></tr>",
                            "<tr><td>6</td></tr>",
                            "<tr><td>6</td></tr>",
                            "<tr><td>6</td></tr>",
                            "<tr><td>6</td></tr>",
                            "<tr><td>6</td></tr>",
                            "<tr><td>6</td></tr>",
                            "<tr><td>6</td></tr>",
                            "<tr><td>6</td></tr>",
                            "<tr><td>6</td></tr>",
                            "<tr><td>6</td></tr>",
                            "<tr><td>6</td></tr>",
                            "<tr><td>6</td></tr>",
                            "<tr><td>6</td></tr>",
                            "<tr><td>6</td></tr>",
                            "<tr><td>6</td></tr>",
                            "<tr><td>6</td></tr>",
                            "<tr><td>6</td></tr>",
                            "<tr><td>6</td></tr>",
                            "<tr><td>6</td></tr>",
                            "<tr><td>6</td></tr>",
                            "<tr><td>6</td></tr>",
                            "<tr><td>6</td></tr>",
                            "<tr><td>6</td></tr>",
                            "<tr><td>6</td></tr>",
                            "<tr><td>6</td></tr>",
                            "<tr><td>6</td></tr>",
                            "<tr><td>6</td></tr>",
                            "<tr><td>6</td></tr>",
                            "<tr><td>6</td></tr>",
                            "<tr><td>6</td></tr>",
                            "<tr><td>6</td></tr>",
                            "<tr><td>6</td></tr>",
                            "<tr><td>6</td></tr>",
                            "<tr><td>6</td></tr>",
                            "<tr><td>7</td></tr>",
                            "<tr><td>7</td></tr>",
                            "<tr><td>7</td></tr>",
                            "<tr><td>7</td></tr>",
                            "<tr><td>7</td></tr>",
                            "<tr><td>7</td></tr>",
                            "<tr><td>7</td></tr>",
                            "<tr><td>7</td></tr>",
                            "<tr><td>7</td></tr>",
                            "<tr><td>7</td></tr>",
                            "<tr><td>7</td></tr>",
                            "<tr><td>7</td></tr>",
                            "<tr><td>7</td></tr>",
                            "<tr><td>7</td></tr>",
                            "<tr><td>7</td></tr>",
                            "<tr><td>7</td></tr>",
                            "<tr><td>7</td></tr>",
                            "<tr><td>7</td></tr>",
                            "<tr><td>7</td></tr>",
                            "<tr><td>7</td></tr>",
                            "<tr><td>7</td></tr>",
                            "<tr><td>7</td></tr>",
                            "<tr><td>7</td></tr>",
                            "<tr><td>7</td></tr>",
                            "<tr><td>7</td></tr>",
                            "<tr><td>7</td></tr>",
                            "<tr><td>7</td></tr>",
                            "<tr><td>7</td></tr>",
                            "<tr><td>7</td></tr>",
                            "<tr><td>7</td></tr>",
                            "<tr><td>7</td></tr>",
                            "<tr><td>7</td></tr>",
                            "<tr><td>7</td></tr>",
                            "<tr><td>7</td></tr>",
                            "<tr><td>7</td></tr>",
                            "<tr><td>7</td></tr>",
                            "<tr><td>7</td></tr>",
                            "<tr><td>7</td></tr>",
                            "<tr><td>7</td></tr>",
                            "<tr><td>7</td></tr>",
                            "<tr><td>7</td></tr>",
                            "<tr><td>7</td></tr>",
                            "<tr><td>7</td></tr>",
                            "<tr><td>7</td></tr>",
                            "<tr><td>7</td></tr>",
                            "<tr><td>7</td></tr>",
                            "<tr><td>7</td></tr>",
                            "</table>"
                        ]
                    }
                }
            ],
            "execution_count": 44
        },
        {
            "cell_type": "markdown",
            "source": [
                "<span style=\"color: rgb(31, 33, 35); font-family: Inter, ui-sans-serif, system-ui, sans-serif, &quot;Apple Color Emoji&quot;, &quot;Segoe UI Emoji&quot;, &quot;Segoe UI Symbol&quot;, &quot;Noto Color Emoji&quot;; font-size: 16px; background-color: rgb(251, 253, 255);\">Find the top 10 products with the highest sales amount and their respective sales amount, ordered by the sales amount:</span>"
            ],
            "metadata": {
                "language": "sql",
                "azdata_cell_guid": "db6d389c-4460-4973-8017-682f67b95b89"
            },
            "attachments": {}
        },
        {
            "cell_type": "code",
            "source": [
                "SELECT TOP 10\r\n",
                "    st.StockItemID,\r\n",
                "    st.StockItemName,\r\n",
                "    SUM(si.LineProfit) AS SalesAmount\r\n",
                "FROM  Warehouse.StockItems as st\r\n",
                "    JOIN Sales.OrderLines ol ON st.StockItemID = ol.StockItemID\r\n",
                "    JOIN Sales.Orders o ON o.OrderID = ol.OrderID\r\n",
                "    JOIN Sales.Customers c ON c.CustomerID = o.CustomerID\r\n",
                "    JOIN Sales.Invoices i On i.CustomerID=c.CustomerID\r\n",
                "    JOIN Sales.InvoiceLines si ON i.InvoiceID = si.InvoiceID\r\n",
                "GROUP BY st.StockItemID, st.StockItemName\r\n",
                "ORDER BY SalesAmount"
            ],
            "metadata": {
                "language": "sql",
                "azdata_cell_guid": "1e047a02-a252-4fb3-8d28-4634e74b6f47"
            },
            "outputs": [
                {
                    "output_type": "display_data",
                    "data": {
                        "text/html": "(10 rows affected)"
                    },
                    "metadata": {}
                },
                {
                    "output_type": "display_data",
                    "data": {
                        "text/html": "Total execution time: 00:01:02.278"
                    },
                    "metadata": {}
                },
                {
                    "output_type": "execute_result",
                    "metadata": {},
                    "execution_count": 9,
                    "data": {
                        "application/vnd.dataresource+json": {
                            "schema": {
                                "fields": [
                                    {
                                        "name": "StockItemID"
                                    },
                                    {
                                        "name": "StockItemName"
                                    },
                                    {
                                        "name": "SalesAmount"
                                    }
                                ]
                            },
                            "data": [
                                {
                                    "StockItemID": "223",
                                    "StockItemName": "Chocolate echidnas 250g",
                                    "SalesAmount": "15071509.10"
                                },
                                {
                                    "StockItemID": "224",
                                    "StockItemName": "Chocolate frogs 250g",
                                    "SalesAmount": "15077280.80"
                                },
                                {
                                    "StockItemID": "227",
                                    "StockItemName": "White chocolate moon rocks 250g",
                                    "SalesAmount": "15622247.95"
                                },
                                {
                                    "StockItemID": "225",
                                    "StockItemName": "Chocolate sharks 250g",
                                    "SalesAmount": "16068840.05"
                                },
                                {
                                    "StockItemID": "221",
                                    "StockItemName": "Novelty chilli chocolates 500g",
                                    "SalesAmount": "17246300.70"
                                },
                                {
                                    "StockItemID": "220",
                                    "StockItemName": "Novelty chilli chocolates 250g",
                                    "SalesAmount": "17387019.80"
                                },
                                {
                                    "StockItemID": "222",
                                    "StockItemName": "Chocolate beetles 250g",
                                    "SalesAmount": "19084110.95"
                                },
                                {
                                    "StockItemID": "226",
                                    "StockItemName": "White chocolate snow balls 250g",
                                    "SalesAmount": "19438927.70"
                                },
                                {
                                    "StockItemID": "193",
                                    "StockItemName": "Black and orange glass with care despatch tape 48mmx75m",
                                    "SalesAmount": "129944954.90"
                                },
                                {
                                    "StockItemID": "144",
                                    "StockItemName": "Halloween zombie mask (Light Brown) L",
                                    "SalesAmount": "130178033.90"
                                }
                            ]
                        },
                        "text/html": [
                            "<table>",
                            "<tr><th>StockItemID</th><th>StockItemName</th><th>SalesAmount</th></tr>",
                            "<tr><td>223</td><td>Chocolate echidnas 250g</td><td>15071509.10</td></tr>",
                            "<tr><td>224</td><td>Chocolate frogs 250g</td><td>15077280.80</td></tr>",
                            "<tr><td>227</td><td>White chocolate moon rocks 250g</td><td>15622247.95</td></tr>",
                            "<tr><td>225</td><td>Chocolate sharks 250g</td><td>16068840.05</td></tr>",
                            "<tr><td>221</td><td>Novelty chilli chocolates 500g</td><td>17246300.70</td></tr>",
                            "<tr><td>220</td><td>Novelty chilli chocolates 250g</td><td>17387019.80</td></tr>",
                            "<tr><td>222</td><td>Chocolate beetles 250g</td><td>19084110.95</td></tr>",
                            "<tr><td>226</td><td>White chocolate snow balls 250g</td><td>19438927.70</td></tr>",
                            "<tr><td>193</td><td>Black and orange glass with care despatch tape 48mmx75m</td><td>129944954.90</td></tr>",
                            "<tr><td>144</td><td>Halloween zombie mask (Light Brown) L</td><td>130178033.90</td></tr>",
                            "</table>"
                        ]
                    }
                }
            ],
            "execution_count": 9
        },
        {
            "cell_type": "markdown",
            "source": [
                "<span style=\"color: rgb(31, 33, 35); font-family: Inter, ui-sans-serif, system-ui, sans-serif, &quot;Apple Color Emoji&quot;, &quot;Segoe UI Emoji&quot;, &quot;Segoe UI Symbol&quot;, &quot;Noto Color Emoji&quot;; font-size: 16px; background-color: rgb(251, 253, 255);\">3.3 Calculate the monthly sales amount per customer category.</span>"
            ],
            "metadata": {
                "language": "sql",
                "azdata_cell_guid": "e98969b6-6ea0-414b-a09c-4c721d365944"
            },
            "attachments": {}
        },
        {
            "cell_type": "code",
            "source": [
                "SELECT \r\n",
                "    cc.CustomerCategoryID,\r\n",
                "    cc.CustomerCategoryName,\r\n",
                "    month(o.Orderdate) AS Month,\r\n",
                "    SUM(si.LineProfit) AS TotalSalesAmount\r\n",
                "\r\n",
                "FROM Sales.CustomerCategories cc\r\n",
                "  JOIN Sales.Customers c ON cc.CustomerCategoryID = c.CustomerCategoryID\r\n",
                "  JOIN Sales.Orders o ON c.CustomerID = o.CustomerID\r\n",
                "  JOIN Sales.OrderLines ol ON o.OrderID = ol.OrderID\r\n",
                "  JOIN Sales.Invoices i On i.CustomerID=c.CustomerID\r\n",
                "  JOIN Sales.InvoiceLines si ON i.InvoiceID = si.InvoiceID\r\n",
                "Group BY MONTH(o.Orderdate), cc.CustomerCategoryID, cc.CustomerCategoryName\r\n",
                "Order BY MONTH"
            ],
            "metadata": {
                "language": "sql",
                "azdata_cell_guid": "371e2418-383e-44f7-a8d5-8447c1ad4362",
                "tags": []
            },
            "outputs": [
                {
                    "output_type": "display_data",
                    "data": {
                        "text/html": "(60 rows affected)"
                    },
                    "metadata": {}
                },
                {
                    "output_type": "display_data",
                    "data": {
                        "text/html": "Total execution time: 00:01:34.793"
                    },
                    "metadata": {}
                },
                {
                    "output_type": "execute_result",
                    "metadata": {},
                    "execution_count": 12,
                    "data": {
                        "application/vnd.dataresource+json": {
                            "schema": {
                                "fields": [
                                    {
                                        "name": "CustomerCategoryID"
                                    },
                                    {
                                        "name": "CustomerCategoryName"
                                    },
                                    {
                                        "name": "Month"
                                    },
                                    {
                                        "name": "TotalSalesAmount"
                                    }
                                ]
                            },
                            "data": [
                                {
                                    "CustomerCategoryID": "7",
                                    "CustomerCategoryName": "Corporate",
                                    "Month": "1",
                                    "TotalSalesAmount": "205046387.05"
                                },
                                {
                                    "CustomerCategoryID": "5",
                                    "CustomerCategoryName": "Computer Store",
                                    "Month": "1",
                                    "TotalSalesAmount": "198227463.60"
                                },
                                {
                                    "CustomerCategoryID": "6",
                                    "CustomerCategoryName": "Gift Store",
                                    "Month": "1",
                                    "TotalSalesAmount": "220989726.65"
                                },
                                {
                                    "CustomerCategoryID": "3",
                                    "CustomerCategoryName": "Novelty Shop",
                                    "Month": "1",
                                    "TotalSalesAmount": "2178361267.90"
                                },
                                {
                                    "CustomerCategoryID": "4",
                                    "CustomerCategoryName": "Supermarket",
                                    "Month": "1",
                                    "TotalSalesAmount": "240902620.95"
                                },
                                {
                                    "CustomerCategoryID": "5",
                                    "CustomerCategoryName": "Computer Store",
                                    "Month": "2",
                                    "TotalSalesAmount": "169395786.10"
                                },
                                {
                                    "CustomerCategoryID": "4",
                                    "CustomerCategoryName": "Supermarket",
                                    "Month": "2",
                                    "TotalSalesAmount": "206562053.00"
                                },
                                {
                                    "CustomerCategoryID": "6",
                                    "CustomerCategoryName": "Gift Store",
                                    "Month": "2",
                                    "TotalSalesAmount": "163841685.40"
                                },
                                {
                                    "CustomerCategoryID": "7",
                                    "CustomerCategoryName": "Corporate",
                                    "Month": "2",
                                    "TotalSalesAmount": "172104752.75"
                                },
                                {
                                    "CustomerCategoryID": "3",
                                    "CustomerCategoryName": "Novelty Shop",
                                    "Month": "2",
                                    "TotalSalesAmount": "1867394254.15"
                                },
                                {
                                    "CustomerCategoryID": "4",
                                    "CustomerCategoryName": "Supermarket",
                                    "Month": "3",
                                    "TotalSalesAmount": "240527183.15"
                                },
                                {
                                    "CustomerCategoryID": "7",
                                    "CustomerCategoryName": "Corporate",
                                    "Month": "3",
                                    "TotalSalesAmount": "201387076.50"
                                },
                                {
                                    "CustomerCategoryID": "5",
                                    "CustomerCategoryName": "Computer Store",
                                    "Month": "3",
                                    "TotalSalesAmount": "187114093.30"
                                },
                                {
                                    "CustomerCategoryID": "6",
                                    "CustomerCategoryName": "Gift Store",
                                    "Month": "3",
                                    "TotalSalesAmount": "213879847.75"
                                },
                                {
                                    "CustomerCategoryID": "3",
                                    "CustomerCategoryName": "Novelty Shop",
                                    "Month": "3",
                                    "TotalSalesAmount": "2172498055.95"
                                },
                                {
                                    "CustomerCategoryID": "4",
                                    "CustomerCategoryName": "Supermarket",
                                    "Month": "4",
                                    "TotalSalesAmount": "260436709.85"
                                },
                                {
                                    "CustomerCategoryID": "7",
                                    "CustomerCategoryName": "Corporate",
                                    "Month": "4",
                                    "TotalSalesAmount": "199629889.20"
                                },
                                {
                                    "CustomerCategoryID": "6",
                                    "CustomerCategoryName": "Gift Store",
                                    "Month": "4",
                                    "TotalSalesAmount": "193876337.95"
                                },
                                {
                                    "CustomerCategoryID": "3",
                                    "CustomerCategoryName": "Novelty Shop",
                                    "Month": "4",
                                    "TotalSalesAmount": "2297155239.95"
                                },
                                {
                                    "CustomerCategoryID": "5",
                                    "CustomerCategoryName": "Computer Store",
                                    "Month": "4",
                                    "TotalSalesAmount": "190552726.45"
                                },
                                {
                                    "CustomerCategoryID": "7",
                                    "CustomerCategoryName": "Corporate",
                                    "Month": "5",
                                    "TotalSalesAmount": "198560212.70"
                                },
                                {
                                    "CustomerCategoryID": "5",
                                    "CustomerCategoryName": "Computer Store",
                                    "Month": "5",
                                    "TotalSalesAmount": "224148472.85"
                                },
                                {
                                    "CustomerCategoryID": "4",
                                    "CustomerCategoryName": "Supermarket",
                                    "Month": "5",
                                    "TotalSalesAmount": "266091184.40"
                                },
                                {
                                    "CustomerCategoryID": "6",
                                    "CustomerCategoryName": "Gift Store",
                                    "Month": "5",
                                    "TotalSalesAmount": "206583868.70"
                                },
                                {
                                    "CustomerCategoryID": "3",
                                    "CustomerCategoryName": "Novelty Shop",
                                    "Month": "5",
                                    "TotalSalesAmount": "2343009665.55"
                                },
                                {
                                    "CustomerCategoryID": "3",
                                    "CustomerCategoryName": "Novelty Shop",
                                    "Month": "6",
                                    "TotalSalesAmount": "1688250606.15"
                                },
                                {
                                    "CustomerCategoryID": "7",
                                    "CustomerCategoryName": "Corporate",
                                    "Month": "6",
                                    "TotalSalesAmount": "146597046.10"
                                },
                                {
                                    "CustomerCategoryID": "4",
                                    "CustomerCategoryName": "Supermarket",
                                    "Month": "6",
                                    "TotalSalesAmount": "190779302.80"
                                },
                                {
                                    "CustomerCategoryID": "6",
                                    "CustomerCategoryName": "Gift Store",
                                    "Month": "6",
                                    "TotalSalesAmount": "166676118.35"
                                },
                                {
                                    "CustomerCategoryID": "5",
                                    "CustomerCategoryName": "Computer Store",
                                    "Month": "6",
                                    "TotalSalesAmount": "152789241.90"
                                },
                                {
                                    "CustomerCategoryID": "6",
                                    "CustomerCategoryName": "Gift Store",
                                    "Month": "7",
                                    "TotalSalesAmount": "166829207.30"
                                },
                                {
                                    "CustomerCategoryID": "3",
                                    "CustomerCategoryName": "Novelty Shop",
                                    "Month": "7",
                                    "TotalSalesAmount": "1855014053.30"
                                },
                                {
                                    "CustomerCategoryID": "7",
                                    "CustomerCategoryName": "Corporate",
                                    "Month": "7",
                                    "TotalSalesAmount": "165895830.65"
                                },
                                {
                                    "CustomerCategoryID": "4",
                                    "CustomerCategoryName": "Supermarket",
                                    "Month": "7",
                                    "TotalSalesAmount": "227338059.55"
                                },
                                {
                                    "CustomerCategoryID": "5",
                                    "CustomerCategoryName": "Computer Store",
                                    "Month": "7",
                                    "TotalSalesAmount": "176365695.75"
                                },
                                {
                                    "CustomerCategoryID": "6",
                                    "CustomerCategoryName": "Gift Store",
                                    "Month": "8",
                                    "TotalSalesAmount": "143891435.25"
                                },
                                {
                                    "CustomerCategoryID": "5",
                                    "CustomerCategoryName": "Computer Store",
                                    "Month": "8",
                                    "TotalSalesAmount": "125415093.05"
                                },
                                {
                                    "CustomerCategoryID": "3",
                                    "CustomerCategoryName": "Novelty Shop",
                                    "Month": "8",
                                    "TotalSalesAmount": "1492069220.75"
                                },
                                {
                                    "CustomerCategoryID": "4",
                                    "CustomerCategoryName": "Supermarket",
                                    "Month": "8",
                                    "TotalSalesAmount": "161969807.25"
                                },
                                {
                                    "CustomerCategoryID": "7",
                                    "CustomerCategoryName": "Corporate",
                                    "Month": "8",
                                    "TotalSalesAmount": "142841907.90"
                                },
                                {
                                    "CustomerCategoryID": "6",
                                    "CustomerCategoryName": "Gift Store",
                                    "Month": "9",
                                    "TotalSalesAmount": "156569701.30"
                                },
                                {
                                    "CustomerCategoryID": "4",
                                    "CustomerCategoryName": "Supermarket",
                                    "Month": "9",
                                    "TotalSalesAmount": "188925114.30"
                                },
                                {
                                    "CustomerCategoryID": "3",
                                    "CustomerCategoryName": "Novelty Shop",
                                    "Month": "9",
                                    "TotalSalesAmount": "1591073566.15"
                                },
                                {
                                    "CustomerCategoryID": "7",
                                    "CustomerCategoryName": "Corporate",
                                    "Month": "9",
                                    "TotalSalesAmount": "142806351.95"
                                },
                                {
                                    "CustomerCategoryID": "5",
                                    "CustomerCategoryName": "Computer Store",
                                    "Month": "9",
                                    "TotalSalesAmount": "145345621.50"
                                },
                                {
                                    "CustomerCategoryID": "3",
                                    "CustomerCategoryName": "Novelty Shop",
                                    "Month": "10",
                                    "TotalSalesAmount": "1679686503.65"
                                },
                                {
                                    "CustomerCategoryID": "5",
                                    "CustomerCategoryName": "Computer Store",
                                    "Month": "10",
                                    "TotalSalesAmount": "155224278.30"
                                },
                                {
                                    "CustomerCategoryID": "6",
                                    "CustomerCategoryName": "Gift Store",
                                    "Month": "10",
                                    "TotalSalesAmount": "160433970.40"
                                },
                                {
                                    "CustomerCategoryID": "7",
                                    "CustomerCategoryName": "Corporate",
                                    "Month": "10",
                                    "TotalSalesAmount": "160634788.95"
                                },
                                {
                                    "CustomerCategoryID": "4",
                                    "CustomerCategoryName": "Supermarket",
                                    "Month": "10",
                                    "TotalSalesAmount": "179589044.20"
                                },
                                {
                                    "CustomerCategoryID": "5",
                                    "CustomerCategoryName": "Computer Store",
                                    "Month": "11",
                                    "TotalSalesAmount": "134029845.85"
                                },
                                {
                                    "CustomerCategoryID": "3",
                                    "CustomerCategoryName": "Novelty Shop",
                                    "Month": "11",
                                    "TotalSalesAmount": "1533355690.45"
                                },
                                {
                                    "CustomerCategoryID": "6",
                                    "CustomerCategoryName": "Gift Store",
                                    "Month": "11",
                                    "TotalSalesAmount": "143862382.15"
                                },
                                {
                                    "CustomerCategoryID": "7",
                                    "CustomerCategoryName": "Corporate",
                                    "Month": "11",
                                    "TotalSalesAmount": "144245475.80"
                                },
                                {
                                    "CustomerCategoryID": "4",
                                    "CustomerCategoryName": "Supermarket",
                                    "Month": "11",
                                    "TotalSalesAmount": "162195921.45"
                                },
                                {
                                    "CustomerCategoryID": "3",
                                    "CustomerCategoryName": "Novelty Shop",
                                    "Month": "12",
                                    "TotalSalesAmount": "1639514795.00"
                                },
                                {
                                    "CustomerCategoryID": "5",
                                    "CustomerCategoryName": "Computer Store",
                                    "Month": "12",
                                    "TotalSalesAmount": "147835041.80"
                                },
                                {
                                    "CustomerCategoryID": "7",
                                    "CustomerCategoryName": "Corporate",
                                    "Month": "12",
                                    "TotalSalesAmount": "156061229.05"
                                },
                                {
                                    "CustomerCategoryID": "6",
                                    "CustomerCategoryName": "Gift Store",
                                    "Month": "12",
                                    "TotalSalesAmount": "151515109.75"
                                },
                                {
                                    "CustomerCategoryID": "4",
                                    "CustomerCategoryName": "Supermarket",
                                    "Month": "12",
                                    "TotalSalesAmount": "180603292.65"
                                }
                            ]
                        },
                        "text/html": [
                            "<table>",
                            "<tr><th>CustomerCategoryID</th><th>CustomerCategoryName</th><th>Month</th><th>TotalSalesAmount</th></tr>",
                            "<tr><td>7</td><td>Corporate</td><td>1</td><td>205046387.05</td></tr>",
                            "<tr><td>5</td><td>Computer Store</td><td>1</td><td>198227463.60</td></tr>",
                            "<tr><td>6</td><td>Gift Store</td><td>1</td><td>220989726.65</td></tr>",
                            "<tr><td>3</td><td>Novelty Shop</td><td>1</td><td>2178361267.90</td></tr>",
                            "<tr><td>4</td><td>Supermarket</td><td>1</td><td>240902620.95</td></tr>",
                            "<tr><td>5</td><td>Computer Store</td><td>2</td><td>169395786.10</td></tr>",
                            "<tr><td>4</td><td>Supermarket</td><td>2</td><td>206562053.00</td></tr>",
                            "<tr><td>6</td><td>Gift Store</td><td>2</td><td>163841685.40</td></tr>",
                            "<tr><td>7</td><td>Corporate</td><td>2</td><td>172104752.75</td></tr>",
                            "<tr><td>3</td><td>Novelty Shop</td><td>2</td><td>1867394254.15</td></tr>",
                            "<tr><td>4</td><td>Supermarket</td><td>3</td><td>240527183.15</td></tr>",
                            "<tr><td>7</td><td>Corporate</td><td>3</td><td>201387076.50</td></tr>",
                            "<tr><td>5</td><td>Computer Store</td><td>3</td><td>187114093.30</td></tr>",
                            "<tr><td>6</td><td>Gift Store</td><td>3</td><td>213879847.75</td></tr>",
                            "<tr><td>3</td><td>Novelty Shop</td><td>3</td><td>2172498055.95</td></tr>",
                            "<tr><td>4</td><td>Supermarket</td><td>4</td><td>260436709.85</td></tr>",
                            "<tr><td>7</td><td>Corporate</td><td>4</td><td>199629889.20</td></tr>",
                            "<tr><td>6</td><td>Gift Store</td><td>4</td><td>193876337.95</td></tr>",
                            "<tr><td>3</td><td>Novelty Shop</td><td>4</td><td>2297155239.95</td></tr>",
                            "<tr><td>5</td><td>Computer Store</td><td>4</td><td>190552726.45</td></tr>",
                            "<tr><td>7</td><td>Corporate</td><td>5</td><td>198560212.70</td></tr>",
                            "<tr><td>5</td><td>Computer Store</td><td>5</td><td>224148472.85</td></tr>",
                            "<tr><td>4</td><td>Supermarket</td><td>5</td><td>266091184.40</td></tr>",
                            "<tr><td>6</td><td>Gift Store</td><td>5</td><td>206583868.70</td></tr>",
                            "<tr><td>3</td><td>Novelty Shop</td><td>5</td><td>2343009665.55</td></tr>",
                            "<tr><td>3</td><td>Novelty Shop</td><td>6</td><td>1688250606.15</td></tr>",
                            "<tr><td>7</td><td>Corporate</td><td>6</td><td>146597046.10</td></tr>",
                            "<tr><td>4</td><td>Supermarket</td><td>6</td><td>190779302.80</td></tr>",
                            "<tr><td>6</td><td>Gift Store</td><td>6</td><td>166676118.35</td></tr>",
                            "<tr><td>5</td><td>Computer Store</td><td>6</td><td>152789241.90</td></tr>",
                            "<tr><td>6</td><td>Gift Store</td><td>7</td><td>166829207.30</td></tr>",
                            "<tr><td>3</td><td>Novelty Shop</td><td>7</td><td>1855014053.30</td></tr>",
                            "<tr><td>7</td><td>Corporate</td><td>7</td><td>165895830.65</td></tr>",
                            "<tr><td>4</td><td>Supermarket</td><td>7</td><td>227338059.55</td></tr>",
                            "<tr><td>5</td><td>Computer Store</td><td>7</td><td>176365695.75</td></tr>",
                            "<tr><td>6</td><td>Gift Store</td><td>8</td><td>143891435.25</td></tr>",
                            "<tr><td>5</td><td>Computer Store</td><td>8</td><td>125415093.05</td></tr>",
                            "<tr><td>3</td><td>Novelty Shop</td><td>8</td><td>1492069220.75</td></tr>",
                            "<tr><td>4</td><td>Supermarket</td><td>8</td><td>161969807.25</td></tr>",
                            "<tr><td>7</td><td>Corporate</td><td>8</td><td>142841907.90</td></tr>",
                            "<tr><td>6</td><td>Gift Store</td><td>9</td><td>156569701.30</td></tr>",
                            "<tr><td>4</td><td>Supermarket</td><td>9</td><td>188925114.30</td></tr>",
                            "<tr><td>3</td><td>Novelty Shop</td><td>9</td><td>1591073566.15</td></tr>",
                            "<tr><td>7</td><td>Corporate</td><td>9</td><td>142806351.95</td></tr>",
                            "<tr><td>5</td><td>Computer Store</td><td>9</td><td>145345621.50</td></tr>",
                            "<tr><td>3</td><td>Novelty Shop</td><td>10</td><td>1679686503.65</td></tr>",
                            "<tr><td>5</td><td>Computer Store</td><td>10</td><td>155224278.30</td></tr>",
                            "<tr><td>6</td><td>Gift Store</td><td>10</td><td>160433970.40</td></tr>",
                            "<tr><td>7</td><td>Corporate</td><td>10</td><td>160634788.95</td></tr>",
                            "<tr><td>4</td><td>Supermarket</td><td>10</td><td>179589044.20</td></tr>",
                            "<tr><td>5</td><td>Computer Store</td><td>11</td><td>134029845.85</td></tr>",
                            "<tr><td>3</td><td>Novelty Shop</td><td>11</td><td>1533355690.45</td></tr>",
                            "<tr><td>6</td><td>Gift Store</td><td>11</td><td>143862382.15</td></tr>",
                            "<tr><td>7</td><td>Corporate</td><td>11</td><td>144245475.80</td></tr>",
                            "<tr><td>4</td><td>Supermarket</td><td>11</td><td>162195921.45</td></tr>",
                            "<tr><td>3</td><td>Novelty Shop</td><td>12</td><td>1639514795.00</td></tr>",
                            "<tr><td>5</td><td>Computer Store</td><td>12</td><td>147835041.80</td></tr>",
                            "<tr><td>7</td><td>Corporate</td><td>12</td><td>156061229.05</td></tr>",
                            "<tr><td>6</td><td>Gift Store</td><td>12</td><td>151515109.75</td></tr>",
                            "<tr><td>4</td><td>Supermarket</td><td>12</td><td>180603292.65</td></tr>",
                            "</table>"
                        ]
                    }
                }
            ],
            "execution_count": 12
        },
        {
            "cell_type": "markdown",
            "source": [
                "### Part 1: DDL (Data Definition Language)\n",
                "\n",
                "Create a new table named CustomerAnalysis with the following columns:\n",
                "\n",
                "- ID as an auto-incrementing primary key\n",
                "- CustomerID (int)\n",
                "- CustomerName (varchar, size 100)\n",
                "- Country (varchar, size 50)\n",
                "- Region (varchar, size 50)\n",
                "- City (varchar, size 50)\n",
                "- TotalSales (decimal)\n",
                "- NumberOfOrders (int)\n",
                "- AverageOrderValue (decimal)"
            ],
            "metadata": {
                "language": "sql",
                "azdata_cell_guid": "3d4ebe70-6dfb-4167-ae5a-b1fe20f7e7cf"
            },
            "attachments": {}
        },
        {
            "cell_type": "code",
            "source": [
                "CREATE TABLE CustomerAnalysis(\r\n",
                "    ID INT IDENTITY(1,1) primary key,\r\n",
                "    CustomerID INT,\r\n",
                "    CustomerName Nvarchar(100),\r\n",
                "    Country Nvarchar(50),\r\n",
                "    Region Nvarchar(50),\r\n",
                "    City Nvarchar(50),\r\n",
                "    TotalSales decimal(15,2),\r\n",
                "    NumberOfOrders int,\r\n",
                "    AverageOrderValue decimal(15,2)\r\n",
                ")"
            ],
            "metadata": {
                "language": "sql",
                "azdata_cell_guid": "fd7e1244-3288-4724-ad18-1c7b989c1bd9"
            },
            "outputs": [
                {
                    "output_type": "display_data",
                    "data": {
                        "text/html": "Commands completed successfully."
                    },
                    "metadata": {}
                },
                {
                    "output_type": "display_data",
                    "data": {
                        "text/html": "Total execution time: 00:00:00.041"
                    },
                    "metadata": {}
                }
            ],
            "execution_count": 13
        },
        {
            "cell_type": "markdown",
            "source": [
                "### Part 2: DML (Data Manipulation Language) 🔧\n",
                "\n",
                "2.1 Create a stored procedure named usp\\_InsertCustomerAnalysis that inserts data into the CustomerAnalysis table by extracting relevant information from existing tables (Customers, Cities, StateProvinces, Countries, Invoices, and Orders).\n",
                "\n",
                "<span style=\"box-sizing: border-box; border: 0px solid rgb(237, 242, 246); --tw-border-spacing-x: 0; --tw-border-spacing-y: 0; --tw-translate-x: 0; --tw-translate-y: 0; --tw-rotate: 0; --tw-skew-x: 0; --tw-skew-y: 0; --tw-scale-x: 1; --tw-scale-y: 1; --tw-pan-x: ; --tw-pan-y: ; --tw-pinch-zoom: ; --tw-scroll-snap-strictness: proximity; --tw-gradient-from-position: ; --tw-gradient-via-position: ; --tw-gradient-to-position: ; --tw-ordinal: ; --tw-slashed-zero: ; --tw-numeric-figure: ; --tw-numeric-spacing: ; --tw-numeric-fraction: ; --tw-ring-inset: ; --tw-ring-offset-width: 0px; --tw-ring-offset-color: #fff; --tw-ring-color: rgba(75,154,199,.5); --tw-ring-offset-shadow: 0 0 #0000; --tw-ring-shadow: 0 0 #0000; --tw-shadow: 0 0 #0000; --tw-shadow-colored: 0 0 #0000; --tw-blur: ; --tw-brightness: ; --tw-contrast: ; --tw-grayscale: ; --tw-hue-rotate: ; --tw-invert: ; --tw-saturate: ; --tw-sepia: ; --tw-drop-shadow: ; --tw-backdrop-blur: ; --tw-backdrop-brightness: ; --tw-backdrop-contrast: ; --tw-backdrop-grayscale: ; --tw-backdrop-hue-rotate: ; --tw-backdrop-invert: ; --tw-backdrop-opacity: ; --tw-backdrop-saturate: ; --tw-backdrop-sepia: ; --tw-contain-size: ; --tw-contain-layout: ; --tw-contain-paint: ; --tw-contain-style: ; font-weight: 600; color: var(--tw-prose-bold);\">Help 💡</span> _FROM Sales.Customers c JOIN Sales.Orders o ON c.CustomerID = o.CustomerID JOIN Sales.OrderLines ol ON o.OrderID = ol.OrderID JOIN Warehouse.StockItems si ON ol.StockItemID = si.StockItemID JOIN Application.Cities ci ON c.DeliveryCityID = ci.CityID JOIN Application.StateProvinces sp ON ci.StateProvinceID = sp.StateProvinceID JOIN Application.Countries ctr ON sp.CountryID = ctr.CountryID_"
            ],
            "metadata": {
                "language": "sql",
                "azdata_cell_guid": "710cf38a-1c95-499b-afd2-50808127c9dd"
            },
            "attachments": {}
        },
        {
            "cell_type": "code",
            "source": [
                "CREATE PROCEDURE usp_InsertCustomerAnalysis \r\n",
                "AS\r\n",
                "BEGIN\r\n",
                "    INSERT INTO CustomerAnalysis (\r\n",
                "        CustomerID,\r\n",
                "        CustomerName,\r\n",
                "        Country,\r\n",
                "        Region,\r\n",
                "        City,\r\n",
                "        TotalSales,\r\n",
                "        NumberOfOrders,\r\n",
                "        AverageOrderValue\r\n",
                "    )\r\n",
                "        SELECT\r\n",
                "            c.CustomerID,\r\n",
                "            c.CustomerName,\r\n",
                "            ctr.CountryName,\r\n",
                "            sp.StateProvinceName,\r\n",
                "            ci.CityName,\r\n",
                "            SUM(sil.LineProfit) AS TotalSalesAmount,\r\n",
                "            COUNT(Distinct o.OrderID) AS NbOrdres,\r\n",
                "            SUM(sil.LineProfit) / COUNT(DISTINCT o.OrderID) as AvgSalesOrders\r\n",
                "\r\n",
                "        FROM Sales.Customers c \r\n",
                "        JOIN Sales.Orders o ON c.CustomerID = o.CustomerID \r\n",
                "        JOIN Sales.Invoices i On i.CustomerID=c.CustomerID\r\n",
                "        JOIN Sales.InvoiceLines sil ON i.InvoiceID = sil.InvoiceID\r\n",
                "        JOIN Sales.OrderLines ol ON o.OrderID = ol.OrderID \r\n",
                "        JOIN Warehouse.StockItems si ON ol.StockItemID = si.StockItemID \r\n",
                "        JOIN Application.Cities ci ON c.DeliveryCityID = ci.CityID \r\n",
                "        JOIN Application.StateProvinces sp ON ci.StateProvinceID = sp.StateProvinceID \r\n",
                "        JOIN Application.Countries ctr ON sp.CountryID = ctr.CountryID\r\n",
                "        GROUP BY c.CustomerID,\r\n",
                "            c.CustomerName,\r\n",
                "            ctr.CountryName,\r\n",
                "            sp.StateProvinceName,\r\n",
                "            ci.CityName\r\n",
                "            \r\n",
                "END"
            ],
            "metadata": {
                "language": "sql",
                "azdata_cell_guid": "47c88ca9-7542-4b3e-a20f-fa14e62c1cf3"
            },
            "outputs": [
                {
                    "output_type": "display_data",
                    "data": {
                        "text/html": "Commands completed successfully."
                    },
                    "metadata": {}
                },
                {
                    "output_type": "display_data",
                    "data": {
                        "text/html": "Total execution time: 00:00:00.061"
                    },
                    "metadata": {}
                }
            ],
            "execution_count": 18
        },
        {
            "cell_type": "code",
            "source": [
                "EXEC usp_InsertCustomerAnalysis;"
            ],
            "metadata": {
                "language": "sql",
                "azdata_cell_guid": "7bbee53e-b3f7-4980-8688-de5ec6914d41"
            },
            "outputs": [
                {
                    "output_type": "display_data",
                    "data": {
                        "text/html": "(663 rows affected)"
                    },
                    "metadata": {}
                },
                {
                    "output_type": "display_data",
                    "data": {
                        "text/html": "Total execution time: 00:04:19.545"
                    },
                    "metadata": {}
                }
            ],
            "execution_count": 19
        },
        {
            "cell_type": "code",
            "source": [
                "Select TOP 5 * FROM CustomerAnalysis"
            ],
            "metadata": {
                "language": "sql",
                "azdata_cell_guid": "151ed50a-4c49-448d-986b-39c4517c6aee"
            },
            "outputs": [
                {
                    "output_type": "display_data",
                    "data": {
                        "text/html": "(5 rows affected)"
                    },
                    "metadata": {}
                },
                {
                    "output_type": "display_data",
                    "data": {
                        "text/html": "Total execution time: 00:00:00.022"
                    },
                    "metadata": {}
                },
                {
                    "output_type": "execute_result",
                    "metadata": {},
                    "execution_count": 20,
                    "data": {
                        "application/vnd.dataresource+json": {
                            "schema": {
                                "fields": [
                                    {
                                        "name": "ID"
                                    },
                                    {
                                        "name": "CustomerID"
                                    },
                                    {
                                        "name": "CustomerName"
                                    },
                                    {
                                        "name": "Country"
                                    },
                                    {
                                        "name": "Region"
                                    },
                                    {
                                        "name": "City"
                                    },
                                    {
                                        "name": "TotalSales"
                                    },
                                    {
                                        "name": "NumberOfOrders"
                                    },
                                    {
                                        "name": "AverageOrderValue"
                                    }
                                ]
                            },
                            "data": [
                                {
                                    "ID": "1",
                                    "CustomerID": "841",
                                    "CustomerName": "Camille Authier",
                                    "Country": "United States",
                                    "Region": "North Carolina",
                                    "City": "Abbottsburg",
                                    "TotalSales": "72883772.05",
                                    "NumberOfOrders": "123",
                                    "AverageOrderValue": "592550.99"
                                },
                                {
                                    "ID": "2",
                                    "CustomerID": "83",
                                    "CustomerName": "Tailspin Toys (Absecon, NJ)",
                                    "Country": "United States",
                                    "Region": "New Jersey",
                                    "City": "Absecon",
                                    "TotalSales": "42170822.10",
                                    "NumberOfOrders": "110",
                                    "AverageOrderValue": "383371.11"
                                },
                                {
                                    "ID": "3",
                                    "CustomerID": "595",
                                    "CustomerName": "Wingtip Toys (Accomac, VA)",
                                    "Country": "United States",
                                    "Region": "Virginia",
                                    "City": "Accomac",
                                    "TotalSales": "59005381.60",
                                    "NumberOfOrders": "118",
                                    "AverageOrderValue": "500045.61"
                                },
                                {
                                    "ID": "4",
                                    "CustomerID": "84",
                                    "CustomerName": "Tailspin Toys (Aceitunas, PR)",
                                    "Country": "United States",
                                    "Region": "Puerto Rico (US Territory)",
                                    "City": "Aceitunas",
                                    "TotalSales": "41629767.00",
                                    "NumberOfOrders": "108",
                                    "AverageOrderValue": "385460.81"
                                },
                                {
                                    "ID": "5",
                                    "CustomerID": "38",
                                    "CustomerName": "Tailspin Toys (Airport Drive, MO)",
                                    "Country": "United States",
                                    "Region": "Missouri",
                                    "City": "Airport Drive",
                                    "TotalSales": "66787500.00",
                                    "NumberOfOrders": "133",
                                    "AverageOrderValue": "502161.65"
                                }
                            ]
                        },
                        "text/html": [
                            "<table>",
                            "<tr><th>ID</th><th>CustomerID</th><th>CustomerName</th><th>Country</th><th>Region</th><th>City</th><th>TotalSales</th><th>NumberOfOrders</th><th>AverageOrderValue</th></tr>",
                            "<tr><td>1</td><td>841</td><td>Camille Authier</td><td>United States</td><td>North Carolina</td><td>Abbottsburg</td><td>72883772.05</td><td>123</td><td>592550.99</td></tr>",
                            "<tr><td>2</td><td>83</td><td>Tailspin Toys (Absecon, NJ)</td><td>United States</td><td>New Jersey</td><td>Absecon</td><td>42170822.10</td><td>110</td><td>383371.11</td></tr>",
                            "<tr><td>3</td><td>595</td><td>Wingtip Toys (Accomac, VA)</td><td>United States</td><td>Virginia</td><td>Accomac</td><td>59005381.60</td><td>118</td><td>500045.61</td></tr>",
                            "<tr><td>4</td><td>84</td><td>Tailspin Toys (Aceitunas, PR)</td><td>United States</td><td>Puerto Rico (US Territory)</td><td>Aceitunas</td><td>41629767.00</td><td>108</td><td>385460.81</td></tr>",
                            "<tr><td>5</td><td>38</td><td>Tailspin Toys (Airport Drive, MO)</td><td>United States</td><td>Missouri</td><td>Airport Drive</td><td>66787500.00</td><td>133</td><td>502161.65</td></tr>",
                            "</table>"
                        ]
                    }
                }
            ],
            "execution_count": 20
        },
        {
            "cell_type": "markdown",
            "source": [
                "### Part 3: DQL (Data Query Language) 🔍\n",
                "\n",
                "3.1 Create a stored procedure named usp\\_GetCustomerSegmentation that takes a sales threshold parameter and returns customers classified as \"Premium\" (equal to or greater than the threshold) or \"Standard\" (below the threshold)."
            ],
            "metadata": {
                "language": "sql",
                "azdata_cell_guid": "54b00f86-7c7b-4e7c-bcb1-eab71e3cfac1"
            },
            "attachments": {}
        },
        {
            "cell_type": "code",
            "source": [
                "CREATE PROCEDURE usp_GetCustomerSegmentation \r\n",
                "@SalesThreshold FLOAT\r\n",
                "AS\r\n",
                "BEGIN\r\n",
                "    SELECT\r\n",
                "        c.CustomerID,\r\n",
                "        c.CustomerName,\r\n",
                "        SUM(il.LineProfit) AS Totalsales,\r\n",
                "        CASE \r\n",
                "             When SUM(il.LineProfit) >= @SalesThreshold THEN 'Prenium'\r\n",
                "            ELSE 'Standard'\r\n",
                "        END AS CustomerSegm\r\n",
                "    FROM Sales.Customers c\r\n",
                "    JOIN Sales.Orders o ON c.CustomerID = o.CustomerID\r\n",
                "    JOIN Sales.Invoices i ON o.OrderID = i.OrderID\r\n",
                "    JOIN Sales.InvoiceLines il ON i.InvoiceID = il.InvoiceID\r\n",
                "    GROUP BY c.CustomerID, c.CustomerName\r\n",
                "\r\n",
                "END"
            ],
            "metadata": {
                "language": "sql",
                "azdata_cell_guid": "9132269d-58a6-4424-af83-94e16a304321"
            },
            "outputs": [
                {
                    "output_type": "display_data",
                    "data": {
                        "text/html": "Commands completed successfully."
                    },
                    "metadata": {}
                },
                {
                    "output_type": "display_data",
                    "data": {
                        "text/html": "Total execution time: 00:00:00.150"
                    },
                    "metadata": {}
                }
            ],
            "execution_count": 45
        },
        {
            "cell_type": "code",
            "source": [
                "EXEC usp_GetCustomerSegmentation 100000;"
            ],
            "metadata": {
                "language": "sql",
                "azdata_cell_guid": "e262f142-4455-4c82-8b3c-6a8132b4272a"
            },
            "outputs": [
                {
                    "output_type": "display_data",
                    "data": {
                        "text/html": "(663 rows affected)"
                    },
                    "metadata": {}
                },
                {
                    "output_type": "display_data",
                    "data": {
                        "text/html": "Total execution time: 00:00:02.060"
                    },
                    "metadata": {}
                },
                {
                    "output_type": "execute_result",
                    "metadata": {},
                    "execution_count": 46,
                    "data": {
                        "application/vnd.dataresource+json": {
                            "schema": {
                                "fields": [
                                    {
                                        "name": "CustomerID"
                                    },
                                    {
                                        "name": "CustomerName"
                                    },
                                    {
                                        "name": "Totalsales"
                                    },
                                    {
                                        "name": "CustomerSegm"
                                    }
                                ]
                            },
                            "data": [
                                {
                                    "CustomerID": "832",
                                    "CustomerName": "Aakriti Byrraju",
                                    "Totalsales": "146688.30",
                                    "CustomerSegm": "Prenium"
                                },
                                {
                                    "CustomerID": "836",
                                    "CustomerName": "Abel Spirlea",
                                    "Totalsales": "127500.45",
                                    "CustomerSegm": "Prenium"
                                },
                                {
                                    "CustomerID": "869",
                                    "CustomerName": "Abel Tatarescu",
                                    "Totalsales": "74358.60",
                                    "CustomerSegm": "Standard"
                                },
                                {
                                    "CustomerID": "1048",
                                    "CustomerName": "Abhra Ganguly",
                                    "Totalsales": "28603.90",
                                    "CustomerSegm": "Standard"
                                },
                                {
                                    "CustomerID": "901",
                                    "CustomerName": "Adrian Andreasson",
                                    "Totalsales": "140232.80",
                                    "CustomerSegm": "Prenium"
                                },
                                {
                                    "CustomerID": "1055",
                                    "CustomerName": "Adriana Pena",
                                    "Totalsales": "31628.55",
                                    "CustomerSegm": "Standard"
                                },
                                {
                                    "CustomerID": "1061",
                                    "CustomerName": "Agrita Abele",
                                    "Totalsales": "10154.85",
                                    "CustomerSegm": "Standard"
                                },
                                {
                                    "CustomerID": "817",
                                    "CustomerName": "Agrita Kanepa",
                                    "Totalsales": "129663.25",
                                    "CustomerSegm": "Prenium"
                                },
                                {
                                    "CustomerID": "1034",
                                    "CustomerName": "Aishwarya Dantuluri",
                                    "Totalsales": "82191.05",
                                    "CustomerSegm": "Standard"
                                },
                                {
                                    "CustomerID": "1016",
                                    "CustomerName": "Aive Petrov",
                                    "Totalsales": "124512.35",
                                    "CustomerSegm": "Prenium"
                                },
                                {
                                    "CustomerID": "906",
                                    "CustomerName": "Ajitaab Pakalapati",
                                    "Totalsales": "160276.05",
                                    "CustomerSegm": "Prenium"
                                },
                                {
                                    "CustomerID": "987",
                                    "CustomerName": "Akhil Nadar",
                                    "Totalsales": "117676.60",
                                    "CustomerSegm": "Prenium"
                                },
                                {
                                    "CustomerID": "804",
                                    "CustomerName": "Aleksandrs Riekstins",
                                    "Totalsales": "153504.75",
                                    "CustomerSegm": "Prenium"
                                },
                                {
                                    "CustomerID": "810",
                                    "CustomerName": "Alena Kellnerova",
                                    "Totalsales": "137445.65",
                                    "CustomerSegm": "Prenium"
                                },
                                {
                                    "CustomerID": "976",
                                    "CustomerName": "Alinne Matos",
                                    "Totalsales": "144795.45",
                                    "CustomerSegm": "Prenium"
                                },
                                {
                                    "CustomerID": "897",
                                    "CustomerName": "Allan Mannik",
                                    "Totalsales": "129356.55",
                                    "CustomerSegm": "Prenium"
                                },
                                {
                                    "CustomerID": "848",
                                    "CustomerName": "Alvin Bollinger",
                                    "Totalsales": "153617.00",
                                    "CustomerSegm": "Prenium"
                                },
                                {
                                    "CustomerID": "992",
                                    "CustomerName": "Amarakumaar Gadiyaram",
                                    "Totalsales": "134086.70",
                                    "CustomerSegm": "Prenium"
                                },
                                {
                                    "CustomerID": "861",
                                    "CustomerName": "Amarasimha Vinjamuri",
                                    "Totalsales": "165285.95",
                                    "CustomerSegm": "Prenium"
                                },
                                {
                                    "CustomerID": "1049",
                                    "CustomerName": "Amet Shergill",
                                    "Totalsales": "22256.80",
                                    "CustomerSegm": "Standard"
                                },
                                {
                                    "CustomerID": "1050",
                                    "CustomerName": "Amrita Ganguly",
                                    "Totalsales": "22639.00",
                                    "CustomerSegm": "Standard"
                                },
                                {
                                    "CustomerID": "915",
                                    "CustomerName": "Ana Florea",
                                    "Totalsales": "149008.10",
                                    "CustomerSegm": "Prenium"
                                },
                                {
                                    "CustomerID": "1060",
                                    "CustomerName": "Anand Mudaliyar",
                                    "Totalsales": "3260.40",
                                    "CustomerSegm": "Standard"
                                },
                                {
                                    "CustomerID": "968",
                                    "CustomerName": "Anca Gogean",
                                    "Totalsales": "143197.70",
                                    "CustomerSegm": "Prenium"
                                },
                                {
                                    "CustomerID": "990",
                                    "CustomerName": "Andris Saulitis",
                                    "Totalsales": "105898.05",
                                    "CustomerSegm": "Prenium"
                                },
                                {
                                    "CustomerID": "837",
                                    "CustomerName": "Anil Sarkar",
                                    "Totalsales": "111629.75",
                                    "CustomerSegm": "Prenium"
                                },
                                {
                                    "CustomerID": "884",
                                    "CustomerName": "Anindya Ghatak",
                                    "Totalsales": "158733.25",
                                    "CustomerSegm": "Prenium"
                                },
                                {
                                    "CustomerID": "938",
                                    "CustomerName": "Anna Gyarmathi",
                                    "Totalsales": "128158.65",
                                    "CustomerSegm": "Prenium"
                                },
                                {
                                    "CustomerID": "855",
                                    "CustomerName": "Anna Mazzanti",
                                    "Totalsales": "140728.55",
                                    "CustomerSegm": "Prenium"
                                },
                                {
                                    "CustomerID": "1013",
                                    "CustomerName": "Annette  Hetu",
                                    "Totalsales": "86824.15",
                                    "CustomerSegm": "Standard"
                                },
                                {
                                    "CustomerID": "928",
                                    "CustomerName": "Arijit Bhuiyan",
                                    "Totalsales": "165558.35",
                                    "CustomerSegm": "Prenium"
                                },
                                {
                                    "CustomerID": "1024",
                                    "CustomerName": "Arka Chatterjee",
                                    "Totalsales": "113825.15",
                                    "CustomerSegm": "Prenium"
                                },
                                {
                                    "CustomerID": "978",
                                    "CustomerName": "Baalaamjali Devulapalli",
                                    "Totalsales": "140603.85",
                                    "CustomerSegm": "Prenium"
                                },
                                {
                                    "CustomerID": "892",
                                    "CustomerName": "Bahaar Asef zade",
                                    "Totalsales": "152137.85",
                                    "CustomerSegm": "Prenium"
                                },
                                {
                                    "CustomerID": "803",
                                    "CustomerName": "Bala Dixit",
                                    "Totalsales": "137828.65",
                                    "CustomerSegm": "Prenium"
                                },
                                {
                                    "CustomerID": "887",
                                    "CustomerName": "Baran Jonsson",
                                    "Totalsales": "133452.40",
                                    "CustomerSegm": "Prenium"
                                },
                                {
                                    "CustomerID": "963",
                                    "CustomerName": "Be Trang",
                                    "Totalsales": "131686.75",
                                    "CustomerSegm": "Prenium"
                                },
                                {
                                    "CustomerID": "1039",
                                    "CustomerName": "Bhaamini Palagummi",
                                    "Totalsales": "49274.80",
                                    "CustomerSegm": "Standard"
                                },
                                {
                                    "CustomerID": "831",
                                    "CustomerName": "Bhaavan Rai",
                                    "Totalsales": "162122.45",
                                    "CustomerSegm": "Prenium"
                                },
                                {
                                    "CustomerID": "1005",
                                    "CustomerName": "Bhadram Kamasamudram",
                                    "Totalsales": "111631.30",
                                    "CustomerSegm": "Prenium"
                                },
                                {
                                    "CustomerID": "852",
                                    "CustomerName": "Bhagavaan Atluri",
                                    "Totalsales": "118658.55",
                                    "CustomerSegm": "Prenium"
                                },
                                {
                                    "CustomerID": "1009",
                                    "CustomerName": "Bhagavateeprasaad Malladi",
                                    "Totalsales": "137259.30",
                                    "CustomerSegm": "Prenium"
                                },
                                {
                                    "CustomerID": "962",
                                    "CustomerName": "Bhagavati Vinjamuri",
                                    "Totalsales": "137237.75",
                                    "CustomerSegm": "Prenium"
                                },
                                {
                                    "CustomerID": "865",
                                    "CustomerName": "Bijoya Thakur",
                                    "Totalsales": "100844.95",
                                    "CustomerSegm": "Prenium"
                                },
                                {
                                    "CustomerID": "842",
                                    "CustomerName": "Biju Deb",
                                    "Totalsales": "138778.80",
                                    "CustomerSegm": "Prenium"
                                },
                                {
                                    "CustomerID": "858",
                                    "CustomerName": "Bimla PrabhupÄda",
                                    "Totalsales": "134563.80",
                                    "CustomerSegm": "Prenium"
                                },
                                {
                                    "CustomerID": "903",
                                    "CustomerName": "Bing Han",
                                    "Totalsales": "113496.30",
                                    "CustomerSegm": "Prenium"
                                },
                                {
                                    "CustomerID": "941",
                                    "CustomerName": "Bishwa Chatterjee",
                                    "Totalsales": "164320.25",
                                    "CustomerSegm": "Prenium"
                                },
                                {
                                    "CustomerID": "841",
                                    "CustomerName": "Camille Authier",
                                    "Totalsales": "173946.95",
                                    "CustomerSegm": "Prenium"
                                },
                                {
                                    "CustomerID": "925",
                                    "CustomerName": "Can ozcan",
                                    "Totalsales": "105463.40",
                                    "CustomerSegm": "Prenium"
                                },
                                {
                                    "CustomerID": "853",
                                    "CustomerName": "Caterina Pinto",
                                    "Totalsales": "124944.65",
                                    "CustomerSegm": "Prenium"
                                },
                                {
                                    "CustomerID": "812",
                                    "CustomerName": "Celica Barajas",
                                    "Totalsales": "112269.85",
                                    "CustomerSegm": "Prenium"
                                },
                                {
                                    "CustomerID": "942",
                                    "CustomerName": "Chaayaadaevi Sonti",
                                    "Totalsales": "144329.70",
                                    "CustomerSegm": "Prenium"
                                },
                                {
                                    "CustomerID": "914",
                                    "CustomerName": "Chandana Shasthri",
                                    "Totalsales": "114244.40",
                                    "CustomerSegm": "Prenium"
                                },
                                {
                                    "CustomerID": "885",
                                    "CustomerName": "Chandrashekhar Dasgupta",
                                    "Totalsales": "152415.50",
                                    "CustomerSegm": "Prenium"
                                },
                                {
                                    "CustomerID": "899",
                                    "CustomerName": "Chin-Sun Chang",
                                    "Totalsales": "144394.70",
                                    "CustomerSegm": "Prenium"
                                },
                                {
                                    "CustomerID": "1030",
                                    "CustomerName": "Chompoo Atitarn",
                                    "Totalsales": "71015.30",
                                    "CustomerSegm": "Standard"
                                },
                                {
                                    "CustomerID": "1046",
                                    "CustomerName": "Christian Couet",
                                    "Totalsales": "52777.35",
                                    "CustomerSegm": "Standard"
                                },
                                {
                                    "CustomerID": "952",
                                    "CustomerName": "Chuan Wattanasin",
                                    "Totalsales": "122721.75",
                                    "CustomerSegm": "Prenium"
                                },
                                {
                                    "CustomerID": "857",
                                    "CustomerName": "Clarissa Manfrin",
                                    "Totalsales": "144661.20",
                                    "CustomerSegm": "Prenium"
                                },
                                {
                                    "CustomerID": "834",
                                    "CustomerName": "Cong Hoa",
                                    "Totalsales": "165158.95",
                                    "CustomerSegm": "Prenium"
                                },
                                {
                                    "CustomerID": "802",
                                    "CustomerName": "Cosmina Vlad",
                                    "Totalsales": "130248.65",
                                    "CustomerSegm": "Prenium"
                                },
                                {
                                    "CustomerID": "827",
                                    "CustomerName": "Crina Grasu",
                                    "Totalsales": "138961.80",
                                    "CustomerSegm": "Prenium"
                                },
                                {
                                    "CustomerID": "1033",
                                    "CustomerName": "Cuneyt Arslan",
                                    "Totalsales": "84930.20",
                                    "CustomerSegm": "Standard"
                                },
                                {
                                    "CustomerID": "854",
                                    "CustomerName": "Daakshaayaani Kommineni",
                                    "Totalsales": "123291.50",
                                    "CustomerSegm": "Prenium"
                                },
                                {
                                    "CustomerID": "850",
                                    "CustomerName": "Daakshaayaani Sankaramanchi",
                                    "Totalsales": "148749.00",
                                    "CustomerSegm": "Prenium"
                                },
                                {
                                    "CustomerID": "935",
                                    "CustomerName": "Daevasree Samavedam",
                                    "Totalsales": "128013.00",
                                    "CustomerSegm": "Prenium"
                                },
                                {
                                    "CustomerID": "1040",
                                    "CustomerName": "Damodar Shenoy",
                                    "Totalsales": "59324.10",
                                    "CustomerSegm": "Standard"
                                },
                                {
                                    "CustomerID": "1038",
                                    "CustomerName": "Damodara Trivedi",
                                    "Totalsales": "50087.60",
                                    "CustomerSegm": "Standard"
                                },
                                {
                                    "CustomerID": "874",
                                    "CustomerName": "Daniel Martensson",
                                    "Totalsales": "173490.95",
                                    "CustomerSegm": "Prenium"
                                },
                                {
                                    "CustomerID": "1026",
                                    "CustomerName": "Daniella Cavalcante",
                                    "Totalsales": "74911.35",
                                    "CustomerSegm": "Standard"
                                },
                                {
                                    "CustomerID": "871",
                                    "CustomerName": "Darshana Madhunapantula",
                                    "Totalsales": "123828.50",
                                    "CustomerSegm": "Prenium"
                                },
                                {
                                    "CustomerID": "1037",
                                    "CustomerName": "David Jaramillo",
                                    "Totalsales": "86318.10",
                                    "CustomerSegm": "Standard"
                                },
                                {
                                    "CustomerID": "1017",
                                    "CustomerName": "David Novacek ",
                                    "Totalsales": "108148.60",
                                    "CustomerSegm": "Prenium"
                                },
                                {
                                    "CustomerID": "946",
                                    "CustomerName": "David safranek",
                                    "Totalsales": "135273.20",
                                    "CustomerSegm": "Prenium"
                                },
                                {
                                    "CustomerID": "886",
                                    "CustomerName": "Debbie Molina",
                                    "Totalsales": "133848.65",
                                    "CustomerSegm": "Prenium"
                                },
                                {
                                    "CustomerID": "909",
                                    "CustomerName": "Dena Glissen",
                                    "Totalsales": "160497.85",
                                    "CustomerSegm": "Prenium"
                                },
                                {
                                    "CustomerID": "833",
                                    "CustomerName": "Devraj Rao",
                                    "Totalsales": "95000.30",
                                    "CustomerSegm": "Standard"
                                },
                                {
                                    "CustomerID": "959",
                                    "CustomerName": "Dhaatri Chavva",
                                    "Totalsales": "123980.10",
                                    "CustomerSegm": "Prenium"
                                },
                                {
                                    "CustomerID": "971",
                                    "CustomerName": "Dhanishta Mokkapati",
                                    "Totalsales": "125525.90",
                                    "CustomerSegm": "Prenium"
                                },
                                {
                                    "CustomerID": "1019",
                                    "CustomerName": "Dhanishta Pullela",
                                    "Totalsales": "85593.55",
                                    "CustomerSegm": "Standard"
                                },
                                {
                                    "CustomerID": "1001",
                                    "CustomerName": "Dinh Mai",
                                    "Totalsales": "172153.50",
                                    "CustomerSegm": "Prenium"
                                },
                                {
                                    "CustomerID": "1031",
                                    "CustomerName": "Dipti Shah",
                                    "Totalsales": "68536.60",
                                    "CustomerSegm": "Standard"
                                },
                                {
                                    "CustomerID": "835",
                                    "CustomerName": "Dominic Davignon",
                                    "Totalsales": "128212.70",
                                    "CustomerSegm": "Prenium"
                                },
                                {
                                    "CustomerID": "943",
                                    "CustomerName": "Drazenka Jelic",
                                    "Totalsales": "133916.70",
                                    "CustomerSegm": "Prenium"
                                },
                                {
                                    "CustomerID": "1004",
                                    "CustomerName": "Drishti Bose",
                                    "Totalsales": "122906.30",
                                    "CustomerSegm": "Prenium"
                                },
                                {
                                    "CustomerID": "844",
                                    "CustomerName": "Durdanah Abbasi",
                                    "Totalsales": "129938.45",
                                    "CustomerSegm": "Prenium"
                                },
                                {
                                    "CustomerID": "851",
                                    "CustomerName": "Ebru Erdogan",
                                    "Totalsales": "125037.50",
                                    "CustomerSegm": "Prenium"
                                },
                                {
                                    "CustomerID": "960",
                                    "CustomerName": "Edgar Jogi",
                                    "Totalsales": "152657.35",
                                    "CustomerSegm": "Prenium"
                                },
                                {
                                    "CustomerID": "880",
                                    "CustomerName": "Edmee Glissen",
                                    "Totalsales": "135454.05",
                                    "CustomerSegm": "Prenium"
                                },
                                {
                                    "CustomerID": "910",
                                    "CustomerName": "Elina Kaleja",
                                    "Totalsales": "153270.45",
                                    "CustomerSegm": "Prenium"
                                },
                                {
                                    "CustomerID": "951",
                                    "CustomerName": "Eliza Persson",
                                    "Totalsales": "105012.05",
                                    "CustomerSegm": "Prenium"
                                },
                                {
                                    "CustomerID": "974",
                                    "CustomerName": "Emil Roman",
                                    "Totalsales": "128367.35",
                                    "CustomerSegm": "Prenium"
                                },
                                {
                                    "CustomerID": "845",
                                    "CustomerName": "Emilie Hrdlickova",
                                    "Totalsales": "114593.70",
                                    "CustomerSegm": "Prenium"
                                },
                                {
                                    "CustomerID": "950",
                                    "CustomerName": "Emily Whittle",
                                    "Totalsales": "131201.05",
                                    "CustomerSegm": "Prenium"
                                },
                                {
                                    "CustomerID": "1054",
                                    "CustomerName": "Emma Salpa",
                                    "Totalsales": "25174.90",
                                    "CustomerSegm": "Standard"
                                },
                                {
                                    "CustomerID": "1028",
                                    "CustomerName": "Emma Van Zant",
                                    "Totalsales": "65278.45",
                                    "CustomerSegm": "Standard"
                                },
                                {
                                    "CustomerID": "801",
                                    "CustomerName": "Eric Torres",
                                    "Totalsales": "139728.10",
                                    "CustomerSegm": "Prenium"
                                },
                                {
                                    "CustomerID": "1036",
                                    "CustomerName": "Erik Malk",
                                    "Totalsales": "84711.35",
                                    "CustomerSegm": "Standard"
                                },
                                {
                                    "CustomerID": "907",
                                    "CustomerName": "Eugen Agafitei",
                                    "Totalsales": "152576.35",
                                    "CustomerSegm": "Prenium"
                                },
                                {
                                    "CustomerID": "924",
                                    "CustomerName": "Eva Schulteisz",
                                    "Totalsales": "134656.70",
                                    "CustomerSegm": "Prenium"
                                },
                                {
                                    "CustomerID": "1021",
                                    "CustomerName": "Fabrice Cloutier",
                                    "Totalsales": "74043.85",
                                    "CustomerSegm": "Standard"
                                },
                                {
                                    "CustomerID": "1023",
                                    "CustomerName": "Farzana Habibi",
                                    "Totalsales": "91030.90",
                                    "CustomerSegm": "Standard"
                                },
                                {
                                    "CustomerID": "823",
                                    "CustomerName": "Francisca Laureano",
                                    "Totalsales": "112551.95",
                                    "CustomerSegm": "Prenium"
                                },
                                {
                                    "CustomerID": "894",
                                    "CustomerName": "Gabriela Hernandes",
                                    "Totalsales": "137554.75",
                                    "CustomerSegm": "Prenium"
                                },
                                {
                                    "CustomerID": "1057",
                                    "CustomerName": "Ganesh Majumdar",
                                    "Totalsales": "23076.45",
                                    "CustomerSegm": "Standard"
                                },
                                {
                                    "CustomerID": "993",
                                    "CustomerName": "Gasper Havzija",
                                    "Totalsales": "126594.40",
                                    "CustomerSegm": "Prenium"
                                },
                                {
                                    "CustomerID": "920",
                                    "CustomerName": "Gayatri Gajula",
                                    "Totalsales": "124378.80",
                                    "CustomerSegm": "Prenium"
                                },
                                {
                                    "CustomerID": "895",
                                    "CustomerName": "Geza Roman",
                                    "Totalsales": "119670.50",
                                    "CustomerSegm": "Prenium"
                                },
                                {
                                    "CustomerID": "898",
                                    "CustomerName": "Gopalgobinda Sikdar",
                                    "Totalsales": "121195.05",
                                    "CustomerSegm": "Prenium"
                                },
                                {
                                    "CustomerID": "807",
                                    "CustomerName": "Gunnar Lohmus",
                                    "Totalsales": "149154.05",
                                    "CustomerSegm": "Prenium"
                                },
                                {
                                    "CustomerID": "1020",
                                    "CustomerName": "Hai Banh",
                                    "Totalsales": "98428.20",
                                    "CustomerSegm": "Standard"
                                },
                                {
                                    "CustomerID": "873",
                                    "CustomerName": "Hana Hlouskova",
                                    "Totalsales": "117730.65",
                                    "CustomerSegm": "Prenium"
                                },
                                {
                                    "CustomerID": "1044",
                                    "CustomerName": "Hanita Nookala",
                                    "Totalsales": "43696.05",
                                    "CustomerSegm": "Standard"
                                },
                                {
                                    "CustomerID": "816",
                                    "CustomerName": "Harsha Huq",
                                    "Totalsales": "143665.40",
                                    "CustomerSegm": "Prenium"
                                },
                                {
                                    "CustomerID": "957",
                                    "CustomerName": "Hee-Young Suh",
                                    "Totalsales": "118823.60",
                                    "CustomerSegm": "Prenium"
                                },
                                {
                                    "CustomerID": "945",
                                    "CustomerName": "Hoc Tran",
                                    "Totalsales": "150656.80",
                                    "CustomerSegm": "Prenium"
                                },
                                {
                                    "CustomerID": "1003",
                                    "CustomerName": "Hue Ton",
                                    "Totalsales": "135119.00",
                                    "CustomerSegm": "Prenium"
                                },
                                {
                                    "CustomerID": "1052",
                                    "CustomerName": "Ian Olofsson",
                                    "Totalsales": "30242.95",
                                    "CustomerSegm": "Standard"
                                },
                                {
                                    "CustomerID": "944",
                                    "CustomerName": "Ida Celma",
                                    "Totalsales": "153205.70",
                                    "CustomerSegm": "Prenium"
                                },
                                {
                                    "CustomerID": "964",
                                    "CustomerName": "Ingrida Zeltina",
                                    "Totalsales": "189239.35",
                                    "CustomerSegm": "Prenium"
                                },
                                {
                                    "CustomerID": "870",
                                    "CustomerName": "In-Su Bae",
                                    "Totalsales": "176754.05",
                                    "CustomerSegm": "Prenium"
                                },
                                {
                                    "CustomerID": "939",
                                    "CustomerName": "Ioana Florea",
                                    "Totalsales": "140694.05",
                                    "CustomerSegm": "Prenium"
                                },
                                {
                                    "CustomerID": "1007",
                                    "CustomerName": "Irma Berzina",
                                    "Totalsales": "153896.40",
                                    "CustomerSegm": "Prenium"
                                },
                                {
                                    "CustomerID": "1015",
                                    "CustomerName": "Isa Hulsegge",
                                    "Totalsales": "85465.60",
                                    "CustomerSegm": "Standard"
                                },
                                {
                                    "CustomerID": "918",
                                    "CustomerName": "Isidora Morales",
                                    "Totalsales": "144068.35",
                                    "CustomerSegm": "Prenium"
                                },
                                {
                                    "CustomerID": "970",
                                    "CustomerName": "Isidora Urias",
                                    "Totalsales": "130431.00",
                                    "CustomerSegm": "Prenium"
                                },
                                {
                                    "CustomerID": "934",
                                    "CustomerName": "Ivan Sepulveda",
                                    "Totalsales": "144631.45",
                                    "CustomerSegm": "Prenium"
                                },
                                {
                                    "CustomerID": "1047",
                                    "CustomerName": "Ivana Hadrabova",
                                    "Totalsales": "25311.75",
                                    "CustomerSegm": "Standard"
                                },
                                {
                                    "CustomerID": "829",
                                    "CustomerName": "Jack Walker",
                                    "Totalsales": "146062.75",
                                    "CustomerSegm": "Prenium"
                                },
                                {
                                    "CustomerID": "808",
                                    "CustomerName": "Jackson Kolios",
                                    "Totalsales": "116463.05",
                                    "CustomerSegm": "Prenium"
                                },
                                {
                                    "CustomerID": "888",
                                    "CustomerName": "Jai Lamble",
                                    "Totalsales": "141718.05",
                                    "CustomerSegm": "Prenium"
                                },
                                {
                                    "CustomerID": "863",
                                    "CustomerName": "Jakub Lukes",
                                    "Totalsales": "143133.30",
                                    "CustomerSegm": "Prenium"
                                },
                                {
                                    "CustomerID": "830",
                                    "CustomerName": "Jana Fialova",
                                    "Totalsales": "147901.35",
                                    "CustomerSegm": "Prenium"
                                },
                                {
                                    "CustomerID": "1058",
                                    "CustomerName": "Jaroslav Fisar",
                                    "Totalsales": "30093.40",
                                    "CustomerSegm": "Standard"
                                },
                                {
                                    "CustomerID": "867",
                                    "CustomerName": "Jasna Cerkez",
                                    "Totalsales": "152930.55",
                                    "CustomerSegm": "Prenium"
                                },
                                {
                                    "CustomerID": "866",
                                    "CustomerName": "Jay Bhuiyan",
                                    "Totalsales": "109130.85",
                                    "CustomerSegm": "Prenium"
                                },
                                {
                                    "CustomerID": "825",
                                    "CustomerName": "Jayanta Thakur",
                                    "Totalsales": "136761.45",
                                    "CustomerSegm": "Prenium"
                                },
                                {
                                    "CustomerID": "1059",
                                    "CustomerName": "Jibek Juniskyzy",
                                    "Totalsales": "6332.80",
                                    "CustomerSegm": "Standard"
                                },
                                {
                                    "CustomerID": "879",
                                    "CustomerName": "Jitka Necesana",
                                    "Totalsales": "130977.65",
                                    "CustomerSegm": "Prenium"
                                },
                                {
                                    "CustomerID": "933",
                                    "CustomerName": "Joel Carrillo",
                                    "Totalsales": "147879.80",
                                    "CustomerSegm": "Prenium"
                                },
                                {
                                    "CustomerID": "814",
                                    "CustomerName": "Johanna Hoornstra",
                                    "Totalsales": "85910.60",
                                    "CustomerSegm": "Standard"
                                },
                                {
                                    "CustomerID": "839",
                                    "CustomerName": "Juan Morse",
                                    "Totalsales": "105665.45",
                                    "CustomerSegm": "Prenium"
                                },
                                {
                                    "CustomerID": "1056",
                                    "CustomerName": "Kalyani Benjaree",
                                    "Totalsales": "20541.30",
                                    "CustomerSegm": "Standard"
                                },
                                {
                                    "CustomerID": "984",
                                    "CustomerName": "Kamala Nishad",
                                    "Totalsales": "137108.05",
                                    "CustomerSegm": "Prenium"
                                },
                                {
                                    "CustomerID": "902",
                                    "CustomerName": "Kamila Michnova",
                                    "Totalsales": "143532.60",
                                    "CustomerSegm": "Prenium"
                                },
                                {
                                    "CustomerID": "872",
                                    "CustomerName": "Katerina Hadrabova",
                                    "Totalsales": "143287.25",
                                    "CustomerSegm": "Prenium"
                                },
                                {
                                    "CustomerID": "919",
                                    "CustomerName": "Kertu Sokk",
                                    "Totalsales": "117969.80",
                                    "CustomerSegm": "Prenium"
                                },
                                {
                                    "CustomerID": "820",
                                    "CustomerName": "Knut Svensson",
                                    "Totalsales": "153360.35",
                                    "CustomerSegm": "Prenium"
                                },
                                {
                                    "CustomerID": "1000",
                                    "CustomerName": "Krishnam Allu",
                                    "Totalsales": "140939.00",
                                    "CustomerSegm": "Prenium"
                                },
                                {
                                    "CustomerID": "999",
                                    "CustomerName": "Kristi Part",
                                    "Totalsales": "118728.45",
                                    "CustomerSegm": "Prenium"
                                },
                                {
                                    "CustomerID": "847",
                                    "CustomerName": "Kristiina Ivanov",
                                    "Totalsales": "110603.45",
                                    "CustomerSegm": "Prenium"
                                },
                                {
                                    "CustomerID": "973",
                                    "CustomerName": "Kumar Kamei",
                                    "Totalsales": "152493.90",
                                    "CustomerSegm": "Prenium"
                                },
                                {
                                    "CustomerID": "995",
                                    "CustomerName": "Kumar Naicker",
                                    "Totalsales": "132857.90",
                                    "CustomerSegm": "Prenium"
                                },
                                {
                                    "CustomerID": "821",
                                    "CustomerName": "Kwanjai Saowaluk",
                                    "Totalsales": "142294.05",
                                    "CustomerSegm": "Prenium"
                                },
                                {
                                    "CustomerID": "972",
                                    "CustomerName": "Lakshmi Benipal",
                                    "Totalsales": "147219.80",
                                    "CustomerSegm": "Prenium"
                                },
                                {
                                    "CustomerID": "862",
                                    "CustomerName": "Lana Goransson",
                                    "Totalsales": "136594.10",
                                    "CustomerSegm": "Prenium"
                                },
                                {
                                    "CustomerID": "996",
                                    "CustomerName": "Laszlo Gardenier",
                                    "Totalsales": "172134.75",
                                    "CustomerSegm": "Prenium"
                                },
                                {
                                    "CustomerID": "868",
                                    "CustomerName": "Laura Sykorova",
                                    "Totalsales": "125704.90",
                                    "CustomerSegm": "Prenium"
                                },
                                {
                                    "CustomerID": "826",
                                    "CustomerName": "Leila Carvalho",
                                    "Totalsales": "142390.80",
                                    "CustomerSegm": "Prenium"
                                },
                                {
                                    "CustomerID": "896",
                                    "CustomerName": "Leonardo Folliero",
                                    "Totalsales": "127596.40",
                                    "CustomerSegm": "Prenium"
                                },
                                {
                                    "CustomerID": "893",
                                    "CustomerName": "Leyla Asef zade",
                                    "Totalsales": "122521.25",
                                    "CustomerSegm": "Prenium"
                                },
                                {
                                    "CustomerID": "877",
                                    "CustomerName": "Leyla Siavashi",
                                    "Totalsales": "150882.60",
                                    "CustomerSegm": "Prenium"
                                },
                                {
                                    "CustomerID": "994",
                                    "CustomerName": "Libuse Kuchtova",
                                    "Totalsales": "121214.40",
                                    "CustomerSegm": "Prenium"
                                },
                                {
                                    "CustomerID": "815",
                                    "CustomerName": "Libuse Valentova",
                                    "Totalsales": "152092.65",
                                    "CustomerSegm": "Prenium"
                                },
                                {
                                    "CustomerID": "818",
                                    "CustomerName": "Liia Orav",
                                    "Totalsales": "108668.30",
                                    "CustomerSegm": "Prenium"
                                },
                                {
                                    "CustomerID": "911",
                                    "CustomerName": "Liidia Lepp",
                                    "Totalsales": "134383.25",
                                    "CustomerSegm": "Prenium"
                                },
                                {
                                    "CustomerID": "900",
                                    "CustomerName": "Lilli Sokk",
                                    "Totalsales": "151304.70",
                                    "CustomerSegm": "Prenium"
                                },
                                {
                                    "CustomerID": "953",
                                    "CustomerName": "Linh Dao",
                                    "Totalsales": "144145.85",
                                    "CustomerSegm": "Prenium"
                                },
                                {
                                    "CustomerID": "940",
                                    "CustomerName": "Lorin Astrom",
                                    "Totalsales": "103526.70",
                                    "CustomerSegm": "Prenium"
                                },
                                {
                                    "CustomerID": "936",
                                    "CustomerName": "Ludmila Smidova",
                                    "Totalsales": "141576.70",
                                    "CustomerSegm": "Prenium"
                                },
                                {
                                    "CustomerID": "1053",
                                    "CustomerName": "Luis Saucedo",
                                    "Totalsales": "19605.20",
                                    "CustomerSegm": "Standard"
                                },
                                {
                                    "CustomerID": "809",
                                    "CustomerName": "Madhu Dwivedi",
                                    "Totalsales": "114255.00",
                                    "CustomerSegm": "Prenium"
                                },
                                {
                                    "CustomerID": "881",
                                    "CustomerName": "Magdalena Michnova",
                                    "Totalsales": "119154.95",
                                    "CustomerSegm": "Prenium"
                                },
                                {
                                    "CustomerID": "998",
                                    "CustomerName": "Mahavir Sonkar",
                                    "Totalsales": "119009.05",
                                    "CustomerSegm": "Prenium"
                                },
                                {
                                    "CustomerID": "981",
                                    "CustomerName": "Mahmut ozbek",
                                    "Totalsales": "142461.45",
                                    "CustomerSegm": "Prenium"
                                },
                                {
                                    "CustomerID": "988",
                                    "CustomerName": "Maksims Krastins",
                                    "Totalsales": "157720.50",
                                    "CustomerSegm": "Prenium"
                                },
                                {
                                    "CustomerID": "846",
                                    "CustomerName": "Malorie Bousquet",
                                    "Totalsales": "115000.40",
                                    "CustomerSegm": "Prenium"
                                },
                                {
                                    "CustomerID": "937",
                                    "CustomerName": "Manca Hrastovsek",
                                    "Totalsales": "94851.60",
                                    "CustomerSegm": "Standard"
                                },
                                {
                                    "CustomerID": "1035",
                                    "CustomerName": "Manjunatha Karnik",
                                    "Totalsales": "64301.30",
                                    "CustomerSegm": "Standard"
                                },
                                {
                                    "CustomerID": "860",
                                    "CustomerName": "Marcela Lucescu",
                                    "Totalsales": "130747.70",
                                    "CustomerSegm": "Prenium"
                                },
                                {
                                    "CustomerID": "876",
                                    "CustomerName": "Marie LeBatelier",
                                    "Totalsales": "148075.95",
                                    "CustomerSegm": "Prenium"
                                },
                                {
                                    "CustomerID": "843",
                                    "CustomerName": "Marija Justina Pasek",
                                    "Totalsales": "122791.60",
                                    "CustomerSegm": "Prenium"
                                },
                                {
                                    "CustomerID": "882",
                                    "CustomerName": "Maryann Huddleston",
                                    "Totalsales": "146416.15",
                                    "CustomerSegm": "Prenium"
                                },
                                {
                                    "CustomerID": "1045",
                                    "CustomerName": "Matteo Cattaneo",
                                    "Totalsales": "71694.05",
                                    "CustomerSegm": "Standard"
                                },
                                {
                                    "CustomerID": "927",
                                    "CustomerName": "Matyas Sedlar",
                                    "Totalsales": "104742.45",
                                    "CustomerSegm": "Prenium"
                                },
                                {
                                    "CustomerID": "977",
                                    "CustomerName": "Mauno Laurila",
                                    "Totalsales": "172559.80",
                                    "CustomerSegm": "Prenium"
                                },
                                {
                                    "CustomerID": "967",
                                    "CustomerName": "Meera Patel",
                                    "Totalsales": "149569.95",
                                    "CustomerSegm": "Prenium"
                                },
                                {
                                    "CustomerID": "979",
                                    "CustomerName": "Melani Ravlen",
                                    "Totalsales": "131889.50",
                                    "CustomerSegm": "Prenium"
                                },
                                {
                                    "CustomerID": "864",
                                    "CustomerName": "Mikhail Degtyarev",
                                    "Totalsales": "105630.80",
                                    "CustomerSegm": "Prenium"
                                },
                                {
                                    "CustomerID": "989",
                                    "CustomerName": "Milinka Zujovic",
                                    "Totalsales": "89137.80",
                                    "CustomerSegm": "Standard"
                                },
                                {
                                    "CustomerID": "878",
                                    "CustomerName": "Miriam House",
                                    "Totalsales": "123619.15",
                                    "CustomerSegm": "Prenium"
                                },
                                {
                                    "CustomerID": "997",
                                    "CustomerName": "Nada Ana Slosar",
                                    "Totalsales": "131092.15",
                                    "CustomerSegm": "Prenium"
                                },
                                {
                                    "CustomerID": "931",
                                    "CustomerName": "Nada Jovanovic",
                                    "Totalsales": "123062.75",
                                    "CustomerSegm": "Prenium"
                                },
                                {
                                    "CustomerID": "1022",
                                    "CustomerName": "Nadir Seddigh",
                                    "Totalsales": "90078.10",
                                    "CustomerSegm": "Standard"
                                },
                                {
                                    "CustomerID": "1014",
                                    "CustomerName": "Narendra Tickoo",
                                    "Totalsales": "108627.65",
                                    "CustomerSegm": "Prenium"
                                },
                                {
                                    "CustomerID": "954",
                                    "CustomerName": "Nasrin Omidzadeh",
                                    "Totalsales": "181555.60",
                                    "CustomerSegm": "Prenium"
                                },
                                {
                                    "CustomerID": "986",
                                    "CustomerName": "Neil Farrelly",
                                    "Totalsales": "138802.65",
                                    "CustomerSegm": "Prenium"
                                },
                                {
                                    "CustomerID": "1042",
                                    "CustomerName": "Nguyen Banh",
                                    "Totalsales": "56152.35",
                                    "CustomerSegm": "Standard"
                                },
                                {
                                    "CustomerID": "956",
                                    "CustomerName": "Nhung Thach",
                                    "Totalsales": "94779.30",
                                    "CustomerSegm": "Standard"
                                },
                                {
                                    "CustomerID": "932",
                                    "CustomerName": "Nicolo Cattaneo",
                                    "Totalsales": "120705.75",
                                    "CustomerSegm": "Prenium"
                                },
                                {
                                    "CustomerID": "1018",
                                    "CustomerName": "Nils Kaulins",
                                    "Totalsales": "111533.95",
                                    "CustomerSegm": "Prenium"
                                },
                                {
                                    "CustomerID": "904",
                                    "CustomerName": "Olafs Rozitis",
                                    "Totalsales": "116261.95",
                                    "CustomerSegm": "Prenium"
                                },
                                {
                                    "CustomerID": "890",
                                    "CustomerName": "Olya Izmaylov",
                                    "Totalsales": "159902.60",
                                    "CustomerSegm": "Prenium"
                                },
                                {
                                    "CustomerID": "980",
                                    "CustomerName": "Om Yadav",
                                    "Totalsales": "155604.85",
                                    "CustomerSegm": "Prenium"
                                },
                                {
                                    "CustomerID": "917",
                                    "CustomerName": "Pari Hosseini",
                                    "Totalsales": "107861.65",
                                    "CustomerSegm": "Prenium"
                                },
                                {
                                    "CustomerID": "838",
                                    "CustomerName": "Pavel Bogdanov",
                                    "Totalsales": "141734.55",
                                    "CustomerSegm": "Prenium"
                                },
                                {
                                    "CustomerID": "875",
                                    "CustomerName": "Philip Walker",
                                    "Totalsales": "147484.10",
                                    "CustomerSegm": "Prenium"
                                },
                                {
                                    "CustomerID": "965",
                                    "CustomerName": "Phoung Cu",
                                    "Totalsales": "126190.55",
                                    "CustomerSegm": "Prenium"
                                },
                                {
                                    "CustomerID": "916",
                                    "CustomerName": "Pinja Jantunen",
                                    "Totalsales": "141881.70",
                                    "CustomerSegm": "Prenium"
                                },
                                {
                                    "CustomerID": "975",
                                    "CustomerName": "Prabodh Nair",
                                    "Totalsales": "150752.45",
                                    "CustomerSegm": "Prenium"
                                },
                                {
                                    "CustomerID": "883",
                                    "CustomerName": "Radha Barua",
                                    "Totalsales": "116541.45",
                                    "CustomerSegm": "Prenium"
                                },
                                {
                                    "CustomerID": "955",
                                    "CustomerName": "Raghu Sandhu",
                                    "Totalsales": "143615.05",
                                    "CustomerSegm": "Prenium"
                                },
                                {
                                    "CustomerID": "1043",
                                    "CustomerName": "Raj Verma",
                                    "Totalsales": "70742.95",
                                    "CustomerSegm": "Standard"
                                },
                                {
                                    "CustomerID": "1011",
                                    "CustomerName": "Rajeev Sandhu",
                                    "Totalsales": "136235.05",
                                    "CustomerSegm": "Prenium"
                                },
                                {
                                    "CustomerID": "961",
                                    "CustomerName": "Rani Ganguly",
                                    "Totalsales": "153284.90",
                                    "CustomerSegm": "Prenium"
                                },
                                {
                                    "CustomerID": "805",
                                    "CustomerName": "Ratan Poddar",
                                    "Totalsales": "142938.25",
                                    "CustomerSegm": "Prenium"
                                },
                                {
                                    "CustomerID": "926",
                                    "CustomerName": "Richard Friar",
                                    "Totalsales": "113418.55",
                                    "CustomerSegm": "Prenium"
                                },
                                {
                                    "CustomerID": "948",
                                    "CustomerName": "Richard Zahradnicek",
                                    "Totalsales": "122194.05",
                                    "CustomerSegm": "Prenium"
                                },
                                {
                                    "CustomerID": "824",
                                    "CustomerName": "Risto Valbe",
                                    "Totalsales": "141061.90",
                                    "CustomerSegm": "Prenium"
                                },
                                {
                                    "CustomerID": "840",
                                    "CustomerName": "Rodrigo Figueiredo",
                                    "Totalsales": "117827.85",
                                    "CustomerSegm": "Prenium"
                                },
                                {
                                    "CustomerID": "985",
                                    "CustomerName": "Roko Ilic",
                                    "Totalsales": "121344.85",
                                    "CustomerSegm": "Prenium"
                                },
                                {
                                    "CustomerID": "983",
                                    "CustomerName": "Sabine Alksne",
                                    "Totalsales": "142630.30",
                                    "CustomerSegm": "Prenium"
                                },
                                {
                                    "CustomerID": "849",
                                    "CustomerName": "Sabine Zalite",
                                    "Totalsales": "149578.15",
                                    "CustomerSegm": "Prenium"
                                },
                                {
                                    "CustomerID": "819",
                                    "CustomerName": "Santiago Vera",
                                    "Totalsales": "115834.40",
                                    "CustomerSegm": "Prenium"
                                },
                                {
                                    "CustomerID": "905",
                                    "CustomerName": "Sara Huiting",
                                    "Totalsales": "134818.50",
                                    "CustomerSegm": "Prenium"
                                },
                                {
                                    "CustomerID": "966",
                                    "CustomerName": "Sara Walkky",
                                    "Totalsales": "120463.75",
                                    "CustomerSegm": "Prenium"
                                },
                                {
                                    "CustomerID": "856",
                                    "CustomerName": "Satish Mittal",
                                    "Totalsales": "179484.75",
                                    "CustomerSegm": "Prenium"
                                },
                                {
                                    "CustomerID": "949",
                                    "CustomerName": "Seo-yun Paik",
                                    "Totalsales": "178316.20",
                                    "CustomerSegm": "Prenium"
                                },
                                {
                                    "CustomerID": "828",
                                    "CustomerName": "Sercan Celik",
                                    "Totalsales": "144606.40",
                                    "CustomerSegm": "Prenium"
                                },
                                {
                                    "CustomerID": "1010",
                                    "CustomerName": "Serdar ozCelik",
                                    "Totalsales": "124733.60",
                                    "CustomerSegm": "Prenium"
                                },
                                {
                                    "CustomerID": "1027",
                                    "CustomerName": "Serdar ozden",
                                    "Totalsales": "79983.60",
                                    "CustomerSegm": "Standard"
                                },
                                {
                                    "CustomerID": "859",
                                    "CustomerName": "Shah Alizadeh",
                                    "Totalsales": "108256.45",
                                    "CustomerSegm": "Prenium"
                                },
                                {
                                    "CustomerID": "930",
                                    "CustomerName": "Shantanu Huq",
                                    "Totalsales": "154599.00",
                                    "CustomerSegm": "Prenium"
                                },
                                {
                                    "CustomerID": "806",
                                    "CustomerName": "Shi Tu",
                                    "Totalsales": "147091.90",
                                    "CustomerSegm": "Prenium"
                                },
                                {
                                    "CustomerID": "813",
                                    "CustomerName": "Shyam Poddar",
                                    "Totalsales": "158666.65",
                                    "CustomerSegm": "Prenium"
                                },
                                {
                                    "CustomerID": "889",
                                    "CustomerName": "Sointu Savonheimo",
                                    "Totalsales": "144584.40",
                                    "CustomerSegm": "Prenium"
                                },
                                {
                                    "CustomerID": "1032",
                                    "CustomerName": "Som Mukherjee",
                                    "Totalsales": "83120.15",
                                    "CustomerSegm": "Standard"
                                },
                                {
                                    "CustomerID": "969",
                                    "CustomerName": "Staffan Persson",
                                    "Totalsales": "100240.55",
                                    "CustomerSegm": "Prenium"
                                },
                                {
                                    "CustomerID": "1002",
                                    "CustomerName": "Stefan Selezeanu",
                                    "Totalsales": "132972.45",
                                    "CustomerSegm": "Prenium"
                                },
                                {
                                    "CustomerID": "908",
                                    "CustomerName": "Sumati Bhat",
                                    "Totalsales": "145681.40",
                                    "CustomerSegm": "Prenium"
                                },
                                {
                                    "CustomerID": "922",
                                    "CustomerName": "Sumati Chatterjee",
                                    "Totalsales": "124421.15",
                                    "CustomerSegm": "Prenium"
                                },
                                {
                                    "CustomerID": "822",
                                    "CustomerName": "Suparna Bhattacharya",
                                    "Totalsales": "128600.30",
                                    "CustomerSegm": "Prenium"
                                },
                                {
                                    "CustomerID": "811",
                                    "CustomerName": "Surendra Sahu",
                                    "Totalsales": "129076.05",
                                    "CustomerSegm": "Prenium"
                                },
                                {
                                    "CustomerID": "947",
                                    "CustomerName": "Svetlana Todorovic",
                                    "Totalsales": "151581.15",
                                    "CustomerSegm": "Prenium"
                                },
                                {
                                    "CustomerID": "1051",
                                    "CustomerName": "Sylvie Laramee",
                                    "Totalsales": "19752.00",
                                    "CustomerSegm": "Standard"
                                },
                                {
                                    "CustomerID": "923",
                                    "CustomerName": "Tai Bach",
                                    "Totalsales": "139114.50",
                                    "CustomerSegm": "Prenium"
                                },
                                {
                                    "CustomerID": "83",
                                    "CustomerName": "Tailspin Toys (Absecon, NJ)",
                                    "Totalsales": "129358.35",
                                    "CustomerSegm": "Prenium"
                                },
                                {
                                    "CustomerID": "84",
                                    "CustomerName": "Tailspin Toys (Aceitunas, PR)",
                                    "Totalsales": "119283.00",
                                    "CustomerSegm": "Prenium"
                                },
                                {
                                    "CustomerID": "38",
                                    "CustomerName": "Tailspin Toys (Airport Drive, MO)",
                                    "Totalsales": "162500.00",
                                    "CustomerSegm": "Prenium"
                                },
                                {
                                    "CustomerID": "91",
                                    "CustomerName": "Tailspin Toys (Alstead, NH)",
                                    "Totalsales": "106146.95",
                                    "CustomerSegm": "Prenium"
                                },
                                {
                                    "CustomerID": "44",
                                    "CustomerName": "Tailspin Toys (Amanda Park, WA)",
                                    "Totalsales": "117443.85",
                                    "CustomerSegm": "Prenium"
                                },
                                {
                                    "CustomerID": "85",
                                    "CustomerName": "Tailspin Toys (Andrix, CO)",
                                    "Totalsales": "130710.00",
                                    "CustomerSegm": "Prenium"
                                },
                                {
                                    "CustomerID": "125",
                                    "CustomerName": "Tailspin Toys (Annamoriah, WV)",
                                    "Totalsales": "139498.50",
                                    "CustomerSegm": "Prenium"
                                },
                                {
                                    "CustomerID": "151",
                                    "CustomerName": "Tailspin Toys (Antares, AZ)",
                                    "Totalsales": "147561.80",
                                    "CustomerSegm": "Prenium"
                                },
                                {
                                    "CustomerID": "199",
                                    "CustomerName": "Tailspin Toys (Antonito, CO)",
                                    "Totalsales": "113055.75",
                                    "CustomerSegm": "Prenium"
                                },
                                {
                                    "CustomerID": "155",
                                    "CustomerName": "Tailspin Toys (Arbor Vitae, WI)",
                                    "Totalsales": "135056.25",
                                    "CustomerSegm": "Prenium"
                                },
                                {
                                    "CustomerID": "42",
                                    "CustomerName": "Tailspin Toys (Arietta, NY)",
                                    "Totalsales": "144000.65",
                                    "CustomerSegm": "Prenium"
                                },
                                {
                                    "CustomerID": "178",
                                    "CustomerName": "Tailspin Toys (Armstrong Creek, WI)",
                                    "Totalsales": "141152.90",
                                    "CustomerSegm": "Prenium"
                                },
                                {
                                    "CustomerID": "141",
                                    "CustomerName": "Tailspin Toys (Arrow Rock, MO)",
                                    "Totalsales": "112614.15",
                                    "CustomerSegm": "Prenium"
                                },
                                {
                                    "CustomerID": "143",
                                    "CustomerName": "Tailspin Toys (Ashtabula, OH)",
                                    "Totalsales": "135245.25",
                                    "CustomerSegm": "Prenium"
                                },
                                {
                                    "CustomerID": "161",
                                    "CustomerName": "Tailspin Toys (Aspen Park, CO)",
                                    "Totalsales": "139265.25",
                                    "CustomerSegm": "Prenium"
                                },
                                {
                                    "CustomerID": "174",
                                    "CustomerName": "Tailspin Toys (Astor Park, FL)",
                                    "Totalsales": "125489.40",
                                    "CustomerSegm": "Prenium"
                                },
                                {
                                    "CustomerID": "25",
                                    "CustomerName": "Tailspin Toys (Avenal, CA)",
                                    "Totalsales": "138042.35",
                                    "CustomerSegm": "Prenium"
                                },
                                {
                                    "CustomerID": "148",
                                    "CustomerName": "Tailspin Toys (Baraboo, WI)",
                                    "Totalsales": "125985.95",
                                    "CustomerSegm": "Prenium"
                                },
                                {
                                    "CustomerID": "15",
                                    "CustomerName": "Tailspin Toys (Batson, TX)",
                                    "Totalsales": "153860.50",
                                    "CustomerSegm": "Prenium"
                                },
                                {
                                    "CustomerID": "146",
                                    "CustomerName": "Tailspin Toys (Belgreen, AL)",
                                    "Totalsales": "152717.35",
                                    "CustomerSegm": "Prenium"
                                },
                                {
                                    "CustomerID": "108",
                                    "CustomerName": "Tailspin Toys (Bernie, MO)",
                                    "Totalsales": "127832.05",
                                    "CustomerSegm": "Prenium"
                                },
                                {
                                    "CustomerID": "115",
                                    "CustomerName": "Tailspin Toys (Bethania, NC)",
                                    "Totalsales": "162702.70",
                                    "CustomerSegm": "Prenium"
                                },
                                {
                                    "CustomerID": "81",
                                    "CustomerName": "Tailspin Toys (Big Moose, NY)",
                                    "Totalsales": "168926.20",
                                    "CustomerSegm": "Prenium"
                                },
                                {
                                    "CustomerID": "12",
                                    "CustomerName": "Tailspin Toys (Biscay, MN)",
                                    "Totalsales": "124153.25",
                                    "CustomerSegm": "Prenium"
                                },
                                {
                                    "CustomerID": "8",
                                    "CustomerName": "Tailspin Toys (Bow Mar, CO)",
                                    "Totalsales": "111854.10",
                                    "CustomerSegm": "Prenium"
                                },
                                {
                                    "CustomerID": "27",
                                    "CustomerName": "Tailspin Toys (Bowlus, MN)",
                                    "Totalsales": "150461.80",
                                    "CustomerSegm": "Prenium"
                                },
                                {
                                    "CustomerID": "33",
                                    "CustomerName": "Tailspin Toys (Boyden Arbor, SC)",
                                    "Totalsales": "149700.50",
                                    "CustomerSegm": "Prenium"
                                },
                                {
                                    "CustomerID": "120",
                                    "CustomerName": "Tailspin Toys (Bratenahl, OH)",
                                    "Totalsales": "120286.75",
                                    "CustomerSegm": "Prenium"
                                },
                                {
                                    "CustomerID": "187",
                                    "CustomerName": "Tailspin Toys (Brown City, MI)",
                                    "Totalsales": "158632.00",
                                    "CustomerSegm": "Prenium"
                                },
                                {
                                    "CustomerID": "198",
                                    "CustomerName": "Tailspin Toys (Buell, MO)",
                                    "Totalsales": "172009.30",
                                    "CustomerSegm": "Prenium"
                                },
                                {
                                    "CustomerID": "137",
                                    "CustomerName": "Tailspin Toys (Carbonville, UT)",
                                    "Totalsales": "139499.55",
                                    "CustomerSegm": "Prenium"
                                },
                                {
                                    "CustomerID": "180",
                                    "CustomerName": "Tailspin Toys (Caselton, NV)",
                                    "Totalsales": "118872.30",
                                    "CustomerSegm": "Prenium"
                                },
                                {
                                    "CustomerID": "114",
                                    "CustomerName": "Tailspin Toys (Cherry Grove Beach, SC)",
                                    "Totalsales": "123986.05",
                                    "CustomerSegm": "Prenium"
                                },
                                {
                                    "CustomerID": "94",
                                    "CustomerName": "Tailspin Toys (Cheyenne Wells, CO)",
                                    "Totalsales": "161829.40",
                                    "CustomerSegm": "Prenium"
                                },
                                {
                                    "CustomerID": "93",
                                    "CustomerName": "Tailspin Toys (Clewiston, FL)",
                                    "Totalsales": "132438.85",
                                    "CustomerSegm": "Prenium"
                                },
                                {
                                    "CustomerID": "73",
                                    "CustomerName": "Tailspin Toys (Cokato, MN)",
                                    "Totalsales": "123913.65",
                                    "CustomerSegm": "Prenium"
                                },
                                {
                                    "CustomerID": "20",
                                    "CustomerName": "Tailspin Toys (College Place, WA)",
                                    "Totalsales": "108121.45",
                                    "CustomerSegm": "Prenium"
                                },
                                {
                                    "CustomerID": "16",
                                    "CustomerName": "Tailspin Toys (Coney Island, MO)",
                                    "Totalsales": "141311.95",
                                    "CustomerSegm": "Prenium"
                                },
                                {
                                    "CustomerID": "150",
                                    "CustomerName": "Tailspin Toys (Corfu, NY)",
                                    "Totalsales": "113077.20",
                                    "CustomerSegm": "Prenium"
                                },
                                {
                                    "CustomerID": "72",
                                    "CustomerName": "Tailspin Toys (Cortaro, AZ)",
                                    "Totalsales": "140592.35",
                                    "CustomerSegm": "Prenium"
                                },
                                {
                                    "CustomerID": "160",
                                    "CustomerName": "Tailspin Toys (Crary, ND)",
                                    "Totalsales": "122021.85",
                                    "CustomerSegm": "Prenium"
                                },
                                {
                                    "CustomerID": "101",
                                    "CustomerName": "Tailspin Toys (Cundiyo, NM)",
                                    "Totalsales": "129629.90",
                                    "CustomerSegm": "Prenium"
                                },
                                {
                                    "CustomerID": "113",
                                    "CustomerName": "Tailspin Toys (Dahlia, NM)",
                                    "Totalsales": "131888.20",
                                    "CustomerSegm": "Prenium"
                                },
                                {
                                    "CustomerID": "34",
                                    "CustomerName": "Tailspin Toys (Dallardsville, TX)",
                                    "Totalsales": "123802.55",
                                    "CustomerSegm": "Prenium"
                                },
                                {
                                    "CustomerID": "11",
                                    "CustomerName": "Tailspin Toys (Devault, PA)",
                                    "Totalsales": "159433.75",
                                    "CustomerSegm": "Prenium"
                                },
                                {
                                    "CustomerID": "39",
                                    "CustomerName": "Tailspin Toys (Diablock, KY)",
                                    "Totalsales": "121011.00",
                                    "CustomerSegm": "Prenium"
                                },
                                {
                                    "CustomerID": "158",
                                    "CustomerName": "Tailspin Toys (Donner, LA)",
                                    "Totalsales": "119506.90",
                                    "CustomerSegm": "Prenium"
                                },
                                {
                                    "CustomerID": "88",
                                    "CustomerName": "Tailspin Toys (Dracut, MA)",
                                    "Totalsales": "131971.55",
                                    "CustomerSegm": "Prenium"
                                },
                                {
                                    "CustomerID": "24",
                                    "CustomerName": "Tailspin Toys (Dundarrach, NC)",
                                    "Totalsales": "101523.50",
                                    "CustomerSegm": "Prenium"
                                },
                                {
                                    "CustomerID": "60",
                                    "CustomerName": "Tailspin Toys (East Dailey, WV)",
                                    "Totalsales": "110298.65",
                                    "CustomerSegm": "Prenium"
                                },
                                {
                                    "CustomerID": "17",
                                    "CustomerName": "Tailspin Toys (East Fultonham, OH)",
                                    "Totalsales": "149793.90",
                                    "CustomerSegm": "Prenium"
                                },
                                {
                                    "CustomerID": "128",
                                    "CustomerName": "Tailspin Toys (East Portal, CO)",
                                    "Totalsales": "144079.95",
                                    "CustomerSegm": "Prenium"
                                },
                                {
                                    "CustomerID": "170",
                                    "CustomerName": "Tailspin Toys (Eastchester, NY)",
                                    "Totalsales": "161317.55",
                                    "CustomerSegm": "Prenium"
                                },
                                {
                                    "CustomerID": "154",
                                    "CustomerName": "Tailspin Toys (Eden Valley, MN)",
                                    "Totalsales": "109091.10",
                                    "CustomerSegm": "Prenium"
                                },
                                {
                                    "CustomerID": "59",
                                    "CustomerName": "Tailspin Toys (Edgartown, MA)",
                                    "Totalsales": "125136.05",
                                    "CustomerSegm": "Prenium"
                                },
                                {
                                    "CustomerID": "36",
                                    "CustomerName": "Tailspin Toys (Ekron, KY)",
                                    "Totalsales": "104970.80",
                                    "CustomerSegm": "Prenium"
                                },
                                {
                                    "CustomerID": "98",
                                    "CustomerName": "Tailspin Toys (El Centro, CA)",
                                    "Totalsales": "159568.35",
                                    "CustomerSegm": "Prenium"
                                },
                                {
                                    "CustomerID": "121",
                                    "CustomerName": "Tailspin Toys (Elrosa, MN)",
                                    "Totalsales": "133985.75",
                                    "CustomerSegm": "Prenium"
                                },
                                {
                                    "CustomerID": "29",
                                    "CustomerName": "Tailspin Toys (Eulaton, AL)",
                                    "Totalsales": "117716.55",
                                    "CustomerSegm": "Prenium"
                                },
                                {
                                    "CustomerID": "61",
                                    "CustomerName": "Tailspin Toys (Fairfield Glade, TN)",
                                    "Totalsales": "107394.45",
                                    "CustomerSegm": "Prenium"
                                },
                                {
                                    "CustomerID": "102",
                                    "CustomerName": "Tailspin Toys (Fieldbrook, CA)",
                                    "Totalsales": "163720.60",
                                    "CustomerSegm": "Prenium"
                                },
                                {
                                    "CustomerID": "147",
                                    "CustomerName": "Tailspin Toys (Fishtail, MT)",
                                    "Totalsales": "116578.55",
                                    "CustomerSegm": "Prenium"
                                },
                                {
                                    "CustomerID": "126",
                                    "CustomerName": "Tailspin Toys (Francis Mills, NJ)",
                                    "Totalsales": "101180.50",
                                    "CustomerSegm": "Prenium"
                                },
                                {
                                    "CustomerID": "7",
                                    "CustomerName": "Tailspin Toys (Frankewing, TN)",
                                    "Totalsales": "156998.65",
                                    "CustomerSegm": "Prenium"
                                },
                                {
                                    "CustomerID": "140",
                                    "CustomerName": "Tailspin Toys (Furley, KS)",
                                    "Totalsales": "155608.00",
                                    "CustomerSegm": "Prenium"
                                },
                                {
                                    "CustomerID": "68",
                                    "CustomerName": "Tailspin Toys (Gardere, LA)",
                                    "Totalsales": "135241.95",
                                    "CustomerSegm": "Prenium"
                                },
                                {
                                    "CustomerID": "5",
                                    "CustomerName": "Tailspin Toys (Gasport, NY)",
                                    "Totalsales": "131528.05",
                                    "CustomerSegm": "Prenium"
                                },
                                {
                                    "CustomerID": "107",
                                    "CustomerName": "Tailspin Toys (Glen Avon, CA)",
                                    "Totalsales": "136495.95",
                                    "CustomerSegm": "Prenium"
                                },
                                {
                                    "CustomerID": "162",
                                    "CustomerName": "Tailspin Toys (Glen Park, NY)",
                                    "Totalsales": "133795.05",
                                    "CustomerSegm": "Prenium"
                                },
                                {
                                    "CustomerID": "18",
                                    "CustomerName": "Tailspin Toys (Goffstown, NH)",
                                    "Totalsales": "130167.00",
                                    "CustomerSegm": "Prenium"
                                },
                                {
                                    "CustomerID": "71",
                                    "CustomerName": "Tailspin Toys (Good Hart, MI)",
                                    "Totalsales": "172888.50",
                                    "CustomerSegm": "Prenium"
                                },
                                {
                                    "CustomerID": "62",
                                    "CustomerName": "Tailspin Toys (Great Neck Estates, NY)",
                                    "Totalsales": "109058.65",
                                    "CustomerSegm": "Prenium"
                                },
                                {
                                    "CustomerID": "99",
                                    "CustomerName": "Tailspin Toys (Guin, AL)",
                                    "Totalsales": "154069.30",
                                    "CustomerSegm": "Prenium"
                                },
                                {
                                    "CustomerID": "55",
                                    "CustomerName": "Tailspin Toys (Gum Branch, GA)",
                                    "Totalsales": "159060.50",
                                    "CustomerSegm": "Prenium"
                                },
                                {
                                    "CustomerID": "77",
                                    "CustomerName": "Tailspin Toys (Hahira, GA)",
                                    "Totalsales": "120776.75",
                                    "CustomerSegm": "Prenium"
                                },
                                {
                                    "CustomerID": "50",
                                    "CustomerName": "Tailspin Toys (Hambleton, WV)",
                                    "Totalsales": "137330.90",
                                    "CustomerSegm": "Prenium"
                                },
                                {
                                    "CustomerID": "124",
                                    "CustomerName": "Tailspin Toys (Hanoverton, OH)",
                                    "Totalsales": "135912.95",
                                    "CustomerSegm": "Prenium"
                                },
                                {
                                    "CustomerID": "139",
                                    "CustomerName": "Tailspin Toys (Hardeeville, SC)",
                                    "Totalsales": "136725.80",
                                    "CustomerSegm": "Prenium"
                                },
                                {
                                    "CustomerID": "182",
                                    "CustomerName": "Tailspin Toys (Hayes Center, NE)",
                                    "Totalsales": "154878.60",
                                    "CustomerSegm": "Prenium"
                                },
                                {
                                    "CustomerID": "1",
                                    "CustomerName": "Tailspin Toys (Head Office)",
                                    "Totalsales": "147225.15",
                                    "CustomerSegm": "Prenium"
                                },
                                {
                                    "CustomerID": "26",
                                    "CustomerName": "Tailspin Toys (Hedrick, IA)",
                                    "Totalsales": "134499.35",
                                    "CustomerSegm": "Prenium"
                                },
                                {
                                    "CustomerID": "181",
                                    "CustomerName": "Tailspin Toys (Heilwood, PA)",
                                    "Totalsales": "120216.45",
                                    "CustomerSegm": "Prenium"
                                },
                                {
                                    "CustomerID": "179",
                                    "CustomerName": "Tailspin Toys (Hiteman, IA)",
                                    "Totalsales": "116166.95",
                                    "CustomerSegm": "Prenium"
                                },
                                {
                                    "CustomerID": "64",
                                    "CustomerName": "Tailspin Toys (Hodgdon, ME)",
                                    "Totalsales": "133564.55",
                                    "CustomerSegm": "Prenium"
                                },
                                {
                                    "CustomerID": "156",
                                    "CustomerName": "Tailspin Toys (Hollywood Park, TX)",
                                    "Totalsales": "114356.75",
                                    "CustomerSegm": "Prenium"
                                },
                                {
                                    "CustomerID": "196",
                                    "CustomerName": "Tailspin Toys (Howells, NE)",
                                    "Totalsales": "126279.05",
                                    "CustomerSegm": "Prenium"
                                },
                                {
                                    "CustomerID": "52",
                                    "CustomerName": "Tailspin Toys (Idria, CA)",
                                    "Totalsales": "129008.75",
                                    "CustomerSegm": "Prenium"
                                },
                                {
                                    "CustomerID": "23",
                                    "CustomerName": "Tailspin Toys (Ikatan, AK)",
                                    "Totalsales": "108890.95",
                                    "CustomerSegm": "Prenium"
                                },
                                {
                                    "CustomerID": "51",
                                    "CustomerName": "Tailspin Toys (Imlaystown, NJ)",
                                    "Totalsales": "126479.45",
                                    "CustomerSegm": "Prenium"
                                },
                                {
                                    "CustomerID": "40",
                                    "CustomerName": "Tailspin Toys (Impact, TX)",
                                    "Totalsales": "150593.50",
                                    "CustomerSegm": "Prenium"
                                },
                                {
                                    "CustomerID": "74",
                                    "CustomerName": "Tailspin Toys (Indios, PR)",
                                    "Totalsales": "154280.70",
                                    "CustomerSegm": "Prenium"
                                },
                                {
                                    "CustomerID": "149",
                                    "CustomerName": "Tailspin Toys (Inguadona, MN)",
                                    "Totalsales": "189277.45",
                                    "CustomerSegm": "Prenium"
                                },
                                {
                                    "CustomerID": "46",
                                    "CustomerName": "Tailspin Toys (Jemison, AL)",
                                    "Totalsales": "120939.50",
                                    "CustomerSegm": "Prenium"
                                },
                                {
                                    "CustomerID": "6",
                                    "CustomerName": "Tailspin Toys (Jessie, ND)",
                                    "Totalsales": "130331.35",
                                    "CustomerSegm": "Prenium"
                                },
                                {
                                    "CustomerID": "103",
                                    "CustomerName": "Tailspin Toys (Kalvesta, KS)",
                                    "Totalsales": "142347.90",
                                    "CustomerSegm": "Prenium"
                                },
                                {
                                    "CustomerID": "37",
                                    "CustomerName": "Tailspin Toys (Kerby, OR)",
                                    "Totalsales": "148915.45",
                                    "CustomerSegm": "Prenium"
                                },
                                {
                                    "CustomerID": "142",
                                    "CustomerName": "Tailspin Toys (King Cove, AK)",
                                    "Totalsales": "135396.85",
                                    "CustomerSegm": "Prenium"
                                },
                                {
                                    "CustomerID": "193",
                                    "CustomerName": "Tailspin Toys (Knifley, KY)",
                                    "Totalsales": "128754.85",
                                    "CustomerSegm": "Prenium"
                                },
                                {
                                    "CustomerID": "30",
                                    "CustomerName": "Tailspin Toys (Koontzville, WA)",
                                    "Totalsales": "146448.20",
                                    "CustomerSegm": "Prenium"
                                },
                                {
                                    "CustomerID": "131",
                                    "CustomerName": "Tailspin Toys (Kwethluk, AK)",
                                    "Totalsales": "125620.45",
                                    "CustomerSegm": "Prenium"
                                },
                                {
                                    "CustomerID": "82",
                                    "CustomerName": "Tailspin Toys (La Cueva, NM)",
                                    "Totalsales": "140130.40",
                                    "CustomerSegm": "Prenium"
                                },
                                {
                                    "CustomerID": "133",
                                    "CustomerName": "Tailspin Toys (Lake Erie Beach, NY)",
                                    "Totalsales": "158990.75",
                                    "CustomerSegm": "Prenium"
                                },
                                {
                                    "CustomerID": "47",
                                    "CustomerName": "Tailspin Toys (Lake Hughes, CA)",
                                    "Totalsales": "116693.60",
                                    "CustomerSegm": "Prenium"
                                },
                                {
                                    "CustomerID": "31",
                                    "CustomerName": "Tailspin Toys (Lake Stevens, WA)",
                                    "Totalsales": "142534.90",
                                    "CustomerSegm": "Prenium"
                                },
                                {
                                    "CustomerID": "57",
                                    "CustomerName": "Tailspin Toys (Lakemore, OH)",
                                    "Totalsales": "110790.85",
                                    "CustomerSegm": "Prenium"
                                },
                                {
                                    "CustomerID": "144",
                                    "CustomerName": "Tailspin Toys (Larose, LA)",
                                    "Totalsales": "137834.65",
                                    "CustomerSegm": "Prenium"
                                },
                                {
                                    "CustomerID": "95",
                                    "CustomerName": "Tailspin Toys (Lavon, TX)",
                                    "Totalsales": "120914.25",
                                    "CustomerSegm": "Prenium"
                                },
                                {
                                    "CustomerID": "19",
                                    "CustomerName": "Tailspin Toys (Lemeta, AK)",
                                    "Totalsales": "107820.85",
                                    "CustomerSegm": "Prenium"
                                },
                                {
                                    "CustomerID": "195",
                                    "CustomerName": "Tailspin Toys (Lesslie, SC)",
                                    "Totalsales": "160764.10",
                                    "CustomerSegm": "Prenium"
                                },
                                {
                                    "CustomerID": "14",
                                    "CustomerName": "Tailspin Toys (Long Meadow, MD)",
                                    "Totalsales": "174221.40",
                                    "CustomerSegm": "Prenium"
                                },
                                {
                                    "CustomerID": "69",
                                    "CustomerName": "Tailspin Toys (Lytle Creek, CA)",
                                    "Totalsales": "129388.15",
                                    "CustomerSegm": "Prenium"
                                },
                                {
                                    "CustomerID": "66",
                                    "CustomerName": "Tailspin Toys (Madaket, MA)",
                                    "Totalsales": "97093.35",
                                    "CustomerSegm": "Standard"
                                },
                                {
                                    "CustomerID": "172",
                                    "CustomerName": "Tailspin Toys (Madrone, NM)",
                                    "Totalsales": "132933.95",
                                    "CustomerSegm": "Prenium"
                                },
                                {
                                    "CustomerID": "197",
                                    "CustomerName": "Tailspin Toys (Magalia, CA)",
                                    "Totalsales": "87739.50",
                                    "CustomerSegm": "Standard"
                                },
                                {
                                    "CustomerID": "176",
                                    "CustomerName": "Tailspin Toys (Malott, WA)",
                                    "Totalsales": "152722.10",
                                    "CustomerSegm": "Prenium"
                                },
                                {
                                    "CustomerID": "145",
                                    "CustomerName": "Tailspin Toys (Manahawkin, NJ)",
                                    "Totalsales": "133498.75",
                                    "CustomerSegm": "Prenium"
                                },
                                {
                                    "CustomerID": "97",
                                    "CustomerName": "Tailspin Toys (Manchester Center, VT)",
                                    "Totalsales": "141768.05",
                                    "CustomerSegm": "Prenium"
                                },
                                {
                                    "CustomerID": "130",
                                    "CustomerName": "Tailspin Toys (Maple Shade, NJ)",
                                    "Totalsales": "138794.65",
                                    "CustomerSegm": "Prenium"
                                },
                                {
                                    "CustomerID": "58",
                                    "CustomerName": "Tailspin Toys (Mappsburg, VA)",
                                    "Totalsales": "133025.60",
                                    "CustomerSegm": "Prenium"
                                },
                                {
                                    "CustomerID": "153",
                                    "CustomerName": "Tailspin Toys (Marcell, MN)",
                                    "Totalsales": "151007.45",
                                    "CustomerSegm": "Prenium"
                                },
                                {
                                    "CustomerID": "32",
                                    "CustomerName": "Tailspin Toys (Maypearl, TX)",
                                    "Totalsales": "166381.00",
                                    "CustomerSegm": "Prenium"
                                },
                                {
                                    "CustomerID": "166",
                                    "CustomerName": "Tailspin Toys (McCamey, TX)",
                                    "Totalsales": "152101.15",
                                    "CustomerSegm": "Prenium"
                                },
                                {
                                    "CustomerID": "122",
                                    "CustomerName": "Tailspin Toys (McClave, CO)",
                                    "Totalsales": "142618.85",
                                    "CustomerSegm": "Prenium"
                                },
                                {
                                    "CustomerID": "4",
                                    "CustomerName": "Tailspin Toys (Medicine Lodge, KS)",
                                    "Totalsales": "144168.85",
                                    "CustomerSegm": "Prenium"
                                },
                                {
                                    "CustomerID": "129",
                                    "CustomerName": "Tailspin Toys (Mineral Hills, MI)",
                                    "Totalsales": "136618.65",
                                    "CustomerSegm": "Prenium"
                                },
                                {
                                    "CustomerID": "132",
                                    "CustomerName": "Tailspin Toys (Minidoka, ID)",
                                    "Totalsales": "185432.55",
                                    "CustomerSegm": "Prenium"
                                },
                                {
                                    "CustomerID": "136",
                                    "CustomerName": "Tailspin Toys (Mount Montgomery, NV)",
                                    "Totalsales": "124047.40",
                                    "CustomerSegm": "Prenium"
                                },
                                {
                                    "CustomerID": "49",
                                    "CustomerName": "Tailspin Toys (Muir, MI)",
                                    "Totalsales": "110474.00",
                                    "CustomerSegm": "Prenium"
                                },
                                {
                                    "CustomerID": "53",
                                    "CustomerName": "Tailspin Toys (Nanafalia, AL)",
                                    "Totalsales": "130512.35",
                                    "CustomerSegm": "Prenium"
                                },
                                {
                                    "CustomerID": "194",
                                    "CustomerName": "Tailspin Toys (Naples Park, FL)",
                                    "Totalsales": "106233.60",
                                    "CustomerSegm": "Prenium"
                                },
                                {
                                    "CustomerID": "138",
                                    "CustomerName": "Tailspin Toys (Navassa, NC)",
                                    "Totalsales": "150841.40",
                                    "CustomerSegm": "Prenium"
                                },
                                {
                                    "CustomerID": "9",
                                    "CustomerName": "Tailspin Toys (Netcong, NJ)",
                                    "Totalsales": "134838.55",
                                    "CustomerSegm": "Prenium"
                                },
                                {
                                    "CustomerID": "70",
                                    "CustomerName": "Tailspin Toys (New Baden, IL)",
                                    "Totalsales": "149661.65",
                                    "CustomerSegm": "Prenium"
                                },
                                {
                                    "CustomerID": "86",
                                    "CustomerName": "Tailspin Toys (New Lexington, OH)",
                                    "Totalsales": "151467.70",
                                    "CustomerSegm": "Prenium"
                                },
                                {
                                    "CustomerID": "65",
                                    "CustomerName": "Tailspin Toys (North Cowden, TX)",
                                    "Totalsales": "161912.45",
                                    "CustomerSegm": "Prenium"
                                },
                                {
                                    "CustomerID": "110",
                                    "CustomerName": "Tailspin Toys (North Crows Nest, IN)",
                                    "Totalsales": "155296.05",
                                    "CustomerSegm": "Prenium"
                                },
                                {
                                    "CustomerID": "28",
                                    "CustomerName": "Tailspin Toys (North Ridge, NY)",
                                    "Totalsales": "140231.50",
                                    "CustomerSegm": "Prenium"
                                },
                                {
                                    "CustomerID": "41",
                                    "CustomerName": "Tailspin Toys (Olivette, MO)",
                                    "Totalsales": "117975.00",
                                    "CustomerSegm": "Prenium"
                                },
                                {
                                    "CustomerID": "192",
                                    "CustomerName": "Tailspin Toys (Optimo, NM)",
                                    "Totalsales": "152211.95",
                                    "CustomerSegm": "Prenium"
                                },
                                {
                                    "CustomerID": "191",
                                    "CustomerName": "Tailspin Toys (Orchard Hill, GA)",
                                    "Totalsales": "146626.30",
                                    "CustomerSegm": "Prenium"
                                },
                                {
                                    "CustomerID": "111",
                                    "CustomerName": "Tailspin Toys (Oriole Beach, FL)",
                                    "Totalsales": "88623.85",
                                    "CustomerSegm": "Standard"
                                },
                                {
                                    "CustomerID": "177",
                                    "CustomerName": "Tailspin Toys (Orrtanna, PA)",
                                    "Totalsales": "158133.45",
                                    "CustomerSegm": "Prenium"
                                },
                                {
                                    "CustomerID": "171",
                                    "CustomerName": "Tailspin Toys (Ortley Beach, NJ)",
                                    "Totalsales": "134264.95",
                                    "CustomerSegm": "Prenium"
                                },
                                {
                                    "CustomerID": "79",
                                    "CustomerName": "Tailspin Toys (Page City, KS)",
                                    "Totalsales": "131186.30",
                                    "CustomerSegm": "Prenium"
                                },
                                {
                                    "CustomerID": "163",
                                    "CustomerName": "Tailspin Toys (Panaca, NV)",
                                    "Totalsales": "120120.10",
                                    "CustomerSegm": "Prenium"
                                },
                                {
                                    "CustomerID": "3",
                                    "CustomerName": "Tailspin Toys (Peeples Valley, AZ)",
                                    "Totalsales": "160693.15",
                                    "CustomerSegm": "Prenium"
                                },
                                {
                                    "CustomerID": "186",
                                    "CustomerName": "Tailspin Toys (Placer, OR)",
                                    "Totalsales": "156166.05",
                                    "CustomerSegm": "Prenium"
                                },
                                {
                                    "CustomerID": "127",
                                    "CustomerName": "Tailspin Toys (Point Roberts, WA)",
                                    "Totalsales": "139301.30",
                                    "CustomerSegm": "Prenium"
                                },
                                {
                                    "CustomerID": "188",
                                    "CustomerName": "Tailspin Toys (Premont, TX)",
                                    "Totalsales": "123495.45",
                                    "CustomerSegm": "Prenium"
                                },
                                {
                                    "CustomerID": "116",
                                    "CustomerName": "Tailspin Toys (Rafael Capó, PR)",
                                    "Totalsales": "131548.50",
                                    "CustomerSegm": "Prenium"
                                },
                                {
                                    "CustomerID": "54",
                                    "CustomerName": "Tailspin Toys (Railroad, PA)",
                                    "Totalsales": "111047.10",
                                    "CustomerSegm": "Prenium"
                                },
                                {
                                    "CustomerID": "167",
                                    "CustomerName": "Tailspin Toys (Rockwall, TX)",
                                    "Totalsales": "134002.80",
                                    "CustomerSegm": "Prenium"
                                },
                                {
                                    "CustomerID": "123",
                                    "CustomerName": "Tailspin Toys (Roe Park, NY)",
                                    "Totalsales": "144479.25",
                                    "CustomerSegm": "Prenium"
                                },
                                {
                                    "CustomerID": "164",
                                    "CustomerName": "Tailspin Toys (Rothsville, PA)",
                                    "Totalsales": "133036.35",
                                    "CustomerSegm": "Prenium"
                                },
                                {
                                    "CustomerID": "56",
                                    "CustomerName": "Tailspin Toys (Royal City, WA)",
                                    "Totalsales": "112333.00",
                                    "CustomerSegm": "Prenium"
                                },
                                {
                                    "CustomerID": "159",
                                    "CustomerName": "Tailspin Toys (Saint Louis Park, MN)",
                                    "Totalsales": "118646.15",
                                    "CustomerSegm": "Prenium"
                                },
                                {
                                    "CustomerID": "157",
                                    "CustomerName": "Tailspin Toys (Saks, AL)",
                                    "Totalsales": "144343.85",
                                    "CustomerSegm": "Prenium"
                                },
                                {
                                    "CustomerID": "112",
                                    "CustomerName": "Tailspin Toys (Sallyards, KS)",
                                    "Totalsales": "117370.80",
                                    "CustomerSegm": "Prenium"
                                },
                                {
                                    "CustomerID": "175",
                                    "CustomerName": "Tailspin Toys (San Acacia, NM)",
                                    "Totalsales": "101532.60",
                                    "CustomerSegm": "Prenium"
                                },
                                {
                                    "CustomerID": "92",
                                    "CustomerName": "Tailspin Toys (Sans Souci, SC)",
                                    "Totalsales": "137950.55",
                                    "CustomerSegm": "Prenium"
                                },
                                {
                                    "CustomerID": "87",
                                    "CustomerName": "Tailspin Toys (Sauquoit, NY)",
                                    "Totalsales": "157561.10",
                                    "CustomerSegm": "Prenium"
                                },
                                {
                                    "CustomerID": "117",
                                    "CustomerName": "Tailspin Toys (Scofield, UT)",
                                    "Totalsales": "137248.10",
                                    "CustomerSegm": "Prenium"
                                },
                                {
                                    "CustomerID": "168",
                                    "CustomerName": "Tailspin Toys (Seagraves, TX)",
                                    "Totalsales": "124174.95",
                                    "CustomerSegm": "Prenium"
                                },
                                {
                                    "CustomerID": "78",
                                    "CustomerName": "Tailspin Toys (Sekiu, WA)",
                                    "Totalsales": "155986.45",
                                    "CustomerSegm": "Prenium"
                                },
                                {
                                    "CustomerID": "67",
                                    "CustomerName": "Tailspin Toys (Sentinel Butte, ND)",
                                    "Totalsales": "162170.40",
                                    "CustomerSegm": "Prenium"
                                },
                                {
                                    "CustomerID": "45",
                                    "CustomerName": "Tailspin Toys (Severna Park, MD)",
                                    "Totalsales": "143589.05",
                                    "CustomerSegm": "Prenium"
                                },
                                {
                                    "CustomerID": "169",
                                    "CustomerName": "Tailspin Toys (Sinclair, WY)",
                                    "Totalsales": "141851.50",
                                    "CustomerSegm": "Prenium"
                                },
                                {
                                    "CustomerID": "201",
                                    "CustomerName": "Tailspin Toys (Skyway, WA)",
                                    "Totalsales": "119303.20",
                                    "CustomerSegm": "Prenium"
                                },
                                {
                                    "CustomerID": "35",
                                    "CustomerName": "Tailspin Toys (Slanesville, WV)",
                                    "Totalsales": "149362.65",
                                    "CustomerSegm": "Prenium"
                                },
                                {
                                    "CustomerID": "184",
                                    "CustomerName": "Tailspin Toys (South Euclid, OH)",
                                    "Totalsales": "119772.95",
                                    "CustomerSegm": "Prenium"
                                },
                                {
                                    "CustomerID": "96",
                                    "CustomerName": "Tailspin Toys (South La Paloma, TX)",
                                    "Totalsales": "146942.55",
                                    "CustomerSegm": "Prenium"
                                },
                                {
                                    "CustomerID": "109",
                                    "CustomerName": "Tailspin Toys (South Laguna, CA)",
                                    "Totalsales": "159068.00",
                                    "CustomerSegm": "Prenium"
                                },
                                {
                                    "CustomerID": "63",
                                    "CustomerName": "Tailspin Toys (Stallion Springs, CA)",
                                    "Totalsales": "126043.45",
                                    "CustomerSegm": "Prenium"
                                },
                                {
                                    "CustomerID": "119",
                                    "CustomerName": "Tailspin Toys (Statenville, GA)",
                                    "Totalsales": "132555.45",
                                    "CustomerSegm": "Prenium"
                                },
                                {
                                    "CustomerID": "13",
                                    "CustomerName": "Tailspin Toys (Stonefort, IL)",
                                    "Totalsales": "107056.50",
                                    "CustomerSegm": "Prenium"
                                },
                                {
                                    "CustomerID": "152",
                                    "CustomerName": "Tailspin Toys (Sun River, MT)",
                                    "Totalsales": "114734.00",
                                    "CustomerSegm": "Prenium"
                                },
                                {
                                    "CustomerID": "2",
                                    "CustomerName": "Tailspin Toys (Sylvanite, MT)",
                                    "Totalsales": "111657.30",
                                    "CustomerSegm": "Prenium"
                                },
                                {
                                    "CustomerID": "134",
                                    "CustomerName": "Tailspin Toys (Tavares, FL)",
                                    "Totalsales": "144512.10",
                                    "CustomerSegm": "Prenium"
                                },
                                {
                                    "CustomerID": "135",
                                    "CustomerName": "Tailspin Toys (Terre du Lac, MO)",
                                    "Totalsales": "131929.20",
                                    "CustomerSegm": "Prenium"
                                },
                                {
                                    "CustomerID": "190",
                                    "CustomerName": "Tailspin Toys (Teutopolis, IL)",
                                    "Totalsales": "137827.40",
                                    "CustomerSegm": "Prenium"
                                },
                                {
                                    "CustomerID": "183",
                                    "CustomerName": "Tailspin Toys (Tierra Verde, FL)",
                                    "Totalsales": "146271.50",
                                    "CustomerSegm": "Prenium"
                                },
                                {
                                    "CustomerID": "90",
                                    "CustomerName": "Tailspin Toys (Tolna, ND)",
                                    "Totalsales": "151137.60",
                                    "CustomerSegm": "Prenium"
                                },
                                {
                                    "CustomerID": "105",
                                    "CustomerName": "Tailspin Toys (Tomnolen, MS)",
                                    "Totalsales": "111283.80",
                                    "CustomerSegm": "Prenium"
                                },
                                {
                                    "CustomerID": "200",
                                    "CustomerName": "Tailspin Toys (Tooele, UT)",
                                    "Totalsales": "134510.65",
                                    "CustomerSegm": "Prenium"
                                },
                                {
                                    "CustomerID": "165",
                                    "CustomerName": "Tailspin Toys (Topstone, CT)",
                                    "Totalsales": "119409.25",
                                    "CustomerSegm": "Prenium"
                                },
                                {
                                    "CustomerID": "48",
                                    "CustomerName": "Tailspin Toys (Trentwood, WA)",
                                    "Totalsales": "140910.80",
                                    "CustomerSegm": "Prenium"
                                },
                                {
                                    "CustomerID": "21",
                                    "CustomerName": "Tailspin Toys (Tresckow, PA)",
                                    "Totalsales": "121217.15",
                                    "CustomerSegm": "Prenium"
                                },
                                {
                                    "CustomerID": "106",
                                    "CustomerName": "Tailspin Toys (Tumacacori, AZ)",
                                    "Totalsales": "146390.35",
                                    "CustomerSegm": "Prenium"
                                },
                                {
                                    "CustomerID": "100",
                                    "CustomerName": "Tailspin Toys (Tunnelhill, PA)",
                                    "Totalsales": "107003.75",
                                    "CustomerSegm": "Prenium"
                                },
                                {
                                    "CustomerID": "43",
                                    "CustomerName": "Tailspin Toys (Upper Preston, WA)",
                                    "Totalsales": "148768.80",
                                    "CustomerSegm": "Prenium"
                                },
                                {
                                    "CustomerID": "80",
                                    "CustomerName": "Tailspin Toys (Valdese, NC)",
                                    "Totalsales": "145916.95",
                                    "CustomerSegm": "Prenium"
                                },
                                {
                                    "CustomerID": "118",
                                    "CustomerName": "Tailspin Toys (Vassalboro, ME)",
                                    "Totalsales": "152527.65",
                                    "CustomerSegm": "Prenium"
                                },
                                {
                                    "CustomerID": "89",
                                    "CustomerName": "Tailspin Toys (Victory Gardens, NJ)",
                                    "Totalsales": "152201.90",
                                    "CustomerSegm": "Prenium"
                                },
                                {
                                    "CustomerID": "185",
                                    "CustomerName": "Tailspin Toys (Vidrine, LA)",
                                    "Totalsales": "168068.00",
                                    "CustomerSegm": "Prenium"
                                },
                                {
                                    "CustomerID": "104",
                                    "CustomerName": "Tailspin Toys (Wallagrass, ME)",
                                    "Totalsales": "102807.15",
                                    "CustomerSegm": "Prenium"
                                },
                                {
                                    "CustomerID": "173",
                                    "CustomerName": "Tailspin Toys (Wappingers Falls, NY)",
                                    "Totalsales": "147073.60",
                                    "CustomerSegm": "Prenium"
                                },
                                {
                                    "CustomerID": "22",
                                    "CustomerName": "Tailspin Toys (Ward Ridge, FL)",
                                    "Totalsales": "101890.00",
                                    "CustomerSegm": "Prenium"
                                },
                                {
                                    "CustomerID": "189",
                                    "CustomerName": "Tailspin Toys (Wilkes-Barre, PA)",
                                    "Totalsales": "118413.85",
                                    "CustomerSegm": "Prenium"
                                },
                                {
                                    "CustomerID": "10",
                                    "CustomerName": "Tailspin Toys (Wimbledon, ND)",
                                    "Totalsales": "154719.15",
                                    "CustomerSegm": "Prenium"
                                },
                                {
                                    "CustomerID": "75",
                                    "CustomerName": "Tailspin Toys (Windsor Locks, CT)",
                                    "Totalsales": "134625.25",
                                    "CustomerSegm": "Prenium"
                                },
                                {
                                    "CustomerID": "76",
                                    "CustomerName": "Tailspin Toys (Yewed, OK)",
                                    "Totalsales": "115560.10",
                                    "CustomerSegm": "Prenium"
                                },
                                {
                                    "CustomerID": "1006",
                                    "CustomerName": "Taj Syme",
                                    "Totalsales": "143740.65",
                                    "CustomerSegm": "Prenium"
                                },
                                {
                                    "CustomerID": "891",
                                    "CustomerName": "Taneli Riutta",
                                    "Totalsales": "137904.80",
                                    "CustomerSegm": "Prenium"
                                },
                                {
                                    "CustomerID": "1041",
                                    "CustomerName": "Tomo Vidovic",
                                    "Totalsales": "55050.85",
                                    "CustomerSegm": "Standard"
                                },
                                {
                                    "CustomerID": "1025",
                                    "CustomerName": "Tuulikki Linna",
                                    "Totalsales": "107941.70",
                                    "CustomerSegm": "Prenium"
                                },
                                {
                                    "CustomerID": "1012",
                                    "CustomerName": "Urve Kasesalu",
                                    "Totalsales": "94923.15",
                                    "CustomerSegm": "Standard"
                                },
                                {
                                    "CustomerID": "958",
                                    "CustomerName": "Valentin Tirlea",
                                    "Totalsales": "161301.70",
                                    "CustomerSegm": "Prenium"
                                },
                                {
                                    "CustomerID": "991",
                                    "CustomerName": "Valter Viiding",
                                    "Totalsales": "160080.80",
                                    "CustomerSegm": "Prenium"
                                },
                                {
                                    "CustomerID": "1008",
                                    "CustomerName": "Vedrana Kovacevic",
                                    "Totalsales": "123812.20",
                                    "CustomerSegm": "Prenium"
                                },
                                {
                                    "CustomerID": "1029",
                                    "CustomerName": "Veronika Necesana",
                                    "Totalsales": "93669.40",
                                    "CustomerSegm": "Standard"
                                },
                                {
                                    "CustomerID": "921",
                                    "CustomerName": "Victoria Lacusta",
                                    "Totalsales": "108791.00",
                                    "CustomerSegm": "Prenium"
                                },
                                {
                                    "CustomerID": "913",
                                    "CustomerName": "Violetta KlanCisar",
                                    "Totalsales": "124487.25",
                                    "CustomerSegm": "Prenium"
                                },
                                {
                                    "CustomerID": "929",
                                    "CustomerName": "Vladimir Henzl",
                                    "Totalsales": "101489.70",
                                    "CustomerSegm": "Prenium"
                                },
                                {
                                    "CustomerID": "912",
                                    "CustomerName": "Volkan senturk",
                                    "Totalsales": "136282.90",
                                    "CustomerSegm": "Prenium"
                                },
                                {
                                    "CustomerID": "595",
                                    "CustomerName": "Wingtip Toys (Accomac, VA)",
                                    "Totalsales": "157768.40",
                                    "CustomerSegm": "Prenium"
                                },
                                {
                                    "CustomerID": "537",
                                    "CustomerName": "Wingtip Toys (Akhiok, AK)",
                                    "Totalsales": "134609.65",
                                    "CustomerSegm": "Prenium"
                                },
                                {
                                    "CustomerID": "589",
                                    "CustomerName": "Wingtip Toys (Alcester, SD)",
                                    "Totalsales": "127040.25",
                                    "CustomerSegm": "Prenium"
                                },
                                {
                                    "CustomerID": "566",
                                    "CustomerName": "Wingtip Toys (Amado, AZ)",
                                    "Totalsales": "136717.80",
                                    "CustomerSegm": "Prenium"
                                },
                                {
                                    "CustomerID": "440",
                                    "CustomerName": "Wingtip Toys (Asher, OK)",
                                    "Totalsales": "128209.55",
                                    "CustomerSegm": "Prenium"
                                },
                                {
                                    "CustomerID": "427",
                                    "CustomerName": "Wingtip Toys (Athol Springs, NY)",
                                    "Totalsales": "137447.55",
                                    "CustomerSegm": "Prenium"
                                },
                                {
                                    "CustomerID": "423",
                                    "CustomerName": "Wingtip Toys (Baldwin City, KS)",
                                    "Totalsales": "107879.30",
                                    "CustomerSegm": "Prenium"
                                },
                                {
                                    "CustomerID": "433",
                                    "CustomerName": "Wingtip Toys (Balko, OK)",
                                    "Totalsales": "112876.85",
                                    "CustomerSegm": "Prenium"
                                },
                                {
                                    "CustomerID": "490",
                                    "CustomerName": "Wingtip Toys (Beals, ME)",
                                    "Totalsales": "117941.90",
                                    "CustomerSegm": "Prenium"
                                },
                                {
                                    "CustomerID": "526",
                                    "CustomerName": "Wingtip Toys (Beekmantown, NY)",
                                    "Totalsales": "118800.95",
                                    "CustomerSegm": "Prenium"
                                },
                                {
                                    "CustomerID": "578",
                                    "CustomerName": "Wingtip Toys (Bell Acres, PA)",
                                    "Totalsales": "131821.05",
                                    "CustomerSegm": "Prenium"
                                },
                                {
                                    "CustomerID": "509",
                                    "CustomerName": "Wingtip Toys (Bergen Park, CO)",
                                    "Totalsales": "143408.05",
                                    "CustomerSegm": "Prenium"
                                },
                                {
                                    "CustomerID": "410",
                                    "CustomerName": "Wingtip Toys (Bernstein, TX)",
                                    "Totalsales": "154642.35",
                                    "CustomerSegm": "Prenium"
                                },
                                {
                                    "CustomerID": "443",
                                    "CustomerName": "Wingtip Toys (Berville, MI)",
                                    "Totalsales": "121945.45",
                                    "CustomerSegm": "Prenium"
                                },
                                {
                                    "CustomerID": "425",
                                    "CustomerName": "Wingtip Toys (Bethel Acres, OK)",
                                    "Totalsales": "139914.70",
                                    "CustomerSegm": "Prenium"
                                },
                                {
                                    "CustomerID": "492",
                                    "CustomerName": "Wingtip Toys (Birds, IL)",
                                    "Totalsales": "146528.45",
                                    "CustomerSegm": "Prenium"
                                },
                                {
                                    "CustomerID": "402",
                                    "CustomerName": "Wingtip Toys (Black Lick, PA)",
                                    "Totalsales": "133294.95",
                                    "CustomerSegm": "Prenium"
                                },
                                {
                                    "CustomerID": "495",
                                    "CustomerName": "Wingtip Toys (Boalsburg, PA)",
                                    "Totalsales": "134587.75",
                                    "CustomerSegm": "Prenium"
                                },
                                {
                                    "CustomerID": "474",
                                    "CustomerName": "Wingtip Toys (Bokeelia, FL)",
                                    "Totalsales": "161973.85",
                                    "CustomerSegm": "Prenium"
                                },
                                {
                                    "CustomerID": "485",
                                    "CustomerName": "Wingtip Toys (Bonner Springs, KS)",
                                    "Totalsales": "149077.25",
                                    "CustomerSegm": "Prenium"
                                },
                                {
                                    "CustomerID": "405",
                                    "CustomerName": "Wingtip Toys (Bourbonnais, IL)",
                                    "Totalsales": "151997.20",
                                    "CustomerSegm": "Prenium"
                                },
                                {
                                    "CustomerID": "558",
                                    "CustomerName": "Wingtip Toys (Bourneville, OH)",
                                    "Totalsales": "172196.60",
                                    "CustomerSegm": "Prenium"
                                },
                                {
                                    "CustomerID": "519",
                                    "CustomerName": "Wingtip Toys (Boynton, OK)",
                                    "Totalsales": "132275.35",
                                    "CustomerSegm": "Prenium"
                                },
                                {
                                    "CustomerID": "412",
                                    "CustomerName": "Wingtip Toys (Bozeman Hot Springs, MT)",
                                    "Totalsales": "125208.20",
                                    "CustomerSegm": "Prenium"
                                },
                                {
                                    "CustomerID": "508",
                                    "CustomerName": "Wingtip Toys (Branson West, MO)",
                                    "Totalsales": "150821.40",
                                    "CustomerSegm": "Prenium"
                                },
                                {
                                    "CustomerID": "544",
                                    "CustomerName": "Wingtip Toys (Broomtown, AL)",
                                    "Totalsales": "120804.20",
                                    "CustomerSegm": "Prenium"
                                },
                                {
                                    "CustomerID": "523",
                                    "CustomerName": "Wingtip Toys (Bruceton Mills, WV)",
                                    "Totalsales": "155148.45",
                                    "CustomerSegm": "Prenium"
                                },
                                {
                                    "CustomerID": "584",
                                    "CustomerName": "Wingtip Toys (Cache, OK)",
                                    "Totalsales": "139119.90",
                                    "CustomerSegm": "Prenium"
                                },
                                {
                                    "CustomerID": "437",
                                    "CustomerName": "Wingtip Toys (Cadogan, PA)",
                                    "Totalsales": "138503.95",
                                    "CustomerSegm": "Prenium"
                                },
                                {
                                    "CustomerID": "475",
                                    "CustomerName": "Wingtip Toys (Cale, AR)",
                                    "Totalsales": "139737.50",
                                    "CustomerSegm": "Prenium"
                                },
                                {
                                    "CustomerID": "504",
                                    "CustomerName": "Wingtip Toys (Cape Neddick, ME)",
                                    "Totalsales": "96568.10",
                                    "CustomerSegm": "Standard"
                                },
                                {
                                    "CustomerID": "600",
                                    "CustomerName": "Wingtip Toys (Caro, MI)",
                                    "Totalsales": "122452.15",
                                    "CustomerSegm": "Prenium"
                                },
                                {
                                    "CustomerID": "482",
                                    "CustomerName": "Wingtip Toys (Caton, NY)",
                                    "Totalsales": "115134.00",
                                    "CustomerSegm": "Prenium"
                                },
                                {
                                    "CustomerID": "501",
                                    "CustomerName": "Wingtip Toys (Cavendish, VT)",
                                    "Totalsales": "143140.05",
                                    "CustomerSegm": "Prenium"
                                },
                                {
                                    "CustomerID": "547",
                                    "CustomerName": "Wingtip Toys (Chaseley, ND)",
                                    "Totalsales": "97537.85",
                                    "CustomerSegm": "Standard"
                                },
                                {
                                    "CustomerID": "577",
                                    "CustomerName": "Wingtip Toys (Cherryplain, NY)",
                                    "Totalsales": "73964.25",
                                    "CustomerSegm": "Standard"
                                },
                                {
                                    "CustomerID": "417",
                                    "CustomerName": "Wingtip Toys (Chetek, WI)",
                                    "Totalsales": "111994.20",
                                    "CustomerSegm": "Prenium"
                                },
                                {
                                    "CustomerID": "525",
                                    "CustomerName": "Wingtip Toys (Claycomo, MO)",
                                    "Totalsales": "117935.65",
                                    "CustomerSegm": "Prenium"
                                },
                                {
                                    "CustomerID": "524",
                                    "CustomerName": "Wingtip Toys (Cloquet, MN)",
                                    "Totalsales": "133066.05",
                                    "CustomerSegm": "Prenium"
                                },
                                {
                                    "CustomerID": "447",
                                    "CustomerName": "Wingtip Toys (Coin, IA)",
                                    "Totalsales": "151413.70",
                                    "CustomerSegm": "Prenium"
                                },
                                {
                                    "CustomerID": "458",
                                    "CustomerName": "Wingtip Toys (Coker, AL)",
                                    "Totalsales": "133529.00",
                                    "CustomerSegm": "Prenium"
                                },
                                {
                                    "CustomerID": "419",
                                    "CustomerName": "Wingtip Toys (Compass Lake, FL)",
                                    "Totalsales": "110586.05",
                                    "CustomerSegm": "Prenium"
                                },
                                {
                                    "CustomerID": "579",
                                    "CustomerName": "Wingtip Toys (Connoquenessing, PA)",
                                    "Totalsales": "151695.15",
                                    "CustomerSegm": "Prenium"
                                },
                                {
                                    "CustomerID": "454",
                                    "CustomerName": "Wingtip Toys (Corcovado, PR)",
                                    "Totalsales": "107209.30",
                                    "CustomerSegm": "Prenium"
                                },
                                {
                                    "CustomerID": "596",
                                    "CustomerName": "Wingtip Toys (Cos Cob, CT)",
                                    "Totalsales": "122531.50",
                                    "CustomerSegm": "Prenium"
                                },
                                {
                                    "CustomerID": "463",
                                    "CustomerName": "Wingtip Toys (Cowlington, OK)",
                                    "Totalsales": "137151.30",
                                    "CustomerSegm": "Prenium"
                                },
                                {
                                    "CustomerID": "462",
                                    "CustomerName": "Wingtip Toys (Crossroads, NM)",
                                    "Totalsales": "107036.10",
                                    "CustomerSegm": "Prenium"
                                },
                                {
                                    "CustomerID": "593",
                                    "CustomerName": "Wingtip Toys (Cuyamungue, NM)",
                                    "Totalsales": "178329.95",
                                    "CustomerSegm": "Prenium"
                                },
                                {
                                    "CustomerID": "439",
                                    "CustomerName": "Wingtip Toys (Cylon, WI)",
                                    "Totalsales": "133740.55",
                                    "CustomerSegm": "Prenium"
                                },
                                {
                                    "CustomerID": "445",
                                    "CustomerName": "Wingtip Toys (Dacono, CO)",
                                    "Totalsales": "124873.95",
                                    "CustomerSegm": "Prenium"
                                },
                                {
                                    "CustomerID": "538",
                                    "CustomerName": "Wingtip Toys (Deeson, MS)",
                                    "Totalsales": "160996.05",
                                    "CustomerSegm": "Prenium"
                                },
                                {
                                    "CustomerID": "515",
                                    "CustomerName": "Wingtip Toys (Del Valle, TX)",
                                    "Totalsales": "107126.30",
                                    "CustomerSegm": "Prenium"
                                },
                                {
                                    "CustomerID": "449",
                                    "CustomerName": "Wingtip Toys (Delray, WV)",
                                    "Totalsales": "116397.10",
                                    "CustomerSegm": "Prenium"
                                },
                                {
                                    "CustomerID": "522",
                                    "CustomerName": "Wingtip Toys (Dickerson, MD)",
                                    "Totalsales": "107872.45",
                                    "CustomerSegm": "Prenium"
                                },
                                {
                                    "CustomerID": "599",
                                    "CustomerName": "Wingtip Toys (Dickworsham, TX)",
                                    "Totalsales": "108949.90",
                                    "CustomerSegm": "Prenium"
                                },
                                {
                                    "CustomerID": "507",
                                    "CustomerName": "Wingtip Toys (Downingtown, PA)",
                                    "Totalsales": "142180.50",
                                    "CustomerSegm": "Prenium"
                                },
                                {
                                    "CustomerID": "592",
                                    "CustomerName": "Wingtip Toys (Dunkerton, IA)",
                                    "Totalsales": "143812.85",
                                    "CustomerSegm": "Prenium"
                                },
                                {
                                    "CustomerID": "499",
                                    "CustomerName": "Wingtip Toys (East Fultonham, OH)",
                                    "Totalsales": "130750.90",
                                    "CustomerSegm": "Prenium"
                                },
                                {
                                    "CustomerID": "530",
                                    "CustomerName": "Wingtip Toys (East Mountain, TX)",
                                    "Totalsales": "111951.85",
                                    "CustomerSegm": "Prenium"
                                },
                                {
                                    "CustomerID": "411",
                                    "CustomerName": "Wingtip Toys (Edmund, WI)",
                                    "Totalsales": "108376.50",
                                    "CustomerSegm": "Prenium"
                                },
                                {
                                    "CustomerID": "487",
                                    "CustomerName": "Wingtip Toys (Elverson, PA)",
                                    "Totalsales": "126684.95",
                                    "CustomerSegm": "Prenium"
                                },
                                {
                                    "CustomerID": "493",
                                    "CustomerName": "Wingtip Toys (Federalsburg, MD)",
                                    "Totalsales": "126616.75",
                                    "CustomerSegm": "Prenium"
                                },
                                {
                                    "CustomerID": "536",
                                    "CustomerName": "Wingtip Toys (Ferney, SD)",
                                    "Totalsales": "117553.75",
                                    "CustomerSegm": "Prenium"
                                },
                                {
                                    "CustomerID": "570",
                                    "CustomerName": "Wingtip Toys (Flomaton, AL)",
                                    "Totalsales": "128217.90",
                                    "CustomerSegm": "Prenium"
                                },
                                {
                                    "CustomerID": "473",
                                    "CustomerName": "Wingtip Toys (Floriston, CA)",
                                    "Totalsales": "134847.75",
                                    "CustomerSegm": "Prenium"
                                },
                                {
                                    "CustomerID": "520",
                                    "CustomerName": "Wingtip Toys (Frenchburg, KY)",
                                    "Totalsales": "129420.85",
                                    "CustomerSegm": "Prenium"
                                },
                                {
                                    "CustomerID": "436",
                                    "CustomerName": "Wingtip Toys (Gargatha, VA)",
                                    "Totalsales": "128123.30",
                                    "CustomerSegm": "Prenium"
                                },
                                {
                                    "CustomerID": "514",
                                    "CustomerName": "Wingtip Toys (Gilford, NH)",
                                    "Totalsales": "131916.55",
                                    "CustomerSegm": "Prenium"
                                },
                                {
                                    "CustomerID": "477",
                                    "CustomerName": "Wingtip Toys (Glancy, MS)",
                                    "Totalsales": "109942.15",
                                    "CustomerSegm": "Prenium"
                                },
                                {
                                    "CustomerID": "464",
                                    "CustomerName": "Wingtip Toys (Glen Ullin, ND)",
                                    "Totalsales": "136250.45",
                                    "CustomerSegm": "Prenium"
                                },
                                {
                                    "CustomerID": "576",
                                    "CustomerName": "Wingtip Toys (Goodings Grove, IL)",
                                    "Totalsales": "118737.45",
                                    "CustomerSegm": "Prenium"
                                },
                                {
                                    "CustomerID": "510",
                                    "CustomerName": "Wingtip Toys (Grabill, IN)",
                                    "Totalsales": "180712.10",
                                    "CustomerSegm": "Prenium"
                                },
                                {
                                    "CustomerID": "529",
                                    "CustomerName": "Wingtip Toys (Griswoldville, GA)",
                                    "Totalsales": "138180.45",
                                    "CustomerSegm": "Prenium"
                                },
                                {
                                    "CustomerID": "516",
                                    "CustomerName": "Wingtip Toys (Harkers Island, NC)",
                                    "Totalsales": "156728.45",
                                    "CustomerSegm": "Prenium"
                                },
                                {
                                    "CustomerID": "597",
                                    "CustomerName": "Wingtip Toys (Haycock, AK)",
                                    "Totalsales": "167999.45",
                                    "CustomerSegm": "Prenium"
                                },
                                {
                                    "CustomerID": "459",
                                    "CustomerName": "Wingtip Toys (Haydenville, OH)",
                                    "Totalsales": "131099.95",
                                    "CustomerSegm": "Prenium"
                                },
                                {
                                    "CustomerID": "401",
                                    "CustomerName": "Wingtip Toys (Head Office)",
                                    "Totalsales": "131440.20",
                                    "CustomerSegm": "Prenium"
                                },
                                {
                                    "CustomerID": "424",
                                    "CustomerName": "Wingtip Toys (Heartwell, NE)",
                                    "Totalsales": "96221.55",
                                    "CustomerSegm": "Standard"
                                },
                                {
                                    "CustomerID": "553",
                                    "CustomerName": "Wingtip Toys (Helotes, TX)",
                                    "Totalsales": "106206.75",
                                    "CustomerSegm": "Prenium"
                                },
                                {
                                    "CustomerID": "420",
                                    "CustomerName": "Wingtip Toys (Herlong, CA)",
                                    "Totalsales": "129738.90",
                                    "CustomerSegm": "Prenium"
                                },
                                {
                                    "CustomerID": "421",
                                    "CustomerName": "Wingtip Toys (Highland Home, AL)",
                                    "Totalsales": "142458.95",
                                    "CustomerSegm": "Prenium"
                                },
                                {
                                    "CustomerID": "554",
                                    "CustomerName": "Wingtip Toys (Hollandsburg, IN)",
                                    "Totalsales": "130575.25",
                                    "CustomerSegm": "Prenium"
                                },
                                {
                                    "CustomerID": "442",
                                    "CustomerName": "Wingtip Toys (Homer City, PA)",
                                    "Totalsales": "169988.10",
                                    "CustomerSegm": "Prenium"
                                },
                                {
                                    "CustomerID": "551",
                                    "CustomerName": "Wingtip Toys (Huntingburg, IN)",
                                    "Totalsales": "126292.70",
                                    "CustomerSegm": "Prenium"
                                },
                                {
                                    "CustomerID": "591",
                                    "CustomerName": "Wingtip Toys (Idaho City, ID)",
                                    "Totalsales": "158276.65",
                                    "CustomerSegm": "Prenium"
                                },
                                {
                                    "CustomerID": "548",
                                    "CustomerName": "Wingtip Toys (Indian Creek, IL)",
                                    "Totalsales": "153440.20",
                                    "CustomerSegm": "Prenium"
                                },
                                {
                                    "CustomerID": "488",
                                    "CustomerName": "Wingtip Toys (Isabela, PR)",
                                    "Totalsales": "145065.40",
                                    "CustomerSegm": "Prenium"
                                },
                                {
                                    "CustomerID": "527",
                                    "CustomerName": "Wingtip Toys (Islip Terrace, NY)",
                                    "Totalsales": "159249.85",
                                    "CustomerSegm": "Prenium"
                                },
                                {
                                    "CustomerID": "545",
                                    "CustomerName": "Wingtip Toys (Jamison, IA)",
                                    "Totalsales": "158097.55",
                                    "CustomerSegm": "Prenium"
                                },
                                {
                                    "CustomerID": "567",
                                    "CustomerName": "Wingtip Toys (Jeromesville, OH)",
                                    "Totalsales": "99870.70",
                                    "CustomerSegm": "Standard"
                                },
                                {
                                    "CustomerID": "469",
                                    "CustomerName": "Wingtip Toys (Johnetta, KY)",
                                    "Totalsales": "128829.60",
                                    "CustomerSegm": "Prenium"
                                },
                                {
                                    "CustomerID": "598",
                                    "CustomerName": "Wingtip Toys (Kapa'a, HI)",
                                    "Totalsales": "161952.00",
                                    "CustomerSegm": "Prenium"
                                },
                                {
                                    "CustomerID": "476",
                                    "CustomerName": "Wingtip Toys (Karthaus, PA)",
                                    "Totalsales": "134318.05",
                                    "CustomerSegm": "Prenium"
                                },
                                {
                                    "CustomerID": "441",
                                    "CustomerName": "Wingtip Toys (Keosauqua, IA)",
                                    "Totalsales": "132573.40",
                                    "CustomerSegm": "Prenium"
                                },
                                {
                                    "CustomerID": "546",
                                    "CustomerName": "Wingtip Toys (Key Biscayne, FL)",
                                    "Totalsales": "157814.75",
                                    "CustomerSegm": "Prenium"
                                },
                                {
                                    "CustomerID": "583",
                                    "CustomerName": "Wingtip Toys (Knights Landing, CA)",
                                    "Totalsales": "161495.30",
                                    "CustomerSegm": "Prenium"
                                },
                                {
                                    "CustomerID": "452",
                                    "CustomerName": "Wingtip Toys (Lake Davis, CA)",
                                    "Totalsales": "160181.60",
                                    "CustomerSegm": "Prenium"
                                },
                                {
                                    "CustomerID": "549",
                                    "CustomerName": "Wingtip Toys (Lake Ronkonkoma, NY)",
                                    "Totalsales": "154541.00",
                                    "CustomerSegm": "Prenium"
                                },
                                {
                                    "CustomerID": "415",
                                    "CustomerName": "Wingtip Toys (Leathersville, GA)",
                                    "Totalsales": "160957.35",
                                    "CustomerSegm": "Prenium"
                                },
                                {
                                    "CustomerID": "543",
                                    "CustomerName": "Wingtip Toys (Lexington Heights, MI)",
                                    "Totalsales": "137175.80",
                                    "CustomerSegm": "Prenium"
                                },
                                {
                                    "CustomerID": "555",
                                    "CustomerName": "Wingtip Toys (Liberty Grove, MD)",
                                    "Totalsales": "116576.10",
                                    "CustomerSegm": "Prenium"
                                },
                                {
                                    "CustomerID": "517",
                                    "CustomerName": "Wingtip Toys (Licking, MO)",
                                    "Totalsales": "134393.30",
                                    "CustomerSegm": "Prenium"
                                },
                                {
                                    "CustomerID": "429",
                                    "CustomerName": "Wingtip Toys (Lilbourn, MO)",
                                    "Totalsales": "164359.85",
                                    "CustomerSegm": "Prenium"
                                },
                                {
                                    "CustomerID": "434",
                                    "CustomerName": "Wingtip Toys (Lime Lake, NY)",
                                    "Totalsales": "152643.75",
                                    "CustomerSegm": "Prenium"
                                },
                                {
                                    "CustomerID": "430",
                                    "CustomerName": "Wingtip Toys (Lost River, ID)",
                                    "Totalsales": "153251.50",
                                    "CustomerSegm": "Prenium"
                                },
                                {
                                    "CustomerID": "563",
                                    "CustomerName": "Wingtip Toys (Lostine, OR)",
                                    "Totalsales": "104496.80",
                                    "CustomerSegm": "Prenium"
                                },
                                {
                                    "CustomerID": "486",
                                    "CustomerName": "Wingtip Toys (Lowellville, OH)",
                                    "Totalsales": "115586.15",
                                    "CustomerSegm": "Prenium"
                                },
                                {
                                    "CustomerID": "438",
                                    "CustomerName": "Wingtip Toys (Lucasville, OH)",
                                    "Totalsales": "111879.20",
                                    "CustomerSegm": "Prenium"
                                },
                                {
                                    "CustomerID": "586",
                                    "CustomerName": "Wingtip Toys (Lynne, FL)",
                                    "Totalsales": "162102.15",
                                    "CustomerSegm": "Prenium"
                                },
                                {
                                    "CustomerID": "466",
                                    "CustomerName": "Wingtip Toys (Lytle, TX)",
                                    "Totalsales": "136632.85",
                                    "CustomerSegm": "Prenium"
                                },
                                {
                                    "CustomerID": "467",
                                    "CustomerName": "Wingtip Toys (Mahaffey, PA)",
                                    "Totalsales": "153005.20",
                                    "CustomerSegm": "Prenium"
                                },
                                {
                                    "CustomerID": "594",
                                    "CustomerName": "Wingtip Toys (Marfa, TX)",
                                    "Totalsales": "130622.90",
                                    "CustomerSegm": "Prenium"
                                },
                                {
                                    "CustomerID": "573",
                                    "CustomerName": "Wingtip Toys (Marin City, CA)",
                                    "Totalsales": "82640.30",
                                    "CustomerSegm": "Standard"
                                },
                                {
                                    "CustomerID": "561",
                                    "CustomerName": "Wingtip Toys (Marion Junction, AL)",
                                    "Totalsales": "125656.80",
                                    "CustomerSegm": "Prenium"
                                },
                                {
                                    "CustomerID": "484",
                                    "CustomerName": "Wingtip Toys (Mauldin, SC)",
                                    "Totalsales": "119113.10",
                                    "CustomerSegm": "Prenium"
                                },
                                {
                                    "CustomerID": "460",
                                    "CustomerName": "Wingtip Toys (Mayhill, NM)",
                                    "Totalsales": "141999.55",
                                    "CustomerSegm": "Prenium"
                                },
                                {
                                    "CustomerID": "590",
                                    "CustomerName": "Wingtip Toys (McAdenville, NC)",
                                    "Totalsales": "115012.20",
                                    "CustomerSegm": "Prenium"
                                },
                                {
                                    "CustomerID": "559",
                                    "CustomerName": "Wingtip Toys (Mendoza, TX)",
                                    "Totalsales": "138887.55",
                                    "CustomerSegm": "Prenium"
                                },
                                {
                                    "CustomerID": "541",
                                    "CustomerName": "Wingtip Toys (Mickleton, NJ)",
                                    "Totalsales": "167186.90",
                                    "CustomerSegm": "Prenium"
                                },
                                {
                                    "CustomerID": "479",
                                    "CustomerName": "Wingtip Toys (Mier, IN)",
                                    "Totalsales": "147100.15",
                                    "CustomerSegm": "Prenium"
                                },
                                {
                                    "CustomerID": "502",
                                    "CustomerName": "Wingtip Toys (Miesville, MN)",
                                    "Totalsales": "100442.30",
                                    "CustomerSegm": "Prenium"
                                },
                                {
                                    "CustomerID": "574",
                                    "CustomerName": "Wingtip Toys (Molalla, OR)",
                                    "Totalsales": "125516.15",
                                    "CustomerSegm": "Prenium"
                                },
                                {
                                    "CustomerID": "582",
                                    "CustomerName": "Wingtip Toys (Montoya, NM)",
                                    "Totalsales": "163976.45",
                                    "CustomerSegm": "Prenium"
                                },
                                {
                                    "CustomerID": "407",
                                    "CustomerName": "Wingtip Toys (Mooringsport, LA)",
                                    "Totalsales": "141532.40",
                                    "CustomerSegm": "Prenium"
                                },
                                {
                                    "CustomerID": "556",
                                    "CustomerName": "Wingtip Toys (Morita, TX)",
                                    "Totalsales": "102264.70",
                                    "CustomerSegm": "Prenium"
                                },
                                {
                                    "CustomerID": "550",
                                    "CustomerName": "Wingtip Toys (Morrison Bluff, AR)",
                                    "Totalsales": "171513.35",
                                    "CustomerSegm": "Prenium"
                                },
                                {
                                    "CustomerID": "491",
                                    "CustomerName": "Wingtip Toys (Morton Grove, IL)",
                                    "Totalsales": "99574.00",
                                    "CustomerSegm": "Standard"
                                },
                                {
                                    "CustomerID": "450",
                                    "CustomerName": "Wingtip Toys (Mount Summit, IN)",
                                    "Totalsales": "101096.55",
                                    "CustomerSegm": "Prenium"
                                },
                                {
                                    "CustomerID": "581",
                                    "CustomerName": "Wingtip Toys (Munich, ND)",
                                    "Totalsales": "104139.75",
                                    "CustomerSegm": "Prenium"
                                },
                                {
                                    "CustomerID": "422",
                                    "CustomerName": "Wingtip Toys (Naches, WA)",
                                    "Totalsales": "122417.80",
                                    "CustomerSegm": "Prenium"
                                },
                                {
                                    "CustomerID": "416",
                                    "CustomerName": "Wingtip Toys (Necedah, WI)",
                                    "Totalsales": "144015.00",
                                    "CustomerSegm": "Prenium"
                                },
                                {
                                    "CustomerID": "557",
                                    "CustomerName": "Wingtip Toys (New Laguna, NM)",
                                    "Totalsales": "98285.15",
                                    "CustomerSegm": "Standard"
                                },
                                {
                                    "CustomerID": "533",
                                    "CustomerName": "Wingtip Toys (Nichols Hills, OK)",
                                    "Totalsales": "132229.80",
                                    "CustomerSegm": "Prenium"
                                },
                                {
                                    "CustomerID": "506",
                                    "CustomerName": "Wingtip Toys (North Beach Haven, NJ)",
                                    "Totalsales": "160287.15",
                                    "CustomerSegm": "Prenium"
                                },
                                {
                                    "CustomerID": "511",
                                    "CustomerName": "Wingtip Toys (North Manitou, MI)",
                                    "Totalsales": "112777.85",
                                    "CustomerSegm": "Prenium"
                                },
                                {
                                    "CustomerID": "539",
                                    "CustomerName": "Wingtip Toys (Nuangola, PA)",
                                    "Totalsales": "90534.30",
                                    "CustomerSegm": "Standard"
                                },
                                {
                                    "CustomerID": "588",
                                    "CustomerName": "Wingtip Toys (Oak Point, TX)",
                                    "Totalsales": "161162.45",
                                    "CustomerSegm": "Prenium"
                                },
                                {
                                    "CustomerID": "498",
                                    "CustomerName": "Wingtip Toys (Obetz, OH)",
                                    "Totalsales": "138861.85",
                                    "CustomerSegm": "Prenium"
                                },
                                {
                                    "CustomerID": "500",
                                    "CustomerName": "Wingtip Toys (Obion, TN)",
                                    "Totalsales": "126434.95",
                                    "CustomerSegm": "Prenium"
                                },
                                {
                                    "CustomerID": "531",
                                    "CustomerName": "Wingtip Toys (Omer, MI)",
                                    "Totalsales": "162328.05",
                                    "CustomerSegm": "Prenium"
                                },
                                {
                                    "CustomerID": "465",
                                    "CustomerName": "Wingtip Toys (Oologah, OK)",
                                    "Totalsales": "129956.30",
                                    "CustomerSegm": "Prenium"
                                },
                                {
                                    "CustomerID": "409",
                                    "CustomerName": "Wingtip Toys (Orick, CA)",
                                    "Totalsales": "122582.80",
                                    "CustomerSegm": "Prenium"
                                },
                                {
                                    "CustomerID": "568",
                                    "CustomerName": "Wingtip Toys (Ovilla, TX)",
                                    "Totalsales": "96821.35",
                                    "CustomerSegm": "Standard"
                                },
                                {
                                    "CustomerID": "560",
                                    "CustomerName": "Wingtip Toys (Palmas del Mar, PR)",
                                    "Totalsales": "111126.10",
                                    "CustomerSegm": "Prenium"
                                },
                                {
                                    "CustomerID": "428",
                                    "CustomerName": "Wingtip Toys (Paw Paw Lake, MI)",
                                    "Totalsales": "139137.75",
                                    "CustomerSegm": "Prenium"
                                },
                                {
                                    "CustomerID": "571",
                                    "CustomerName": "Wingtip Toys (Pawlet, VT)",
                                    "Totalsales": "120990.25",
                                    "CustomerSegm": "Prenium"
                                },
                                {
                                    "CustomerID": "404",
                                    "CustomerName": "Wingtip Toys (Penns Creek, PA)",
                                    "Totalsales": "111057.45",
                                    "CustomerSegm": "Prenium"
                                },
                                {
                                    "CustomerID": "512",
                                    "CustomerName": "Wingtip Toys (Philip, SD)",
                                    "Totalsales": "132530.65",
                                    "CustomerSegm": "Prenium"
                                },
                                {
                                    "CustomerID": "494",
                                    "CustomerName": "Wingtip Toys (Pikeview, CO)",
                                    "Totalsales": "146954.45",
                                    "CustomerSegm": "Prenium"
                                },
                                {
                                    "CustomerID": "534",
                                    "CustomerName": "Wingtip Toys (Plaquemine, LA)",
                                    "Totalsales": "155913.25",
                                    "CustomerSegm": "Prenium"
                                },
                                {
                                    "CustomerID": "587",
                                    "CustomerName": "Wingtip Toys (Plata, TX)",
                                    "Totalsales": "143307.95",
                                    "CustomerSegm": "Prenium"
                                },
                                {
                                    "CustomerID": "483",
                                    "CustomerName": "Wingtip Toys (Plum Branch, SC)",
                                    "Totalsales": "141939.05",
                                    "CustomerSegm": "Prenium"
                                },
                                {
                                    "CustomerID": "496",
                                    "CustomerName": "Wingtip Toys (Port Hueneme, CA)",
                                    "Totalsales": "140051.45",
                                    "CustomerSegm": "Prenium"
                                },
                                {
                                    "CustomerID": "457",
                                    "CustomerName": "Wingtip Toys (Portales, NM)",
                                    "Totalsales": "96326.70",
                                    "CustomerSegm": "Standard"
                                },
                                {
                                    "CustomerID": "403",
                                    "CustomerName": "Wingtip Toys (Queen Valley, AZ)",
                                    "Totalsales": "155534.45",
                                    "CustomerSegm": "Prenium"
                                },
                                {
                                    "CustomerID": "518",
                                    "CustomerName": "Wingtip Toys (Raton, NM)",
                                    "Totalsales": "123167.75",
                                    "CustomerSegm": "Prenium"
                                },
                                {
                                    "CustomerID": "528",
                                    "CustomerName": "Wingtip Toys (Rich Creek, VA)",
                                    "Totalsales": "162953.15",
                                    "CustomerSegm": "Prenium"
                                },
                                {
                                    "CustomerID": "471",
                                    "CustomerName": "Wingtip Toys (Ridgemark, CA)",
                                    "Totalsales": "128275.05",
                                    "CustomerSegm": "Prenium"
                                },
                                {
                                    "CustomerID": "521",
                                    "CustomerName": "Wingtip Toys (Robertsdale, AL)",
                                    "Totalsales": "128759.80",
                                    "CustomerSegm": "Prenium"
                                },
                                {
                                    "CustomerID": "408",
                                    "CustomerName": "Wingtip Toys (Rockwall, TX)",
                                    "Totalsales": "119222.55",
                                    "CustomerSegm": "Prenium"
                                },
                                {
                                    "CustomerID": "431",
                                    "CustomerName": "Wingtip Toys (Rosa Sánchez, PR)",
                                    "Totalsales": "140471.80",
                                    "CustomerSegm": "Prenium"
                                },
                                {
                                    "CustomerID": "414",
                                    "CustomerName": "Wingtip Toys (Rose Tree, PA)",
                                    "Totalsales": "138841.85",
                                    "CustomerSegm": "Prenium"
                                },
                                {
                                    "CustomerID": "601",
                                    "CustomerName": "Wingtip Toys (Ruthsburg, MD)",
                                    "Totalsales": "138216.00",
                                    "CustomerSegm": "Prenium"
                                },
                                {
                                    "CustomerID": "446",
                                    "CustomerName": "Wingtip Toys (Saint Landry, LA)",
                                    "Totalsales": "104707.05",
                                    "CustomerSegm": "Prenium"
                                },
                                {
                                    "CustomerID": "448",
                                    "CustomerName": "Wingtip Toys (Salt Wells, NV)",
                                    "Totalsales": "145529.05",
                                    "CustomerSegm": "Prenium"
                                },
                                {
                                    "CustomerID": "472",
                                    "CustomerName": "Wingtip Toys (San Jacinto, CA)",
                                    "Totalsales": "185158.65",
                                    "CustomerSegm": "Prenium"
                                },
                                {
                                    "CustomerID": "580",
                                    "CustomerName": "Wingtip Toys (Sarversville, PA)",
                                    "Totalsales": "188919.75",
                                    "CustomerSegm": "Prenium"
                                },
                                {
                                    "CustomerID": "489",
                                    "CustomerName": "Wingtip Toys (Sayner, WI)",
                                    "Totalsales": "161087.90",
                                    "CustomerSegm": "Prenium"
                                },
                                {
                                    "CustomerID": "542",
                                    "CustomerName": "Wingtip Toys (Schererville, IN)",
                                    "Totalsales": "154523.25",
                                    "CustomerSegm": "Prenium"
                                },
                                {
                                    "CustomerID": "552",
                                    "CustomerName": "Wingtip Toys (Shay, PA)",
                                    "Totalsales": "126288.25",
                                    "CustomerSegm": "Prenium"
                                },
                                {
                                    "CustomerID": "505",
                                    "CustomerName": "Wingtip Toys (Silver Plume, CO)",
                                    "Totalsales": "132628.95",
                                    "CustomerSegm": "Prenium"
                                },
                                {
                                    "CustomerID": "451",
                                    "CustomerName": "Wingtip Toys (Smoot, WY)",
                                    "Totalsales": "119473.90",
                                    "CustomerSegm": "Prenium"
                                },
                                {
                                    "CustomerID": "453",
                                    "CustomerName": "Wingtip Toys (Stanardsville, VA)",
                                    "Totalsales": "115953.90",
                                    "CustomerSegm": "Prenium"
                                },
                                {
                                    "CustomerID": "478",
                                    "CustomerName": "Wingtip Toys (Stoneboro, PA)",
                                    "Totalsales": "162983.90",
                                    "CustomerSegm": "Prenium"
                                },
                                {
                                    "CustomerID": "513",
                                    "CustomerName": "Wingtip Toys (Straughn, IN)",
                                    "Totalsales": "117556.85",
                                    "CustomerSegm": "Prenium"
                                },
                                {
                                    "CustomerID": "468",
                                    "CustomerName": "Wingtip Toys (Sunburg, MN)",
                                    "Totalsales": "131478.55",
                                    "CustomerSegm": "Prenium"
                                },
                                {
                                    "CustomerID": "455",
                                    "CustomerName": "Wingtip Toys (Taft Heights, CA)",
                                    "Totalsales": "149214.45",
                                    "CustomerSegm": "Prenium"
                                },
                                {
                                    "CustomerID": "444",
                                    "CustomerName": "Wingtip Toys (Tea, SD)",
                                    "Totalsales": "151694.25",
                                    "CustomerSegm": "Prenium"
                                },
                                {
                                    "CustomerID": "435",
                                    "CustomerName": "Wingtip Toys (Teutopolis, IL)",
                                    "Totalsales": "130693.25",
                                    "CustomerSegm": "Prenium"
                                },
                                {
                                    "CustomerID": "564",
                                    "CustomerName": "Wingtip Toys (Tilleda, WI)",
                                    "Totalsales": "133242.10",
                                    "CustomerSegm": "Prenium"
                                },
                                {
                                    "CustomerID": "585",
                                    "CustomerName": "Wingtip Toys (Towaco, NJ)",
                                    "Totalsales": "125528.10",
                                    "CustomerSegm": "Prenium"
                                },
                                {
                                    "CustomerID": "535",
                                    "CustomerName": "Wingtip Toys (Triadelphia, WV)",
                                    "Totalsales": "130005.80",
                                    "CustomerSegm": "Prenium"
                                },
                                {
                                    "CustomerID": "572",
                                    "CustomerName": "Wingtip Toys (Trout Run, PA)",
                                    "Totalsales": "156492.05",
                                    "CustomerSegm": "Prenium"
                                },
                                {
                                    "CustomerID": "575",
                                    "CustomerName": "Wingtip Toys (Trumansburg, NY)",
                                    "Totalsales": "133555.00",
                                    "CustomerSegm": "Prenium"
                                },
                                {
                                    "CustomerID": "413",
                                    "CustomerName": "Wingtip Toys (Truscott, TX)",
                                    "Totalsales": "164996.10",
                                    "CustomerSegm": "Prenium"
                                },
                                {
                                    "CustomerID": "406",
                                    "CustomerName": "Wingtip Toys (Tuscaloosa, AL)",
                                    "Totalsales": "155844.05",
                                    "CustomerSegm": "Prenium"
                                },
                                {
                                    "CustomerID": "470",
                                    "CustomerName": "Wingtip Toys (Universal City, TX)",
                                    "Totalsales": "113570.10",
                                    "CustomerSegm": "Prenium"
                                },
                                {
                                    "CustomerID": "461",
                                    "CustomerName": "Wingtip Toys (Vair, TX)",
                                    "Totalsales": "121738.90",
                                    "CustomerSegm": "Prenium"
                                },
                                {
                                    "CustomerID": "503",
                                    "CustomerName": "Wingtip Toys (Valhalla, NC)",
                                    "Totalsales": "125340.55",
                                    "CustomerSegm": "Prenium"
                                },
                                {
                                    "CustomerID": "432",
                                    "CustomerName": "Wingtip Toys (Vamo, FL)",
                                    "Totalsales": "135324.20",
                                    "CustomerSegm": "Prenium"
                                },
                                {
                                    "CustomerID": "497",
                                    "CustomerName": "Wingtip Toys (Verdery, SC)",
                                    "Totalsales": "125772.80",
                                    "CustomerSegm": "Prenium"
                                },
                                {
                                    "CustomerID": "480",
                                    "CustomerName": "Wingtip Toys (Wapinitia, OR)",
                                    "Totalsales": "163084.60",
                                    "CustomerSegm": "Prenium"
                                },
                                {
                                    "CustomerID": "565",
                                    "CustomerName": "Wingtip Toys (Wapiti, WY)",
                                    "Totalsales": "159568.75",
                                    "CustomerSegm": "Prenium"
                                },
                                {
                                    "CustomerID": "562",
                                    "CustomerName": "Wingtip Toys (Ware Shoals, SC)",
                                    "Totalsales": "145610.10",
                                    "CustomerSegm": "Prenium"
                                },
                                {
                                    "CustomerID": "532",
                                    "CustomerName": "Wingtip Toys (Waycross, GA)",
                                    "Totalsales": "135407.30",
                                    "CustomerSegm": "Prenium"
                                },
                                {
                                    "CustomerID": "540",
                                    "CustomerName": "Wingtip Toys (Weld, ME)",
                                    "Totalsales": "120639.65",
                                    "CustomerSegm": "Prenium"
                                },
                                {
                                    "CustomerID": "569",
                                    "CustomerName": "Wingtip Toys (West Frostproof, FL)",
                                    "Totalsales": "177147.55",
                                    "CustomerSegm": "Prenium"
                                },
                                {
                                    "CustomerID": "456",
                                    "CustomerName": "Wingtip Toys (West Hempstead, NY)",
                                    "Totalsales": "119124.30",
                                    "CustomerSegm": "Prenium"
                                },
                                {
                                    "CustomerID": "481",
                                    "CustomerName": "Wingtip Toys (White Church, MO)",
                                    "Totalsales": "147500.00",
                                    "CustomerSegm": "Prenium"
                                },
                                {
                                    "CustomerID": "426",
                                    "CustomerName": "Wingtip Toys (Willow Valley, AZ)",
                                    "Totalsales": "88551.45",
                                    "CustomerSegm": "Standard"
                                },
                                {
                                    "CustomerID": "418",
                                    "CustomerName": "Wingtip Toys (Yaak, MT)",
                                    "Totalsales": "139733.60",
                                    "CustomerSegm": "Prenium"
                                },
                                {
                                    "CustomerID": "982",
                                    "CustomerName": "Yves Belisle",
                                    "Totalsales": "159775.05",
                                    "CustomerSegm": "Prenium"
                                }
                            ]
                        },
                        "text/html": [
                            "<table>",
                            "<tr><th>CustomerID</th><th>CustomerName</th><th>Totalsales</th><th>CustomerSegm</th></tr>",
                            "<tr><td>832</td><td>Aakriti Byrraju</td><td>146688.30</td><td>Prenium</td></tr>",
                            "<tr><td>836</td><td>Abel Spirlea</td><td>127500.45</td><td>Prenium</td></tr>",
                            "<tr><td>869</td><td>Abel Tatarescu</td><td>74358.60</td><td>Standard</td></tr>",
                            "<tr><td>1048</td><td>Abhra Ganguly</td><td>28603.90</td><td>Standard</td></tr>",
                            "<tr><td>901</td><td>Adrian Andreasson</td><td>140232.80</td><td>Prenium</td></tr>",
                            "<tr><td>1055</td><td>Adriana Pena</td><td>31628.55</td><td>Standard</td></tr>",
                            "<tr><td>1061</td><td>Agrita Abele</td><td>10154.85</td><td>Standard</td></tr>",
                            "<tr><td>817</td><td>Agrita Kanepa</td><td>129663.25</td><td>Prenium</td></tr>",
                            "<tr><td>1034</td><td>Aishwarya Dantuluri</td><td>82191.05</td><td>Standard</td></tr>",
                            "<tr><td>1016</td><td>Aive Petrov</td><td>124512.35</td><td>Prenium</td></tr>",
                            "<tr><td>906</td><td>Ajitaab Pakalapati</td><td>160276.05</td><td>Prenium</td></tr>",
                            "<tr><td>987</td><td>Akhil Nadar</td><td>117676.60</td><td>Prenium</td></tr>",
                            "<tr><td>804</td><td>Aleksandrs Riekstins</td><td>153504.75</td><td>Prenium</td></tr>",
                            "<tr><td>810</td><td>Alena Kellnerova</td><td>137445.65</td><td>Prenium</td></tr>",
                            "<tr><td>976</td><td>Alinne Matos</td><td>144795.45</td><td>Prenium</td></tr>",
                            "<tr><td>897</td><td>Allan Mannik</td><td>129356.55</td><td>Prenium</td></tr>",
                            "<tr><td>848</td><td>Alvin Bollinger</td><td>153617.00</td><td>Prenium</td></tr>",
                            "<tr><td>992</td><td>Amarakumaar Gadiyaram</td><td>134086.70</td><td>Prenium</td></tr>",
                            "<tr><td>861</td><td>Amarasimha Vinjamuri</td><td>165285.95</td><td>Prenium</td></tr>",
                            "<tr><td>1049</td><td>Amet Shergill</td><td>22256.80</td><td>Standard</td></tr>",
                            "<tr><td>1050</td><td>Amrita Ganguly</td><td>22639.00</td><td>Standard</td></tr>",
                            "<tr><td>915</td><td>Ana Florea</td><td>149008.10</td><td>Prenium</td></tr>",
                            "<tr><td>1060</td><td>Anand Mudaliyar</td><td>3260.40</td><td>Standard</td></tr>",
                            "<tr><td>968</td><td>Anca Gogean</td><td>143197.70</td><td>Prenium</td></tr>",
                            "<tr><td>990</td><td>Andris Saulitis</td><td>105898.05</td><td>Prenium</td></tr>",
                            "<tr><td>837</td><td>Anil Sarkar</td><td>111629.75</td><td>Prenium</td></tr>",
                            "<tr><td>884</td><td>Anindya Ghatak</td><td>158733.25</td><td>Prenium</td></tr>",
                            "<tr><td>938</td><td>Anna Gyarmathi</td><td>128158.65</td><td>Prenium</td></tr>",
                            "<tr><td>855</td><td>Anna Mazzanti</td><td>140728.55</td><td>Prenium</td></tr>",
                            "<tr><td>1013</td><td>Annette  Hetu</td><td>86824.15</td><td>Standard</td></tr>",
                            "<tr><td>928</td><td>Arijit Bhuiyan</td><td>165558.35</td><td>Prenium</td></tr>",
                            "<tr><td>1024</td><td>Arka Chatterjee</td><td>113825.15</td><td>Prenium</td></tr>",
                            "<tr><td>978</td><td>Baalaamjali Devulapalli</td><td>140603.85</td><td>Prenium</td></tr>",
                            "<tr><td>892</td><td>Bahaar Asef zade</td><td>152137.85</td><td>Prenium</td></tr>",
                            "<tr><td>803</td><td>Bala Dixit</td><td>137828.65</td><td>Prenium</td></tr>",
                            "<tr><td>887</td><td>Baran Jonsson</td><td>133452.40</td><td>Prenium</td></tr>",
                            "<tr><td>963</td><td>Be Trang</td><td>131686.75</td><td>Prenium</td></tr>",
                            "<tr><td>1039</td><td>Bhaamini Palagummi</td><td>49274.80</td><td>Standard</td></tr>",
                            "<tr><td>831</td><td>Bhaavan Rai</td><td>162122.45</td><td>Prenium</td></tr>",
                            "<tr><td>1005</td><td>Bhadram Kamasamudram</td><td>111631.30</td><td>Prenium</td></tr>",
                            "<tr><td>852</td><td>Bhagavaan Atluri</td><td>118658.55</td><td>Prenium</td></tr>",
                            "<tr><td>1009</td><td>Bhagavateeprasaad Malladi</td><td>137259.30</td><td>Prenium</td></tr>",
                            "<tr><td>962</td><td>Bhagavati Vinjamuri</td><td>137237.75</td><td>Prenium</td></tr>",
                            "<tr><td>865</td><td>Bijoya Thakur</td><td>100844.95</td><td>Prenium</td></tr>",
                            "<tr><td>842</td><td>Biju Deb</td><td>138778.80</td><td>Prenium</td></tr>",
                            "<tr><td>858</td><td>Bimla PrabhupÄda</td><td>134563.80</td><td>Prenium</td></tr>",
                            "<tr><td>903</td><td>Bing Han</td><td>113496.30</td><td>Prenium</td></tr>",
                            "<tr><td>941</td><td>Bishwa Chatterjee</td><td>164320.25</td><td>Prenium</td></tr>",
                            "<tr><td>841</td><td>Camille Authier</td><td>173946.95</td><td>Prenium</td></tr>",
                            "<tr><td>925</td><td>Can ozcan</td><td>105463.40</td><td>Prenium</td></tr>",
                            "<tr><td>853</td><td>Caterina Pinto</td><td>124944.65</td><td>Prenium</td></tr>",
                            "<tr><td>812</td><td>Celica Barajas</td><td>112269.85</td><td>Prenium</td></tr>",
                            "<tr><td>942</td><td>Chaayaadaevi Sonti</td><td>144329.70</td><td>Prenium</td></tr>",
                            "<tr><td>914</td><td>Chandana Shasthri</td><td>114244.40</td><td>Prenium</td></tr>",
                            "<tr><td>885</td><td>Chandrashekhar Dasgupta</td><td>152415.50</td><td>Prenium</td></tr>",
                            "<tr><td>899</td><td>Chin-Sun Chang</td><td>144394.70</td><td>Prenium</td></tr>",
                            "<tr><td>1030</td><td>Chompoo Atitarn</td><td>71015.30</td><td>Standard</td></tr>",
                            "<tr><td>1046</td><td>Christian Couet</td><td>52777.35</td><td>Standard</td></tr>",
                            "<tr><td>952</td><td>Chuan Wattanasin</td><td>122721.75</td><td>Prenium</td></tr>",
                            "<tr><td>857</td><td>Clarissa Manfrin</td><td>144661.20</td><td>Prenium</td></tr>",
                            "<tr><td>834</td><td>Cong Hoa</td><td>165158.95</td><td>Prenium</td></tr>",
                            "<tr><td>802</td><td>Cosmina Vlad</td><td>130248.65</td><td>Prenium</td></tr>",
                            "<tr><td>827</td><td>Crina Grasu</td><td>138961.80</td><td>Prenium</td></tr>",
                            "<tr><td>1033</td><td>Cuneyt Arslan</td><td>84930.20</td><td>Standard</td></tr>",
                            "<tr><td>854</td><td>Daakshaayaani Kommineni</td><td>123291.50</td><td>Prenium</td></tr>",
                            "<tr><td>850</td><td>Daakshaayaani Sankaramanchi</td><td>148749.00</td><td>Prenium</td></tr>",
                            "<tr><td>935</td><td>Daevasree Samavedam</td><td>128013.00</td><td>Prenium</td></tr>",
                            "<tr><td>1040</td><td>Damodar Shenoy</td><td>59324.10</td><td>Standard</td></tr>",
                            "<tr><td>1038</td><td>Damodara Trivedi</td><td>50087.60</td><td>Standard</td></tr>",
                            "<tr><td>874</td><td>Daniel Martensson</td><td>173490.95</td><td>Prenium</td></tr>",
                            "<tr><td>1026</td><td>Daniella Cavalcante</td><td>74911.35</td><td>Standard</td></tr>",
                            "<tr><td>871</td><td>Darshana Madhunapantula</td><td>123828.50</td><td>Prenium</td></tr>",
                            "<tr><td>1037</td><td>David Jaramillo</td><td>86318.10</td><td>Standard</td></tr>",
                            "<tr><td>1017</td><td>David Novacek </td><td>108148.60</td><td>Prenium</td></tr>",
                            "<tr><td>946</td><td>David safranek</td><td>135273.20</td><td>Prenium</td></tr>",
                            "<tr><td>886</td><td>Debbie Molina</td><td>133848.65</td><td>Prenium</td></tr>",
                            "<tr><td>909</td><td>Dena Glissen</td><td>160497.85</td><td>Prenium</td></tr>",
                            "<tr><td>833</td><td>Devraj Rao</td><td>95000.30</td><td>Standard</td></tr>",
                            "<tr><td>959</td><td>Dhaatri Chavva</td><td>123980.10</td><td>Prenium</td></tr>",
                            "<tr><td>971</td><td>Dhanishta Mokkapati</td><td>125525.90</td><td>Prenium</td></tr>",
                            "<tr><td>1019</td><td>Dhanishta Pullela</td><td>85593.55</td><td>Standard</td></tr>",
                            "<tr><td>1001</td><td>Dinh Mai</td><td>172153.50</td><td>Prenium</td></tr>",
                            "<tr><td>1031</td><td>Dipti Shah</td><td>68536.60</td><td>Standard</td></tr>",
                            "<tr><td>835</td><td>Dominic Davignon</td><td>128212.70</td><td>Prenium</td></tr>",
                            "<tr><td>943</td><td>Drazenka Jelic</td><td>133916.70</td><td>Prenium</td></tr>",
                            "<tr><td>1004</td><td>Drishti Bose</td><td>122906.30</td><td>Prenium</td></tr>",
                            "<tr><td>844</td><td>Durdanah Abbasi</td><td>129938.45</td><td>Prenium</td></tr>",
                            "<tr><td>851</td><td>Ebru Erdogan</td><td>125037.50</td><td>Prenium</td></tr>",
                            "<tr><td>960</td><td>Edgar Jogi</td><td>152657.35</td><td>Prenium</td></tr>",
                            "<tr><td>880</td><td>Edmee Glissen</td><td>135454.05</td><td>Prenium</td></tr>",
                            "<tr><td>910</td><td>Elina Kaleja</td><td>153270.45</td><td>Prenium</td></tr>",
                            "<tr><td>951</td><td>Eliza Persson</td><td>105012.05</td><td>Prenium</td></tr>",
                            "<tr><td>974</td><td>Emil Roman</td><td>128367.35</td><td>Prenium</td></tr>",
                            "<tr><td>845</td><td>Emilie Hrdlickova</td><td>114593.70</td><td>Prenium</td></tr>",
                            "<tr><td>950</td><td>Emily Whittle</td><td>131201.05</td><td>Prenium</td></tr>",
                            "<tr><td>1054</td><td>Emma Salpa</td><td>25174.90</td><td>Standard</td></tr>",
                            "<tr><td>1028</td><td>Emma Van Zant</td><td>65278.45</td><td>Standard</td></tr>",
                            "<tr><td>801</td><td>Eric Torres</td><td>139728.10</td><td>Prenium</td></tr>",
                            "<tr><td>1036</td><td>Erik Malk</td><td>84711.35</td><td>Standard</td></tr>",
                            "<tr><td>907</td><td>Eugen Agafitei</td><td>152576.35</td><td>Prenium</td></tr>",
                            "<tr><td>924</td><td>Eva Schulteisz</td><td>134656.70</td><td>Prenium</td></tr>",
                            "<tr><td>1021</td><td>Fabrice Cloutier</td><td>74043.85</td><td>Standard</td></tr>",
                            "<tr><td>1023</td><td>Farzana Habibi</td><td>91030.90</td><td>Standard</td></tr>",
                            "<tr><td>823</td><td>Francisca Laureano</td><td>112551.95</td><td>Prenium</td></tr>",
                            "<tr><td>894</td><td>Gabriela Hernandes</td><td>137554.75</td><td>Prenium</td></tr>",
                            "<tr><td>1057</td><td>Ganesh Majumdar</td><td>23076.45</td><td>Standard</td></tr>",
                            "<tr><td>993</td><td>Gasper Havzija</td><td>126594.40</td><td>Prenium</td></tr>",
                            "<tr><td>920</td><td>Gayatri Gajula</td><td>124378.80</td><td>Prenium</td></tr>",
                            "<tr><td>895</td><td>Geza Roman</td><td>119670.50</td><td>Prenium</td></tr>",
                            "<tr><td>898</td><td>Gopalgobinda Sikdar</td><td>121195.05</td><td>Prenium</td></tr>",
                            "<tr><td>807</td><td>Gunnar Lohmus</td><td>149154.05</td><td>Prenium</td></tr>",
                            "<tr><td>1020</td><td>Hai Banh</td><td>98428.20</td><td>Standard</td></tr>",
                            "<tr><td>873</td><td>Hana Hlouskova</td><td>117730.65</td><td>Prenium</td></tr>",
                            "<tr><td>1044</td><td>Hanita Nookala</td><td>43696.05</td><td>Standard</td></tr>",
                            "<tr><td>816</td><td>Harsha Huq</td><td>143665.40</td><td>Prenium</td></tr>",
                            "<tr><td>957</td><td>Hee-Young Suh</td><td>118823.60</td><td>Prenium</td></tr>",
                            "<tr><td>945</td><td>Hoc Tran</td><td>150656.80</td><td>Prenium</td></tr>",
                            "<tr><td>1003</td><td>Hue Ton</td><td>135119.00</td><td>Prenium</td></tr>",
                            "<tr><td>1052</td><td>Ian Olofsson</td><td>30242.95</td><td>Standard</td></tr>",
                            "<tr><td>944</td><td>Ida Celma</td><td>153205.70</td><td>Prenium</td></tr>",
                            "<tr><td>964</td><td>Ingrida Zeltina</td><td>189239.35</td><td>Prenium</td></tr>",
                            "<tr><td>870</td><td>In-Su Bae</td><td>176754.05</td><td>Prenium</td></tr>",
                            "<tr><td>939</td><td>Ioana Florea</td><td>140694.05</td><td>Prenium</td></tr>",
                            "<tr><td>1007</td><td>Irma Berzina</td><td>153896.40</td><td>Prenium</td></tr>",
                            "<tr><td>1015</td><td>Isa Hulsegge</td><td>85465.60</td><td>Standard</td></tr>",
                            "<tr><td>918</td><td>Isidora Morales</td><td>144068.35</td><td>Prenium</td></tr>",
                            "<tr><td>970</td><td>Isidora Urias</td><td>130431.00</td><td>Prenium</td></tr>",
                            "<tr><td>934</td><td>Ivan Sepulveda</td><td>144631.45</td><td>Prenium</td></tr>",
                            "<tr><td>1047</td><td>Ivana Hadrabova</td><td>25311.75</td><td>Standard</td></tr>",
                            "<tr><td>829</td><td>Jack Walker</td><td>146062.75</td><td>Prenium</td></tr>",
                            "<tr><td>808</td><td>Jackson Kolios</td><td>116463.05</td><td>Prenium</td></tr>",
                            "<tr><td>888</td><td>Jai Lamble</td><td>141718.05</td><td>Prenium</td></tr>",
                            "<tr><td>863</td><td>Jakub Lukes</td><td>143133.30</td><td>Prenium</td></tr>",
                            "<tr><td>830</td><td>Jana Fialova</td><td>147901.35</td><td>Prenium</td></tr>",
                            "<tr><td>1058</td><td>Jaroslav Fisar</td><td>30093.40</td><td>Standard</td></tr>",
                            "<tr><td>867</td><td>Jasna Cerkez</td><td>152930.55</td><td>Prenium</td></tr>",
                            "<tr><td>866</td><td>Jay Bhuiyan</td><td>109130.85</td><td>Prenium</td></tr>",
                            "<tr><td>825</td><td>Jayanta Thakur</td><td>136761.45</td><td>Prenium</td></tr>",
                            "<tr><td>1059</td><td>Jibek Juniskyzy</td><td>6332.80</td><td>Standard</td></tr>",
                            "<tr><td>879</td><td>Jitka Necesana</td><td>130977.65</td><td>Prenium</td></tr>",
                            "<tr><td>933</td><td>Joel Carrillo</td><td>147879.80</td><td>Prenium</td></tr>",
                            "<tr><td>814</td><td>Johanna Hoornstra</td><td>85910.60</td><td>Standard</td></tr>",
                            "<tr><td>839</td><td>Juan Morse</td><td>105665.45</td><td>Prenium</td></tr>",
                            "<tr><td>1056</td><td>Kalyani Benjaree</td><td>20541.30</td><td>Standard</td></tr>",
                            "<tr><td>984</td><td>Kamala Nishad</td><td>137108.05</td><td>Prenium</td></tr>",
                            "<tr><td>902</td><td>Kamila Michnova</td><td>143532.60</td><td>Prenium</td></tr>",
                            "<tr><td>872</td><td>Katerina Hadrabova</td><td>143287.25</td><td>Prenium</td></tr>",
                            "<tr><td>919</td><td>Kertu Sokk</td><td>117969.80</td><td>Prenium</td></tr>",
                            "<tr><td>820</td><td>Knut Svensson</td><td>153360.35</td><td>Prenium</td></tr>",
                            "<tr><td>1000</td><td>Krishnam Allu</td><td>140939.00</td><td>Prenium</td></tr>",
                            "<tr><td>999</td><td>Kristi Part</td><td>118728.45</td><td>Prenium</td></tr>",
                            "<tr><td>847</td><td>Kristiina Ivanov</td><td>110603.45</td><td>Prenium</td></tr>",
                            "<tr><td>973</td><td>Kumar Kamei</td><td>152493.90</td><td>Prenium</td></tr>",
                            "<tr><td>995</td><td>Kumar Naicker</td><td>132857.90</td><td>Prenium</td></tr>",
                            "<tr><td>821</td><td>Kwanjai Saowaluk</td><td>142294.05</td><td>Prenium</td></tr>",
                            "<tr><td>972</td><td>Lakshmi Benipal</td><td>147219.80</td><td>Prenium</td></tr>",
                            "<tr><td>862</td><td>Lana Goransson</td><td>136594.10</td><td>Prenium</td></tr>",
                            "<tr><td>996</td><td>Laszlo Gardenier</td><td>172134.75</td><td>Prenium</td></tr>",
                            "<tr><td>868</td><td>Laura Sykorova</td><td>125704.90</td><td>Prenium</td></tr>",
                            "<tr><td>826</td><td>Leila Carvalho</td><td>142390.80</td><td>Prenium</td></tr>",
                            "<tr><td>896</td><td>Leonardo Folliero</td><td>127596.40</td><td>Prenium</td></tr>",
                            "<tr><td>893</td><td>Leyla Asef zade</td><td>122521.25</td><td>Prenium</td></tr>",
                            "<tr><td>877</td><td>Leyla Siavashi</td><td>150882.60</td><td>Prenium</td></tr>",
                            "<tr><td>994</td><td>Libuse Kuchtova</td><td>121214.40</td><td>Prenium</td></tr>",
                            "<tr><td>815</td><td>Libuse Valentova</td><td>152092.65</td><td>Prenium</td></tr>",
                            "<tr><td>818</td><td>Liia Orav</td><td>108668.30</td><td>Prenium</td></tr>",
                            "<tr><td>911</td><td>Liidia Lepp</td><td>134383.25</td><td>Prenium</td></tr>",
                            "<tr><td>900</td><td>Lilli Sokk</td><td>151304.70</td><td>Prenium</td></tr>",
                            "<tr><td>953</td><td>Linh Dao</td><td>144145.85</td><td>Prenium</td></tr>",
                            "<tr><td>940</td><td>Lorin Astrom</td><td>103526.70</td><td>Prenium</td></tr>",
                            "<tr><td>936</td><td>Ludmila Smidova</td><td>141576.70</td><td>Prenium</td></tr>",
                            "<tr><td>1053</td><td>Luis Saucedo</td><td>19605.20</td><td>Standard</td></tr>",
                            "<tr><td>809</td><td>Madhu Dwivedi</td><td>114255.00</td><td>Prenium</td></tr>",
                            "<tr><td>881</td><td>Magdalena Michnova</td><td>119154.95</td><td>Prenium</td></tr>",
                            "<tr><td>998</td><td>Mahavir Sonkar</td><td>119009.05</td><td>Prenium</td></tr>",
                            "<tr><td>981</td><td>Mahmut ozbek</td><td>142461.45</td><td>Prenium</td></tr>",
                            "<tr><td>988</td><td>Maksims Krastins</td><td>157720.50</td><td>Prenium</td></tr>",
                            "<tr><td>846</td><td>Malorie Bousquet</td><td>115000.40</td><td>Prenium</td></tr>",
                            "<tr><td>937</td><td>Manca Hrastovsek</td><td>94851.60</td><td>Standard</td></tr>",
                            "<tr><td>1035</td><td>Manjunatha Karnik</td><td>64301.30</td><td>Standard</td></tr>",
                            "<tr><td>860</td><td>Marcela Lucescu</td><td>130747.70</td><td>Prenium</td></tr>",
                            "<tr><td>876</td><td>Marie LeBatelier</td><td>148075.95</td><td>Prenium</td></tr>",
                            "<tr><td>843</td><td>Marija Justina Pasek</td><td>122791.60</td><td>Prenium</td></tr>",
                            "<tr><td>882</td><td>Maryann Huddleston</td><td>146416.15</td><td>Prenium</td></tr>",
                            "<tr><td>1045</td><td>Matteo Cattaneo</td><td>71694.05</td><td>Standard</td></tr>",
                            "<tr><td>927</td><td>Matyas Sedlar</td><td>104742.45</td><td>Prenium</td></tr>",
                            "<tr><td>977</td><td>Mauno Laurila</td><td>172559.80</td><td>Prenium</td></tr>",
                            "<tr><td>967</td><td>Meera Patel</td><td>149569.95</td><td>Prenium</td></tr>",
                            "<tr><td>979</td><td>Melani Ravlen</td><td>131889.50</td><td>Prenium</td></tr>",
                            "<tr><td>864</td><td>Mikhail Degtyarev</td><td>105630.80</td><td>Prenium</td></tr>",
                            "<tr><td>989</td><td>Milinka Zujovic</td><td>89137.80</td><td>Standard</td></tr>",
                            "<tr><td>878</td><td>Miriam House</td><td>123619.15</td><td>Prenium</td></tr>",
                            "<tr><td>997</td><td>Nada Ana Slosar</td><td>131092.15</td><td>Prenium</td></tr>",
                            "<tr><td>931</td><td>Nada Jovanovic</td><td>123062.75</td><td>Prenium</td></tr>",
                            "<tr><td>1022</td><td>Nadir Seddigh</td><td>90078.10</td><td>Standard</td></tr>",
                            "<tr><td>1014</td><td>Narendra Tickoo</td><td>108627.65</td><td>Prenium</td></tr>",
                            "<tr><td>954</td><td>Nasrin Omidzadeh</td><td>181555.60</td><td>Prenium</td></tr>",
                            "<tr><td>986</td><td>Neil Farrelly</td><td>138802.65</td><td>Prenium</td></tr>",
                            "<tr><td>1042</td><td>Nguyen Banh</td><td>56152.35</td><td>Standard</td></tr>",
                            "<tr><td>956</td><td>Nhung Thach</td><td>94779.30</td><td>Standard</td></tr>",
                            "<tr><td>932</td><td>Nicolo Cattaneo</td><td>120705.75</td><td>Prenium</td></tr>",
                            "<tr><td>1018</td><td>Nils Kaulins</td><td>111533.95</td><td>Prenium</td></tr>",
                            "<tr><td>904</td><td>Olafs Rozitis</td><td>116261.95</td><td>Prenium</td></tr>",
                            "<tr><td>890</td><td>Olya Izmaylov</td><td>159902.60</td><td>Prenium</td></tr>",
                            "<tr><td>980</td><td>Om Yadav</td><td>155604.85</td><td>Prenium</td></tr>",
                            "<tr><td>917</td><td>Pari Hosseini</td><td>107861.65</td><td>Prenium</td></tr>",
                            "<tr><td>838</td><td>Pavel Bogdanov</td><td>141734.55</td><td>Prenium</td></tr>",
                            "<tr><td>875</td><td>Philip Walker</td><td>147484.10</td><td>Prenium</td></tr>",
                            "<tr><td>965</td><td>Phoung Cu</td><td>126190.55</td><td>Prenium</td></tr>",
                            "<tr><td>916</td><td>Pinja Jantunen</td><td>141881.70</td><td>Prenium</td></tr>",
                            "<tr><td>975</td><td>Prabodh Nair</td><td>150752.45</td><td>Prenium</td></tr>",
                            "<tr><td>883</td><td>Radha Barua</td><td>116541.45</td><td>Prenium</td></tr>",
                            "<tr><td>955</td><td>Raghu Sandhu</td><td>143615.05</td><td>Prenium</td></tr>",
                            "<tr><td>1043</td><td>Raj Verma</td><td>70742.95</td><td>Standard</td></tr>",
                            "<tr><td>1011</td><td>Rajeev Sandhu</td><td>136235.05</td><td>Prenium</td></tr>",
                            "<tr><td>961</td><td>Rani Ganguly</td><td>153284.90</td><td>Prenium</td></tr>",
                            "<tr><td>805</td><td>Ratan Poddar</td><td>142938.25</td><td>Prenium</td></tr>",
                            "<tr><td>926</td><td>Richard Friar</td><td>113418.55</td><td>Prenium</td></tr>",
                            "<tr><td>948</td><td>Richard Zahradnicek</td><td>122194.05</td><td>Prenium</td></tr>",
                            "<tr><td>824</td><td>Risto Valbe</td><td>141061.90</td><td>Prenium</td></tr>",
                            "<tr><td>840</td><td>Rodrigo Figueiredo</td><td>117827.85</td><td>Prenium</td></tr>",
                            "<tr><td>985</td><td>Roko Ilic</td><td>121344.85</td><td>Prenium</td></tr>",
                            "<tr><td>983</td><td>Sabine Alksne</td><td>142630.30</td><td>Prenium</td></tr>",
                            "<tr><td>849</td><td>Sabine Zalite</td><td>149578.15</td><td>Prenium</td></tr>",
                            "<tr><td>819</td><td>Santiago Vera</td><td>115834.40</td><td>Prenium</td></tr>",
                            "<tr><td>905</td><td>Sara Huiting</td><td>134818.50</td><td>Prenium</td></tr>",
                            "<tr><td>966</td><td>Sara Walkky</td><td>120463.75</td><td>Prenium</td></tr>",
                            "<tr><td>856</td><td>Satish Mittal</td><td>179484.75</td><td>Prenium</td></tr>",
                            "<tr><td>949</td><td>Seo-yun Paik</td><td>178316.20</td><td>Prenium</td></tr>",
                            "<tr><td>828</td><td>Sercan Celik</td><td>144606.40</td><td>Prenium</td></tr>",
                            "<tr><td>1010</td><td>Serdar ozCelik</td><td>124733.60</td><td>Prenium</td></tr>",
                            "<tr><td>1027</td><td>Serdar ozden</td><td>79983.60</td><td>Standard</td></tr>",
                            "<tr><td>859</td><td>Shah Alizadeh</td><td>108256.45</td><td>Prenium</td></tr>",
                            "<tr><td>930</td><td>Shantanu Huq</td><td>154599.00</td><td>Prenium</td></tr>",
                            "<tr><td>806</td><td>Shi Tu</td><td>147091.90</td><td>Prenium</td></tr>",
                            "<tr><td>813</td><td>Shyam Poddar</td><td>158666.65</td><td>Prenium</td></tr>",
                            "<tr><td>889</td><td>Sointu Savonheimo</td><td>144584.40</td><td>Prenium</td></tr>",
                            "<tr><td>1032</td><td>Som Mukherjee</td><td>83120.15</td><td>Standard</td></tr>",
                            "<tr><td>969</td><td>Staffan Persson</td><td>100240.55</td><td>Prenium</td></tr>",
                            "<tr><td>1002</td><td>Stefan Selezeanu</td><td>132972.45</td><td>Prenium</td></tr>",
                            "<tr><td>908</td><td>Sumati Bhat</td><td>145681.40</td><td>Prenium</td></tr>",
                            "<tr><td>922</td><td>Sumati Chatterjee</td><td>124421.15</td><td>Prenium</td></tr>",
                            "<tr><td>822</td><td>Suparna Bhattacharya</td><td>128600.30</td><td>Prenium</td></tr>",
                            "<tr><td>811</td><td>Surendra Sahu</td><td>129076.05</td><td>Prenium</td></tr>",
                            "<tr><td>947</td><td>Svetlana Todorovic</td><td>151581.15</td><td>Prenium</td></tr>",
                            "<tr><td>1051</td><td>Sylvie Laramee</td><td>19752.00</td><td>Standard</td></tr>",
                            "<tr><td>923</td><td>Tai Bach</td><td>139114.50</td><td>Prenium</td></tr>",
                            "<tr><td>83</td><td>Tailspin Toys (Absecon, NJ)</td><td>129358.35</td><td>Prenium</td></tr>",
                            "<tr><td>84</td><td>Tailspin Toys (Aceitunas, PR)</td><td>119283.00</td><td>Prenium</td></tr>",
                            "<tr><td>38</td><td>Tailspin Toys (Airport Drive, MO)</td><td>162500.00</td><td>Prenium</td></tr>",
                            "<tr><td>91</td><td>Tailspin Toys (Alstead, NH)</td><td>106146.95</td><td>Prenium</td></tr>",
                            "<tr><td>44</td><td>Tailspin Toys (Amanda Park, WA)</td><td>117443.85</td><td>Prenium</td></tr>",
                            "<tr><td>85</td><td>Tailspin Toys (Andrix, CO)</td><td>130710.00</td><td>Prenium</td></tr>",
                            "<tr><td>125</td><td>Tailspin Toys (Annamoriah, WV)</td><td>139498.50</td><td>Prenium</td></tr>",
                            "<tr><td>151</td><td>Tailspin Toys (Antares, AZ)</td><td>147561.80</td><td>Prenium</td></tr>",
                            "<tr><td>199</td><td>Tailspin Toys (Antonito, CO)</td><td>113055.75</td><td>Prenium</td></tr>",
                            "<tr><td>155</td><td>Tailspin Toys (Arbor Vitae, WI)</td><td>135056.25</td><td>Prenium</td></tr>",
                            "<tr><td>42</td><td>Tailspin Toys (Arietta, NY)</td><td>144000.65</td><td>Prenium</td></tr>",
                            "<tr><td>178</td><td>Tailspin Toys (Armstrong Creek, WI)</td><td>141152.90</td><td>Prenium</td></tr>",
                            "<tr><td>141</td><td>Tailspin Toys (Arrow Rock, MO)</td><td>112614.15</td><td>Prenium</td></tr>",
                            "<tr><td>143</td><td>Tailspin Toys (Ashtabula, OH)</td><td>135245.25</td><td>Prenium</td></tr>",
                            "<tr><td>161</td><td>Tailspin Toys (Aspen Park, CO)</td><td>139265.25</td><td>Prenium</td></tr>",
                            "<tr><td>174</td><td>Tailspin Toys (Astor Park, FL)</td><td>125489.40</td><td>Prenium</td></tr>",
                            "<tr><td>25</td><td>Tailspin Toys (Avenal, CA)</td><td>138042.35</td><td>Prenium</td></tr>",
                            "<tr><td>148</td><td>Tailspin Toys (Baraboo, WI)</td><td>125985.95</td><td>Prenium</td></tr>",
                            "<tr><td>15</td><td>Tailspin Toys (Batson, TX)</td><td>153860.50</td><td>Prenium</td></tr>",
                            "<tr><td>146</td><td>Tailspin Toys (Belgreen, AL)</td><td>152717.35</td><td>Prenium</td></tr>",
                            "<tr><td>108</td><td>Tailspin Toys (Bernie, MO)</td><td>127832.05</td><td>Prenium</td></tr>",
                            "<tr><td>115</td><td>Tailspin Toys (Bethania, NC)</td><td>162702.70</td><td>Prenium</td></tr>",
                            "<tr><td>81</td><td>Tailspin Toys (Big Moose, NY)</td><td>168926.20</td><td>Prenium</td></tr>",
                            "<tr><td>12</td><td>Tailspin Toys (Biscay, MN)</td><td>124153.25</td><td>Prenium</td></tr>",
                            "<tr><td>8</td><td>Tailspin Toys (Bow Mar, CO)</td><td>111854.10</td><td>Prenium</td></tr>",
                            "<tr><td>27</td><td>Tailspin Toys (Bowlus, MN)</td><td>150461.80</td><td>Prenium</td></tr>",
                            "<tr><td>33</td><td>Tailspin Toys (Boyden Arbor, SC)</td><td>149700.50</td><td>Prenium</td></tr>",
                            "<tr><td>120</td><td>Tailspin Toys (Bratenahl, OH)</td><td>120286.75</td><td>Prenium</td></tr>",
                            "<tr><td>187</td><td>Tailspin Toys (Brown City, MI)</td><td>158632.00</td><td>Prenium</td></tr>",
                            "<tr><td>198</td><td>Tailspin Toys (Buell, MO)</td><td>172009.30</td><td>Prenium</td></tr>",
                            "<tr><td>137</td><td>Tailspin Toys (Carbonville, UT)</td><td>139499.55</td><td>Prenium</td></tr>",
                            "<tr><td>180</td><td>Tailspin Toys (Caselton, NV)</td><td>118872.30</td><td>Prenium</td></tr>",
                            "<tr><td>114</td><td>Tailspin Toys (Cherry Grove Beach, SC)</td><td>123986.05</td><td>Prenium</td></tr>",
                            "<tr><td>94</td><td>Tailspin Toys (Cheyenne Wells, CO)</td><td>161829.40</td><td>Prenium</td></tr>",
                            "<tr><td>93</td><td>Tailspin Toys (Clewiston, FL)</td><td>132438.85</td><td>Prenium</td></tr>",
                            "<tr><td>73</td><td>Tailspin Toys (Cokato, MN)</td><td>123913.65</td><td>Prenium</td></tr>",
                            "<tr><td>20</td><td>Tailspin Toys (College Place, WA)</td><td>108121.45</td><td>Prenium</td></tr>",
                            "<tr><td>16</td><td>Tailspin Toys (Coney Island, MO)</td><td>141311.95</td><td>Prenium</td></tr>",
                            "<tr><td>150</td><td>Tailspin Toys (Corfu, NY)</td><td>113077.20</td><td>Prenium</td></tr>",
                            "<tr><td>72</td><td>Tailspin Toys (Cortaro, AZ)</td><td>140592.35</td><td>Prenium</td></tr>",
                            "<tr><td>160</td><td>Tailspin Toys (Crary, ND)</td><td>122021.85</td><td>Prenium</td></tr>",
                            "<tr><td>101</td><td>Tailspin Toys (Cundiyo, NM)</td><td>129629.90</td><td>Prenium</td></tr>",
                            "<tr><td>113</td><td>Tailspin Toys (Dahlia, NM)</td><td>131888.20</td><td>Prenium</td></tr>",
                            "<tr><td>34</td><td>Tailspin Toys (Dallardsville, TX)</td><td>123802.55</td><td>Prenium</td></tr>",
                            "<tr><td>11</td><td>Tailspin Toys (Devault, PA)</td><td>159433.75</td><td>Prenium</td></tr>",
                            "<tr><td>39</td><td>Tailspin Toys (Diablock, KY)</td><td>121011.00</td><td>Prenium</td></tr>",
                            "<tr><td>158</td><td>Tailspin Toys (Donner, LA)</td><td>119506.90</td><td>Prenium</td></tr>",
                            "<tr><td>88</td><td>Tailspin Toys (Dracut, MA)</td><td>131971.55</td><td>Prenium</td></tr>",
                            "<tr><td>24</td><td>Tailspin Toys (Dundarrach, NC)</td><td>101523.50</td><td>Prenium</td></tr>",
                            "<tr><td>60</td><td>Tailspin Toys (East Dailey, WV)</td><td>110298.65</td><td>Prenium</td></tr>",
                            "<tr><td>17</td><td>Tailspin Toys (East Fultonham, OH)</td><td>149793.90</td><td>Prenium</td></tr>",
                            "<tr><td>128</td><td>Tailspin Toys (East Portal, CO)</td><td>144079.95</td><td>Prenium</td></tr>",
                            "<tr><td>170</td><td>Tailspin Toys (Eastchester, NY)</td><td>161317.55</td><td>Prenium</td></tr>",
                            "<tr><td>154</td><td>Tailspin Toys (Eden Valley, MN)</td><td>109091.10</td><td>Prenium</td></tr>",
                            "<tr><td>59</td><td>Tailspin Toys (Edgartown, MA)</td><td>125136.05</td><td>Prenium</td></tr>",
                            "<tr><td>36</td><td>Tailspin Toys (Ekron, KY)</td><td>104970.80</td><td>Prenium</td></tr>",
                            "<tr><td>98</td><td>Tailspin Toys (El Centro, CA)</td><td>159568.35</td><td>Prenium</td></tr>",
                            "<tr><td>121</td><td>Tailspin Toys (Elrosa, MN)</td><td>133985.75</td><td>Prenium</td></tr>",
                            "<tr><td>29</td><td>Tailspin Toys (Eulaton, AL)</td><td>117716.55</td><td>Prenium</td></tr>",
                            "<tr><td>61</td><td>Tailspin Toys (Fairfield Glade, TN)</td><td>107394.45</td><td>Prenium</td></tr>",
                            "<tr><td>102</td><td>Tailspin Toys (Fieldbrook, CA)</td><td>163720.60</td><td>Prenium</td></tr>",
                            "<tr><td>147</td><td>Tailspin Toys (Fishtail, MT)</td><td>116578.55</td><td>Prenium</td></tr>",
                            "<tr><td>126</td><td>Tailspin Toys (Francis Mills, NJ)</td><td>101180.50</td><td>Prenium</td></tr>",
                            "<tr><td>7</td><td>Tailspin Toys (Frankewing, TN)</td><td>156998.65</td><td>Prenium</td></tr>",
                            "<tr><td>140</td><td>Tailspin Toys (Furley, KS)</td><td>155608.00</td><td>Prenium</td></tr>",
                            "<tr><td>68</td><td>Tailspin Toys (Gardere, LA)</td><td>135241.95</td><td>Prenium</td></tr>",
                            "<tr><td>5</td><td>Tailspin Toys (Gasport, NY)</td><td>131528.05</td><td>Prenium</td></tr>",
                            "<tr><td>107</td><td>Tailspin Toys (Glen Avon, CA)</td><td>136495.95</td><td>Prenium</td></tr>",
                            "<tr><td>162</td><td>Tailspin Toys (Glen Park, NY)</td><td>133795.05</td><td>Prenium</td></tr>",
                            "<tr><td>18</td><td>Tailspin Toys (Goffstown, NH)</td><td>130167.00</td><td>Prenium</td></tr>",
                            "<tr><td>71</td><td>Tailspin Toys (Good Hart, MI)</td><td>172888.50</td><td>Prenium</td></tr>",
                            "<tr><td>62</td><td>Tailspin Toys (Great Neck Estates, NY)</td><td>109058.65</td><td>Prenium</td></tr>",
                            "<tr><td>99</td><td>Tailspin Toys (Guin, AL)</td><td>154069.30</td><td>Prenium</td></tr>",
                            "<tr><td>55</td><td>Tailspin Toys (Gum Branch, GA)</td><td>159060.50</td><td>Prenium</td></tr>",
                            "<tr><td>77</td><td>Tailspin Toys (Hahira, GA)</td><td>120776.75</td><td>Prenium</td></tr>",
                            "<tr><td>50</td><td>Tailspin Toys (Hambleton, WV)</td><td>137330.90</td><td>Prenium</td></tr>",
                            "<tr><td>124</td><td>Tailspin Toys (Hanoverton, OH)</td><td>135912.95</td><td>Prenium</td></tr>",
                            "<tr><td>139</td><td>Tailspin Toys (Hardeeville, SC)</td><td>136725.80</td><td>Prenium</td></tr>",
                            "<tr><td>182</td><td>Tailspin Toys (Hayes Center, NE)</td><td>154878.60</td><td>Prenium</td></tr>",
                            "<tr><td>1</td><td>Tailspin Toys (Head Office)</td><td>147225.15</td><td>Prenium</td></tr>",
                            "<tr><td>26</td><td>Tailspin Toys (Hedrick, IA)</td><td>134499.35</td><td>Prenium</td></tr>",
                            "<tr><td>181</td><td>Tailspin Toys (Heilwood, PA)</td><td>120216.45</td><td>Prenium</td></tr>",
                            "<tr><td>179</td><td>Tailspin Toys (Hiteman, IA)</td><td>116166.95</td><td>Prenium</td></tr>",
                            "<tr><td>64</td><td>Tailspin Toys (Hodgdon, ME)</td><td>133564.55</td><td>Prenium</td></tr>",
                            "<tr><td>156</td><td>Tailspin Toys (Hollywood Park, TX)</td><td>114356.75</td><td>Prenium</td></tr>",
                            "<tr><td>196</td><td>Tailspin Toys (Howells, NE)</td><td>126279.05</td><td>Prenium</td></tr>",
                            "<tr><td>52</td><td>Tailspin Toys (Idria, CA)</td><td>129008.75</td><td>Prenium</td></tr>",
                            "<tr><td>23</td><td>Tailspin Toys (Ikatan, AK)</td><td>108890.95</td><td>Prenium</td></tr>",
                            "<tr><td>51</td><td>Tailspin Toys (Imlaystown, NJ)</td><td>126479.45</td><td>Prenium</td></tr>",
                            "<tr><td>40</td><td>Tailspin Toys (Impact, TX)</td><td>150593.50</td><td>Prenium</td></tr>",
                            "<tr><td>74</td><td>Tailspin Toys (Indios, PR)</td><td>154280.70</td><td>Prenium</td></tr>",
                            "<tr><td>149</td><td>Tailspin Toys (Inguadona, MN)</td><td>189277.45</td><td>Prenium</td></tr>",
                            "<tr><td>46</td><td>Tailspin Toys (Jemison, AL)</td><td>120939.50</td><td>Prenium</td></tr>",
                            "<tr><td>6</td><td>Tailspin Toys (Jessie, ND)</td><td>130331.35</td><td>Prenium</td></tr>",
                            "<tr><td>103</td><td>Tailspin Toys (Kalvesta, KS)</td><td>142347.90</td><td>Prenium</td></tr>",
                            "<tr><td>37</td><td>Tailspin Toys (Kerby, OR)</td><td>148915.45</td><td>Prenium</td></tr>",
                            "<tr><td>142</td><td>Tailspin Toys (King Cove, AK)</td><td>135396.85</td><td>Prenium</td></tr>",
                            "<tr><td>193</td><td>Tailspin Toys (Knifley, KY)</td><td>128754.85</td><td>Prenium</td></tr>",
                            "<tr><td>30</td><td>Tailspin Toys (Koontzville, WA)</td><td>146448.20</td><td>Prenium</td></tr>",
                            "<tr><td>131</td><td>Tailspin Toys (Kwethluk, AK)</td><td>125620.45</td><td>Prenium</td></tr>",
                            "<tr><td>82</td><td>Tailspin Toys (La Cueva, NM)</td><td>140130.40</td><td>Prenium</td></tr>",
                            "<tr><td>133</td><td>Tailspin Toys (Lake Erie Beach, NY)</td><td>158990.75</td><td>Prenium</td></tr>",
                            "<tr><td>47</td><td>Tailspin Toys (Lake Hughes, CA)</td><td>116693.60</td><td>Prenium</td></tr>",
                            "<tr><td>31</td><td>Tailspin Toys (Lake Stevens, WA)</td><td>142534.90</td><td>Prenium</td></tr>",
                            "<tr><td>57</td><td>Tailspin Toys (Lakemore, OH)</td><td>110790.85</td><td>Prenium</td></tr>",
                            "<tr><td>144</td><td>Tailspin Toys (Larose, LA)</td><td>137834.65</td><td>Prenium</td></tr>",
                            "<tr><td>95</td><td>Tailspin Toys (Lavon, TX)</td><td>120914.25</td><td>Prenium</td></tr>",
                            "<tr><td>19</td><td>Tailspin Toys (Lemeta, AK)</td><td>107820.85</td><td>Prenium</td></tr>",
                            "<tr><td>195</td><td>Tailspin Toys (Lesslie, SC)</td><td>160764.10</td><td>Prenium</td></tr>",
                            "<tr><td>14</td><td>Tailspin Toys (Long Meadow, MD)</td><td>174221.40</td><td>Prenium</td></tr>",
                            "<tr><td>69</td><td>Tailspin Toys (Lytle Creek, CA)</td><td>129388.15</td><td>Prenium</td></tr>",
                            "<tr><td>66</td><td>Tailspin Toys (Madaket, MA)</td><td>97093.35</td><td>Standard</td></tr>",
                            "<tr><td>172</td><td>Tailspin Toys (Madrone, NM)</td><td>132933.95</td><td>Prenium</td></tr>",
                            "<tr><td>197</td><td>Tailspin Toys (Magalia, CA)</td><td>87739.50</td><td>Standard</td></tr>",
                            "<tr><td>176</td><td>Tailspin Toys (Malott, WA)</td><td>152722.10</td><td>Prenium</td></tr>",
                            "<tr><td>145</td><td>Tailspin Toys (Manahawkin, NJ)</td><td>133498.75</td><td>Prenium</td></tr>",
                            "<tr><td>97</td><td>Tailspin Toys (Manchester Center, VT)</td><td>141768.05</td><td>Prenium</td></tr>",
                            "<tr><td>130</td><td>Tailspin Toys (Maple Shade, NJ)</td><td>138794.65</td><td>Prenium</td></tr>",
                            "<tr><td>58</td><td>Tailspin Toys (Mappsburg, VA)</td><td>133025.60</td><td>Prenium</td></tr>",
                            "<tr><td>153</td><td>Tailspin Toys (Marcell, MN)</td><td>151007.45</td><td>Prenium</td></tr>",
                            "<tr><td>32</td><td>Tailspin Toys (Maypearl, TX)</td><td>166381.00</td><td>Prenium</td></tr>",
                            "<tr><td>166</td><td>Tailspin Toys (McCamey, TX)</td><td>152101.15</td><td>Prenium</td></tr>",
                            "<tr><td>122</td><td>Tailspin Toys (McClave, CO)</td><td>142618.85</td><td>Prenium</td></tr>",
                            "<tr><td>4</td><td>Tailspin Toys (Medicine Lodge, KS)</td><td>144168.85</td><td>Prenium</td></tr>",
                            "<tr><td>129</td><td>Tailspin Toys (Mineral Hills, MI)</td><td>136618.65</td><td>Prenium</td></tr>",
                            "<tr><td>132</td><td>Tailspin Toys (Minidoka, ID)</td><td>185432.55</td><td>Prenium</td></tr>",
                            "<tr><td>136</td><td>Tailspin Toys (Mount Montgomery, NV)</td><td>124047.40</td><td>Prenium</td></tr>",
                            "<tr><td>49</td><td>Tailspin Toys (Muir, MI)</td><td>110474.00</td><td>Prenium</td></tr>",
                            "<tr><td>53</td><td>Tailspin Toys (Nanafalia, AL)</td><td>130512.35</td><td>Prenium</td></tr>",
                            "<tr><td>194</td><td>Tailspin Toys (Naples Park, FL)</td><td>106233.60</td><td>Prenium</td></tr>",
                            "<tr><td>138</td><td>Tailspin Toys (Navassa, NC)</td><td>150841.40</td><td>Prenium</td></tr>",
                            "<tr><td>9</td><td>Tailspin Toys (Netcong, NJ)</td><td>134838.55</td><td>Prenium</td></tr>",
                            "<tr><td>70</td><td>Tailspin Toys (New Baden, IL)</td><td>149661.65</td><td>Prenium</td></tr>",
                            "<tr><td>86</td><td>Tailspin Toys (New Lexington, OH)</td><td>151467.70</td><td>Prenium</td></tr>",
                            "<tr><td>65</td><td>Tailspin Toys (North Cowden, TX)</td><td>161912.45</td><td>Prenium</td></tr>",
                            "<tr><td>110</td><td>Tailspin Toys (North Crows Nest, IN)</td><td>155296.05</td><td>Prenium</td></tr>",
                            "<tr><td>28</td><td>Tailspin Toys (North Ridge, NY)</td><td>140231.50</td><td>Prenium</td></tr>",
                            "<tr><td>41</td><td>Tailspin Toys (Olivette, MO)</td><td>117975.00</td><td>Prenium</td></tr>",
                            "<tr><td>192</td><td>Tailspin Toys (Optimo, NM)</td><td>152211.95</td><td>Prenium</td></tr>",
                            "<tr><td>191</td><td>Tailspin Toys (Orchard Hill, GA)</td><td>146626.30</td><td>Prenium</td></tr>",
                            "<tr><td>111</td><td>Tailspin Toys (Oriole Beach, FL)</td><td>88623.85</td><td>Standard</td></tr>",
                            "<tr><td>177</td><td>Tailspin Toys (Orrtanna, PA)</td><td>158133.45</td><td>Prenium</td></tr>",
                            "<tr><td>171</td><td>Tailspin Toys (Ortley Beach, NJ)</td><td>134264.95</td><td>Prenium</td></tr>",
                            "<tr><td>79</td><td>Tailspin Toys (Page City, KS)</td><td>131186.30</td><td>Prenium</td></tr>",
                            "<tr><td>163</td><td>Tailspin Toys (Panaca, NV)</td><td>120120.10</td><td>Prenium</td></tr>",
                            "<tr><td>3</td><td>Tailspin Toys (Peeples Valley, AZ)</td><td>160693.15</td><td>Prenium</td></tr>",
                            "<tr><td>186</td><td>Tailspin Toys (Placer, OR)</td><td>156166.05</td><td>Prenium</td></tr>",
                            "<tr><td>127</td><td>Tailspin Toys (Point Roberts, WA)</td><td>139301.30</td><td>Prenium</td></tr>",
                            "<tr><td>188</td><td>Tailspin Toys (Premont, TX)</td><td>123495.45</td><td>Prenium</td></tr>",
                            "<tr><td>116</td><td>Tailspin Toys (Rafael Capó, PR)</td><td>131548.50</td><td>Prenium</td></tr>",
                            "<tr><td>54</td><td>Tailspin Toys (Railroad, PA)</td><td>111047.10</td><td>Prenium</td></tr>",
                            "<tr><td>167</td><td>Tailspin Toys (Rockwall, TX)</td><td>134002.80</td><td>Prenium</td></tr>",
                            "<tr><td>123</td><td>Tailspin Toys (Roe Park, NY)</td><td>144479.25</td><td>Prenium</td></tr>",
                            "<tr><td>164</td><td>Tailspin Toys (Rothsville, PA)</td><td>133036.35</td><td>Prenium</td></tr>",
                            "<tr><td>56</td><td>Tailspin Toys (Royal City, WA)</td><td>112333.00</td><td>Prenium</td></tr>",
                            "<tr><td>159</td><td>Tailspin Toys (Saint Louis Park, MN)</td><td>118646.15</td><td>Prenium</td></tr>",
                            "<tr><td>157</td><td>Tailspin Toys (Saks, AL)</td><td>144343.85</td><td>Prenium</td></tr>",
                            "<tr><td>112</td><td>Tailspin Toys (Sallyards, KS)</td><td>117370.80</td><td>Prenium</td></tr>",
                            "<tr><td>175</td><td>Tailspin Toys (San Acacia, NM)</td><td>101532.60</td><td>Prenium</td></tr>",
                            "<tr><td>92</td><td>Tailspin Toys (Sans Souci, SC)</td><td>137950.55</td><td>Prenium</td></tr>",
                            "<tr><td>87</td><td>Tailspin Toys (Sauquoit, NY)</td><td>157561.10</td><td>Prenium</td></tr>",
                            "<tr><td>117</td><td>Tailspin Toys (Scofield, UT)</td><td>137248.10</td><td>Prenium</td></tr>",
                            "<tr><td>168</td><td>Tailspin Toys (Seagraves, TX)</td><td>124174.95</td><td>Prenium</td></tr>",
                            "<tr><td>78</td><td>Tailspin Toys (Sekiu, WA)</td><td>155986.45</td><td>Prenium</td></tr>",
                            "<tr><td>67</td><td>Tailspin Toys (Sentinel Butte, ND)</td><td>162170.40</td><td>Prenium</td></tr>",
                            "<tr><td>45</td><td>Tailspin Toys (Severna Park, MD)</td><td>143589.05</td><td>Prenium</td></tr>",
                            "<tr><td>169</td><td>Tailspin Toys (Sinclair, WY)</td><td>141851.50</td><td>Prenium</td></tr>",
                            "<tr><td>201</td><td>Tailspin Toys (Skyway, WA)</td><td>119303.20</td><td>Prenium</td></tr>",
                            "<tr><td>35</td><td>Tailspin Toys (Slanesville, WV)</td><td>149362.65</td><td>Prenium</td></tr>",
                            "<tr><td>184</td><td>Tailspin Toys (South Euclid, OH)</td><td>119772.95</td><td>Prenium</td></tr>",
                            "<tr><td>96</td><td>Tailspin Toys (South La Paloma, TX)</td><td>146942.55</td><td>Prenium</td></tr>",
                            "<tr><td>109</td><td>Tailspin Toys (South Laguna, CA)</td><td>159068.00</td><td>Prenium</td></tr>",
                            "<tr><td>63</td><td>Tailspin Toys (Stallion Springs, CA)</td><td>126043.45</td><td>Prenium</td></tr>",
                            "<tr><td>119</td><td>Tailspin Toys (Statenville, GA)</td><td>132555.45</td><td>Prenium</td></tr>",
                            "<tr><td>13</td><td>Tailspin Toys (Stonefort, IL)</td><td>107056.50</td><td>Prenium</td></tr>",
                            "<tr><td>152</td><td>Tailspin Toys (Sun River, MT)</td><td>114734.00</td><td>Prenium</td></tr>",
                            "<tr><td>2</td><td>Tailspin Toys (Sylvanite, MT)</td><td>111657.30</td><td>Prenium</td></tr>",
                            "<tr><td>134</td><td>Tailspin Toys (Tavares, FL)</td><td>144512.10</td><td>Prenium</td></tr>",
                            "<tr><td>135</td><td>Tailspin Toys (Terre du Lac, MO)</td><td>131929.20</td><td>Prenium</td></tr>",
                            "<tr><td>190</td><td>Tailspin Toys (Teutopolis, IL)</td><td>137827.40</td><td>Prenium</td></tr>",
                            "<tr><td>183</td><td>Tailspin Toys (Tierra Verde, FL)</td><td>146271.50</td><td>Prenium</td></tr>",
                            "<tr><td>90</td><td>Tailspin Toys (Tolna, ND)</td><td>151137.60</td><td>Prenium</td></tr>",
                            "<tr><td>105</td><td>Tailspin Toys (Tomnolen, MS)</td><td>111283.80</td><td>Prenium</td></tr>",
                            "<tr><td>200</td><td>Tailspin Toys (Tooele, UT)</td><td>134510.65</td><td>Prenium</td></tr>",
                            "<tr><td>165</td><td>Tailspin Toys (Topstone, CT)</td><td>119409.25</td><td>Prenium</td></tr>",
                            "<tr><td>48</td><td>Tailspin Toys (Trentwood, WA)</td><td>140910.80</td><td>Prenium</td></tr>",
                            "<tr><td>21</td><td>Tailspin Toys (Tresckow, PA)</td><td>121217.15</td><td>Prenium</td></tr>",
                            "<tr><td>106</td><td>Tailspin Toys (Tumacacori, AZ)</td><td>146390.35</td><td>Prenium</td></tr>",
                            "<tr><td>100</td><td>Tailspin Toys (Tunnelhill, PA)</td><td>107003.75</td><td>Prenium</td></tr>",
                            "<tr><td>43</td><td>Tailspin Toys (Upper Preston, WA)</td><td>148768.80</td><td>Prenium</td></tr>",
                            "<tr><td>80</td><td>Tailspin Toys (Valdese, NC)</td><td>145916.95</td><td>Prenium</td></tr>",
                            "<tr><td>118</td><td>Tailspin Toys (Vassalboro, ME)</td><td>152527.65</td><td>Prenium</td></tr>",
                            "<tr><td>89</td><td>Tailspin Toys (Victory Gardens, NJ)</td><td>152201.90</td><td>Prenium</td></tr>",
                            "<tr><td>185</td><td>Tailspin Toys (Vidrine, LA)</td><td>168068.00</td><td>Prenium</td></tr>",
                            "<tr><td>104</td><td>Tailspin Toys (Wallagrass, ME)</td><td>102807.15</td><td>Prenium</td></tr>",
                            "<tr><td>173</td><td>Tailspin Toys (Wappingers Falls, NY)</td><td>147073.60</td><td>Prenium</td></tr>",
                            "<tr><td>22</td><td>Tailspin Toys (Ward Ridge, FL)</td><td>101890.00</td><td>Prenium</td></tr>",
                            "<tr><td>189</td><td>Tailspin Toys (Wilkes-Barre, PA)</td><td>118413.85</td><td>Prenium</td></tr>",
                            "<tr><td>10</td><td>Tailspin Toys (Wimbledon, ND)</td><td>154719.15</td><td>Prenium</td></tr>",
                            "<tr><td>75</td><td>Tailspin Toys (Windsor Locks, CT)</td><td>134625.25</td><td>Prenium</td></tr>",
                            "<tr><td>76</td><td>Tailspin Toys (Yewed, OK)</td><td>115560.10</td><td>Prenium</td></tr>",
                            "<tr><td>1006</td><td>Taj Syme</td><td>143740.65</td><td>Prenium</td></tr>",
                            "<tr><td>891</td><td>Taneli Riutta</td><td>137904.80</td><td>Prenium</td></tr>",
                            "<tr><td>1041</td><td>Tomo Vidovic</td><td>55050.85</td><td>Standard</td></tr>",
                            "<tr><td>1025</td><td>Tuulikki Linna</td><td>107941.70</td><td>Prenium</td></tr>",
                            "<tr><td>1012</td><td>Urve Kasesalu</td><td>94923.15</td><td>Standard</td></tr>",
                            "<tr><td>958</td><td>Valentin Tirlea</td><td>161301.70</td><td>Prenium</td></tr>",
                            "<tr><td>991</td><td>Valter Viiding</td><td>160080.80</td><td>Prenium</td></tr>",
                            "<tr><td>1008</td><td>Vedrana Kovacevic</td><td>123812.20</td><td>Prenium</td></tr>",
                            "<tr><td>1029</td><td>Veronika Necesana</td><td>93669.40</td><td>Standard</td></tr>",
                            "<tr><td>921</td><td>Victoria Lacusta</td><td>108791.00</td><td>Prenium</td></tr>",
                            "<tr><td>913</td><td>Violetta KlanCisar</td><td>124487.25</td><td>Prenium</td></tr>",
                            "<tr><td>929</td><td>Vladimir Henzl</td><td>101489.70</td><td>Prenium</td></tr>",
                            "<tr><td>912</td><td>Volkan senturk</td><td>136282.90</td><td>Prenium</td></tr>",
                            "<tr><td>595</td><td>Wingtip Toys (Accomac, VA)</td><td>157768.40</td><td>Prenium</td></tr>",
                            "<tr><td>537</td><td>Wingtip Toys (Akhiok, AK)</td><td>134609.65</td><td>Prenium</td></tr>",
                            "<tr><td>589</td><td>Wingtip Toys (Alcester, SD)</td><td>127040.25</td><td>Prenium</td></tr>",
                            "<tr><td>566</td><td>Wingtip Toys (Amado, AZ)</td><td>136717.80</td><td>Prenium</td></tr>",
                            "<tr><td>440</td><td>Wingtip Toys (Asher, OK)</td><td>128209.55</td><td>Prenium</td></tr>",
                            "<tr><td>427</td><td>Wingtip Toys (Athol Springs, NY)</td><td>137447.55</td><td>Prenium</td></tr>",
                            "<tr><td>423</td><td>Wingtip Toys (Baldwin City, KS)</td><td>107879.30</td><td>Prenium</td></tr>",
                            "<tr><td>433</td><td>Wingtip Toys (Balko, OK)</td><td>112876.85</td><td>Prenium</td></tr>",
                            "<tr><td>490</td><td>Wingtip Toys (Beals, ME)</td><td>117941.90</td><td>Prenium</td></tr>",
                            "<tr><td>526</td><td>Wingtip Toys (Beekmantown, NY)</td><td>118800.95</td><td>Prenium</td></tr>",
                            "<tr><td>578</td><td>Wingtip Toys (Bell Acres, PA)</td><td>131821.05</td><td>Prenium</td></tr>",
                            "<tr><td>509</td><td>Wingtip Toys (Bergen Park, CO)</td><td>143408.05</td><td>Prenium</td></tr>",
                            "<tr><td>410</td><td>Wingtip Toys (Bernstein, TX)</td><td>154642.35</td><td>Prenium</td></tr>",
                            "<tr><td>443</td><td>Wingtip Toys (Berville, MI)</td><td>121945.45</td><td>Prenium</td></tr>",
                            "<tr><td>425</td><td>Wingtip Toys (Bethel Acres, OK)</td><td>139914.70</td><td>Prenium</td></tr>",
                            "<tr><td>492</td><td>Wingtip Toys (Birds, IL)</td><td>146528.45</td><td>Prenium</td></tr>",
                            "<tr><td>402</td><td>Wingtip Toys (Black Lick, PA)</td><td>133294.95</td><td>Prenium</td></tr>",
                            "<tr><td>495</td><td>Wingtip Toys (Boalsburg, PA)</td><td>134587.75</td><td>Prenium</td></tr>",
                            "<tr><td>474</td><td>Wingtip Toys (Bokeelia, FL)</td><td>161973.85</td><td>Prenium</td></tr>",
                            "<tr><td>485</td><td>Wingtip Toys (Bonner Springs, KS)</td><td>149077.25</td><td>Prenium</td></tr>",
                            "<tr><td>405</td><td>Wingtip Toys (Bourbonnais, IL)</td><td>151997.20</td><td>Prenium</td></tr>",
                            "<tr><td>558</td><td>Wingtip Toys (Bourneville, OH)</td><td>172196.60</td><td>Prenium</td></tr>",
                            "<tr><td>519</td><td>Wingtip Toys (Boynton, OK)</td><td>132275.35</td><td>Prenium</td></tr>",
                            "<tr><td>412</td><td>Wingtip Toys (Bozeman Hot Springs, MT)</td><td>125208.20</td><td>Prenium</td></tr>",
                            "<tr><td>508</td><td>Wingtip Toys (Branson West, MO)</td><td>150821.40</td><td>Prenium</td></tr>",
                            "<tr><td>544</td><td>Wingtip Toys (Broomtown, AL)</td><td>120804.20</td><td>Prenium</td></tr>",
                            "<tr><td>523</td><td>Wingtip Toys (Bruceton Mills, WV)</td><td>155148.45</td><td>Prenium</td></tr>",
                            "<tr><td>584</td><td>Wingtip Toys (Cache, OK)</td><td>139119.90</td><td>Prenium</td></tr>",
                            "<tr><td>437</td><td>Wingtip Toys (Cadogan, PA)</td><td>138503.95</td><td>Prenium</td></tr>",
                            "<tr><td>475</td><td>Wingtip Toys (Cale, AR)</td><td>139737.50</td><td>Prenium</td></tr>",
                            "<tr><td>504</td><td>Wingtip Toys (Cape Neddick, ME)</td><td>96568.10</td><td>Standard</td></tr>",
                            "<tr><td>600</td><td>Wingtip Toys (Caro, MI)</td><td>122452.15</td><td>Prenium</td></tr>",
                            "<tr><td>482</td><td>Wingtip Toys (Caton, NY)</td><td>115134.00</td><td>Prenium</td></tr>",
                            "<tr><td>501</td><td>Wingtip Toys (Cavendish, VT)</td><td>143140.05</td><td>Prenium</td></tr>",
                            "<tr><td>547</td><td>Wingtip Toys (Chaseley, ND)</td><td>97537.85</td><td>Standard</td></tr>",
                            "<tr><td>577</td><td>Wingtip Toys (Cherryplain, NY)</td><td>73964.25</td><td>Standard</td></tr>",
                            "<tr><td>417</td><td>Wingtip Toys (Chetek, WI)</td><td>111994.20</td><td>Prenium</td></tr>",
                            "<tr><td>525</td><td>Wingtip Toys (Claycomo, MO)</td><td>117935.65</td><td>Prenium</td></tr>",
                            "<tr><td>524</td><td>Wingtip Toys (Cloquet, MN)</td><td>133066.05</td><td>Prenium</td></tr>",
                            "<tr><td>447</td><td>Wingtip Toys (Coin, IA)</td><td>151413.70</td><td>Prenium</td></tr>",
                            "<tr><td>458</td><td>Wingtip Toys (Coker, AL)</td><td>133529.00</td><td>Prenium</td></tr>",
                            "<tr><td>419</td><td>Wingtip Toys (Compass Lake, FL)</td><td>110586.05</td><td>Prenium</td></tr>",
                            "<tr><td>579</td><td>Wingtip Toys (Connoquenessing, PA)</td><td>151695.15</td><td>Prenium</td></tr>",
                            "<tr><td>454</td><td>Wingtip Toys (Corcovado, PR)</td><td>107209.30</td><td>Prenium</td></tr>",
                            "<tr><td>596</td><td>Wingtip Toys (Cos Cob, CT)</td><td>122531.50</td><td>Prenium</td></tr>",
                            "<tr><td>463</td><td>Wingtip Toys (Cowlington, OK)</td><td>137151.30</td><td>Prenium</td></tr>",
                            "<tr><td>462</td><td>Wingtip Toys (Crossroads, NM)</td><td>107036.10</td><td>Prenium</td></tr>",
                            "<tr><td>593</td><td>Wingtip Toys (Cuyamungue, NM)</td><td>178329.95</td><td>Prenium</td></tr>",
                            "<tr><td>439</td><td>Wingtip Toys (Cylon, WI)</td><td>133740.55</td><td>Prenium</td></tr>",
                            "<tr><td>445</td><td>Wingtip Toys (Dacono, CO)</td><td>124873.95</td><td>Prenium</td></tr>",
                            "<tr><td>538</td><td>Wingtip Toys (Deeson, MS)</td><td>160996.05</td><td>Prenium</td></tr>",
                            "<tr><td>515</td><td>Wingtip Toys (Del Valle, TX)</td><td>107126.30</td><td>Prenium</td></tr>",
                            "<tr><td>449</td><td>Wingtip Toys (Delray, WV)</td><td>116397.10</td><td>Prenium</td></tr>",
                            "<tr><td>522</td><td>Wingtip Toys (Dickerson, MD)</td><td>107872.45</td><td>Prenium</td></tr>",
                            "<tr><td>599</td><td>Wingtip Toys (Dickworsham, TX)</td><td>108949.90</td><td>Prenium</td></tr>",
                            "<tr><td>507</td><td>Wingtip Toys (Downingtown, PA)</td><td>142180.50</td><td>Prenium</td></tr>",
                            "<tr><td>592</td><td>Wingtip Toys (Dunkerton, IA)</td><td>143812.85</td><td>Prenium</td></tr>",
                            "<tr><td>499</td><td>Wingtip Toys (East Fultonham, OH)</td><td>130750.90</td><td>Prenium</td></tr>",
                            "<tr><td>530</td><td>Wingtip Toys (East Mountain, TX)</td><td>111951.85</td><td>Prenium</td></tr>",
                            "<tr><td>411</td><td>Wingtip Toys (Edmund, WI)</td><td>108376.50</td><td>Prenium</td></tr>",
                            "<tr><td>487</td><td>Wingtip Toys (Elverson, PA)</td><td>126684.95</td><td>Prenium</td></tr>",
                            "<tr><td>493</td><td>Wingtip Toys (Federalsburg, MD)</td><td>126616.75</td><td>Prenium</td></tr>",
                            "<tr><td>536</td><td>Wingtip Toys (Ferney, SD)</td><td>117553.75</td><td>Prenium</td></tr>",
                            "<tr><td>570</td><td>Wingtip Toys (Flomaton, AL)</td><td>128217.90</td><td>Prenium</td></tr>",
                            "<tr><td>473</td><td>Wingtip Toys (Floriston, CA)</td><td>134847.75</td><td>Prenium</td></tr>",
                            "<tr><td>520</td><td>Wingtip Toys (Frenchburg, KY)</td><td>129420.85</td><td>Prenium</td></tr>",
                            "<tr><td>436</td><td>Wingtip Toys (Gargatha, VA)</td><td>128123.30</td><td>Prenium</td></tr>",
                            "<tr><td>514</td><td>Wingtip Toys (Gilford, NH)</td><td>131916.55</td><td>Prenium</td></tr>",
                            "<tr><td>477</td><td>Wingtip Toys (Glancy, MS)</td><td>109942.15</td><td>Prenium</td></tr>",
                            "<tr><td>464</td><td>Wingtip Toys (Glen Ullin, ND)</td><td>136250.45</td><td>Prenium</td></tr>",
                            "<tr><td>576</td><td>Wingtip Toys (Goodings Grove, IL)</td><td>118737.45</td><td>Prenium</td></tr>",
                            "<tr><td>510</td><td>Wingtip Toys (Grabill, IN)</td><td>180712.10</td><td>Prenium</td></tr>",
                            "<tr><td>529</td><td>Wingtip Toys (Griswoldville, GA)</td><td>138180.45</td><td>Prenium</td></tr>",
                            "<tr><td>516</td><td>Wingtip Toys (Harkers Island, NC)</td><td>156728.45</td><td>Prenium</td></tr>",
                            "<tr><td>597</td><td>Wingtip Toys (Haycock, AK)</td><td>167999.45</td><td>Prenium</td></tr>",
                            "<tr><td>459</td><td>Wingtip Toys (Haydenville, OH)</td><td>131099.95</td><td>Prenium</td></tr>",
                            "<tr><td>401</td><td>Wingtip Toys (Head Office)</td><td>131440.20</td><td>Prenium</td></tr>",
                            "<tr><td>424</td><td>Wingtip Toys (Heartwell, NE)</td><td>96221.55</td><td>Standard</td></tr>",
                            "<tr><td>553</td><td>Wingtip Toys (Helotes, TX)</td><td>106206.75</td><td>Prenium</td></tr>",
                            "<tr><td>420</td><td>Wingtip Toys (Herlong, CA)</td><td>129738.90</td><td>Prenium</td></tr>",
                            "<tr><td>421</td><td>Wingtip Toys (Highland Home, AL)</td><td>142458.95</td><td>Prenium</td></tr>",
                            "<tr><td>554</td><td>Wingtip Toys (Hollandsburg, IN)</td><td>130575.25</td><td>Prenium</td></tr>",
                            "<tr><td>442</td><td>Wingtip Toys (Homer City, PA)</td><td>169988.10</td><td>Prenium</td></tr>",
                            "<tr><td>551</td><td>Wingtip Toys (Huntingburg, IN)</td><td>126292.70</td><td>Prenium</td></tr>",
                            "<tr><td>591</td><td>Wingtip Toys (Idaho City, ID)</td><td>158276.65</td><td>Prenium</td></tr>",
                            "<tr><td>548</td><td>Wingtip Toys (Indian Creek, IL)</td><td>153440.20</td><td>Prenium</td></tr>",
                            "<tr><td>488</td><td>Wingtip Toys (Isabela, PR)</td><td>145065.40</td><td>Prenium</td></tr>",
                            "<tr><td>527</td><td>Wingtip Toys (Islip Terrace, NY)</td><td>159249.85</td><td>Prenium</td></tr>",
                            "<tr><td>545</td><td>Wingtip Toys (Jamison, IA)</td><td>158097.55</td><td>Prenium</td></tr>",
                            "<tr><td>567</td><td>Wingtip Toys (Jeromesville, OH)</td><td>99870.70</td><td>Standard</td></tr>",
                            "<tr><td>469</td><td>Wingtip Toys (Johnetta, KY)</td><td>128829.60</td><td>Prenium</td></tr>",
                            "<tr><td>598</td><td>Wingtip Toys (Kapa&#39;a, HI)</td><td>161952.00</td><td>Prenium</td></tr>",
                            "<tr><td>476</td><td>Wingtip Toys (Karthaus, PA)</td><td>134318.05</td><td>Prenium</td></tr>",
                            "<tr><td>441</td><td>Wingtip Toys (Keosauqua, IA)</td><td>132573.40</td><td>Prenium</td></tr>",
                            "<tr><td>546</td><td>Wingtip Toys (Key Biscayne, FL)</td><td>157814.75</td><td>Prenium</td></tr>",
                            "<tr><td>583</td><td>Wingtip Toys (Knights Landing, CA)</td><td>161495.30</td><td>Prenium</td></tr>",
                            "<tr><td>452</td><td>Wingtip Toys (Lake Davis, CA)</td><td>160181.60</td><td>Prenium</td></tr>",
                            "<tr><td>549</td><td>Wingtip Toys (Lake Ronkonkoma, NY)</td><td>154541.00</td><td>Prenium</td></tr>",
                            "<tr><td>415</td><td>Wingtip Toys (Leathersville, GA)</td><td>160957.35</td><td>Prenium</td></tr>",
                            "<tr><td>543</td><td>Wingtip Toys (Lexington Heights, MI)</td><td>137175.80</td><td>Prenium</td></tr>",
                            "<tr><td>555</td><td>Wingtip Toys (Liberty Grove, MD)</td><td>116576.10</td><td>Prenium</td></tr>",
                            "<tr><td>517</td><td>Wingtip Toys (Licking, MO)</td><td>134393.30</td><td>Prenium</td></tr>",
                            "<tr><td>429</td><td>Wingtip Toys (Lilbourn, MO)</td><td>164359.85</td><td>Prenium</td></tr>",
                            "<tr><td>434</td><td>Wingtip Toys (Lime Lake, NY)</td><td>152643.75</td><td>Prenium</td></tr>",
                            "<tr><td>430</td><td>Wingtip Toys (Lost River, ID)</td><td>153251.50</td><td>Prenium</td></tr>",
                            "<tr><td>563</td><td>Wingtip Toys (Lostine, OR)</td><td>104496.80</td><td>Prenium</td></tr>",
                            "<tr><td>486</td><td>Wingtip Toys (Lowellville, OH)</td><td>115586.15</td><td>Prenium</td></tr>",
                            "<tr><td>438</td><td>Wingtip Toys (Lucasville, OH)</td><td>111879.20</td><td>Prenium</td></tr>",
                            "<tr><td>586</td><td>Wingtip Toys (Lynne, FL)</td><td>162102.15</td><td>Prenium</td></tr>",
                            "<tr><td>466</td><td>Wingtip Toys (Lytle, TX)</td><td>136632.85</td><td>Prenium</td></tr>",
                            "<tr><td>467</td><td>Wingtip Toys (Mahaffey, PA)</td><td>153005.20</td><td>Prenium</td></tr>",
                            "<tr><td>594</td><td>Wingtip Toys (Marfa, TX)</td><td>130622.90</td><td>Prenium</td></tr>",
                            "<tr><td>573</td><td>Wingtip Toys (Marin City, CA)</td><td>82640.30</td><td>Standard</td></tr>",
                            "<tr><td>561</td><td>Wingtip Toys (Marion Junction, AL)</td><td>125656.80</td><td>Prenium</td></tr>",
                            "<tr><td>484</td><td>Wingtip Toys (Mauldin, SC)</td><td>119113.10</td><td>Prenium</td></tr>",
                            "<tr><td>460</td><td>Wingtip Toys (Mayhill, NM)</td><td>141999.55</td><td>Prenium</td></tr>",
                            "<tr><td>590</td><td>Wingtip Toys (McAdenville, NC)</td><td>115012.20</td><td>Prenium</td></tr>",
                            "<tr><td>559</td><td>Wingtip Toys (Mendoza, TX)</td><td>138887.55</td><td>Prenium</td></tr>",
                            "<tr><td>541</td><td>Wingtip Toys (Mickleton, NJ)</td><td>167186.90</td><td>Prenium</td></tr>",
                            "<tr><td>479</td><td>Wingtip Toys (Mier, IN)</td><td>147100.15</td><td>Prenium</td></tr>",
                            "<tr><td>502</td><td>Wingtip Toys (Miesville, MN)</td><td>100442.30</td><td>Prenium</td></tr>",
                            "<tr><td>574</td><td>Wingtip Toys (Molalla, OR)</td><td>125516.15</td><td>Prenium</td></tr>",
                            "<tr><td>582</td><td>Wingtip Toys (Montoya, NM)</td><td>163976.45</td><td>Prenium</td></tr>",
                            "<tr><td>407</td><td>Wingtip Toys (Mooringsport, LA)</td><td>141532.40</td><td>Prenium</td></tr>",
                            "<tr><td>556</td><td>Wingtip Toys (Morita, TX)</td><td>102264.70</td><td>Prenium</td></tr>",
                            "<tr><td>550</td><td>Wingtip Toys (Morrison Bluff, AR)</td><td>171513.35</td><td>Prenium</td></tr>",
                            "<tr><td>491</td><td>Wingtip Toys (Morton Grove, IL)</td><td>99574.00</td><td>Standard</td></tr>",
                            "<tr><td>450</td><td>Wingtip Toys (Mount Summit, IN)</td><td>101096.55</td><td>Prenium</td></tr>",
                            "<tr><td>581</td><td>Wingtip Toys (Munich, ND)</td><td>104139.75</td><td>Prenium</td></tr>",
                            "<tr><td>422</td><td>Wingtip Toys (Naches, WA)</td><td>122417.80</td><td>Prenium</td></tr>",
                            "<tr><td>416</td><td>Wingtip Toys (Necedah, WI)</td><td>144015.00</td><td>Prenium</td></tr>",
                            "<tr><td>557</td><td>Wingtip Toys (New Laguna, NM)</td><td>98285.15</td><td>Standard</td></tr>",
                            "<tr><td>533</td><td>Wingtip Toys (Nichols Hills, OK)</td><td>132229.80</td><td>Prenium</td></tr>",
                            "<tr><td>506</td><td>Wingtip Toys (North Beach Haven, NJ)</td><td>160287.15</td><td>Prenium</td></tr>",
                            "<tr><td>511</td><td>Wingtip Toys (North Manitou, MI)</td><td>112777.85</td><td>Prenium</td></tr>",
                            "<tr><td>539</td><td>Wingtip Toys (Nuangola, PA)</td><td>90534.30</td><td>Standard</td></tr>",
                            "<tr><td>588</td><td>Wingtip Toys (Oak Point, TX)</td><td>161162.45</td><td>Prenium</td></tr>",
                            "<tr><td>498</td><td>Wingtip Toys (Obetz, OH)</td><td>138861.85</td><td>Prenium</td></tr>",
                            "<tr><td>500</td><td>Wingtip Toys (Obion, TN)</td><td>126434.95</td><td>Prenium</td></tr>",
                            "<tr><td>531</td><td>Wingtip Toys (Omer, MI)</td><td>162328.05</td><td>Prenium</td></tr>",
                            "<tr><td>465</td><td>Wingtip Toys (Oologah, OK)</td><td>129956.30</td><td>Prenium</td></tr>",
                            "<tr><td>409</td><td>Wingtip Toys (Orick, CA)</td><td>122582.80</td><td>Prenium</td></tr>",
                            "<tr><td>568</td><td>Wingtip Toys (Ovilla, TX)</td><td>96821.35</td><td>Standard</td></tr>",
                            "<tr><td>560</td><td>Wingtip Toys (Palmas del Mar, PR)</td><td>111126.10</td><td>Prenium</td></tr>",
                            "<tr><td>428</td><td>Wingtip Toys (Paw Paw Lake, MI)</td><td>139137.75</td><td>Prenium</td></tr>",
                            "<tr><td>571</td><td>Wingtip Toys (Pawlet, VT)</td><td>120990.25</td><td>Prenium</td></tr>",
                            "<tr><td>404</td><td>Wingtip Toys (Penns Creek, PA)</td><td>111057.45</td><td>Prenium</td></tr>",
                            "<tr><td>512</td><td>Wingtip Toys (Philip, SD)</td><td>132530.65</td><td>Prenium</td></tr>",
                            "<tr><td>494</td><td>Wingtip Toys (Pikeview, CO)</td><td>146954.45</td><td>Prenium</td></tr>",
                            "<tr><td>534</td><td>Wingtip Toys (Plaquemine, LA)</td><td>155913.25</td><td>Prenium</td></tr>",
                            "<tr><td>587</td><td>Wingtip Toys (Plata, TX)</td><td>143307.95</td><td>Prenium</td></tr>",
                            "<tr><td>483</td><td>Wingtip Toys (Plum Branch, SC)</td><td>141939.05</td><td>Prenium</td></tr>",
                            "<tr><td>496</td><td>Wingtip Toys (Port Hueneme, CA)</td><td>140051.45</td><td>Prenium</td></tr>",
                            "<tr><td>457</td><td>Wingtip Toys (Portales, NM)</td><td>96326.70</td><td>Standard</td></tr>",
                            "<tr><td>403</td><td>Wingtip Toys (Queen Valley, AZ)</td><td>155534.45</td><td>Prenium</td></tr>",
                            "<tr><td>518</td><td>Wingtip Toys (Raton, NM)</td><td>123167.75</td><td>Prenium</td></tr>",
                            "<tr><td>528</td><td>Wingtip Toys (Rich Creek, VA)</td><td>162953.15</td><td>Prenium</td></tr>",
                            "<tr><td>471</td><td>Wingtip Toys (Ridgemark, CA)</td><td>128275.05</td><td>Prenium</td></tr>",
                            "<tr><td>521</td><td>Wingtip Toys (Robertsdale, AL)</td><td>128759.80</td><td>Prenium</td></tr>",
                            "<tr><td>408</td><td>Wingtip Toys (Rockwall, TX)</td><td>119222.55</td><td>Prenium</td></tr>",
                            "<tr><td>431</td><td>Wingtip Toys (Rosa Sánchez, PR)</td><td>140471.80</td><td>Prenium</td></tr>",
                            "<tr><td>414</td><td>Wingtip Toys (Rose Tree, PA)</td><td>138841.85</td><td>Prenium</td></tr>",
                            "<tr><td>601</td><td>Wingtip Toys (Ruthsburg, MD)</td><td>138216.00</td><td>Prenium</td></tr>",
                            "<tr><td>446</td><td>Wingtip Toys (Saint Landry, LA)</td><td>104707.05</td><td>Prenium</td></tr>",
                            "<tr><td>448</td><td>Wingtip Toys (Salt Wells, NV)</td><td>145529.05</td><td>Prenium</td></tr>",
                            "<tr><td>472</td><td>Wingtip Toys (San Jacinto, CA)</td><td>185158.65</td><td>Prenium</td></tr>",
                            "<tr><td>580</td><td>Wingtip Toys (Sarversville, PA)</td><td>188919.75</td><td>Prenium</td></tr>",
                            "<tr><td>489</td><td>Wingtip Toys (Sayner, WI)</td><td>161087.90</td><td>Prenium</td></tr>",
                            "<tr><td>542</td><td>Wingtip Toys (Schererville, IN)</td><td>154523.25</td><td>Prenium</td></tr>",
                            "<tr><td>552</td><td>Wingtip Toys (Shay, PA)</td><td>126288.25</td><td>Prenium</td></tr>",
                            "<tr><td>505</td><td>Wingtip Toys (Silver Plume, CO)</td><td>132628.95</td><td>Prenium</td></tr>",
                            "<tr><td>451</td><td>Wingtip Toys (Smoot, WY)</td><td>119473.90</td><td>Prenium</td></tr>",
                            "<tr><td>453</td><td>Wingtip Toys (Stanardsville, VA)</td><td>115953.90</td><td>Prenium</td></tr>",
                            "<tr><td>478</td><td>Wingtip Toys (Stoneboro, PA)</td><td>162983.90</td><td>Prenium</td></tr>",
                            "<tr><td>513</td><td>Wingtip Toys (Straughn, IN)</td><td>117556.85</td><td>Prenium</td></tr>",
                            "<tr><td>468</td><td>Wingtip Toys (Sunburg, MN)</td><td>131478.55</td><td>Prenium</td></tr>",
                            "<tr><td>455</td><td>Wingtip Toys (Taft Heights, CA)</td><td>149214.45</td><td>Prenium</td></tr>",
                            "<tr><td>444</td><td>Wingtip Toys (Tea, SD)</td><td>151694.25</td><td>Prenium</td></tr>",
                            "<tr><td>435</td><td>Wingtip Toys (Teutopolis, IL)</td><td>130693.25</td><td>Prenium</td></tr>",
                            "<tr><td>564</td><td>Wingtip Toys (Tilleda, WI)</td><td>133242.10</td><td>Prenium</td></tr>",
                            "<tr><td>585</td><td>Wingtip Toys (Towaco, NJ)</td><td>125528.10</td><td>Prenium</td></tr>",
                            "<tr><td>535</td><td>Wingtip Toys (Triadelphia, WV)</td><td>130005.80</td><td>Prenium</td></tr>",
                            "<tr><td>572</td><td>Wingtip Toys (Trout Run, PA)</td><td>156492.05</td><td>Prenium</td></tr>",
                            "<tr><td>575</td><td>Wingtip Toys (Trumansburg, NY)</td><td>133555.00</td><td>Prenium</td></tr>",
                            "<tr><td>413</td><td>Wingtip Toys (Truscott, TX)</td><td>164996.10</td><td>Prenium</td></tr>",
                            "<tr><td>406</td><td>Wingtip Toys (Tuscaloosa, AL)</td><td>155844.05</td><td>Prenium</td></tr>",
                            "<tr><td>470</td><td>Wingtip Toys (Universal City, TX)</td><td>113570.10</td><td>Prenium</td></tr>",
                            "<tr><td>461</td><td>Wingtip Toys (Vair, TX)</td><td>121738.90</td><td>Prenium</td></tr>",
                            "<tr><td>503</td><td>Wingtip Toys (Valhalla, NC)</td><td>125340.55</td><td>Prenium</td></tr>",
                            "<tr><td>432</td><td>Wingtip Toys (Vamo, FL)</td><td>135324.20</td><td>Prenium</td></tr>",
                            "<tr><td>497</td><td>Wingtip Toys (Verdery, SC)</td><td>125772.80</td><td>Prenium</td></tr>",
                            "<tr><td>480</td><td>Wingtip Toys (Wapinitia, OR)</td><td>163084.60</td><td>Prenium</td></tr>",
                            "<tr><td>565</td><td>Wingtip Toys (Wapiti, WY)</td><td>159568.75</td><td>Prenium</td></tr>",
                            "<tr><td>562</td><td>Wingtip Toys (Ware Shoals, SC)</td><td>145610.10</td><td>Prenium</td></tr>",
                            "<tr><td>532</td><td>Wingtip Toys (Waycross, GA)</td><td>135407.30</td><td>Prenium</td></tr>",
                            "<tr><td>540</td><td>Wingtip Toys (Weld, ME)</td><td>120639.65</td><td>Prenium</td></tr>",
                            "<tr><td>569</td><td>Wingtip Toys (West Frostproof, FL)</td><td>177147.55</td><td>Prenium</td></tr>",
                            "<tr><td>456</td><td>Wingtip Toys (West Hempstead, NY)</td><td>119124.30</td><td>Prenium</td></tr>",
                            "<tr><td>481</td><td>Wingtip Toys (White Church, MO)</td><td>147500.00</td><td>Prenium</td></tr>",
                            "<tr><td>426</td><td>Wingtip Toys (Willow Valley, AZ)</td><td>88551.45</td><td>Standard</td></tr>",
                            "<tr><td>418</td><td>Wingtip Toys (Yaak, MT)</td><td>139733.60</td><td>Prenium</td></tr>",
                            "<tr><td>982</td><td>Yves Belisle</td><td>159775.05</td><td>Prenium</td></tr>",
                            "</table>"
                        ]
                    }
                }
            ],
            "execution_count": 46
        },
        {
            "cell_type": "markdown",
            "source": [
                "<span style=\"color: rgb(31, 33, 35); font-family: Inter, ui-sans-serif, system-ui, sans-serif, &quot;Apple Color Emoji&quot;, &quot;Segoe UI Emoji&quot;, &quot;Segoe UI Symbol&quot;, &quot;Noto Color Emoji&quot;; font-size: 16px; background-color: rgb(251, 253, 255);\">3.3 Trouvez la valeur moyenne des commandes (LineProfit) pour chaque catégorie de clients.</span>"
            ],
            "metadata": {
                "language": "sql",
                "azdata_cell_guid": "02ab7700-08e0-4c9a-8ad8-623222164f9b"
            },
            "attachments": {}
        },
        {
            "cell_type": "code",
            "source": [
                "SELECT\r\n",
                "  cc.CustomerCategoryName,\r\n",
                "  AVG(il.LineProfit) AS AverageOrderValue\r\n",
                "FROM Sales.CustomerCategories cc\r\n",
                "JOIN Sales.Customers c ON cc.CustomerCategoryID = c.CustomerCategoryID\r\n",
                "JOIN Sales.Orders o ON c.CustomerID = o.CustomerID\r\n",
                "JOIN Sales.Invoices i ON o.OrderID = i.OrderID\r\n",
                "JOIN Sales.InvoiceLines il ON i.InvoiceID = il.InvoiceID\r\n",
                "GROUP BY cc.CustomerCategoryName;"
            ],
            "metadata": {
                "language": "sql",
                "azdata_cell_guid": "ab9e76bf-f6e8-4647-8d58-4b0c57169962"
            },
            "outputs": [
                {
                    "output_type": "display_data",
                    "data": {
                        "text/html": "(5 rows affected)"
                    },
                    "metadata": {}
                },
                {
                    "output_type": "display_data",
                    "data": {
                        "text/html": "Total execution time: 00:00:02.725"
                    },
                    "metadata": {}
                },
                {
                    "output_type": "execute_result",
                    "metadata": {},
                    "execution_count": 47,
                    "data": {
                        "application/vnd.dataresource+json": {
                            "schema": {
                                "fields": [
                                    {
                                        "name": "CustomerCategoryName"
                                    },
                                    {
                                        "name": "AverageOrderValue"
                                    }
                                ]
                            },
                            "data": [
                                {
                                    "CustomerCategoryName": "Novelty Shop",
                                    "AverageOrderValue": "375.509953"
                                },
                                {
                                    "CustomerCategoryName": "Supermarket",
                                    "AverageOrderValue": "379.419103"
                                },
                                {
                                    "CustomerCategoryName": "Computer Store",
                                    "AverageOrderValue": "370.618803"
                                },
                                {
                                    "CustomerCategoryName": "Gift Store",
                                    "AverageOrderValue": "376.183553"
                                },
                                {
                                    "CustomerCategoryName": "Corporate",
                                    "AverageOrderValue": "375.892352"
                                }
                            ]
                        },
                        "text/html": [
                            "<table>",
                            "<tr><th>CustomerCategoryName</th><th>AverageOrderValue</th></tr>",
                            "<tr><td>Novelty Shop</td><td>375.509953</td></tr>",
                            "<tr><td>Supermarket</td><td>379.419103</td></tr>",
                            "<tr><td>Computer Store</td><td>370.618803</td></tr>",
                            "<tr><td>Gift Store</td><td>376.183553</td></tr>",
                            "<tr><td>Corporate</td><td>375.892352</td></tr>",
                            "</table>"
                        ]
                    }
                }
            ],
            "execution_count": 47
        },
        {
            "cell_type": "markdown",
            "source": [
                "<span style=\"color: rgb(31, 33, 35); font-family: Inter, ui-sans-serif, system-ui, sans-serif, &quot;Apple Color Emoji&quot;, &quot;Segoe UI Emoji&quot;, &quot;Segoe UI Symbol&quot;, &quot;Noto Color Emoji&quot;; font-size: 16px; background-color: rgb(251, 253, 255);\">3.4 Trouvez le nombre de commandes et les ventes totales (LineProfit) pour chaque ville.</span>"
            ],
            "metadata": {
                "language": "sql",
                "azdata_cell_guid": "a1d0c03c-1b19-4872-ae87-260795445ebf"
            },
            "attachments": {}
        },
        {
            "cell_type": "code",
            "source": [
                "SELECT c.CityName, COUNT(DISTINCT o.OrderID) AS NumberOfOrders, SUM(il.LineProfit) AS TotalSales\r\n",
                "FROM Sales.Orders o\r\n",
                "JOIN Sales.Invoices i ON o.OrderID = i.OrderID\r\n",
                "JOIN Sales.InvoiceLines il ON i.InvoiceID = il.InvoiceID\r\n",
                "JOIN Sales.Customers cu ON o.CustomerID = cu.CustomerID\r\n",
                "JOIN Application.Cities c ON cu.DeliveryCityID = c.CityID\r\n",
                "GROUP BY c.CityName\r\n",
                "ORDER BY TotalSales DESC;"
            ],
            "metadata": {
                "language": "sql",
                "azdata_cell_guid": "93e9e04b-ef89-484f-b759-de36353b0e58"
            },
            "outputs": [
                {
                    "output_type": "display_data",
                    "data": {
                        "text/html": "(655 rows affected)"
                    },
                    "metadata": {}
                },
                {
                    "output_type": "display_data",
                    "data": {
                        "text/html": "Total execution time: 00:00:02.784"
                    },
                    "metadata": {}
                },
                {
                    "output_type": "execute_result",
                    "metadata": {},
                    "execution_count": 48,
                    "data": {
                        "application/vnd.dataresource+json": {
                            "schema": {
                                "fields": [
                                    {
                                        "name": "CityName"
                                    },
                                    {
                                        "name": "NumberOfOrders"
                                    },
                                    {
                                        "name": "TotalSales"
                                    }
                                ]
                            },
                            "data": [
                                {
                                    "CityName": "Sinclair",
                                    "NumberOfOrders": "234",
                                    "TotalSales": "288943.40"
                                },
                                {
                                    "CityName": "East Fultonham",
                                    "NumberOfOrders": "226",
                                    "TotalSales": "280544.80"
                                },
                                {
                                    "CityName": "Teutopolis",
                                    "NumberOfOrders": "213",
                                    "TotalSales": "268520.65"
                                },
                                {
                                    "CityName": "Akhiok",
                                    "NumberOfOrders": "222",
                                    "TotalSales": "259554.30"
                                },
                                {
                                    "CityName": "Cherry Grove Beach",
                                    "NumberOfOrders": "210",
                                    "TotalSales": "257902.75"
                                },
                                {
                                    "CityName": "Rockwall",
                                    "NumberOfOrders": "207",
                                    "TotalSales": "253225.35"
                                },
                                {
                                    "CityName": "Inguadona",
                                    "NumberOfOrders": "126",
                                    "TotalSales": "189277.45"
                                },
                                {
                                    "CityName": "Trilby",
                                    "NumberOfOrders": "135",
                                    "TotalSales": "189239.35"
                                },
                                {
                                    "CityName": "Sarversville",
                                    "NumberOfOrders": "136",
                                    "TotalSales": "188919.75"
                                },
                                {
                                    "CityName": "Minidoka",
                                    "NumberOfOrders": "125",
                                    "TotalSales": "185432.55"
                                },
                                {
                                    "CityName": "San Jacinto",
                                    "NumberOfOrders": "125",
                                    "TotalSales": "185158.65"
                                },
                                {
                                    "CityName": "Mary Esther",
                                    "NumberOfOrders": "124",
                                    "TotalSales": "181555.60"
                                },
                                {
                                    "CityName": "Grabill",
                                    "NumberOfOrders": "120",
                                    "TotalSales": "180712.10"
                                },
                                {
                                    "CityName": "Dry Run",
                                    "NumberOfOrders": "120",
                                    "TotalSales": "179484.75"
                                },
                                {
                                    "CityName": "Cuyamungue",
                                    "NumberOfOrders": "125",
                                    "TotalSales": "178329.95"
                                },
                                {
                                    "CityName": "Jones Creek",
                                    "NumberOfOrders": "114",
                                    "TotalSales": "178316.20"
                                },
                                {
                                    "CityName": "West Frostproof",
                                    "NumberOfOrders": "131",
                                    "TotalSales": "177147.55"
                                },
                                {
                                    "CityName": "Meadowdale",
                                    "NumberOfOrders": "109",
                                    "TotalSales": "176754.05"
                                },
                                {
                                    "CityName": "Long Meadow",
                                    "NumberOfOrders": "117",
                                    "TotalSales": "174221.40"
                                },
                                {
                                    "CityName": "Abbottsburg",
                                    "NumberOfOrders": "120",
                                    "TotalSales": "173946.95"
                                },
                                {
                                    "CityName": "Mamou",
                                    "NumberOfOrders": "120",
                                    "TotalSales": "173490.95"
                                },
                                {
                                    "CityName": "Good Hart",
                                    "NumberOfOrders": "120",
                                    "TotalSales": "172888.50"
                                },
                                {
                                    "CityName": "North Eaton",
                                    "NumberOfOrders": "115",
                                    "TotalSales": "172559.80"
                                },
                                {
                                    "CityName": "Bourneville",
                                    "NumberOfOrders": "131",
                                    "TotalSales": "172196.60"
                                },
                                {
                                    "CityName": "Dorchester",
                                    "NumberOfOrders": "127",
                                    "TotalSales": "172153.50"
                                },
                                {
                                    "CityName": "Marion Hill",
                                    "NumberOfOrders": "108",
                                    "TotalSales": "172134.75"
                                },
                                {
                                    "CityName": "Buell",
                                    "NumberOfOrders": "120",
                                    "TotalSales": "172009.30"
                                },
                                {
                                    "CityName": "Morrison Bluff",
                                    "NumberOfOrders": "113",
                                    "TotalSales": "171513.35"
                                },
                                {
                                    "CityName": "Homer City",
                                    "NumberOfOrders": "116",
                                    "TotalSales": "169988.10"
                                },
                                {
                                    "CityName": "Big Moose",
                                    "NumberOfOrders": "118",
                                    "TotalSales": "168926.20"
                                },
                                {
                                    "CityName": "Vidrine",
                                    "NumberOfOrders": "129",
                                    "TotalSales": "168068.00"
                                },
                                {
                                    "CityName": "Haycock",
                                    "NumberOfOrders": "125",
                                    "TotalSales": "167999.45"
                                },
                                {
                                    "CityName": "Mickleton",
                                    "NumberOfOrders": "121",
                                    "TotalSales": "167186.90"
                                },
                                {
                                    "CityName": "Maypearl",
                                    "NumberOfOrders": "135",
                                    "TotalSales": "166381.00"
                                },
                                {
                                    "CityName": "Esopus",
                                    "NumberOfOrders": "113",
                                    "TotalSales": "165558.35"
                                },
                                {
                                    "CityName": "North Brookfield",
                                    "NumberOfOrders": "117",
                                    "TotalSales": "165285.95"
                                },
                                {
                                    "CityName": "Palatine Bridge",
                                    "NumberOfOrders": "116",
                                    "TotalSales": "165158.95"
                                },
                                {
                                    "CityName": "Truscott",
                                    "NumberOfOrders": "120",
                                    "TotalSales": "164996.10"
                                },
                                {
                                    "CityName": "Isabela",
                                    "NumberOfOrders": "140",
                                    "TotalSales": "164817.40"
                                },
                                {
                                    "CityName": "Lilbourn",
                                    "NumberOfOrders": "122",
                                    "TotalSales": "164359.85"
                                },
                                {
                                    "CityName": "Lake Clarke Shores",
                                    "NumberOfOrders": "135",
                                    "TotalSales": "164320.25"
                                },
                                {
                                    "CityName": "Montoya",
                                    "NumberOfOrders": "109",
                                    "TotalSales": "163976.45"
                                },
                                {
                                    "CityName": "Fieldbrook",
                                    "NumberOfOrders": "130",
                                    "TotalSales": "163720.60"
                                },
                                {
                                    "CityName": "Wapinitia",
                                    "NumberOfOrders": "109",
                                    "TotalSales": "163084.60"
                                },
                                {
                                    "CityName": "Stoneboro",
                                    "NumberOfOrders": "111",
                                    "TotalSales": "162983.90"
                                },
                                {
                                    "CityName": "Rich Creek",
                                    "NumberOfOrders": "123",
                                    "TotalSales": "162953.15"
                                },
                                {
                                    "CityName": "Bethania",
                                    "NumberOfOrders": "121",
                                    "TotalSales": "162702.70"
                                },
                                {
                                    "CityName": "Airport Drive",
                                    "NumberOfOrders": "126",
                                    "TotalSales": "162500.00"
                                },
                                {
                                    "CityName": "Omer",
                                    "NumberOfOrders": "127",
                                    "TotalSales": "162328.05"
                                },
                                {
                                    "CityName": "Sentinel Butte",
                                    "NumberOfOrders": "132",
                                    "TotalSales": "162170.40"
                                },
                                {
                                    "CityName": "Chalco",
                                    "NumberOfOrders": "144",
                                    "TotalSales": "162122.45"
                                },
                                {
                                    "CityName": "Lynne",
                                    "NumberOfOrders": "126",
                                    "TotalSales": "162102.15"
                                },
                                {
                                    "CityName": "Bokeelia",
                                    "NumberOfOrders": "115",
                                    "TotalSales": "161973.85"
                                },
                                {
                                    "CityName": "Kapa'a",
                                    "NumberOfOrders": "132",
                                    "TotalSales": "161952.00"
                                },
                                {
                                    "CityName": "North Cowden",
                                    "NumberOfOrders": "121",
                                    "TotalSales": "161912.45"
                                },
                                {
                                    "CityName": "Cheyenne Wells",
                                    "NumberOfOrders": "116",
                                    "TotalSales": "161829.40"
                                },
                                {
                                    "CityName": "Knights Landing",
                                    "NumberOfOrders": "125",
                                    "TotalSales": "161495.30"
                                },
                                {
                                    "CityName": "Eastchester",
                                    "NumberOfOrders": "114",
                                    "TotalSales": "161317.55"
                                },
                                {
                                    "CityName": "Pharr",
                                    "NumberOfOrders": "122",
                                    "TotalSales": "161301.70"
                                },
                                {
                                    "CityName": "Oak Point",
                                    "NumberOfOrders": "111",
                                    "TotalSales": "161162.45"
                                },
                                {
                                    "CityName": "Sayner",
                                    "NumberOfOrders": "117",
                                    "TotalSales": "161087.90"
                                },
                                {
                                    "CityName": "Deeson",
                                    "NumberOfOrders": "119",
                                    "TotalSales": "160996.05"
                                },
                                {
                                    "CityName": "Leathersville",
                                    "NumberOfOrders": "109",
                                    "TotalSales": "160957.35"
                                },
                                {
                                    "CityName": "Lesslie",
                                    "NumberOfOrders": "129",
                                    "TotalSales": "160764.10"
                                },
                                {
                                    "CityName": "Peeples Valley",
                                    "NumberOfOrders": "126",
                                    "TotalSales": "160693.15"
                                },
                                {
                                    "CityName": "Coffeyville",
                                    "NumberOfOrders": "107",
                                    "TotalSales": "160497.85"
                                },
                                {
                                    "CityName": "North Beach Haven",
                                    "NumberOfOrders": "122",
                                    "TotalSales": "160287.15"
                                },
                                {
                                    "CityName": "Caruthers",
                                    "NumberOfOrders": "126",
                                    "TotalSales": "160276.05"
                                },
                                {
                                    "CityName": "Lake Davis",
                                    "NumberOfOrders": "119",
                                    "TotalSales": "160181.60"
                                },
                                {
                                    "CityName": "Cuyahoga Heights",
                                    "NumberOfOrders": "124",
                                    "TotalSales": "160080.80"
                                },
                                {
                                    "CityName": "Flowella",
                                    "NumberOfOrders": "116",
                                    "TotalSales": "159902.60"
                                },
                                {
                                    "CityName": "Walapai",
                                    "NumberOfOrders": "127",
                                    "TotalSales": "159775.05"
                                },
                                {
                                    "CityName": "Wapiti",
                                    "NumberOfOrders": "128",
                                    "TotalSales": "159568.75"
                                },
                                {
                                    "CityName": "El Centro",
                                    "NumberOfOrders": "118",
                                    "TotalSales": "159568.35"
                                },
                                {
                                    "CityName": "Devault",
                                    "NumberOfOrders": "109",
                                    "TotalSales": "159433.75"
                                },
                                {
                                    "CityName": "Islip Terrace",
                                    "NumberOfOrders": "124",
                                    "TotalSales": "159249.85"
                                },
                                {
                                    "CityName": "South Laguna",
                                    "NumberOfOrders": "92",
                                    "TotalSales": "159068.00"
                                },
                                {
                                    "CityName": "Gum Branch",
                                    "NumberOfOrders": "112",
                                    "TotalSales": "159060.50"
                                },
                                {
                                    "CityName": "Lake Erie Beach",
                                    "NumberOfOrders": "120",
                                    "TotalSales": "158990.75"
                                },
                                {
                                    "CityName": "Switz City",
                                    "NumberOfOrders": "123",
                                    "TotalSales": "158733.25"
                                },
                                {
                                    "CityName": "Tenstrike",
                                    "NumberOfOrders": "113",
                                    "TotalSales": "158666.65"
                                },
                                {
                                    "CityName": "Brown City",
                                    "NumberOfOrders": "110",
                                    "TotalSales": "158632.00"
                                },
                                {
                                    "CityName": "Idaho City",
                                    "NumberOfOrders": "114",
                                    "TotalSales": "158276.65"
                                },
                                {
                                    "CityName": "Orrtanna",
                                    "NumberOfOrders": "120",
                                    "TotalSales": "158133.45"
                                },
                                {
                                    "CityName": "Jamison",
                                    "NumberOfOrders": "125",
                                    "TotalSales": "158097.55"
                                },
                                {
                                    "CityName": "Key Biscayne",
                                    "NumberOfOrders": "128",
                                    "TotalSales": "157814.75"
                                },
                                {
                                    "CityName": "Accomac",
                                    "NumberOfOrders": "112",
                                    "TotalSales": "157768.40"
                                },
                                {
                                    "CityName": "Lorentz",
                                    "NumberOfOrders": "118",
                                    "TotalSales": "157720.50"
                                },
                                {
                                    "CityName": "Sauquoit",
                                    "NumberOfOrders": "110",
                                    "TotalSales": "157561.10"
                                },
                                {
                                    "CityName": "Frankewing",
                                    "NumberOfOrders": "129",
                                    "TotalSales": "156998.65"
                                },
                                {
                                    "CityName": "Harkers Island",
                                    "NumberOfOrders": "132",
                                    "TotalSales": "156728.45"
                                },
                                {
                                    "CityName": "Trout Run",
                                    "NumberOfOrders": "110",
                                    "TotalSales": "156492.05"
                                },
                                {
                                    "CityName": "Placer",
                                    "NumberOfOrders": "125",
                                    "TotalSales": "156166.05"
                                },
                                {
                                    "CityName": "Sekiu",
                                    "NumberOfOrders": "126",
                                    "TotalSales": "155986.45"
                                },
                                {
                                    "CityName": "Plaquemine",
                                    "NumberOfOrders": "115",
                                    "TotalSales": "155913.25"
                                },
                                {
                                    "CityName": "Tuscaloosa",
                                    "NumberOfOrders": "118",
                                    "TotalSales": "155844.05"
                                },
                                {
                                    "CityName": "Furley",
                                    "NumberOfOrders": "124",
                                    "TotalSales": "155608.00"
                                },
                                {
                                    "CityName": "Lunds",
                                    "NumberOfOrders": "135",
                                    "TotalSales": "155604.85"
                                },
                                {
                                    "CityName": "Queen Valley",
                                    "NumberOfOrders": "122",
                                    "TotalSales": "155534.45"
                                },
                                {
                                    "CityName": "North Crows Nest",
                                    "NumberOfOrders": "138",
                                    "TotalSales": "155296.05"
                                },
                                {
                                    "CityName": "Bruceton Mills",
                                    "NumberOfOrders": "125",
                                    "TotalSales": "155148.45"
                                },
                                {
                                    "CityName": "Hayes Center",
                                    "NumberOfOrders": "105",
                                    "TotalSales": "154878.60"
                                },
                                {
                                    "CityName": "Wimbledon",
                                    "NumberOfOrders": "115",
                                    "TotalSales": "154719.15"
                                },
                                {
                                    "CityName": "Bernstein",
                                    "NumberOfOrders": "121",
                                    "TotalSales": "154642.35"
                                },
                                {
                                    "CityName": "Cramerton",
                                    "NumberOfOrders": "133",
                                    "TotalSales": "154599.00"
                                },
                                {
                                    "CityName": "Lake Ronkonkoma",
                                    "NumberOfOrders": "115",
                                    "TotalSales": "154541.00"
                                },
                                {
                                    "CityName": "Schererville",
                                    "NumberOfOrders": "111",
                                    "TotalSales": "154523.25"
                                },
                                {
                                    "CityName": "Indios",
                                    "NumberOfOrders": "106",
                                    "TotalSales": "154280.70"
                                },
                                {
                                    "CityName": "Guin",
                                    "NumberOfOrders": "117",
                                    "TotalSales": "154069.30"
                                },
                                {
                                    "CityName": "Newberg",
                                    "NumberOfOrders": "106",
                                    "TotalSales": "153896.40"
                                },
                                {
                                    "CityName": "Batson",
                                    "NumberOfOrders": "114",
                                    "TotalSales": "153860.50"
                                },
                                {
                                    "CityName": "Creelsboro",
                                    "NumberOfOrders": "126",
                                    "TotalSales": "153617.00"
                                },
                                {
                                    "CityName": "La Bolt",
                                    "NumberOfOrders": "139",
                                    "TotalSales": "153504.75"
                                },
                                {
                                    "CityName": "Indian Creek",
                                    "NumberOfOrders": "123",
                                    "TotalSales": "153440.20"
                                },
                                {
                                    "CityName": "Madison Park",
                                    "NumberOfOrders": "119",
                                    "TotalSales": "153360.35"
                                },
                                {
                                    "CityName": "Arrowhead Highlands",
                                    "NumberOfOrders": "116",
                                    "TotalSales": "153284.90"
                                },
                                {
                                    "CityName": "Golden Meadow",
                                    "NumberOfOrders": "136",
                                    "TotalSales": "153270.45"
                                },
                                {
                                    "CityName": "Lost River",
                                    "NumberOfOrders": "117",
                                    "TotalSales": "153251.50"
                                },
                                {
                                    "CityName": "Hawarden",
                                    "NumberOfOrders": "106",
                                    "TotalSales": "153205.70"
                                },
                                {
                                    "CityName": "Mahaffey",
                                    "NumberOfOrders": "120",
                                    "TotalSales": "153005.20"
                                },
                                {
                                    "CityName": "Elk Garden",
                                    "NumberOfOrders": "119",
                                    "TotalSales": "152930.55"
                                },
                                {
                                    "CityName": "Malott",
                                    "NumberOfOrders": "110",
                                    "TotalSales": "152722.10"
                                },
                                {
                                    "CityName": "Belgreen",
                                    "NumberOfOrders": "105",
                                    "TotalSales": "152717.35"
                                },
                                {
                                    "CityName": "Bombay Beach",
                                    "NumberOfOrders": "122",
                                    "TotalSales": "152657.35"
                                },
                                {
                                    "CityName": "Lime Lake",
                                    "NumberOfOrders": "108",
                                    "TotalSales": "152643.75"
                                },
                                {
                                    "CityName": "Shawboro",
                                    "NumberOfOrders": "123",
                                    "TotalSales": "152576.35"
                                },
                                {
                                    "CityName": "Vassalboro",
                                    "NumberOfOrders": "122",
                                    "TotalSales": "152527.65"
                                },
                                {
                                    "CityName": "Middleway",
                                    "NumberOfOrders": "108",
                                    "TotalSales": "152493.90"
                                },
                                {
                                    "CityName": "New Plymouth",
                                    "NumberOfOrders": "126",
                                    "TotalSales": "152415.50"
                                },
                                {
                                    "CityName": "Optimo",
                                    "NumberOfOrders": "107",
                                    "TotalSales": "152211.95"
                                },
                                {
                                    "CityName": "Victory Gardens",
                                    "NumberOfOrders": "120",
                                    "TotalSales": "152201.90"
                                },
                                {
                                    "CityName": "Alden Bridge",
                                    "NumberOfOrders": "108",
                                    "TotalSales": "152137.85"
                                },
                                {
                                    "CityName": "McCamey",
                                    "NumberOfOrders": "115",
                                    "TotalSales": "152101.15"
                                },
                                {
                                    "CityName": "Elkatawa",
                                    "NumberOfOrders": "123",
                                    "TotalSales": "152092.65"
                                },
                                {
                                    "CityName": "Bourbonnais",
                                    "NumberOfOrders": "137",
                                    "TotalSales": "151997.20"
                                },
                                {
                                    "CityName": "Connoquenessing",
                                    "NumberOfOrders": "112",
                                    "TotalSales": "151695.15"
                                },
                                {
                                    "CityName": "Tea",
                                    "NumberOfOrders": "108",
                                    "TotalSales": "151694.25"
                                },
                                {
                                    "CityName": "Venersborg",
                                    "NumberOfOrders": "128",
                                    "TotalSales": "151581.15"
                                },
                                {
                                    "CityName": "New Lexington",
                                    "NumberOfOrders": "108",
                                    "TotalSales": "151467.70"
                                },
                                {
                                    "CityName": "Coin",
                                    "NumberOfOrders": "115",
                                    "TotalSales": "151413.70"
                                },
                                {
                                    "CityName": "Gresston",
                                    "NumberOfOrders": "125",
                                    "TotalSales": "151304.70"
                                },
                                {
                                    "CityName": "Tolna",
                                    "NumberOfOrders": "139",
                                    "TotalSales": "151137.60"
                                },
                                {
                                    "CityName": "Marcell",
                                    "NumberOfOrders": "109",
                                    "TotalSales": "151007.45"
                                },
                                {
                                    "CityName": "Marcella",
                                    "NumberOfOrders": "120",
                                    "TotalSales": "150882.60"
                                },
                                {
                                    "CityName": "Navassa",
                                    "NumberOfOrders": "114",
                                    "TotalSales": "150841.40"
                                },
                                {
                                    "CityName": "Branson West",
                                    "NumberOfOrders": "113",
                                    "TotalSales": "150821.40"
                                },
                                {
                                    "CityName": "Tschetter Colony",
                                    "NumberOfOrders": "130",
                                    "TotalSales": "150752.45"
                                },
                                {
                                    "CityName": "White Horse Beach",
                                    "NumberOfOrders": "93",
                                    "TotalSales": "150656.80"
                                },
                                {
                                    "CityName": "Impact",
                                    "NumberOfOrders": "99",
                                    "TotalSales": "150593.50"
                                },
                                {
                                    "CityName": "Bowlus",
                                    "NumberOfOrders": "113",
                                    "TotalSales": "150461.80"
                                },
                                {
                                    "CityName": "Boyden Arbor",
                                    "NumberOfOrders": "112",
                                    "TotalSales": "149700.50"
                                },
                                {
                                    "CityName": "New Baden",
                                    "NumberOfOrders": "135",
                                    "TotalSales": "149661.65"
                                },
                                {
                                    "CityName": "Haltom City",
                                    "NumberOfOrders": "118",
                                    "TotalSales": "149578.15"
                                },
                                {
                                    "CityName": "Hanaford",
                                    "NumberOfOrders": "127",
                                    "TotalSales": "149569.95"
                                },
                                {
                                    "CityName": "Slanesville",
                                    "NumberOfOrders": "132",
                                    "TotalSales": "149362.65"
                                },
                                {
                                    "CityName": "Taft Heights",
                                    "NumberOfOrders": "110",
                                    "TotalSales": "149214.45"
                                },
                                {
                                    "CityName": "Wanaque",
                                    "NumberOfOrders": "114",
                                    "TotalSales": "149154.05"
                                },
                                {
                                    "CityName": "Bonner Springs",
                                    "NumberOfOrders": "120",
                                    "TotalSales": "149077.25"
                                },
                                {
                                    "CityName": "Buchanan Lake Village",
                                    "NumberOfOrders": "109",
                                    "TotalSales": "149008.10"
                                },
                                {
                                    "CityName": "Kerby",
                                    "NumberOfOrders": "114",
                                    "TotalSales": "148915.45"
                                },
                                {
                                    "CityName": "Upper Preston",
                                    "NumberOfOrders": "112",
                                    "TotalSales": "148768.80"
                                },
                                {
                                    "CityName": "Spillville",
                                    "NumberOfOrders": "120",
                                    "TotalSales": "148749.00"
                                },
                                {
                                    "CityName": "Coupland",
                                    "NumberOfOrders": "122",
                                    "TotalSales": "148075.95"
                                },
                                {
                                    "CityName": "Weigelstown",
                                    "NumberOfOrders": "122",
                                    "TotalSales": "147901.35"
                                },
                                {
                                    "CityName": "Drumright",
                                    "NumberOfOrders": "117",
                                    "TotalSales": "147879.80"
                                },
                                {
                                    "CityName": "Antares",
                                    "NumberOfOrders": "109",
                                    "TotalSales": "147561.80"
                                },
                                {
                                    "CityName": "White Church",
                                    "NumberOfOrders": "104",
                                    "TotalSales": "147500.00"
                                },
                                {
                                    "CityName": "Waite Hill",
                                    "NumberOfOrders": "115",
                                    "TotalSales": "147484.10"
                                },
                                {
                                    "CityName": "Lisco",
                                    "NumberOfOrders": "123",
                                    "TotalSales": "147225.15"
                                },
                                {
                                    "CityName": "Lompoc",
                                    "NumberOfOrders": "125",
                                    "TotalSales": "147219.80"
                                },
                                {
                                    "CityName": "Mier",
                                    "NumberOfOrders": "121",
                                    "TotalSales": "147100.15"
                                },
                                {
                                    "CityName": "Wappingers Falls",
                                    "NumberOfOrders": "121",
                                    "TotalSales": "147073.60"
                                },
                                {
                                    "CityName": "Pikeview",
                                    "NumberOfOrders": "109",
                                    "TotalSales": "146954.45"
                                },
                                {
                                    "CityName": "South La Paloma",
                                    "NumberOfOrders": "106",
                                    "TotalSales": "146942.55"
                                },
                                {
                                    "CityName": "Glenwillow",
                                    "NumberOfOrders": "102",
                                    "TotalSales": "146688.30"
                                },
                                {
                                    "CityName": "Orchard Hill",
                                    "NumberOfOrders": "112",
                                    "TotalSales": "146626.30"
                                },
                                {
                                    "CityName": "Birds",
                                    "NumberOfOrders": "102",
                                    "TotalSales": "146528.45"
                                },
                                {
                                    "CityName": "Koontzville",
                                    "NumberOfOrders": "122",
                                    "TotalSales": "146448.20"
                                },
                                {
                                    "CityName": "Robertsburg",
                                    "NumberOfOrders": "113",
                                    "TotalSales": "146416.15"
                                },
                                {
                                    "CityName": "Tumacacori",
                                    "NumberOfOrders": "126",
                                    "TotalSales": "146390.35"
                                },
                                {
                                    "CityName": "Tierra Verde",
                                    "NumberOfOrders": "133",
                                    "TotalSales": "146271.50"
                                },
                                {
                                    "CityName": "Elbing",
                                    "NumberOfOrders": "120",
                                    "TotalSales": "146062.75"
                                },
                                {
                                    "CityName": "Valdese",
                                    "NumberOfOrders": "118",
                                    "TotalSales": "145916.95"
                                },
                                {
                                    "CityName": "Harbour Pointe",
                                    "NumberOfOrders": "113",
                                    "TotalSales": "145681.40"
                                },
                                {
                                    "CityName": "Ware Shoals",
                                    "NumberOfOrders": "118",
                                    "TotalSales": "145610.10"
                                },
                                {
                                    "CityName": "Salt Wells",
                                    "NumberOfOrders": "129",
                                    "TotalSales": "145529.05"
                                },
                                {
                                    "CityName": "Sea Island",
                                    "NumberOfOrders": "129",
                                    "TotalSales": "144795.45"
                                },
                                {
                                    "CityName": "Ben Arnold",
                                    "NumberOfOrders": "120",
                                    "TotalSales": "144661.20"
                                },
                                {
                                    "CityName": "Northrop",
                                    "NumberOfOrders": "117",
                                    "TotalSales": "144631.45"
                                },
                                {
                                    "CityName": "Tolono",
                                    "NumberOfOrders": "116",
                                    "TotalSales": "144606.40"
                                },
                                {
                                    "CityName": "Argusville",
                                    "NumberOfOrders": "125",
                                    "TotalSales": "144584.40"
                                },
                                {
                                    "CityName": "Tavares",
                                    "NumberOfOrders": "111",
                                    "TotalSales": "144512.10"
                                },
                                {
                                    "CityName": "Roe Park",
                                    "NumberOfOrders": "113",
                                    "TotalSales": "144479.25"
                                },
                                {
                                    "CityName": "Capa",
                                    "NumberOfOrders": "114",
                                    "TotalSales": "144394.70"
                                },
                                {
                                    "CityName": "Saks",
                                    "NumberOfOrders": "120",
                                    "TotalSales": "144343.85"
                                },
                                {
                                    "CityName": "Roachtown",
                                    "NumberOfOrders": "116",
                                    "TotalSales": "144329.70"
                                },
                                {
                                    "CityName": "Medicine Lodge",
                                    "NumberOfOrders": "102",
                                    "TotalSales": "144168.85"
                                },
                                {
                                    "CityName": "Mashulaville",
                                    "NumberOfOrders": "130",
                                    "TotalSales": "144145.85"
                                },
                                {
                                    "CityName": "East Portal",
                                    "NumberOfOrders": "110",
                                    "TotalSales": "144079.95"
                                },
                                {
                                    "CityName": "Twodot",
                                    "NumberOfOrders": "116",
                                    "TotalSales": "144068.35"
                                },
                                {
                                    "CityName": "Necedah",
                                    "NumberOfOrders": "106",
                                    "TotalSales": "144015.00"
                                },
                                {
                                    "CityName": "Arietta",
                                    "NumberOfOrders": "118",
                                    "TotalSales": "144000.65"
                                },
                                {
                                    "CityName": "Dunkerton",
                                    "NumberOfOrders": "111",
                                    "TotalSales": "143812.85"
                                },
                                {
                                    "CityName": "Oakshade",
                                    "NumberOfOrders": "97",
                                    "TotalSales": "143740.65"
                                },
                                {
                                    "CityName": "Dennis Acres",
                                    "NumberOfOrders": "115",
                                    "TotalSales": "143665.40"
                                },
                                {
                                    "CityName": "Bowleys Quarters",
                                    "NumberOfOrders": "105",
                                    "TotalSales": "143615.05"
                                },
                                {
                                    "CityName": "Severna Park",
                                    "NumberOfOrders": "117",
                                    "TotalSales": "143589.05"
                                },
                                {
                                    "CityName": "The Colony",
                                    "NumberOfOrders": "108",
                                    "TotalSales": "143532.60"
                                },
                                {
                                    "CityName": "Bergen Park",
                                    "NumberOfOrders": "108",
                                    "TotalSales": "143408.05"
                                },
                                {
                                    "CityName": "Plata",
                                    "NumberOfOrders": "110",
                                    "TotalSales": "143307.95"
                                },
                                {
                                    "CityName": "La Paz",
                                    "NumberOfOrders": "111",
                                    "TotalSales": "143287.25"
                                },
                                {
                                    "CityName": "Arrowbear Lake",
                                    "NumberOfOrders": "138",
                                    "TotalSales": "143197.70"
                                },
                                {
                                    "CityName": "Cavendish",
                                    "NumberOfOrders": "117",
                                    "TotalSales": "143140.05"
                                },
                                {
                                    "CityName": "Eagle Valley",
                                    "NumberOfOrders": "108",
                                    "TotalSales": "143133.30"
                                },
                                {
                                    "CityName": "Ekwok",
                                    "NumberOfOrders": "109",
                                    "TotalSales": "142938.25"
                                },
                                {
                                    "CityName": "Grannis",
                                    "NumberOfOrders": "103",
                                    "TotalSales": "142630.30"
                                },
                                {
                                    "CityName": "McClave",
                                    "NumberOfOrders": "119",
                                    "TotalSales": "142618.85"
                                },
                                {
                                    "CityName": "Lake Stevens",
                                    "NumberOfOrders": "112",
                                    "TotalSales": "142534.90"
                                },
                                {
                                    "CityName": "Bernardston",
                                    "NumberOfOrders": "125",
                                    "TotalSales": "142461.45"
                                },
                                {
                                    "CityName": "Highland Home",
                                    "NumberOfOrders": "108",
                                    "TotalSales": "142458.95"
                                },
                                {
                                    "CityName": "Spillertown",
                                    "NumberOfOrders": "105",
                                    "TotalSales": "142390.80"
                                },
                                {
                                    "CityName": "Kalvesta",
                                    "NumberOfOrders": "118",
                                    "TotalSales": "142347.90"
                                },
                                {
                                    "CityName": "Cataño",
                                    "NumberOfOrders": "106",
                                    "TotalSales": "142294.05"
                                },
                                {
                                    "CityName": "Downingtown",
                                    "NumberOfOrders": "104",
                                    "TotalSales": "142180.50"
                                },
                                {
                                    "CityName": "Mayhill",
                                    "NumberOfOrders": "115",
                                    "TotalSales": "141999.55"
                                },
                                {
                                    "CityName": "Plum Branch",
                                    "NumberOfOrders": "120",
                                    "TotalSales": "141939.05"
                                },
                                {
                                    "CityName": "Nehawka",
                                    "NumberOfOrders": "127",
                                    "TotalSales": "141881.70"
                                },
                                {
                                    "CityName": "Manchester Center",
                                    "NumberOfOrders": "120",
                                    "TotalSales": "141768.05"
                                },
                                {
                                    "CityName": "New Braintree",
                                    "NumberOfOrders": "120",
                                    "TotalSales": "141734.55"
                                },
                                {
                                    "CityName": "Grider",
                                    "NumberOfOrders": "120",
                                    "TotalSales": "141718.05"
                                },
                                {
                                    "CityName": "Tempe",
                                    "NumberOfOrders": "113",
                                    "TotalSales": "141576.70"
                                },
                                {
                                    "CityName": "Mooringsport",
                                    "NumberOfOrders": "114",
                                    "TotalSales": "141532.40"
                                },
                                {
                                    "CityName": "Coney Island",
                                    "NumberOfOrders": "129",
                                    "TotalSales": "141311.95"
                                },
                                {
                                    "CityName": "Armstrong Creek",
                                    "NumberOfOrders": "119",
                                    "TotalSales": "141152.90"
                                },
                                {
                                    "CityName": "Bazemore",
                                    "NumberOfOrders": "101",
                                    "TotalSales": "141061.90"
                                },
                                {
                                    "CityName": "Catesby",
                                    "NumberOfOrders": "118",
                                    "TotalSales": "140939.00"
                                },
                                {
                                    "CityName": "Trentwood",
                                    "NumberOfOrders": "116",
                                    "TotalSales": "140910.80"
                                },
                                {
                                    "CityName": "Humansville",
                                    "NumberOfOrders": "102",
                                    "TotalSales": "140728.55"
                                },
                                {
                                    "CityName": "Nahant",
                                    "NumberOfOrders": "110",
                                    "TotalSales": "140694.05"
                                },
                                {
                                    "CityName": "Puerto de Luna",
                                    "NumberOfOrders": "118",
                                    "TotalSales": "140603.85"
                                },
                                {
                                    "CityName": "Cortaro",
                                    "NumberOfOrders": "106",
                                    "TotalSales": "140592.35"
                                },
                                {
                                    "CityName": "Rosa Sánchez",
                                    "NumberOfOrders": "118",
                                    "TotalSales": "140471.80"
                                },
                                {
                                    "CityName": "Du Quoin",
                                    "NumberOfOrders": "106",
                                    "TotalSales": "140232.80"
                                },
                                {
                                    "CityName": "North Ridge",
                                    "NumberOfOrders": "119",
                                    "TotalSales": "140231.50"
                                },
                                {
                                    "CityName": "La Cueva",
                                    "NumberOfOrders": "105",
                                    "TotalSales": "140130.40"
                                },
                                {
                                    "CityName": "Port Hueneme",
                                    "NumberOfOrders": "107",
                                    "TotalSales": "140051.45"
                                },
                                {
                                    "CityName": "Bethel Acres",
                                    "NumberOfOrders": "113",
                                    "TotalSales": "139914.70"
                                },
                                {
                                    "CityName": "Cale",
                                    "NumberOfOrders": "108",
                                    "TotalSales": "139737.50"
                                },
                                {
                                    "CityName": "Yaak",
                                    "NumberOfOrders": "120",
                                    "TotalSales": "139733.60"
                                },
                                {
                                    "CityName": "Shell",
                                    "NumberOfOrders": "105",
                                    "TotalSales": "139728.10"
                                },
                                {
                                    "CityName": "Carbonville",
                                    "NumberOfOrders": "106",
                                    "TotalSales": "139499.55"
                                },
                                {
                                    "CityName": "Annamoriah",
                                    "NumberOfOrders": "109",
                                    "TotalSales": "139498.50"
                                },
                                {
                                    "CityName": "Point Roberts",
                                    "NumberOfOrders": "105",
                                    "TotalSales": "139301.30"
                                },
                                {
                                    "CityName": "Aspen Park",
                                    "NumberOfOrders": "113",
                                    "TotalSales": "139265.25"
                                },
                                {
                                    "CityName": "Paw Paw Lake",
                                    "NumberOfOrders": "109",
                                    "TotalSales": "139137.75"
                                },
                                {
                                    "CityName": "Cache",
                                    "NumberOfOrders": "118",
                                    "TotalSales": "139119.90"
                                },
                                {
                                    "CityName": "Fortville",
                                    "NumberOfOrders": "112",
                                    "TotalSales": "139114.50"
                                },
                                {
                                    "CityName": "Tamora",
                                    "NumberOfOrders": "110",
                                    "TotalSales": "138961.80"
                                },
                                {
                                    "CityName": "Mendoza",
                                    "NumberOfOrders": "115",
                                    "TotalSales": "138887.55"
                                },
                                {
                                    "CityName": "Obetz",
                                    "NumberOfOrders": "122",
                                    "TotalSales": "138861.85"
                                },
                                {
                                    "CityName": "Rose Tree",
                                    "NumberOfOrders": "118",
                                    "TotalSales": "138841.85"
                                },
                                {
                                    "CityName": "Sabinsville",
                                    "NumberOfOrders": "104",
                                    "TotalSales": "138802.65"
                                },
                                {
                                    "CityName": "Maple Shade",
                                    "NumberOfOrders": "122",
                                    "TotalSales": "138794.65"
                                },
                                {
                                    "CityName": "Deer River",
                                    "NumberOfOrders": "105",
                                    "TotalSales": "138778.80"
                                },
                                {
                                    "CityName": "Cadogan",
                                    "NumberOfOrders": "106",
                                    "TotalSales": "138503.95"
                                },
                                {
                                    "CityName": "Ruthsburg",
                                    "NumberOfOrders": "121",
                                    "TotalSales": "138216.00"
                                },
                                {
                                    "CityName": "Griswoldville",
                                    "NumberOfOrders": "107",
                                    "TotalSales": "138180.45"
                                },
                                {
                                    "CityName": "Avenal",
                                    "NumberOfOrders": "119",
                                    "TotalSales": "138042.35"
                                },
                                {
                                    "CityName": "Sans Souci",
                                    "NumberOfOrders": "112",
                                    "TotalSales": "137950.55"
                                },
                                {
                                    "CityName": "Sandy Level",
                                    "NumberOfOrders": "104",
                                    "TotalSales": "137904.80"
                                },
                                {
                                    "CityName": "Larose",
                                    "NumberOfOrders": "108",
                                    "TotalSales": "137834.65"
                                },
                                {
                                    "CityName": "Termo",
                                    "NumberOfOrders": "123",
                                    "TotalSales": "137828.65"
                                },
                                {
                                    "CityName": "Cypress Quarters",
                                    "NumberOfOrders": "103",
                                    "TotalSales": "137554.75"
                                },
                                {
                                    "CityName": "Athol Springs",
                                    "NumberOfOrders": "102",
                                    "TotalSales": "137447.55"
                                },
                                {
                                    "CityName": "Segundo",
                                    "NumberOfOrders": "124",
                                    "TotalSales": "137445.65"
                                },
                                {
                                    "CityName": "Hambleton",
                                    "NumberOfOrders": "106",
                                    "TotalSales": "137330.90"
                                },
                                {
                                    "CityName": "Greenfield",
                                    "NumberOfOrders": "107",
                                    "TotalSales": "137259.30"
                                },
                                {
                                    "CityName": "Scofield",
                                    "NumberOfOrders": "111",
                                    "TotalSales": "137248.10"
                                },
                                {
                                    "CityName": "Ewart",
                                    "NumberOfOrders": "104",
                                    "TotalSales": "137237.75"
                                },
                                {
                                    "CityName": "Lexington Heights",
                                    "NumberOfOrders": "100",
                                    "TotalSales": "137175.80"
                                },
                                {
                                    "CityName": "Cowlington",
                                    "NumberOfOrders": "111",
                                    "TotalSales": "137151.30"
                                },
                                {
                                    "CityName": "Haddon Heights",
                                    "NumberOfOrders": "114",
                                    "TotalSales": "137108.05"
                                },
                                {
                                    "CityName": "Raven",
                                    "NumberOfOrders": "106",
                                    "TotalSales": "136761.45"
                                },
                                {
                                    "CityName": "Hardeeville",
                                    "NumberOfOrders": "107",
                                    "TotalSales": "136725.80"
                                },
                                {
                                    "CityName": "Amado",
                                    "NumberOfOrders": "118",
                                    "TotalSales": "136717.80"
                                },
                                {
                                    "CityName": "Lytle",
                                    "NumberOfOrders": "115",
                                    "TotalSales": "136632.85"
                                },
                                {
                                    "CityName": "Mineral Hills",
                                    "NumberOfOrders": "102",
                                    "TotalSales": "136618.65"
                                },
                                {
                                    "CityName": "Chateaugay",
                                    "NumberOfOrders": "123",
                                    "TotalSales": "136594.10"
                                },
                                {
                                    "CityName": "Glen Avon",
                                    "NumberOfOrders": "118",
                                    "TotalSales": "136495.95"
                                },
                                {
                                    "CityName": "Wyndham",
                                    "NumberOfOrders": "109",
                                    "TotalSales": "136282.90"
                                },
                                {
                                    "CityName": "Glen Ullin",
                                    "NumberOfOrders": "100",
                                    "TotalSales": "136250.45"
                                },
                                {
                                    "CityName": "Wasco",
                                    "NumberOfOrders": "126",
                                    "TotalSales": "136235.05"
                                },
                                {
                                    "CityName": "Hanoverton",
                                    "NumberOfOrders": "114",
                                    "TotalSales": "135912.95"
                                },
                                {
                                    "CityName": "McCammon",
                                    "NumberOfOrders": "125",
                                    "TotalSales": "135454.05"
                                },
                                {
                                    "CityName": "Waycross",
                                    "NumberOfOrders": "107",
                                    "TotalSales": "135407.30"
                                },
                                {
                                    "CityName": "King Cove",
                                    "NumberOfOrders": "107",
                                    "TotalSales": "135396.85"
                                },
                                {
                                    "CityName": "Vamo",
                                    "NumberOfOrders": "106",
                                    "TotalSales": "135324.20"
                                },
                                {
                                    "CityName": "Toughkenamon",
                                    "NumberOfOrders": "96",
                                    "TotalSales": "135273.20"
                                },
                                {
                                    "CityName": "Ashtabula",
                                    "NumberOfOrders": "132",
                                    "TotalSales": "135245.25"
                                },
                                {
                                    "CityName": "Gardere",
                                    "NumberOfOrders": "122",
                                    "TotalSales": "135241.95"
                                },
                                {
                                    "CityName": "Holden Beach",
                                    "NumberOfOrders": "90",
                                    "TotalSales": "135119.00"
                                },
                                {
                                    "CityName": "Arbor Vitae",
                                    "NumberOfOrders": "105",
                                    "TotalSales": "135056.25"
                                },
                                {
                                    "CityName": "Floriston",
                                    "NumberOfOrders": "108",
                                    "TotalSales": "134847.75"
                                },
                                {
                                    "CityName": "Netcong",
                                    "NumberOfOrders": "104",
                                    "TotalSales": "134838.55"
                                },
                                {
                                    "CityName": "Bock",
                                    "NumberOfOrders": "113",
                                    "TotalSales": "134818.50"
                                },
                                {
                                    "CityName": "Hightsville",
                                    "NumberOfOrders": "119",
                                    "TotalSales": "134656.70"
                                },
                                {
                                    "CityName": "Windsor Locks",
                                    "NumberOfOrders": "102",
                                    "TotalSales": "134625.25"
                                },
                                {
                                    "CityName": "Boalsburg",
                                    "NumberOfOrders": "110",
                                    "TotalSales": "134587.75"
                                },
                                {
                                    "CityName": "Yermo",
                                    "NumberOfOrders": "108",
                                    "TotalSales": "134563.80"
                                },
                                {
                                    "CityName": "Tooele",
                                    "NumberOfOrders": "123",
                                    "TotalSales": "134510.65"
                                },
                                {
                                    "CityName": "Hedrick",
                                    "NumberOfOrders": "118",
                                    "TotalSales": "134499.35"
                                },
                                {
                                    "CityName": "Licking",
                                    "NumberOfOrders": "98",
                                    "TotalSales": "134393.30"
                                },
                                {
                                    "CityName": "Oakpark",
                                    "NumberOfOrders": "112",
                                    "TotalSales": "134383.25"
                                },
                                {
                                    "CityName": "Karthaus",
                                    "NumberOfOrders": "109",
                                    "TotalSales": "134318.05"
                                },
                                {
                                    "CityName": "Ortley Beach",
                                    "NumberOfOrders": "108",
                                    "TotalSales": "134264.95"
                                },
                                {
                                    "CityName": "Vollmar",
                                    "NumberOfOrders": "112",
                                    "TotalSales": "134086.70"
                                },
                                {
                                    "CityName": "Elrosa",
                                    "NumberOfOrders": "107",
                                    "TotalSales": "133985.75"
                                },
                                {
                                    "CityName": "Garlin",
                                    "NumberOfOrders": "101",
                                    "TotalSales": "133848.65"
                                },
                                {
                                    "CityName": "Glen Park",
                                    "NumberOfOrders": "109",
                                    "TotalSales": "133795.05"
                                },
                                {
                                    "CityName": "Palmas del Mar",
                                    "NumberOfOrders": "122",
                                    "TotalSales": "133765.10"
                                },
                                {
                                    "CityName": "Cylon",
                                    "NumberOfOrders": "125",
                                    "TotalSales": "133740.55"
                                },
                                {
                                    "CityName": "Hodgdon",
                                    "NumberOfOrders": "109",
                                    "TotalSales": "133564.55"
                                },
                                {
                                    "CityName": "Trumansburg",
                                    "NumberOfOrders": "119",
                                    "TotalSales": "133555.00"
                                },
                                {
                                    "CityName": "Coker",
                                    "NumberOfOrders": "117",
                                    "TotalSales": "133529.00"
                                },
                                {
                                    "CityName": "Manahawkin",
                                    "NumberOfOrders": "113",
                                    "TotalSales": "133498.75"
                                },
                                {
                                    "CityName": "Cave Junction",
                                    "NumberOfOrders": "89",
                                    "TotalSales": "133452.40"
                                },
                                {
                                    "CityName": "Black Lick",
                                    "NumberOfOrders": "120",
                                    "TotalSales": "133294.95"
                                },
                                {
                                    "CityName": "Tilleda",
                                    "NumberOfOrders": "112",
                                    "TotalSales": "133242.10"
                                },
                                {
                                    "CityName": "Cloquet",
                                    "NumberOfOrders": "111",
                                    "TotalSales": "133066.05"
                                },
                                {
                                    "CityName": "Rothsville",
                                    "NumberOfOrders": "99",
                                    "TotalSales": "133036.35"
                                },
                                {
                                    "CityName": "Mappsburg",
                                    "NumberOfOrders": "106",
                                    "TotalSales": "133025.60"
                                },
                                {
                                    "CityName": "Copake",
                                    "NumberOfOrders": "107",
                                    "TotalSales": "132972.45"
                                },
                                {
                                    "CityName": "Madrone",
                                    "NumberOfOrders": "108",
                                    "TotalSales": "132933.95"
                                },
                                {
                                    "CityName": "Oconto Falls",
                                    "NumberOfOrders": "112",
                                    "TotalSales": "132857.90"
                                },
                                {
                                    "CityName": "Silver Plume",
                                    "NumberOfOrders": "116",
                                    "TotalSales": "132628.95"
                                },
                                {
                                    "CityName": "Keosauqua",
                                    "NumberOfOrders": "114",
                                    "TotalSales": "132573.40"
                                },
                                {
                                    "CityName": "Statenville",
                                    "NumberOfOrders": "116",
                                    "TotalSales": "132555.45"
                                },
                                {
                                    "CityName": "Philip",
                                    "NumberOfOrders": "98",
                                    "TotalSales": "132530.65"
                                },
                                {
                                    "CityName": "Clewiston",
                                    "NumberOfOrders": "100",
                                    "TotalSales": "132438.85"
                                },
                                {
                                    "CityName": "Boynton",
                                    "NumberOfOrders": "108",
                                    "TotalSales": "132275.35"
                                },
                                {
                                    "CityName": "Nichols Hills",
                                    "NumberOfOrders": "93",
                                    "TotalSales": "132229.80"
                                },
                                {
                                    "CityName": "Dracut",
                                    "NumberOfOrders": "119",
                                    "TotalSales": "131971.55"
                                },
                                {
                                    "CityName": "Terre du Lac",
                                    "NumberOfOrders": "117",
                                    "TotalSales": "131929.20"
                                },
                                {
                                    "CityName": "Gilford",
                                    "NumberOfOrders": "121",
                                    "TotalSales": "131916.55"
                                },
                                {
                                    "CityName": "Cookietown",
                                    "NumberOfOrders": "99",
                                    "TotalSales": "131889.50"
                                },
                                {
                                    "CityName": "Dahlia",
                                    "NumberOfOrders": "110",
                                    "TotalSales": "131888.20"
                                },
                                {
                                    "CityName": "Bell Acres",
                                    "NumberOfOrders": "99",
                                    "TotalSales": "131821.05"
                                },
                                {
                                    "CityName": "Watonga",
                                    "NumberOfOrders": "122",
                                    "TotalSales": "131686.75"
                                },
                                {
                                    "CityName": "Rafael Capó",
                                    "NumberOfOrders": "111",
                                    "TotalSales": "131548.50"
                                },
                                {
                                    "CityName": "Gasport",
                                    "NumberOfOrders": "118",
                                    "TotalSales": "131528.05"
                                },
                                {
                                    "CityName": "Sunburg",
                                    "NumberOfOrders": "114",
                                    "TotalSales": "131478.55"
                                },
                                {
                                    "CityName": "Orchard Mesa",
                                    "NumberOfOrders": "113",
                                    "TotalSales": "131440.20"
                                },
                                {
                                    "CityName": "Huntington Woods",
                                    "NumberOfOrders": "111",
                                    "TotalSales": "131201.05"
                                },
                                {
                                    "CityName": "Page City",
                                    "NumberOfOrders": "125",
                                    "TotalSales": "131186.30"
                                },
                                {
                                    "CityName": "Haydenville",
                                    "NumberOfOrders": "121",
                                    "TotalSales": "131099.95"
                                },
                                {
                                    "CityName": "Cloud Lake",
                                    "NumberOfOrders": "116",
                                    "TotalSales": "131092.15"
                                },
                                {
                                    "CityName": "Conesus Lake",
                                    "NumberOfOrders": "111",
                                    "TotalSales": "130977.65"
                                },
                                {
                                    "CityName": "Ewen",
                                    "NumberOfOrders": "107",
                                    "TotalSales": "130747.70"
                                },
                                {
                                    "CityName": "Andrix",
                                    "NumberOfOrders": "108",
                                    "TotalSales": "130710.00"
                                },
                                {
                                    "CityName": "Marfa",
                                    "NumberOfOrders": "109",
                                    "TotalSales": "130622.90"
                                },
                                {
                                    "CityName": "Hollandsburg",
                                    "NumberOfOrders": "116",
                                    "TotalSales": "130575.25"
                                },
                                {
                                    "CityName": "Nanafalia",
                                    "NumberOfOrders": "91",
                                    "TotalSales": "130512.35"
                                },
                                {
                                    "CityName": "Bratt",
                                    "NumberOfOrders": "106",
                                    "TotalSales": "130431.00"
                                },
                                {
                                    "CityName": "Jessie",
                                    "NumberOfOrders": "110",
                                    "TotalSales": "130331.35"
                                },
                                {
                                    "CityName": "Cañon",
                                    "NumberOfOrders": "112",
                                    "TotalSales": "130248.65"
                                },
                                {
                                    "CityName": "Goffstown",
                                    "NumberOfOrders": "99",
                                    "TotalSales": "130167.00"
                                },
                                {
                                    "CityName": "Triadelphia",
                                    "NumberOfOrders": "103",
                                    "TotalSales": "130005.80"
                                },
                                {
                                    "CityName": "Oologah",
                                    "NumberOfOrders": "119",
                                    "TotalSales": "129956.30"
                                },
                                {
                                    "CityName": "Laurence Harbor",
                                    "NumberOfOrders": "101",
                                    "TotalSales": "129938.45"
                                },
                                {
                                    "CityName": "Herlong",
                                    "NumberOfOrders": "105",
                                    "TotalSales": "129738.90"
                                },
                                {
                                    "CityName": "Branchburg Park",
                                    "NumberOfOrders": "111",
                                    "TotalSales": "129663.25"
                                },
                                {
                                    "CityName": "Cundiyo",
                                    "NumberOfOrders": "111",
                                    "TotalSales": "129629.90"
                                },
                                {
                                    "CityName": "Frenchburg",
                                    "NumberOfOrders": "119",
                                    "TotalSales": "129420.85"
                                },
                                {
                                    "CityName": "Lytle Creek",
                                    "NumberOfOrders": "110",
                                    "TotalSales": "129388.15"
                                },
                                {
                                    "CityName": "Absecon",
                                    "NumberOfOrders": "103",
                                    "TotalSales": "129358.35"
                                },
                                {
                                    "CityName": "Lake Crystal",
                                    "NumberOfOrders": "119",
                                    "TotalSales": "129356.55"
                                },
                                {
                                    "CityName": "Old River-Winfree",
                                    "NumberOfOrders": "109",
                                    "TotalSales": "129076.05"
                                },
                                {
                                    "CityName": "Idria",
                                    "NumberOfOrders": "115",
                                    "TotalSales": "129008.75"
                                },
                                {
                                    "CityName": "Johnetta",
                                    "NumberOfOrders": "115",
                                    "TotalSales": "128829.60"
                                },
                                {
                                    "CityName": "Robertsdale",
                                    "NumberOfOrders": "115",
                                    "TotalSales": "128759.80"
                                },
                                {
                                    "CityName": "Knifley",
                                    "NumberOfOrders": "110",
                                    "TotalSales": "128754.85"
                                },
                                {
                                    "CityName": "Tiff City",
                                    "NumberOfOrders": "96",
                                    "TotalSales": "128600.30"
                                },
                                {
                                    "CityName": "Kopperl",
                                    "NumberOfOrders": "105",
                                    "TotalSales": "128367.35"
                                },
                                {
                                    "CityName": "Ridgemark",
                                    "NumberOfOrders": "109",
                                    "TotalSales": "128275.05"
                                },
                                {
                                    "CityName": "Flomaton",
                                    "NumberOfOrders": "94",
                                    "TotalSales": "128217.90"
                                },
                                {
                                    "CityName": "Twin Peaks",
                                    "NumberOfOrders": "116",
                                    "TotalSales": "128212.70"
                                },
                                {
                                    "CityName": "Asher",
                                    "NumberOfOrders": "109",
                                    "TotalSales": "128209.55"
                                },
                                {
                                    "CityName": "Kannapolis",
                                    "NumberOfOrders": "100",
                                    "TotalSales": "128158.65"
                                },
                                {
                                    "CityName": "Gargatha",
                                    "NumberOfOrders": "101",
                                    "TotalSales": "128123.30"
                                },
                                {
                                    "CityName": "Golf View",
                                    "NumberOfOrders": "102",
                                    "TotalSales": "128013.00"
                                },
                                {
                                    "CityName": "Bernie",
                                    "NumberOfOrders": "106",
                                    "TotalSales": "127832.05"
                                },
                                {
                                    "CityName": "Cotuit",
                                    "NumberOfOrders": "111",
                                    "TotalSales": "127596.40"
                                },
                                {
                                    "CityName": "Markville",
                                    "NumberOfOrders": "103",
                                    "TotalSales": "127500.45"
                                },
                                {
                                    "CityName": "Alcester",
                                    "NumberOfOrders": "107",
                                    "TotalSales": "127040.25"
                                },
                                {
                                    "CityName": "Elverson",
                                    "NumberOfOrders": "112",
                                    "TotalSales": "126684.95"
                                },
                                {
                                    "CityName": "Federalsburg",
                                    "NumberOfOrders": "132",
                                    "TotalSales": "126616.75"
                                },
                                {
                                    "CityName": "Shell Knob",
                                    "NumberOfOrders": "110",
                                    "TotalSales": "126594.40"
                                },
                                {
                                    "CityName": "Imlaystown",
                                    "NumberOfOrders": "114",
                                    "TotalSales": "126479.45"
                                },
                                {
                                    "CityName": "Obion",
                                    "NumberOfOrders": "101",
                                    "TotalSales": "126434.95"
                                },
                                {
                                    "CityName": "Huntingburg",
                                    "NumberOfOrders": "105",
                                    "TotalSales": "126292.70"
                                },
                                {
                                    "CityName": "Shay",
                                    "NumberOfOrders": "113",
                                    "TotalSales": "126288.25"
                                },
                                {
                                    "CityName": "Howells",
                                    "NumberOfOrders": "92",
                                    "TotalSales": "126279.05"
                                },
                                {
                                    "CityName": "McCall",
                                    "NumberOfOrders": "117",
                                    "TotalSales": "126190.55"
                                },
                                {
                                    "CityName": "Stallion Springs",
                                    "NumberOfOrders": "116",
                                    "TotalSales": "126043.45"
                                },
                                {
                                    "CityName": "Baraboo",
                                    "NumberOfOrders": "97",
                                    "TotalSales": "125985.95"
                                },
                                {
                                    "CityName": "Verdery",
                                    "NumberOfOrders": "108",
                                    "TotalSales": "125772.80"
                                },
                                {
                                    "CityName": "Coyville",
                                    "NumberOfOrders": "103",
                                    "TotalSales": "125704.90"
                                },
                                {
                                    "CityName": "Marion Junction",
                                    "NumberOfOrders": "112",
                                    "TotalSales": "125656.80"
                                },
                                {
                                    "CityName": "Kwethluk",
                                    "NumberOfOrders": "126",
                                    "TotalSales": "125620.45"
                                },
                                {
                                    "CityName": "Towaco",
                                    "NumberOfOrders": "103",
                                    "TotalSales": "125528.10"
                                },
                                {
                                    "CityName": "Iliamna",
                                    "NumberOfOrders": "99",
                                    "TotalSales": "125525.90"
                                },
                                {
                                    "CityName": "Molalla",
                                    "NumberOfOrders": "98",
                                    "TotalSales": "125516.15"
                                },
                                {
                                    "CityName": "Astor Park",
                                    "NumberOfOrders": "109",
                                    "TotalSales": "125489.40"
                                },
                                {
                                    "CityName": "Valhalla",
                                    "NumberOfOrders": "103",
                                    "TotalSales": "125340.55"
                                },
                                {
                                    "CityName": "Bozeman Hot Springs",
                                    "NumberOfOrders": "115",
                                    "TotalSales": "125208.20"
                                },
                                {
                                    "CityName": "Edgartown",
                                    "NumberOfOrders": "110",
                                    "TotalSales": "125136.05"
                                },
                                {
                                    "CityName": "Seiling",
                                    "NumberOfOrders": "98",
                                    "TotalSales": "125037.50"
                                },
                                {
                                    "CityName": "Dacono",
                                    "NumberOfOrders": "105",
                                    "TotalSales": "124873.95"
                                },
                                {
                                    "CityName": "Dawn",
                                    "NumberOfOrders": "107",
                                    "TotalSales": "124733.60"
                                },
                                {
                                    "CityName": "Virgil",
                                    "NumberOfOrders": "105",
                                    "TotalSales": "124512.35"
                                },
                                {
                                    "CityName": "Bayou Cane",
                                    "NumberOfOrders": "116",
                                    "TotalSales": "124487.25"
                                },
                                {
                                    "CityName": "North Muskegon",
                                    "NumberOfOrders": "87",
                                    "TotalSales": "124421.15"
                                },
                                {
                                    "CityName": "Shenorock",
                                    "NumberOfOrders": "105",
                                    "TotalSales": "124378.80"
                                },
                                {
                                    "CityName": "Seagraves",
                                    "NumberOfOrders": "106",
                                    "TotalSales": "124174.95"
                                },
                                {
                                    "CityName": "Biscay",
                                    "NumberOfOrders": "99",
                                    "TotalSales": "124153.25"
                                },
                                {
                                    "CityName": "Mount Montgomery",
                                    "NumberOfOrders": "105",
                                    "TotalSales": "124047.40"
                                },
                                {
                                    "CityName": "Edgecomb",
                                    "NumberOfOrders": "104",
                                    "TotalSales": "123980.10"
                                },
                                {
                                    "CityName": "Cokato",
                                    "NumberOfOrders": "90",
                                    "TotalSales": "123913.65"
                                },
                                {
                                    "CityName": "Tolchester Beach",
                                    "NumberOfOrders": "112",
                                    "TotalSales": "123828.50"
                                },
                                {
                                    "CityName": "Reader",
                                    "NumberOfOrders": "106",
                                    "TotalSales": "123812.20"
                                },
                                {
                                    "CityName": "Dallardsville",
                                    "NumberOfOrders": "105",
                                    "TotalSales": "123802.55"
                                },
                                {
                                    "CityName": "Makoti",
                                    "NumberOfOrders": "94",
                                    "TotalSales": "123619.15"
                                },
                                {
                                    "CityName": "Premont",
                                    "NumberOfOrders": "116",
                                    "TotalSales": "123495.45"
                                },
                                {
                                    "CityName": "Bakers Mill",
                                    "NumberOfOrders": "116",
                                    "TotalSales": "123291.50"
                                },
                                {
                                    "CityName": "Raton",
                                    "NumberOfOrders": "111",
                                    "TotalSales": "123167.75"
                                },
                                {
                                    "CityName": "North York",
                                    "NumberOfOrders": "109",
                                    "TotalSales": "123062.75"
                                },
                                {
                                    "CityName": "Wesson",
                                    "NumberOfOrders": "106",
                                    "TotalSales": "122906.30"
                                },
                                {
                                    "CityName": "Marguerite",
                                    "NumberOfOrders": "110",
                                    "TotalSales": "122791.60"
                                },
                                {
                                    "CityName": "Flanagan",
                                    "NumberOfOrders": "110",
                                    "TotalSales": "122721.75"
                                },
                                {
                                    "CityName": "Orick",
                                    "NumberOfOrders": "103",
                                    "TotalSales": "122582.80"
                                },
                                {
                                    "CityName": "Cos Cob",
                                    "NumberOfOrders": "109",
                                    "TotalSales": "122531.50"
                                },
                                {
                                    "CityName": "West Elkton",
                                    "NumberOfOrders": "121",
                                    "TotalSales": "122521.25"
                                },
                                {
                                    "CityName": "Caro",
                                    "NumberOfOrders": "100",
                                    "TotalSales": "122452.15"
                                },
                                {
                                    "CityName": "Naches",
                                    "NumberOfOrders": "86",
                                    "TotalSales": "122417.80"
                                },
                                {
                                    "CityName": "Jane",
                                    "NumberOfOrders": "100",
                                    "TotalSales": "122194.05"
                                },
                                {
                                    "CityName": "Crary",
                                    "NumberOfOrders": "96",
                                    "TotalSales": "122021.85"
                                },
                                {
                                    "CityName": "Berville",
                                    "NumberOfOrders": "108",
                                    "TotalSales": "121945.45"
                                },
                                {
                                    "CityName": "Vair",
                                    "NumberOfOrders": "112",
                                    "TotalSales": "121738.90"
                                },
                                {
                                    "CityName": "Grantsburg",
                                    "NumberOfOrders": "95",
                                    "TotalSales": "121344.85"
                                },
                                {
                                    "CityName": "Tresckow",
                                    "NumberOfOrders": "106",
                                    "TotalSales": "121217.15"
                                },
                                {
                                    "CityName": "Van Alstyne",
                                    "NumberOfOrders": "109",
                                    "TotalSales": "121214.40"
                                },
                                {
                                    "CityName": "Orpha",
                                    "NumberOfOrders": "105",
                                    "TotalSales": "121195.05"
                                },
                                {
                                    "CityName": "Diablock",
                                    "NumberOfOrders": "85",
                                    "TotalSales": "121011.00"
                                },
                                {
                                    "CityName": "Pawlet",
                                    "NumberOfOrders": "106",
                                    "TotalSales": "120990.25"
                                },
                                {
                                    "CityName": "Jemison",
                                    "NumberOfOrders": "100",
                                    "TotalSales": "120939.50"
                                },
                                {
                                    "CityName": "Lavon",
                                    "NumberOfOrders": "91",
                                    "TotalSales": "120914.25"
                                },
                                {
                                    "CityName": "Broomtown",
                                    "NumberOfOrders": "116",
                                    "TotalSales": "120804.20"
                                },
                                {
                                    "CityName": "Hahira",
                                    "NumberOfOrders": "113",
                                    "TotalSales": "120776.75"
                                },
                                {
                                    "CityName": "Schoharie",
                                    "NumberOfOrders": "97",
                                    "TotalSales": "120705.75"
                                },
                                {
                                    "CityName": "Weld",
                                    "NumberOfOrders": "101",
                                    "TotalSales": "120639.65"
                                },
                                {
                                    "CityName": "Chipita Park",
                                    "NumberOfOrders": "108",
                                    "TotalSales": "120463.75"
                                },
                                {
                                    "CityName": "Bratenahl",
                                    "NumberOfOrders": "103",
                                    "TotalSales": "120286.75"
                                },
                                {
                                    "CityName": "Heilwood",
                                    "NumberOfOrders": "112",
                                    "TotalSales": "120216.45"
                                },
                                {
                                    "CityName": "Panaca",
                                    "NumberOfOrders": "116",
                                    "TotalSales": "120120.10"
                                },
                                {
                                    "CityName": "South Euclid",
                                    "NumberOfOrders": "123",
                                    "TotalSales": "119772.95"
                                },
                                {
                                    "CityName": "Oval",
                                    "NumberOfOrders": "99",
                                    "TotalSales": "119670.50"
                                },
                                {
                                    "CityName": "Donner",
                                    "NumberOfOrders": "104",
                                    "TotalSales": "119506.90"
                                },
                                {
                                    "CityName": "Smoot",
                                    "NumberOfOrders": "108",
                                    "TotalSales": "119473.90"
                                },
                                {
                                    "CityName": "Topstone",
                                    "NumberOfOrders": "113",
                                    "TotalSales": "119409.25"
                                },
                                {
                                    "CityName": "Skyway",
                                    "NumberOfOrders": "116",
                                    "TotalSales": "119303.20"
                                },
                                {
                                    "CityName": "Aceitunas",
                                    "NumberOfOrders": "103",
                                    "TotalSales": "119283.00"
                                },
                                {
                                    "CityName": "Wrangell",
                                    "NumberOfOrders": "92",
                                    "TotalSales": "119154.95"
                                },
                                {
                                    "CityName": "West Hempstead",
                                    "NumberOfOrders": "103",
                                    "TotalSales": "119124.30"
                                },
                                {
                                    "CityName": "Mauldin",
                                    "NumberOfOrders": "114",
                                    "TotalSales": "119113.10"
                                },
                                {
                                    "CityName": "Pastura",
                                    "NumberOfOrders": "98",
                                    "TotalSales": "119009.05"
                                },
                                {
                                    "CityName": "Caselton",
                                    "NumberOfOrders": "116",
                                    "TotalSales": "118872.30"
                                },
                                {
                                    "CityName": "Nicasio",
                                    "NumberOfOrders": "108",
                                    "TotalSales": "118823.60"
                                },
                                {
                                    "CityName": "Beekmantown",
                                    "NumberOfOrders": "99",
                                    "TotalSales": "118800.95"
                                },
                                {
                                    "CityName": "Goodings Grove",
                                    "NumberOfOrders": "101",
                                    "TotalSales": "118737.45"
                                },
                                {
                                    "CityName": "Yerington",
                                    "NumberOfOrders": "86",
                                    "TotalSales": "118728.45"
                                },
                                {
                                    "CityName": "Coosa",
                                    "NumberOfOrders": "113",
                                    "TotalSales": "118658.55"
                                },
                                {
                                    "CityName": "Saint Louis Park",
                                    "NumberOfOrders": "107",
                                    "TotalSales": "118646.15"
                                },
                                {
                                    "CityName": "Wilkes-Barre",
                                    "NumberOfOrders": "108",
                                    "TotalSales": "118413.85"
                                },
                                {
                                    "CityName": "Olivette",
                                    "NumberOfOrders": "108",
                                    "TotalSales": "117975.00"
                                },
                                {
                                    "CityName": "Greig",
                                    "NumberOfOrders": "105",
                                    "TotalSales": "117969.80"
                                },
                                {
                                    "CityName": "Beals",
                                    "NumberOfOrders": "91",
                                    "TotalSales": "117941.90"
                                },
                                {
                                    "CityName": "Claycomo",
                                    "NumberOfOrders": "109",
                                    "TotalSales": "117935.65"
                                },
                                {
                                    "CityName": "Blackville",
                                    "NumberOfOrders": "105",
                                    "TotalSales": "117827.85"
                                },
                                {
                                    "CityName": "Moquino",
                                    "NumberOfOrders": "112",
                                    "TotalSales": "117730.65"
                                },
                                {
                                    "CityName": "Eulaton",
                                    "NumberOfOrders": "106",
                                    "TotalSales": "117716.55"
                                },
                                {
                                    "CityName": "Schaal",
                                    "NumberOfOrders": "105",
                                    "TotalSales": "117676.60"
                                },
                                {
                                    "CityName": "Straughn",
                                    "NumberOfOrders": "115",
                                    "TotalSales": "117556.85"
                                },
                                {
                                    "CityName": "Ferney",
                                    "NumberOfOrders": "104",
                                    "TotalSales": "117553.75"
                                },
                                {
                                    "CityName": "Amanda Park",
                                    "NumberOfOrders": "105",
                                    "TotalSales": "117443.85"
                                },
                                {
                                    "CityName": "Sallyards",
                                    "NumberOfOrders": "115",
                                    "TotalSales": "117370.80"
                                },
                                {
                                    "CityName": "Lake Hughes",
                                    "NumberOfOrders": "104",
                                    "TotalSales": "116693.60"
                                },
                                {
                                    "CityName": "Fishtail",
                                    "NumberOfOrders": "96",
                                    "TotalSales": "116578.55"
                                },
                                {
                                    "CityName": "Liberty Grove",
                                    "NumberOfOrders": "112",
                                    "TotalSales": "116576.10"
                                },
                                {
                                    "CityName": "McQueen",
                                    "NumberOfOrders": "94",
                                    "TotalSales": "116541.45"
                                },
                                {
                                    "CityName": "Rail Road Flat",
                                    "NumberOfOrders": "111",
                                    "TotalSales": "116463.05"
                                },
                                {
                                    "CityName": "Delray",
                                    "NumberOfOrders": "106",
                                    "TotalSales": "116397.10"
                                },
                                {
                                    "CityName": "Sherwin",
                                    "NumberOfOrders": "92",
                                    "TotalSales": "116261.95"
                                },
                                {
                                    "CityName": "Hiteman",
                                    "NumberOfOrders": "104",
                                    "TotalSales": "116166.95"
                                },
                                {
                                    "CityName": "Stanardsville",
                                    "NumberOfOrders": "107",
                                    "TotalSales": "115953.90"
                                },
                                {
                                    "CityName": "Nitro",
                                    "NumberOfOrders": "111",
                                    "TotalSales": "115834.40"
                                },
                                {
                                    "CityName": "Lowellville",
                                    "NumberOfOrders": "105",
                                    "TotalSales": "115586.15"
                                },
                                {
                                    "CityName": "Yewed",
                                    "NumberOfOrders": "105",
                                    "TotalSales": "115560.10"
                                },
                                {
                                    "CityName": "Caton",
                                    "NumberOfOrders": "92",
                                    "TotalSales": "115134.00"
                                },
                                {
                                    "CityName": "McAdenville",
                                    "NumberOfOrders": "101",
                                    "TotalSales": "115012.20"
                                },
                                {
                                    "CityName": "Valley View Park",
                                    "NumberOfOrders": "123",
                                    "TotalSales": "115000.40"
                                },
                                {
                                    "CityName": "Sun River",
                                    "NumberOfOrders": "97",
                                    "TotalSales": "114734.00"
                                },
                                {
                                    "CityName": "New Zion",
                                    "NumberOfOrders": "95",
                                    "TotalSales": "114593.70"
                                },
                                {
                                    "CityName": "Hollywood Park",
                                    "NumberOfOrders": "100",
                                    "TotalSales": "114356.75"
                                },
                                {
                                    "CityName": "Panton",
                                    "NumberOfOrders": "116",
                                    "TotalSales": "114255.00"
                                },
                                {
                                    "CityName": "Nesmith",
                                    "NumberOfOrders": "94",
                                    "TotalSales": "114244.40"
                                },
                                {
                                    "CityName": "Byers",
                                    "NumberOfOrders": "96",
                                    "TotalSales": "113825.15"
                                },
                                {
                                    "CityName": "Universal City",
                                    "NumberOfOrders": "96",
                                    "TotalSales": "113570.10"
                                },
                                {
                                    "CityName": "Darling",
                                    "NumberOfOrders": "109",
                                    "TotalSales": "113496.30"
                                },
                                {
                                    "CityName": "North Eastham",
                                    "NumberOfOrders": "101",
                                    "TotalSales": "113418.55"
                                },
                                {
                                    "CityName": "Corfu",
                                    "NumberOfOrders": "118",
                                    "TotalSales": "113077.20"
                                },
                                {
                                    "CityName": "Antonito",
                                    "NumberOfOrders": "103",
                                    "TotalSales": "113055.75"
                                },
                                {
                                    "CityName": "Balko",
                                    "NumberOfOrders": "104",
                                    "TotalSales": "112876.85"
                                },
                                {
                                    "CityName": "North Manitou",
                                    "NumberOfOrders": "92",
                                    "TotalSales": "112777.85"
                                },
                                {
                                    "CityName": "Arrow Rock",
                                    "NumberOfOrders": "115",
                                    "TotalSales": "112614.15"
                                },
                                {
                                    "CityName": "Jolley",
                                    "NumberOfOrders": "124",
                                    "TotalSales": "112551.95"
                                },
                                {
                                    "CityName": "Royal City",
                                    "NumberOfOrders": "109",
                                    "TotalSales": "112333.00"
                                },
                                {
                                    "CityName": "Drakesboro",
                                    "NumberOfOrders": "92",
                                    "TotalSales": "112269.85"
                                },
                                {
                                    "CityName": "Chetek",
                                    "NumberOfOrders": "103",
                                    "TotalSales": "111994.20"
                                },
                                {
                                    "CityName": "East Mountain",
                                    "NumberOfOrders": "103",
                                    "TotalSales": "111951.85"
                                },
                                {
                                    "CityName": "Lucasville",
                                    "NumberOfOrders": "120",
                                    "TotalSales": "111879.20"
                                },
                                {
                                    "CityName": "Bow Mar",
                                    "NumberOfOrders": "103",
                                    "TotalSales": "111854.10"
                                },
                                {
                                    "CityName": "Sylvanite",
                                    "NumberOfOrders": "116",
                                    "TotalSales": "111657.30"
                                },
                                {
                                    "CityName": "Wells",
                                    "NumberOfOrders": "98",
                                    "TotalSales": "111631.30"
                                },
                                {
                                    "CityName": "Gardners",
                                    "NumberOfOrders": "108",
                                    "TotalSales": "111629.75"
                                },
                                {
                                    "CityName": "Greycliff",
                                    "NumberOfOrders": "95",
                                    "TotalSales": "111533.95"
                                },
                                {
                                    "CityName": "Tomnolen",
                                    "NumberOfOrders": "98",
                                    "TotalSales": "111283.80"
                                },
                                {
                                    "CityName": "Penns Creek",
                                    "NumberOfOrders": "102",
                                    "TotalSales": "111057.45"
                                },
                                {
                                    "CityName": "Railroad",
                                    "NumberOfOrders": "109",
                                    "TotalSales": "111047.10"
                                },
                                {
                                    "CityName": "Lakemore",
                                    "NumberOfOrders": "99",
                                    "TotalSales": "110790.85"
                                },
                                {
                                    "CityName": "Wounded Knee",
                                    "NumberOfOrders": "102",
                                    "TotalSales": "110603.45"
                                },
                                {
                                    "CityName": "Compass Lake",
                                    "NumberOfOrders": "106",
                                    "TotalSales": "110586.05"
                                },
                                {
                                    "CityName": "Muir",
                                    "NumberOfOrders": "104",
                                    "TotalSales": "110474.00"
                                },
                                {
                                    "CityName": "East Dailey",
                                    "NumberOfOrders": "95",
                                    "TotalSales": "110298.65"
                                },
                                {
                                    "CityName": "Glancy",
                                    "NumberOfOrders": "93",
                                    "TotalSales": "109942.15"
                                },
                                {
                                    "CityName": "Mount Pocono",
                                    "NumberOfOrders": "100",
                                    "TotalSales": "109130.85"
                                },
                                {
                                    "CityName": "Eden Valley",
                                    "NumberOfOrders": "100",
                                    "TotalSales": "109091.10"
                                },
                                {
                                    "CityName": "Great Neck Estates",
                                    "NumberOfOrders": "95",
                                    "TotalSales": "109058.65"
                                },
                                {
                                    "CityName": "Dickworsham",
                                    "NumberOfOrders": "104",
                                    "TotalSales": "108949.90"
                                },
                                {
                                    "CityName": "Ikatan",
                                    "NumberOfOrders": "104",
                                    "TotalSales": "108890.95"
                                },
                                {
                                    "CityName": "Conewango",
                                    "NumberOfOrders": "98",
                                    "TotalSales": "108791.00"
                                },
                                {
                                    "CityName": "Bladenboro",
                                    "NumberOfOrders": "89",
                                    "TotalSales": "108668.30"
                                },
                                {
                                    "CityName": "Dillon",
                                    "NumberOfOrders": "94",
                                    "TotalSales": "108627.65"
                                },
                                {
                                    "CityName": "Edmund",
                                    "NumberOfOrders": "98",
                                    "TotalSales": "108376.50"
                                },
                                {
                                    "CityName": "Gassaway",
                                    "NumberOfOrders": "96",
                                    "TotalSales": "108256.45"
                                },
                                {
                                    "CityName": "Corryton",
                                    "NumberOfOrders": "87",
                                    "TotalSales": "108148.60"
                                },
                                {
                                    "CityName": "College Place",
                                    "NumberOfOrders": "96",
                                    "TotalSales": "108121.45"
                                },
                                {
                                    "CityName": "Otterville",
                                    "NumberOfOrders": "82",
                                    "TotalSales": "107941.70"
                                },
                                {
                                    "CityName": "Baldwin City",
                                    "NumberOfOrders": "98",
                                    "TotalSales": "107879.30"
                                },
                                {
                                    "CityName": "Dickerson",
                                    "NumberOfOrders": "102",
                                    "TotalSales": "107872.45"
                                },
                                {
                                    "CityName": "Soham",
                                    "NumberOfOrders": "90",
                                    "TotalSales": "107861.65"
                                },
                                {
                                    "CityName": "Lemeta",
                                    "NumberOfOrders": "103",
                                    "TotalSales": "107820.85"
                                },
                                {
                                    "CityName": "Fairfield Glade",
                                    "NumberOfOrders": "104",
                                    "TotalSales": "107394.45"
                                },
                                {
                                    "CityName": "Corcovado",
                                    "NumberOfOrders": "104",
                                    "TotalSales": "107209.30"
                                },
                                {
                                    "CityName": "Del Valle",
                                    "NumberOfOrders": "100",
                                    "TotalSales": "107126.30"
                                },
                                {
                                    "CityName": "Stonefort",
                                    "NumberOfOrders": "86",
                                    "TotalSales": "107056.50"
                                },
                                {
                                    "CityName": "Crossroads",
                                    "NumberOfOrders": "97",
                                    "TotalSales": "107036.10"
                                },
                                {
                                    "CityName": "Tunnelhill",
                                    "NumberOfOrders": "104",
                                    "TotalSales": "107003.75"
                                },
                                {
                                    "CityName": "Naples Park",
                                    "NumberOfOrders": "99",
                                    "TotalSales": "106233.60"
                                },
                                {
                                    "CityName": "Helotes",
                                    "NumberOfOrders": "105",
                                    "TotalSales": "106206.75"
                                },
                                {
                                    "CityName": "Alstead",
                                    "NumberOfOrders": "91",
                                    "TotalSales": "106146.95"
                                },
                                {
                                    "CityName": "El Refugio",
                                    "NumberOfOrders": "102",
                                    "TotalSales": "105898.05"
                                },
                                {
                                    "CityName": "Greenback",
                                    "NumberOfOrders": "95",
                                    "TotalSales": "105665.45"
                                },
                                {
                                    "CityName": "Beaver Bay",
                                    "NumberOfOrders": "103",
                                    "TotalSales": "105630.80"
                                },
                                {
                                    "CityName": "Oley",
                                    "NumberOfOrders": "100",
                                    "TotalSales": "105463.40"
                                },
                                {
                                    "CityName": "Jesmond Dene",
                                    "NumberOfOrders": "100",
                                    "TotalSales": "105012.05"
                                },
                                {
                                    "CityName": "Ekron",
                                    "NumberOfOrders": "111",
                                    "TotalSales": "104970.80"
                                },
                                {
                                    "CityName": "Calvert City",
                                    "NumberOfOrders": "103",
                                    "TotalSales": "104742.45"
                                },
                                {
                                    "CityName": "Saint Landry",
                                    "NumberOfOrders": "105",
                                    "TotalSales": "104707.05"
                                },
                                {
                                    "CityName": "Lostine",
                                    "NumberOfOrders": "100",
                                    "TotalSales": "104496.80"
                                },
                                {
                                    "CityName": "Munich",
                                    "NumberOfOrders": "98",
                                    "TotalSales": "104139.75"
                                },
                                {
                                    "CityName": "Port Alto",
                                    "NumberOfOrders": "111",
                                    "TotalSales": "103526.70"
                                },
                                {
                                    "CityName": "Wallagrass",
                                    "NumberOfOrders": "110",
                                    "TotalSales": "102807.15"
                                },
                                {
                                    "CityName": "Morita",
                                    "NumberOfOrders": "94",
                                    "TotalSales": "102264.70"
                                },
                                {
                                    "CityName": "Ward Ridge",
                                    "NumberOfOrders": "92",
                                    "TotalSales": "101890.00"
                                },
                                {
                                    "CityName": "San Acacia",
                                    "NumberOfOrders": "101",
                                    "TotalSales": "101532.60"
                                },
                                {
                                    "CityName": "Dundarrach",
                                    "NumberOfOrders": "102",
                                    "TotalSales": "101523.50"
                                },
                                {
                                    "CityName": "Port Chilkoot",
                                    "NumberOfOrders": "97",
                                    "TotalSales": "101489.70"
                                },
                                {
                                    "CityName": "Francis Mills",
                                    "NumberOfOrders": "92",
                                    "TotalSales": "101180.50"
                                },
                                {
                                    "CityName": "Mount Summit",
                                    "NumberOfOrders": "102",
                                    "TotalSales": "101096.55"
                                },
                                {
                                    "CityName": "Kinder",
                                    "NumberOfOrders": "89",
                                    "TotalSales": "100844.95"
                                },
                                {
                                    "CityName": "Miesville",
                                    "NumberOfOrders": "115",
                                    "TotalSales": "100442.30"
                                },
                                {
                                    "CityName": "Phelps City",
                                    "NumberOfOrders": "107",
                                    "TotalSales": "100240.55"
                                },
                                {
                                    "CityName": "Jeromesville",
                                    "NumberOfOrders": "95",
                                    "TotalSales": "99870.70"
                                },
                                {
                                    "CityName": "Morton Grove",
                                    "NumberOfOrders": "80",
                                    "TotalSales": "99574.00"
                                },
                                {
                                    "CityName": "Claremont",
                                    "NumberOfOrders": "77",
                                    "TotalSales": "98428.20"
                                },
                                {
                                    "CityName": "New Laguna",
                                    "NumberOfOrders": "103",
                                    "TotalSales": "98285.15"
                                },
                                {
                                    "CityName": "Chaseley",
                                    "NumberOfOrders": "95",
                                    "TotalSales": "97537.85"
                                },
                                {
                                    "CityName": "Madaket",
                                    "NumberOfOrders": "91",
                                    "TotalSales": "97093.35"
                                },
                                {
                                    "CityName": "Ovilla",
                                    "NumberOfOrders": "100",
                                    "TotalSales": "96821.35"
                                },
                                {
                                    "CityName": "Cape Neddick",
                                    "NumberOfOrders": "111",
                                    "TotalSales": "96568.10"
                                },
                                {
                                    "CityName": "Portales",
                                    "NumberOfOrders": "106",
                                    "TotalSales": "96326.70"
                                },
                                {
                                    "CityName": "Heartwell",
                                    "NumberOfOrders": "96",
                                    "TotalSales": "96221.55"
                                },
                                {
                                    "CityName": "Westwater",
                                    "NumberOfOrders": "108",
                                    "TotalSales": "95000.30"
                                },
                                {
                                    "CityName": "Cherokee",
                                    "NumberOfOrders": "81",
                                    "TotalSales": "94923.15"
                                },
                                {
                                    "CityName": "Southside",
                                    "NumberOfOrders": "103",
                                    "TotalSales": "94851.60"
                                },
                                {
                                    "CityName": "Red Mesa",
                                    "NumberOfOrders": "88",
                                    "TotalSales": "94779.30"
                                },
                                {
                                    "CityName": "Dover",
                                    "NumberOfOrders": "73",
                                    "TotalSales": "93669.40"
                                },
                                {
                                    "CityName": "Brookville",
                                    "NumberOfOrders": "82",
                                    "TotalSales": "91030.90"
                                },
                                {
                                    "CityName": "Nuangola",
                                    "NumberOfOrders": "87",
                                    "TotalSales": "90534.30"
                                },
                                {
                                    "CityName": "Biorka",
                                    "NumberOfOrders": "85",
                                    "TotalSales": "90078.10"
                                },
                                {
                                    "CityName": "Zurich",
                                    "NumberOfOrders": "100",
                                    "TotalSales": "89137.80"
                                },
                                {
                                    "CityName": "Oriole Beach",
                                    "NumberOfOrders": "86",
                                    "TotalSales": "88623.85"
                                },
                                {
                                    "CityName": "Willow Valley",
                                    "NumberOfOrders": "91",
                                    "TotalSales": "88551.45"
                                },
                                {
                                    "CityName": "Magalia",
                                    "NumberOfOrders": "90",
                                    "TotalSales": "87739.50"
                                },
                                {
                                    "CityName": "Hanna",
                                    "NumberOfOrders": "85",
                                    "TotalSales": "86824.15"
                                },
                                {
                                    "CityName": "Ridgeway",
                                    "NumberOfOrders": "67",
                                    "TotalSales": "86318.10"
                                },
                                {
                                    "CityName": "Petronila",
                                    "NumberOfOrders": "89",
                                    "TotalSales": "85910.60"
                                },
                                {
                                    "CityName": "Gallipolis Ferry",
                                    "NumberOfOrders": "74",
                                    "TotalSales": "85593.55"
                                },
                                {
                                    "CityName": "Saxapahaw",
                                    "NumberOfOrders": "79",
                                    "TotalSales": "85465.60"
                                },
                                {
                                    "CityName": "Komalty",
                                    "NumberOfOrders": "69",
                                    "TotalSales": "84930.20"
                                },
                                {
                                    "CityName": "Basin",
                                    "NumberOfOrders": "46",
                                    "TotalSales": "84711.35"
                                },
                                {
                                    "CityName": "Moroni",
                                    "NumberOfOrders": "69",
                                    "TotalSales": "83120.15"
                                },
                                {
                                    "CityName": "Marin City",
                                    "NumberOfOrders": "92",
                                    "TotalSales": "82640.30"
                                },
                                {
                                    "CityName": "Biggs",
                                    "NumberOfOrders": "59",
                                    "TotalSales": "82191.05"
                                },
                                {
                                    "CityName": "Richland",
                                    "NumberOfOrders": "73",
                                    "TotalSales": "79983.60"
                                },
                                {
                                    "CityName": "Ravia",
                                    "NumberOfOrders": "65",
                                    "TotalSales": "74911.35"
                                },
                                {
                                    "CityName": "La Grange Park",
                                    "NumberOfOrders": "76",
                                    "TotalSales": "74358.60"
                                },
                                {
                                    "CityName": "Staley",
                                    "NumberOfOrders": "76",
                                    "TotalSales": "74043.85"
                                },
                                {
                                    "CityName": "Cherryplain",
                                    "NumberOfOrders": "73",
                                    "TotalSales": "73964.25"
                                },
                                {
                                    "CityName": "Nicholson",
                                    "NumberOfOrders": "54",
                                    "TotalSales": "71694.05"
                                },
                                {
                                    "CityName": "Ashland",
                                    "NumberOfOrders": "55",
                                    "TotalSales": "71015.30"
                                },
                                {
                                    "CityName": "Colebrook",
                                    "NumberOfOrders": "52",
                                    "TotalSales": "70742.95"
                                },
                                {
                                    "CityName": "Scioto Furnace",
                                    "NumberOfOrders": "76",
                                    "TotalSales": "68536.60"
                                },
                                {
                                    "CityName": "Wray",
                                    "NumberOfOrders": "68",
                                    "TotalSales": "65278.45"
                                },
                                {
                                    "CityName": "Wright City",
                                    "NumberOfOrders": "52",
                                    "TotalSales": "64301.30"
                                },
                                {
                                    "CityName": "Scott",
                                    "NumberOfOrders": "55",
                                    "TotalSales": "59324.10"
                                },
                                {
                                    "CityName": "Florahome",
                                    "NumberOfOrders": "47",
                                    "TotalSales": "56152.35"
                                },
                                {
                                    "CityName": "Tremont",
                                    "NumberOfOrders": "48",
                                    "TotalSales": "55050.85"
                                },
                                {
                                    "CityName": "Great Neck",
                                    "NumberOfOrders": "36",
                                    "TotalSales": "52777.35"
                                },
                                {
                                    "CityName": "Tarzan",
                                    "NumberOfOrders": "50",
                                    "TotalSales": "50087.60"
                                },
                                {
                                    "CityName": "Lake Mohegan",
                                    "NumberOfOrders": "49",
                                    "TotalSales": "49274.80"
                                },
                                {
                                    "CityName": "Meaux",
                                    "NumberOfOrders": "42",
                                    "TotalSales": "43696.05"
                                },
                                {
                                    "CityName": "Roberta Mill",
                                    "NumberOfOrders": "24",
                                    "TotalSales": "31628.55"
                                },
                                {
                                    "CityName": "Liberty Plain",
                                    "NumberOfOrders": "28",
                                    "TotalSales": "30242.95"
                                },
                                {
                                    "CityName": "Sigel",
                                    "NumberOfOrders": "14",
                                    "TotalSales": "30093.40"
                                },
                                {
                                    "CityName": "Walker Valley",
                                    "NumberOfOrders": "20",
                                    "TotalSales": "28603.90"
                                },
                                {
                                    "CityName": "Lancaster",
                                    "NumberOfOrders": "27",
                                    "TotalSales": "25311.75"
                                },
                                {
                                    "CityName": "Rogersville",
                                    "NumberOfOrders": "26",
                                    "TotalSales": "25174.90"
                                },
                                {
                                    "CityName": "Orland Hills",
                                    "NumberOfOrders": "18",
                                    "TotalSales": "23076.45"
                                },
                                {
                                    "CityName": "Yampa",
                                    "NumberOfOrders": "26",
                                    "TotalSales": "22256.80"
                                },
                                {
                                    "CityName": "Bowmansville",
                                    "NumberOfOrders": "13",
                                    "TotalSales": "20541.30"
                                },
                                {
                                    "CityName": "Linden",
                                    "NumberOfOrders": "23",
                                    "TotalSales": "19605.20"
                                },
                                {
                                    "CityName": "Long Beach",
                                    "NumberOfOrders": "9",
                                    "TotalSales": "10154.85"
                                },
                                {
                                    "CityName": "Ellisville",
                                    "NumberOfOrders": "8",
                                    "TotalSales": "6332.80"
                                },
                                {
                                    "CityName": "Midland",
                                    "NumberOfOrders": "4",
                                    "TotalSales": "3260.40"
                                }
                            ]
                        },
                        "text/html": [
                            "<table>",
                            "<tr><th>CityName</th><th>NumberOfOrders</th><th>TotalSales</th></tr>",
                            "<tr><td>Sinclair</td><td>234</td><td>288943.40</td></tr>",
                            "<tr><td>East Fultonham</td><td>226</td><td>280544.80</td></tr>",
                            "<tr><td>Teutopolis</td><td>213</td><td>268520.65</td></tr>",
                            "<tr><td>Akhiok</td><td>222</td><td>259554.30</td></tr>",
                            "<tr><td>Cherry Grove Beach</td><td>210</td><td>257902.75</td></tr>",
                            "<tr><td>Rockwall</td><td>207</td><td>253225.35</td></tr>",
                            "<tr><td>Inguadona</td><td>126</td><td>189277.45</td></tr>",
                            "<tr><td>Trilby</td><td>135</td><td>189239.35</td></tr>",
                            "<tr><td>Sarversville</td><td>136</td><td>188919.75</td></tr>",
                            "<tr><td>Minidoka</td><td>125</td><td>185432.55</td></tr>",
                            "<tr><td>San Jacinto</td><td>125</td><td>185158.65</td></tr>",
                            "<tr><td>Mary Esther</td><td>124</td><td>181555.60</td></tr>",
                            "<tr><td>Grabill</td><td>120</td><td>180712.10</td></tr>",
                            "<tr><td>Dry Run</td><td>120</td><td>179484.75</td></tr>",
                            "<tr><td>Cuyamungue</td><td>125</td><td>178329.95</td></tr>",
                            "<tr><td>Jones Creek</td><td>114</td><td>178316.20</td></tr>",
                            "<tr><td>West Frostproof</td><td>131</td><td>177147.55</td></tr>",
                            "<tr><td>Meadowdale</td><td>109</td><td>176754.05</td></tr>",
                            "<tr><td>Long Meadow</td><td>117</td><td>174221.40</td></tr>",
                            "<tr><td>Abbottsburg</td><td>120</td><td>173946.95</td></tr>",
                            "<tr><td>Mamou</td><td>120</td><td>173490.95</td></tr>",
                            "<tr><td>Good Hart</td><td>120</td><td>172888.50</td></tr>",
                            "<tr><td>North Eaton</td><td>115</td><td>172559.80</td></tr>",
                            "<tr><td>Bourneville</td><td>131</td><td>172196.60</td></tr>",
                            "<tr><td>Dorchester</td><td>127</td><td>172153.50</td></tr>",
                            "<tr><td>Marion Hill</td><td>108</td><td>172134.75</td></tr>",
                            "<tr><td>Buell</td><td>120</td><td>172009.30</td></tr>",
                            "<tr><td>Morrison Bluff</td><td>113</td><td>171513.35</td></tr>",
                            "<tr><td>Homer City</td><td>116</td><td>169988.10</td></tr>",
                            "<tr><td>Big Moose</td><td>118</td><td>168926.20</td></tr>",
                            "<tr><td>Vidrine</td><td>129</td><td>168068.00</td></tr>",
                            "<tr><td>Haycock</td><td>125</td><td>167999.45</td></tr>",
                            "<tr><td>Mickleton</td><td>121</td><td>167186.90</td></tr>",
                            "<tr><td>Maypearl</td><td>135</td><td>166381.00</td></tr>",
                            "<tr><td>Esopus</td><td>113</td><td>165558.35</td></tr>",
                            "<tr><td>North Brookfield</td><td>117</td><td>165285.95</td></tr>",
                            "<tr><td>Palatine Bridge</td><td>116</td><td>165158.95</td></tr>",
                            "<tr><td>Truscott</td><td>120</td><td>164996.10</td></tr>",
                            "<tr><td>Isabela</td><td>140</td><td>164817.40</td></tr>",
                            "<tr><td>Lilbourn</td><td>122</td><td>164359.85</td></tr>",
                            "<tr><td>Lake Clarke Shores</td><td>135</td><td>164320.25</td></tr>",
                            "<tr><td>Montoya</td><td>109</td><td>163976.45</td></tr>",
                            "<tr><td>Fieldbrook</td><td>130</td><td>163720.60</td></tr>",
                            "<tr><td>Wapinitia</td><td>109</td><td>163084.60</td></tr>",
                            "<tr><td>Stoneboro</td><td>111</td><td>162983.90</td></tr>",
                            "<tr><td>Rich Creek</td><td>123</td><td>162953.15</td></tr>",
                            "<tr><td>Bethania</td><td>121</td><td>162702.70</td></tr>",
                            "<tr><td>Airport Drive</td><td>126</td><td>162500.00</td></tr>",
                            "<tr><td>Omer</td><td>127</td><td>162328.05</td></tr>",
                            "<tr><td>Sentinel Butte</td><td>132</td><td>162170.40</td></tr>",
                            "<tr><td>Chalco</td><td>144</td><td>162122.45</td></tr>",
                            "<tr><td>Lynne</td><td>126</td><td>162102.15</td></tr>",
                            "<tr><td>Bokeelia</td><td>115</td><td>161973.85</td></tr>",
                            "<tr><td>Kapa&#39;a</td><td>132</td><td>161952.00</td></tr>",
                            "<tr><td>North Cowden</td><td>121</td><td>161912.45</td></tr>",
                            "<tr><td>Cheyenne Wells</td><td>116</td><td>161829.40</td></tr>",
                            "<tr><td>Knights Landing</td><td>125</td><td>161495.30</td></tr>",
                            "<tr><td>Eastchester</td><td>114</td><td>161317.55</td></tr>",
                            "<tr><td>Pharr</td><td>122</td><td>161301.70</td></tr>",
                            "<tr><td>Oak Point</td><td>111</td><td>161162.45</td></tr>",
                            "<tr><td>Sayner</td><td>117</td><td>161087.90</td></tr>",
                            "<tr><td>Deeson</td><td>119</td><td>160996.05</td></tr>",
                            "<tr><td>Leathersville</td><td>109</td><td>160957.35</td></tr>",
                            "<tr><td>Lesslie</td><td>129</td><td>160764.10</td></tr>",
                            "<tr><td>Peeples Valley</td><td>126</td><td>160693.15</td></tr>",
                            "<tr><td>Coffeyville</td><td>107</td><td>160497.85</td></tr>",
                            "<tr><td>North Beach Haven</td><td>122</td><td>160287.15</td></tr>",
                            "<tr><td>Caruthers</td><td>126</td><td>160276.05</td></tr>",
                            "<tr><td>Lake Davis</td><td>119</td><td>160181.60</td></tr>",
                            "<tr><td>Cuyahoga Heights</td><td>124</td><td>160080.80</td></tr>",
                            "<tr><td>Flowella</td><td>116</td><td>159902.60</td></tr>",
                            "<tr><td>Walapai</td><td>127</td><td>159775.05</td></tr>",
                            "<tr><td>Wapiti</td><td>128</td><td>159568.75</td></tr>",
                            "<tr><td>El Centro</td><td>118</td><td>159568.35</td></tr>",
                            "<tr><td>Devault</td><td>109</td><td>159433.75</td></tr>",
                            "<tr><td>Islip Terrace</td><td>124</td><td>159249.85</td></tr>",
                            "<tr><td>South Laguna</td><td>92</td><td>159068.00</td></tr>",
                            "<tr><td>Gum Branch</td><td>112</td><td>159060.50</td></tr>",
                            "<tr><td>Lake Erie Beach</td><td>120</td><td>158990.75</td></tr>",
                            "<tr><td>Switz City</td><td>123</td><td>158733.25</td></tr>",
                            "<tr><td>Tenstrike</td><td>113</td><td>158666.65</td></tr>",
                            "<tr><td>Brown City</td><td>110</td><td>158632.00</td></tr>",
                            "<tr><td>Idaho City</td><td>114</td><td>158276.65</td></tr>",
                            "<tr><td>Orrtanna</td><td>120</td><td>158133.45</td></tr>",
                            "<tr><td>Jamison</td><td>125</td><td>158097.55</td></tr>",
                            "<tr><td>Key Biscayne</td><td>128</td><td>157814.75</td></tr>",
                            "<tr><td>Accomac</td><td>112</td><td>157768.40</td></tr>",
                            "<tr><td>Lorentz</td><td>118</td><td>157720.50</td></tr>",
                            "<tr><td>Sauquoit</td><td>110</td><td>157561.10</td></tr>",
                            "<tr><td>Frankewing</td><td>129</td><td>156998.65</td></tr>",
                            "<tr><td>Harkers Island</td><td>132</td><td>156728.45</td></tr>",
                            "<tr><td>Trout Run</td><td>110</td><td>156492.05</td></tr>",
                            "<tr><td>Placer</td><td>125</td><td>156166.05</td></tr>",
                            "<tr><td>Sekiu</td><td>126</td><td>155986.45</td></tr>",
                            "<tr><td>Plaquemine</td><td>115</td><td>155913.25</td></tr>",
                            "<tr><td>Tuscaloosa</td><td>118</td><td>155844.05</td></tr>",
                            "<tr><td>Furley</td><td>124</td><td>155608.00</td></tr>",
                            "<tr><td>Lunds</td><td>135</td><td>155604.85</td></tr>",
                            "<tr><td>Queen Valley</td><td>122</td><td>155534.45</td></tr>",
                            "<tr><td>North Crows Nest</td><td>138</td><td>155296.05</td></tr>",
                            "<tr><td>Bruceton Mills</td><td>125</td><td>155148.45</td></tr>",
                            "<tr><td>Hayes Center</td><td>105</td><td>154878.60</td></tr>",
                            "<tr><td>Wimbledon</td><td>115</td><td>154719.15</td></tr>",
                            "<tr><td>Bernstein</td><td>121</td><td>154642.35</td></tr>",
                            "<tr><td>Cramerton</td><td>133</td><td>154599.00</td></tr>",
                            "<tr><td>Lake Ronkonkoma</td><td>115</td><td>154541.00</td></tr>",
                            "<tr><td>Schererville</td><td>111</td><td>154523.25</td></tr>",
                            "<tr><td>Indios</td><td>106</td><td>154280.70</td></tr>",
                            "<tr><td>Guin</td><td>117</td><td>154069.30</td></tr>",
                            "<tr><td>Newberg</td><td>106</td><td>153896.40</td></tr>",
                            "<tr><td>Batson</td><td>114</td><td>153860.50</td></tr>",
                            "<tr><td>Creelsboro</td><td>126</td><td>153617.00</td></tr>",
                            "<tr><td>La Bolt</td><td>139</td><td>153504.75</td></tr>",
                            "<tr><td>Indian Creek</td><td>123</td><td>153440.20</td></tr>",
                            "<tr><td>Madison Park</td><td>119</td><td>153360.35</td></tr>",
                            "<tr><td>Arrowhead Highlands</td><td>116</td><td>153284.90</td></tr>",
                            "<tr><td>Golden Meadow</td><td>136</td><td>153270.45</td></tr>",
                            "<tr><td>Lost River</td><td>117</td><td>153251.50</td></tr>",
                            "<tr><td>Hawarden</td><td>106</td><td>153205.70</td></tr>",
                            "<tr><td>Mahaffey</td><td>120</td><td>153005.20</td></tr>",
                            "<tr><td>Elk Garden</td><td>119</td><td>152930.55</td></tr>",
                            "<tr><td>Malott</td><td>110</td><td>152722.10</td></tr>",
                            "<tr><td>Belgreen</td><td>105</td><td>152717.35</td></tr>",
                            "<tr><td>Bombay Beach</td><td>122</td><td>152657.35</td></tr>",
                            "<tr><td>Lime Lake</td><td>108</td><td>152643.75</td></tr>",
                            "<tr><td>Shawboro</td><td>123</td><td>152576.35</td></tr>",
                            "<tr><td>Vassalboro</td><td>122</td><td>152527.65</td></tr>",
                            "<tr><td>Middleway</td><td>108</td><td>152493.90</td></tr>",
                            "<tr><td>New Plymouth</td><td>126</td><td>152415.50</td></tr>",
                            "<tr><td>Optimo</td><td>107</td><td>152211.95</td></tr>",
                            "<tr><td>Victory Gardens</td><td>120</td><td>152201.90</td></tr>",
                            "<tr><td>Alden Bridge</td><td>108</td><td>152137.85</td></tr>",
                            "<tr><td>McCamey</td><td>115</td><td>152101.15</td></tr>",
                            "<tr><td>Elkatawa</td><td>123</td><td>152092.65</td></tr>",
                            "<tr><td>Bourbonnais</td><td>137</td><td>151997.20</td></tr>",
                            "<tr><td>Connoquenessing</td><td>112</td><td>151695.15</td></tr>",
                            "<tr><td>Tea</td><td>108</td><td>151694.25</td></tr>",
                            "<tr><td>Venersborg</td><td>128</td><td>151581.15</td></tr>",
                            "<tr><td>New Lexington</td><td>108</td><td>151467.70</td></tr>",
                            "<tr><td>Coin</td><td>115</td><td>151413.70</td></tr>",
                            "<tr><td>Gresston</td><td>125</td><td>151304.70</td></tr>",
                            "<tr><td>Tolna</td><td>139</td><td>151137.60</td></tr>",
                            "<tr><td>Marcell</td><td>109</td><td>151007.45</td></tr>",
                            "<tr><td>Marcella</td><td>120</td><td>150882.60</td></tr>",
                            "<tr><td>Navassa</td><td>114</td><td>150841.40</td></tr>",
                            "<tr><td>Branson West</td><td>113</td><td>150821.40</td></tr>",
                            "<tr><td>Tschetter Colony</td><td>130</td><td>150752.45</td></tr>",
                            "<tr><td>White Horse Beach</td><td>93</td><td>150656.80</td></tr>",
                            "<tr><td>Impact</td><td>99</td><td>150593.50</td></tr>",
                            "<tr><td>Bowlus</td><td>113</td><td>150461.80</td></tr>",
                            "<tr><td>Boyden Arbor</td><td>112</td><td>149700.50</td></tr>",
                            "<tr><td>New Baden</td><td>135</td><td>149661.65</td></tr>",
                            "<tr><td>Haltom City</td><td>118</td><td>149578.15</td></tr>",
                            "<tr><td>Hanaford</td><td>127</td><td>149569.95</td></tr>",
                            "<tr><td>Slanesville</td><td>132</td><td>149362.65</td></tr>",
                            "<tr><td>Taft Heights</td><td>110</td><td>149214.45</td></tr>",
                            "<tr><td>Wanaque</td><td>114</td><td>149154.05</td></tr>",
                            "<tr><td>Bonner Springs</td><td>120</td><td>149077.25</td></tr>",
                            "<tr><td>Buchanan Lake Village</td><td>109</td><td>149008.10</td></tr>",
                            "<tr><td>Kerby</td><td>114</td><td>148915.45</td></tr>",
                            "<tr><td>Upper Preston</td><td>112</td><td>148768.80</td></tr>",
                            "<tr><td>Spillville</td><td>120</td><td>148749.00</td></tr>",
                            "<tr><td>Coupland</td><td>122</td><td>148075.95</td></tr>",
                            "<tr><td>Weigelstown</td><td>122</td><td>147901.35</td></tr>",
                            "<tr><td>Drumright</td><td>117</td><td>147879.80</td></tr>",
                            "<tr><td>Antares</td><td>109</td><td>147561.80</td></tr>",
                            "<tr><td>White Church</td><td>104</td><td>147500.00</td></tr>",
                            "<tr><td>Waite Hill</td><td>115</td><td>147484.10</td></tr>",
                            "<tr><td>Lisco</td><td>123</td><td>147225.15</td></tr>",
                            "<tr><td>Lompoc</td><td>125</td><td>147219.80</td></tr>",
                            "<tr><td>Mier</td><td>121</td><td>147100.15</td></tr>",
                            "<tr><td>Wappingers Falls</td><td>121</td><td>147073.60</td></tr>",
                            "<tr><td>Pikeview</td><td>109</td><td>146954.45</td></tr>",
                            "<tr><td>South La Paloma</td><td>106</td><td>146942.55</td></tr>",
                            "<tr><td>Glenwillow</td><td>102</td><td>146688.30</td></tr>",
                            "<tr><td>Orchard Hill</td><td>112</td><td>146626.30</td></tr>",
                            "<tr><td>Birds</td><td>102</td><td>146528.45</td></tr>",
                            "<tr><td>Koontzville</td><td>122</td><td>146448.20</td></tr>",
                            "<tr><td>Robertsburg</td><td>113</td><td>146416.15</td></tr>",
                            "<tr><td>Tumacacori</td><td>126</td><td>146390.35</td></tr>",
                            "<tr><td>Tierra Verde</td><td>133</td><td>146271.50</td></tr>",
                            "<tr><td>Elbing</td><td>120</td><td>146062.75</td></tr>",
                            "<tr><td>Valdese</td><td>118</td><td>145916.95</td></tr>",
                            "<tr><td>Harbour Pointe</td><td>113</td><td>145681.40</td></tr>",
                            "<tr><td>Ware Shoals</td><td>118</td><td>145610.10</td></tr>",
                            "<tr><td>Salt Wells</td><td>129</td><td>145529.05</td></tr>",
                            "<tr><td>Sea Island</td><td>129</td><td>144795.45</td></tr>",
                            "<tr><td>Ben Arnold</td><td>120</td><td>144661.20</td></tr>",
                            "<tr><td>Northrop</td><td>117</td><td>144631.45</td></tr>",
                            "<tr><td>Tolono</td><td>116</td><td>144606.40</td></tr>",
                            "<tr><td>Argusville</td><td>125</td><td>144584.40</td></tr>",
                            "<tr><td>Tavares</td><td>111</td><td>144512.10</td></tr>",
                            "<tr><td>Roe Park</td><td>113</td><td>144479.25</td></tr>",
                            "<tr><td>Capa</td><td>114</td><td>144394.70</td></tr>",
                            "<tr><td>Saks</td><td>120</td><td>144343.85</td></tr>",
                            "<tr><td>Roachtown</td><td>116</td><td>144329.70</td></tr>",
                            "<tr><td>Medicine Lodge</td><td>102</td><td>144168.85</td></tr>",
                            "<tr><td>Mashulaville</td><td>130</td><td>144145.85</td></tr>",
                            "<tr><td>East Portal</td><td>110</td><td>144079.95</td></tr>",
                            "<tr><td>Twodot</td><td>116</td><td>144068.35</td></tr>",
                            "<tr><td>Necedah</td><td>106</td><td>144015.00</td></tr>",
                            "<tr><td>Arietta</td><td>118</td><td>144000.65</td></tr>",
                            "<tr><td>Dunkerton</td><td>111</td><td>143812.85</td></tr>",
                            "<tr><td>Oakshade</td><td>97</td><td>143740.65</td></tr>",
                            "<tr><td>Dennis Acres</td><td>115</td><td>143665.40</td></tr>",
                            "<tr><td>Bowleys Quarters</td><td>105</td><td>143615.05</td></tr>",
                            "<tr><td>Severna Park</td><td>117</td><td>143589.05</td></tr>",
                            "<tr><td>The Colony</td><td>108</td><td>143532.60</td></tr>",
                            "<tr><td>Bergen Park</td><td>108</td><td>143408.05</td></tr>",
                            "<tr><td>Plata</td><td>110</td><td>143307.95</td></tr>",
                            "<tr><td>La Paz</td><td>111</td><td>143287.25</td></tr>",
                            "<tr><td>Arrowbear Lake</td><td>138</td><td>143197.70</td></tr>",
                            "<tr><td>Cavendish</td><td>117</td><td>143140.05</td></tr>",
                            "<tr><td>Eagle Valley</td><td>108</td><td>143133.30</td></tr>",
                            "<tr><td>Ekwok</td><td>109</td><td>142938.25</td></tr>",
                            "<tr><td>Grannis</td><td>103</td><td>142630.30</td></tr>",
                            "<tr><td>McClave</td><td>119</td><td>142618.85</td></tr>",
                            "<tr><td>Lake Stevens</td><td>112</td><td>142534.90</td></tr>",
                            "<tr><td>Bernardston</td><td>125</td><td>142461.45</td></tr>",
                            "<tr><td>Highland Home</td><td>108</td><td>142458.95</td></tr>",
                            "<tr><td>Spillertown</td><td>105</td><td>142390.80</td></tr>",
                            "<tr><td>Kalvesta</td><td>118</td><td>142347.90</td></tr>",
                            "<tr><td>Cataño</td><td>106</td><td>142294.05</td></tr>",
                            "<tr><td>Downingtown</td><td>104</td><td>142180.50</td></tr>",
                            "<tr><td>Mayhill</td><td>115</td><td>141999.55</td></tr>",
                            "<tr><td>Plum Branch</td><td>120</td><td>141939.05</td></tr>",
                            "<tr><td>Nehawka</td><td>127</td><td>141881.70</td></tr>",
                            "<tr><td>Manchester Center</td><td>120</td><td>141768.05</td></tr>",
                            "<tr><td>New Braintree</td><td>120</td><td>141734.55</td></tr>",
                            "<tr><td>Grider</td><td>120</td><td>141718.05</td></tr>",
                            "<tr><td>Tempe</td><td>113</td><td>141576.70</td></tr>",
                            "<tr><td>Mooringsport</td><td>114</td><td>141532.40</td></tr>",
                            "<tr><td>Coney Island</td><td>129</td><td>141311.95</td></tr>",
                            "<tr><td>Armstrong Creek</td><td>119</td><td>141152.90</td></tr>",
                            "<tr><td>Bazemore</td><td>101</td><td>141061.90</td></tr>",
                            "<tr><td>Catesby</td><td>118</td><td>140939.00</td></tr>",
                            "<tr><td>Trentwood</td><td>116</td><td>140910.80</td></tr>",
                            "<tr><td>Humansville</td><td>102</td><td>140728.55</td></tr>",
                            "<tr><td>Nahant</td><td>110</td><td>140694.05</td></tr>",
                            "<tr><td>Puerto de Luna</td><td>118</td><td>140603.85</td></tr>",
                            "<tr><td>Cortaro</td><td>106</td><td>140592.35</td></tr>",
                            "<tr><td>Rosa Sánchez</td><td>118</td><td>140471.80</td></tr>",
                            "<tr><td>Du Quoin</td><td>106</td><td>140232.80</td></tr>",
                            "<tr><td>North Ridge</td><td>119</td><td>140231.50</td></tr>",
                            "<tr><td>La Cueva</td><td>105</td><td>140130.40</td></tr>",
                            "<tr><td>Port Hueneme</td><td>107</td><td>140051.45</td></tr>",
                            "<tr><td>Bethel Acres</td><td>113</td><td>139914.70</td></tr>",
                            "<tr><td>Cale</td><td>108</td><td>139737.50</td></tr>",
                            "<tr><td>Yaak</td><td>120</td><td>139733.60</td></tr>",
                            "<tr><td>Shell</td><td>105</td><td>139728.10</td></tr>",
                            "<tr><td>Carbonville</td><td>106</td><td>139499.55</td></tr>",
                            "<tr><td>Annamoriah</td><td>109</td><td>139498.50</td></tr>",
                            "<tr><td>Point Roberts</td><td>105</td><td>139301.30</td></tr>",
                            "<tr><td>Aspen Park</td><td>113</td><td>139265.25</td></tr>",
                            "<tr><td>Paw Paw Lake</td><td>109</td><td>139137.75</td></tr>",
                            "<tr><td>Cache</td><td>118</td><td>139119.90</td></tr>",
                            "<tr><td>Fortville</td><td>112</td><td>139114.50</td></tr>",
                            "<tr><td>Tamora</td><td>110</td><td>138961.80</td></tr>",
                            "<tr><td>Mendoza</td><td>115</td><td>138887.55</td></tr>",
                            "<tr><td>Obetz</td><td>122</td><td>138861.85</td></tr>",
                            "<tr><td>Rose Tree</td><td>118</td><td>138841.85</td></tr>",
                            "<tr><td>Sabinsville</td><td>104</td><td>138802.65</td></tr>",
                            "<tr><td>Maple Shade</td><td>122</td><td>138794.65</td></tr>",
                            "<tr><td>Deer River</td><td>105</td><td>138778.80</td></tr>",
                            "<tr><td>Cadogan</td><td>106</td><td>138503.95</td></tr>",
                            "<tr><td>Ruthsburg</td><td>121</td><td>138216.00</td></tr>",
                            "<tr><td>Griswoldville</td><td>107</td><td>138180.45</td></tr>",
                            "<tr><td>Avenal</td><td>119</td><td>138042.35</td></tr>",
                            "<tr><td>Sans Souci</td><td>112</td><td>137950.55</td></tr>",
                            "<tr><td>Sandy Level</td><td>104</td><td>137904.80</td></tr>",
                            "<tr><td>Larose</td><td>108</td><td>137834.65</td></tr>",
                            "<tr><td>Termo</td><td>123</td><td>137828.65</td></tr>",
                            "<tr><td>Cypress Quarters</td><td>103</td><td>137554.75</td></tr>",
                            "<tr><td>Athol Springs</td><td>102</td><td>137447.55</td></tr>",
                            "<tr><td>Segundo</td><td>124</td><td>137445.65</td></tr>",
                            "<tr><td>Hambleton</td><td>106</td><td>137330.90</td></tr>",
                            "<tr><td>Greenfield</td><td>107</td><td>137259.30</td></tr>",
                            "<tr><td>Scofield</td><td>111</td><td>137248.10</td></tr>",
                            "<tr><td>Ewart</td><td>104</td><td>137237.75</td></tr>",
                            "<tr><td>Lexington Heights</td><td>100</td><td>137175.80</td></tr>",
                            "<tr><td>Cowlington</td><td>111</td><td>137151.30</td></tr>",
                            "<tr><td>Haddon Heights</td><td>114</td><td>137108.05</td></tr>",
                            "<tr><td>Raven</td><td>106</td><td>136761.45</td></tr>",
                            "<tr><td>Hardeeville</td><td>107</td><td>136725.80</td></tr>",
                            "<tr><td>Amado</td><td>118</td><td>136717.80</td></tr>",
                            "<tr><td>Lytle</td><td>115</td><td>136632.85</td></tr>",
                            "<tr><td>Mineral Hills</td><td>102</td><td>136618.65</td></tr>",
                            "<tr><td>Chateaugay</td><td>123</td><td>136594.10</td></tr>",
                            "<tr><td>Glen Avon</td><td>118</td><td>136495.95</td></tr>",
                            "<tr><td>Wyndham</td><td>109</td><td>136282.90</td></tr>",
                            "<tr><td>Glen Ullin</td><td>100</td><td>136250.45</td></tr>",
                            "<tr><td>Wasco</td><td>126</td><td>136235.05</td></tr>",
                            "<tr><td>Hanoverton</td><td>114</td><td>135912.95</td></tr>",
                            "<tr><td>McCammon</td><td>125</td><td>135454.05</td></tr>",
                            "<tr><td>Waycross</td><td>107</td><td>135407.30</td></tr>",
                            "<tr><td>King Cove</td><td>107</td><td>135396.85</td></tr>",
                            "<tr><td>Vamo</td><td>106</td><td>135324.20</td></tr>",
                            "<tr><td>Toughkenamon</td><td>96</td><td>135273.20</td></tr>",
                            "<tr><td>Ashtabula</td><td>132</td><td>135245.25</td></tr>",
                            "<tr><td>Gardere</td><td>122</td><td>135241.95</td></tr>",
                            "<tr><td>Holden Beach</td><td>90</td><td>135119.00</td></tr>",
                            "<tr><td>Arbor Vitae</td><td>105</td><td>135056.25</td></tr>",
                            "<tr><td>Floriston</td><td>108</td><td>134847.75</td></tr>",
                            "<tr><td>Netcong</td><td>104</td><td>134838.55</td></tr>",
                            "<tr><td>Bock</td><td>113</td><td>134818.50</td></tr>",
                            "<tr><td>Hightsville</td><td>119</td><td>134656.70</td></tr>",
                            "<tr><td>Windsor Locks</td><td>102</td><td>134625.25</td></tr>",
                            "<tr><td>Boalsburg</td><td>110</td><td>134587.75</td></tr>",
                            "<tr><td>Yermo</td><td>108</td><td>134563.80</td></tr>",
                            "<tr><td>Tooele</td><td>123</td><td>134510.65</td></tr>",
                            "<tr><td>Hedrick</td><td>118</td><td>134499.35</td></tr>",
                            "<tr><td>Licking</td><td>98</td><td>134393.30</td></tr>",
                            "<tr><td>Oakpark</td><td>112</td><td>134383.25</td></tr>",
                            "<tr><td>Karthaus</td><td>109</td><td>134318.05</td></tr>",
                            "<tr><td>Ortley Beach</td><td>108</td><td>134264.95</td></tr>",
                            "<tr><td>Vollmar</td><td>112</td><td>134086.70</td></tr>",
                            "<tr><td>Elrosa</td><td>107</td><td>133985.75</td></tr>",
                            "<tr><td>Garlin</td><td>101</td><td>133848.65</td></tr>",
                            "<tr><td>Glen Park</td><td>109</td><td>133795.05</td></tr>",
                            "<tr><td>Palmas del Mar</td><td>122</td><td>133765.10</td></tr>",
                            "<tr><td>Cylon</td><td>125</td><td>133740.55</td></tr>",
                            "<tr><td>Hodgdon</td><td>109</td><td>133564.55</td></tr>",
                            "<tr><td>Trumansburg</td><td>119</td><td>133555.00</td></tr>",
                            "<tr><td>Coker</td><td>117</td><td>133529.00</td></tr>",
                            "<tr><td>Manahawkin</td><td>113</td><td>133498.75</td></tr>",
                            "<tr><td>Cave Junction</td><td>89</td><td>133452.40</td></tr>",
                            "<tr><td>Black Lick</td><td>120</td><td>133294.95</td></tr>",
                            "<tr><td>Tilleda</td><td>112</td><td>133242.10</td></tr>",
                            "<tr><td>Cloquet</td><td>111</td><td>133066.05</td></tr>",
                            "<tr><td>Rothsville</td><td>99</td><td>133036.35</td></tr>",
                            "<tr><td>Mappsburg</td><td>106</td><td>133025.60</td></tr>",
                            "<tr><td>Copake</td><td>107</td><td>132972.45</td></tr>",
                            "<tr><td>Madrone</td><td>108</td><td>132933.95</td></tr>",
                            "<tr><td>Oconto Falls</td><td>112</td><td>132857.90</td></tr>",
                            "<tr><td>Silver Plume</td><td>116</td><td>132628.95</td></tr>",
                            "<tr><td>Keosauqua</td><td>114</td><td>132573.40</td></tr>",
                            "<tr><td>Statenville</td><td>116</td><td>132555.45</td></tr>",
                            "<tr><td>Philip</td><td>98</td><td>132530.65</td></tr>",
                            "<tr><td>Clewiston</td><td>100</td><td>132438.85</td></tr>",
                            "<tr><td>Boynton</td><td>108</td><td>132275.35</td></tr>",
                            "<tr><td>Nichols Hills</td><td>93</td><td>132229.80</td></tr>",
                            "<tr><td>Dracut</td><td>119</td><td>131971.55</td></tr>",
                            "<tr><td>Terre du Lac</td><td>117</td><td>131929.20</td></tr>",
                            "<tr><td>Gilford</td><td>121</td><td>131916.55</td></tr>",
                            "<tr><td>Cookietown</td><td>99</td><td>131889.50</td></tr>",
                            "<tr><td>Dahlia</td><td>110</td><td>131888.20</td></tr>",
                            "<tr><td>Bell Acres</td><td>99</td><td>131821.05</td></tr>",
                            "<tr><td>Watonga</td><td>122</td><td>131686.75</td></tr>",
                            "<tr><td>Rafael Capó</td><td>111</td><td>131548.50</td></tr>",
                            "<tr><td>Gasport</td><td>118</td><td>131528.05</td></tr>",
                            "<tr><td>Sunburg</td><td>114</td><td>131478.55</td></tr>",
                            "<tr><td>Orchard Mesa</td><td>113</td><td>131440.20</td></tr>",
                            "<tr><td>Huntington Woods</td><td>111</td><td>131201.05</td></tr>",
                            "<tr><td>Page City</td><td>125</td><td>131186.30</td></tr>",
                            "<tr><td>Haydenville</td><td>121</td><td>131099.95</td></tr>",
                            "<tr><td>Cloud Lake</td><td>116</td><td>131092.15</td></tr>",
                            "<tr><td>Conesus Lake</td><td>111</td><td>130977.65</td></tr>",
                            "<tr><td>Ewen</td><td>107</td><td>130747.70</td></tr>",
                            "<tr><td>Andrix</td><td>108</td><td>130710.00</td></tr>",
                            "<tr><td>Marfa</td><td>109</td><td>130622.90</td></tr>",
                            "<tr><td>Hollandsburg</td><td>116</td><td>130575.25</td></tr>",
                            "<tr><td>Nanafalia</td><td>91</td><td>130512.35</td></tr>",
                            "<tr><td>Bratt</td><td>106</td><td>130431.00</td></tr>",
                            "<tr><td>Jessie</td><td>110</td><td>130331.35</td></tr>",
                            "<tr><td>Cañon</td><td>112</td><td>130248.65</td></tr>",
                            "<tr><td>Goffstown</td><td>99</td><td>130167.00</td></tr>",
                            "<tr><td>Triadelphia</td><td>103</td><td>130005.80</td></tr>",
                            "<tr><td>Oologah</td><td>119</td><td>129956.30</td></tr>",
                            "<tr><td>Laurence Harbor</td><td>101</td><td>129938.45</td></tr>",
                            "<tr><td>Herlong</td><td>105</td><td>129738.90</td></tr>",
                            "<tr><td>Branchburg Park</td><td>111</td><td>129663.25</td></tr>",
                            "<tr><td>Cundiyo</td><td>111</td><td>129629.90</td></tr>",
                            "<tr><td>Frenchburg</td><td>119</td><td>129420.85</td></tr>",
                            "<tr><td>Lytle Creek</td><td>110</td><td>129388.15</td></tr>",
                            "<tr><td>Absecon</td><td>103</td><td>129358.35</td></tr>",
                            "<tr><td>Lake Crystal</td><td>119</td><td>129356.55</td></tr>",
                            "<tr><td>Old River-Winfree</td><td>109</td><td>129076.05</td></tr>",
                            "<tr><td>Idria</td><td>115</td><td>129008.75</td></tr>",
                            "<tr><td>Johnetta</td><td>115</td><td>128829.60</td></tr>",
                            "<tr><td>Robertsdale</td><td>115</td><td>128759.80</td></tr>",
                            "<tr><td>Knifley</td><td>110</td><td>128754.85</td></tr>",
                            "<tr><td>Tiff City</td><td>96</td><td>128600.30</td></tr>",
                            "<tr><td>Kopperl</td><td>105</td><td>128367.35</td></tr>",
                            "<tr><td>Ridgemark</td><td>109</td><td>128275.05</td></tr>",
                            "<tr><td>Flomaton</td><td>94</td><td>128217.90</td></tr>",
                            "<tr><td>Twin Peaks</td><td>116</td><td>128212.70</td></tr>",
                            "<tr><td>Asher</td><td>109</td><td>128209.55</td></tr>",
                            "<tr><td>Kannapolis</td><td>100</td><td>128158.65</td></tr>",
                            "<tr><td>Gargatha</td><td>101</td><td>128123.30</td></tr>",
                            "<tr><td>Golf View</td><td>102</td><td>128013.00</td></tr>",
                            "<tr><td>Bernie</td><td>106</td><td>127832.05</td></tr>",
                            "<tr><td>Cotuit</td><td>111</td><td>127596.40</td></tr>",
                            "<tr><td>Markville</td><td>103</td><td>127500.45</td></tr>",
                            "<tr><td>Alcester</td><td>107</td><td>127040.25</td></tr>",
                            "<tr><td>Elverson</td><td>112</td><td>126684.95</td></tr>",
                            "<tr><td>Federalsburg</td><td>132</td><td>126616.75</td></tr>",
                            "<tr><td>Shell Knob</td><td>110</td><td>126594.40</td></tr>",
                            "<tr><td>Imlaystown</td><td>114</td><td>126479.45</td></tr>",
                            "<tr><td>Obion</td><td>101</td><td>126434.95</td></tr>",
                            "<tr><td>Huntingburg</td><td>105</td><td>126292.70</td></tr>",
                            "<tr><td>Shay</td><td>113</td><td>126288.25</td></tr>",
                            "<tr><td>Howells</td><td>92</td><td>126279.05</td></tr>",
                            "<tr><td>McCall</td><td>117</td><td>126190.55</td></tr>",
                            "<tr><td>Stallion Springs</td><td>116</td><td>126043.45</td></tr>",
                            "<tr><td>Baraboo</td><td>97</td><td>125985.95</td></tr>",
                            "<tr><td>Verdery</td><td>108</td><td>125772.80</td></tr>",
                            "<tr><td>Coyville</td><td>103</td><td>125704.90</td></tr>",
                            "<tr><td>Marion Junction</td><td>112</td><td>125656.80</td></tr>",
                            "<tr><td>Kwethluk</td><td>126</td><td>125620.45</td></tr>",
                            "<tr><td>Towaco</td><td>103</td><td>125528.10</td></tr>",
                            "<tr><td>Iliamna</td><td>99</td><td>125525.90</td></tr>",
                            "<tr><td>Molalla</td><td>98</td><td>125516.15</td></tr>",
                            "<tr><td>Astor Park</td><td>109</td><td>125489.40</td></tr>",
                            "<tr><td>Valhalla</td><td>103</td><td>125340.55</td></tr>",
                            "<tr><td>Bozeman Hot Springs</td><td>115</td><td>125208.20</td></tr>",
                            "<tr><td>Edgartown</td><td>110</td><td>125136.05</td></tr>",
                            "<tr><td>Seiling</td><td>98</td><td>125037.50</td></tr>",
                            "<tr><td>Dacono</td><td>105</td><td>124873.95</td></tr>",
                            "<tr><td>Dawn</td><td>107</td><td>124733.60</td></tr>",
                            "<tr><td>Virgil</td><td>105</td><td>124512.35</td></tr>",
                            "<tr><td>Bayou Cane</td><td>116</td><td>124487.25</td></tr>",
                            "<tr><td>North Muskegon</td><td>87</td><td>124421.15</td></tr>",
                            "<tr><td>Shenorock</td><td>105</td><td>124378.80</td></tr>",
                            "<tr><td>Seagraves</td><td>106</td><td>124174.95</td></tr>",
                            "<tr><td>Biscay</td><td>99</td><td>124153.25</td></tr>",
                            "<tr><td>Mount Montgomery</td><td>105</td><td>124047.40</td></tr>",
                            "<tr><td>Edgecomb</td><td>104</td><td>123980.10</td></tr>",
                            "<tr><td>Cokato</td><td>90</td><td>123913.65</td></tr>",
                            "<tr><td>Tolchester Beach</td><td>112</td><td>123828.50</td></tr>",
                            "<tr><td>Reader</td><td>106</td><td>123812.20</td></tr>",
                            "<tr><td>Dallardsville</td><td>105</td><td>123802.55</td></tr>",
                            "<tr><td>Makoti</td><td>94</td><td>123619.15</td></tr>",
                            "<tr><td>Premont</td><td>116</td><td>123495.45</td></tr>",
                            "<tr><td>Bakers Mill</td><td>116</td><td>123291.50</td></tr>",
                            "<tr><td>Raton</td><td>111</td><td>123167.75</td></tr>",
                            "<tr><td>North York</td><td>109</td><td>123062.75</td></tr>",
                            "<tr><td>Wesson</td><td>106</td><td>122906.30</td></tr>",
                            "<tr><td>Marguerite</td><td>110</td><td>122791.60</td></tr>",
                            "<tr><td>Flanagan</td><td>110</td><td>122721.75</td></tr>",
                            "<tr><td>Orick</td><td>103</td><td>122582.80</td></tr>",
                            "<tr><td>Cos Cob</td><td>109</td><td>122531.50</td></tr>",
                            "<tr><td>West Elkton</td><td>121</td><td>122521.25</td></tr>",
                            "<tr><td>Caro</td><td>100</td><td>122452.15</td></tr>",
                            "<tr><td>Naches</td><td>86</td><td>122417.80</td></tr>",
                            "<tr><td>Jane</td><td>100</td><td>122194.05</td></tr>",
                            "<tr><td>Crary</td><td>96</td><td>122021.85</td></tr>",
                            "<tr><td>Berville</td><td>108</td><td>121945.45</td></tr>",
                            "<tr><td>Vair</td><td>112</td><td>121738.90</td></tr>",
                            "<tr><td>Grantsburg</td><td>95</td><td>121344.85</td></tr>",
                            "<tr><td>Tresckow</td><td>106</td><td>121217.15</td></tr>",
                            "<tr><td>Van Alstyne</td><td>109</td><td>121214.40</td></tr>",
                            "<tr><td>Orpha</td><td>105</td><td>121195.05</td></tr>",
                            "<tr><td>Diablock</td><td>85</td><td>121011.00</td></tr>",
                            "<tr><td>Pawlet</td><td>106</td><td>120990.25</td></tr>",
                            "<tr><td>Jemison</td><td>100</td><td>120939.50</td></tr>",
                            "<tr><td>Lavon</td><td>91</td><td>120914.25</td></tr>",
                            "<tr><td>Broomtown</td><td>116</td><td>120804.20</td></tr>",
                            "<tr><td>Hahira</td><td>113</td><td>120776.75</td></tr>",
                            "<tr><td>Schoharie</td><td>97</td><td>120705.75</td></tr>",
                            "<tr><td>Weld</td><td>101</td><td>120639.65</td></tr>",
                            "<tr><td>Chipita Park</td><td>108</td><td>120463.75</td></tr>",
                            "<tr><td>Bratenahl</td><td>103</td><td>120286.75</td></tr>",
                            "<tr><td>Heilwood</td><td>112</td><td>120216.45</td></tr>",
                            "<tr><td>Panaca</td><td>116</td><td>120120.10</td></tr>",
                            "<tr><td>South Euclid</td><td>123</td><td>119772.95</td></tr>",
                            "<tr><td>Oval</td><td>99</td><td>119670.50</td></tr>",
                            "<tr><td>Donner</td><td>104</td><td>119506.90</td></tr>",
                            "<tr><td>Smoot</td><td>108</td><td>119473.90</td></tr>",
                            "<tr><td>Topstone</td><td>113</td><td>119409.25</td></tr>",
                            "<tr><td>Skyway</td><td>116</td><td>119303.20</td></tr>",
                            "<tr><td>Aceitunas</td><td>103</td><td>119283.00</td></tr>",
                            "<tr><td>Wrangell</td><td>92</td><td>119154.95</td></tr>",
                            "<tr><td>West Hempstead</td><td>103</td><td>119124.30</td></tr>",
                            "<tr><td>Mauldin</td><td>114</td><td>119113.10</td></tr>",
                            "<tr><td>Pastura</td><td>98</td><td>119009.05</td></tr>",
                            "<tr><td>Caselton</td><td>116</td><td>118872.30</td></tr>",
                            "<tr><td>Nicasio</td><td>108</td><td>118823.60</td></tr>",
                            "<tr><td>Beekmantown</td><td>99</td><td>118800.95</td></tr>",
                            "<tr><td>Goodings Grove</td><td>101</td><td>118737.45</td></tr>",
                            "<tr><td>Yerington</td><td>86</td><td>118728.45</td></tr>",
                            "<tr><td>Coosa</td><td>113</td><td>118658.55</td></tr>",
                            "<tr><td>Saint Louis Park</td><td>107</td><td>118646.15</td></tr>",
                            "<tr><td>Wilkes-Barre</td><td>108</td><td>118413.85</td></tr>",
                            "<tr><td>Olivette</td><td>108</td><td>117975.00</td></tr>",
                            "<tr><td>Greig</td><td>105</td><td>117969.80</td></tr>",
                            "<tr><td>Beals</td><td>91</td><td>117941.90</td></tr>",
                            "<tr><td>Claycomo</td><td>109</td><td>117935.65</td></tr>",
                            "<tr><td>Blackville</td><td>105</td><td>117827.85</td></tr>",
                            "<tr><td>Moquino</td><td>112</td><td>117730.65</td></tr>",
                            "<tr><td>Eulaton</td><td>106</td><td>117716.55</td></tr>",
                            "<tr><td>Schaal</td><td>105</td><td>117676.60</td></tr>",
                            "<tr><td>Straughn</td><td>115</td><td>117556.85</td></tr>",
                            "<tr><td>Ferney</td><td>104</td><td>117553.75</td></tr>",
                            "<tr><td>Amanda Park</td><td>105</td><td>117443.85</td></tr>",
                            "<tr><td>Sallyards</td><td>115</td><td>117370.80</td></tr>",
                            "<tr><td>Lake Hughes</td><td>104</td><td>116693.60</td></tr>",
                            "<tr><td>Fishtail</td><td>96</td><td>116578.55</td></tr>",
                            "<tr><td>Liberty Grove</td><td>112</td><td>116576.10</td></tr>",
                            "<tr><td>McQueen</td><td>94</td><td>116541.45</td></tr>",
                            "<tr><td>Rail Road Flat</td><td>111</td><td>116463.05</td></tr>",
                            "<tr><td>Delray</td><td>106</td><td>116397.10</td></tr>",
                            "<tr><td>Sherwin</td><td>92</td><td>116261.95</td></tr>",
                            "<tr><td>Hiteman</td><td>104</td><td>116166.95</td></tr>",
                            "<tr><td>Stanardsville</td><td>107</td><td>115953.90</td></tr>",
                            "<tr><td>Nitro</td><td>111</td><td>115834.40</td></tr>",
                            "<tr><td>Lowellville</td><td>105</td><td>115586.15</td></tr>",
                            "<tr><td>Yewed</td><td>105</td><td>115560.10</td></tr>",
                            "<tr><td>Caton</td><td>92</td><td>115134.00</td></tr>",
                            "<tr><td>McAdenville</td><td>101</td><td>115012.20</td></tr>",
                            "<tr><td>Valley View Park</td><td>123</td><td>115000.40</td></tr>",
                            "<tr><td>Sun River</td><td>97</td><td>114734.00</td></tr>",
                            "<tr><td>New Zion</td><td>95</td><td>114593.70</td></tr>",
                            "<tr><td>Hollywood Park</td><td>100</td><td>114356.75</td></tr>",
                            "<tr><td>Panton</td><td>116</td><td>114255.00</td></tr>",
                            "<tr><td>Nesmith</td><td>94</td><td>114244.40</td></tr>",
                            "<tr><td>Byers</td><td>96</td><td>113825.15</td></tr>",
                            "<tr><td>Universal City</td><td>96</td><td>113570.10</td></tr>",
                            "<tr><td>Darling</td><td>109</td><td>113496.30</td></tr>",
                            "<tr><td>North Eastham</td><td>101</td><td>113418.55</td></tr>",
                            "<tr><td>Corfu</td><td>118</td><td>113077.20</td></tr>",
                            "<tr><td>Antonito</td><td>103</td><td>113055.75</td></tr>",
                            "<tr><td>Balko</td><td>104</td><td>112876.85</td></tr>",
                            "<tr><td>North Manitou</td><td>92</td><td>112777.85</td></tr>",
                            "<tr><td>Arrow Rock</td><td>115</td><td>112614.15</td></tr>",
                            "<tr><td>Jolley</td><td>124</td><td>112551.95</td></tr>",
                            "<tr><td>Royal City</td><td>109</td><td>112333.00</td></tr>",
                            "<tr><td>Drakesboro</td><td>92</td><td>112269.85</td></tr>",
                            "<tr><td>Chetek</td><td>103</td><td>111994.20</td></tr>",
                            "<tr><td>East Mountain</td><td>103</td><td>111951.85</td></tr>",
                            "<tr><td>Lucasville</td><td>120</td><td>111879.20</td></tr>",
                            "<tr><td>Bow Mar</td><td>103</td><td>111854.10</td></tr>",
                            "<tr><td>Sylvanite</td><td>116</td><td>111657.30</td></tr>",
                            "<tr><td>Wells</td><td>98</td><td>111631.30</td></tr>",
                            "<tr><td>Gardners</td><td>108</td><td>111629.75</td></tr>",
                            "<tr><td>Greycliff</td><td>95</td><td>111533.95</td></tr>",
                            "<tr><td>Tomnolen</td><td>98</td><td>111283.80</td></tr>",
                            "<tr><td>Penns Creek</td><td>102</td><td>111057.45</td></tr>",
                            "<tr><td>Railroad</td><td>109</td><td>111047.10</td></tr>",
                            "<tr><td>Lakemore</td><td>99</td><td>110790.85</td></tr>",
                            "<tr><td>Wounded Knee</td><td>102</td><td>110603.45</td></tr>",
                            "<tr><td>Compass Lake</td><td>106</td><td>110586.05</td></tr>",
                            "<tr><td>Muir</td><td>104</td><td>110474.00</td></tr>",
                            "<tr><td>East Dailey</td><td>95</td><td>110298.65</td></tr>",
                            "<tr><td>Glancy</td><td>93</td><td>109942.15</td></tr>",
                            "<tr><td>Mount Pocono</td><td>100</td><td>109130.85</td></tr>",
                            "<tr><td>Eden Valley</td><td>100</td><td>109091.10</td></tr>",
                            "<tr><td>Great Neck Estates</td><td>95</td><td>109058.65</td></tr>",
                            "<tr><td>Dickworsham</td><td>104</td><td>108949.90</td></tr>",
                            "<tr><td>Ikatan</td><td>104</td><td>108890.95</td></tr>",
                            "<tr><td>Conewango</td><td>98</td><td>108791.00</td></tr>",
                            "<tr><td>Bladenboro</td><td>89</td><td>108668.30</td></tr>",
                            "<tr><td>Dillon</td><td>94</td><td>108627.65</td></tr>",
                            "<tr><td>Edmund</td><td>98</td><td>108376.50</td></tr>",
                            "<tr><td>Gassaway</td><td>96</td><td>108256.45</td></tr>",
                            "<tr><td>Corryton</td><td>87</td><td>108148.60</td></tr>",
                            "<tr><td>College Place</td><td>96</td><td>108121.45</td></tr>",
                            "<tr><td>Otterville</td><td>82</td><td>107941.70</td></tr>",
                            "<tr><td>Baldwin City</td><td>98</td><td>107879.30</td></tr>",
                            "<tr><td>Dickerson</td><td>102</td><td>107872.45</td></tr>",
                            "<tr><td>Soham</td><td>90</td><td>107861.65</td></tr>",
                            "<tr><td>Lemeta</td><td>103</td><td>107820.85</td></tr>",
                            "<tr><td>Fairfield Glade</td><td>104</td><td>107394.45</td></tr>",
                            "<tr><td>Corcovado</td><td>104</td><td>107209.30</td></tr>",
                            "<tr><td>Del Valle</td><td>100</td><td>107126.30</td></tr>",
                            "<tr><td>Stonefort</td><td>86</td><td>107056.50</td></tr>",
                            "<tr><td>Crossroads</td><td>97</td><td>107036.10</td></tr>",
                            "<tr><td>Tunnelhill</td><td>104</td><td>107003.75</td></tr>",
                            "<tr><td>Naples Park</td><td>99</td><td>106233.60</td></tr>",
                            "<tr><td>Helotes</td><td>105</td><td>106206.75</td></tr>",
                            "<tr><td>Alstead</td><td>91</td><td>106146.95</td></tr>",
                            "<tr><td>El Refugio</td><td>102</td><td>105898.05</td></tr>",
                            "<tr><td>Greenback</td><td>95</td><td>105665.45</td></tr>",
                            "<tr><td>Beaver Bay</td><td>103</td><td>105630.80</td></tr>",
                            "<tr><td>Oley</td><td>100</td><td>105463.40</td></tr>",
                            "<tr><td>Jesmond Dene</td><td>100</td><td>105012.05</td></tr>",
                            "<tr><td>Ekron</td><td>111</td><td>104970.80</td></tr>",
                            "<tr><td>Calvert City</td><td>103</td><td>104742.45</td></tr>",
                            "<tr><td>Saint Landry</td><td>105</td><td>104707.05</td></tr>",
                            "<tr><td>Lostine</td><td>100</td><td>104496.80</td></tr>",
                            "<tr><td>Munich</td><td>98</td><td>104139.75</td></tr>",
                            "<tr><td>Port Alto</td><td>111</td><td>103526.70</td></tr>",
                            "<tr><td>Wallagrass</td><td>110</td><td>102807.15</td></tr>",
                            "<tr><td>Morita</td><td>94</td><td>102264.70</td></tr>",
                            "<tr><td>Ward Ridge</td><td>92</td><td>101890.00</td></tr>",
                            "<tr><td>San Acacia</td><td>101</td><td>101532.60</td></tr>",
                            "<tr><td>Dundarrach</td><td>102</td><td>101523.50</td></tr>",
                            "<tr><td>Port Chilkoot</td><td>97</td><td>101489.70</td></tr>",
                            "<tr><td>Francis Mills</td><td>92</td><td>101180.50</td></tr>",
                            "<tr><td>Mount Summit</td><td>102</td><td>101096.55</td></tr>",
                            "<tr><td>Kinder</td><td>89</td><td>100844.95</td></tr>",
                            "<tr><td>Miesville</td><td>115</td><td>100442.30</td></tr>",
                            "<tr><td>Phelps City</td><td>107</td><td>100240.55</td></tr>",
                            "<tr><td>Jeromesville</td><td>95</td><td>99870.70</td></tr>",
                            "<tr><td>Morton Grove</td><td>80</td><td>99574.00</td></tr>",
                            "<tr><td>Claremont</td><td>77</td><td>98428.20</td></tr>",
                            "<tr><td>New Laguna</td><td>103</td><td>98285.15</td></tr>",
                            "<tr><td>Chaseley</td><td>95</td><td>97537.85</td></tr>",
                            "<tr><td>Madaket</td><td>91</td><td>97093.35</td></tr>",
                            "<tr><td>Ovilla</td><td>100</td><td>96821.35</td></tr>",
                            "<tr><td>Cape Neddick</td><td>111</td><td>96568.10</td></tr>",
                            "<tr><td>Portales</td><td>106</td><td>96326.70</td></tr>",
                            "<tr><td>Heartwell</td><td>96</td><td>96221.55</td></tr>",
                            "<tr><td>Westwater</td><td>108</td><td>95000.30</td></tr>",
                            "<tr><td>Cherokee</td><td>81</td><td>94923.15</td></tr>",
                            "<tr><td>Southside</td><td>103</td><td>94851.60</td></tr>",
                            "<tr><td>Red Mesa</td><td>88</td><td>94779.30</td></tr>",
                            "<tr><td>Dover</td><td>73</td><td>93669.40</td></tr>",
                            "<tr><td>Brookville</td><td>82</td><td>91030.90</td></tr>",
                            "<tr><td>Nuangola</td><td>87</td><td>90534.30</td></tr>",
                            "<tr><td>Biorka</td><td>85</td><td>90078.10</td></tr>",
                            "<tr><td>Zurich</td><td>100</td><td>89137.80</td></tr>",
                            "<tr><td>Oriole Beach</td><td>86</td><td>88623.85</td></tr>",
                            "<tr><td>Willow Valley</td><td>91</td><td>88551.45</td></tr>",
                            "<tr><td>Magalia</td><td>90</td><td>87739.50</td></tr>",
                            "<tr><td>Hanna</td><td>85</td><td>86824.15</td></tr>",
                            "<tr><td>Ridgeway</td><td>67</td><td>86318.10</td></tr>",
                            "<tr><td>Petronila</td><td>89</td><td>85910.60</td></tr>",
                            "<tr><td>Gallipolis Ferry</td><td>74</td><td>85593.55</td></tr>",
                            "<tr><td>Saxapahaw</td><td>79</td><td>85465.60</td></tr>",
                            "<tr><td>Komalty</td><td>69</td><td>84930.20</td></tr>",
                            "<tr><td>Basin</td><td>46</td><td>84711.35</td></tr>",
                            "<tr><td>Moroni</td><td>69</td><td>83120.15</td></tr>",
                            "<tr><td>Marin City</td><td>92</td><td>82640.30</td></tr>",
                            "<tr><td>Biggs</td><td>59</td><td>82191.05</td></tr>",
                            "<tr><td>Richland</td><td>73</td><td>79983.60</td></tr>",
                            "<tr><td>Ravia</td><td>65</td><td>74911.35</td></tr>",
                            "<tr><td>La Grange Park</td><td>76</td><td>74358.60</td></tr>",
                            "<tr><td>Staley</td><td>76</td><td>74043.85</td></tr>",
                            "<tr><td>Cherryplain</td><td>73</td><td>73964.25</td></tr>",
                            "<tr><td>Nicholson</td><td>54</td><td>71694.05</td></tr>",
                            "<tr><td>Ashland</td><td>55</td><td>71015.30</td></tr>",
                            "<tr><td>Colebrook</td><td>52</td><td>70742.95</td></tr>",
                            "<tr><td>Scioto Furnace</td><td>76</td><td>68536.60</td></tr>",
                            "<tr><td>Wray</td><td>68</td><td>65278.45</td></tr>",
                            "<tr><td>Wright City</td><td>52</td><td>64301.30</td></tr>",
                            "<tr><td>Scott</td><td>55</td><td>59324.10</td></tr>",
                            "<tr><td>Florahome</td><td>47</td><td>56152.35</td></tr>",
                            "<tr><td>Tremont</td><td>48</td><td>55050.85</td></tr>",
                            "<tr><td>Great Neck</td><td>36</td><td>52777.35</td></tr>",
                            "<tr><td>Tarzan</td><td>50</td><td>50087.60</td></tr>",
                            "<tr><td>Lake Mohegan</td><td>49</td><td>49274.80</td></tr>",
                            "<tr><td>Meaux</td><td>42</td><td>43696.05</td></tr>",
                            "<tr><td>Roberta Mill</td><td>24</td><td>31628.55</td></tr>",
                            "<tr><td>Liberty Plain</td><td>28</td><td>30242.95</td></tr>",
                            "<tr><td>Sigel</td><td>14</td><td>30093.40</td></tr>",
                            "<tr><td>Walker Valley</td><td>20</td><td>28603.90</td></tr>",
                            "<tr><td>Lancaster</td><td>27</td><td>25311.75</td></tr>",
                            "<tr><td>Rogersville</td><td>26</td><td>25174.90</td></tr>",
                            "<tr><td>Orland Hills</td><td>18</td><td>23076.45</td></tr>",
                            "<tr><td>Yampa</td><td>26</td><td>22256.80</td></tr>",
                            "<tr><td>Bowmansville</td><td>13</td><td>20541.30</td></tr>",
                            "<tr><td>Linden</td><td>23</td><td>19605.20</td></tr>",
                            "<tr><td>Long Beach</td><td>9</td><td>10154.85</td></tr>",
                            "<tr><td>Ellisville</td><td>8</td><td>6332.80</td></tr>",
                            "<tr><td>Midland</td><td>4</td><td>3260.40</td></tr>",
                            "</table>"
                        ]
                    }
                }
            ],
            "execution_count": 48
        }
    ]
}